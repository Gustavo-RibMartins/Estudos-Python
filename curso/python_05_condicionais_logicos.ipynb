{
  "nbformat": 4,
  "nbformat_minor": 0,
  "metadata": {
    "colab": {
      "provenance": [],
      "authorship_tag": "ABX9TyMtIggRwDt6Td66dHdKZjYY",
      "include_colab_link": true
    },
    "kernelspec": {
      "name": "python3",
      "display_name": "Python 3"
    },
    "language_info": {
      "name": "python"
    }
  },
  "cells": [
    {
      "cell_type": "markdown",
      "metadata": {
        "id": "view-in-github",
        "colab_type": "text"
      },
      "source": [
        "<a href=\"https://colab.research.google.com/github/Gustavo-RibMartins/estudos-python/blob/develop/cursos/python_05_condicionais_logicos.ipynb\" target=\"_parent\"><img src=\"https://colab.research.google.com/assets/colab-badge.svg\" alt=\"Open In Colab\"/></a>"
      ]
    },
    {
      "cell_type": "markdown",
      "source": [
        "# 1.Estruturas Condicionais\n",
        "\n",
        "Estrutura condicional em Python utiliza identação.\n",
        "\n",
        "Sintaxe:\n",
        "```Python\n",
        "if <condicao>:\n",
        "  <comandos>\n",
        "elif <condicao2>:\n",
        "  <comandos>\n",
        "else:\n",
        "  <comandos>\n",
        "```"
      ],
      "metadata": {
        "id": "2CQmlE9LrV7b"
      }
    },
    {
      "cell_type": "code",
      "source": [
        "idade = 21\n",
        "\n",
        "if idade < 18:\n",
        "  print('Menor de idade')\n",
        "elif idade == 18:\n",
        "  print('Tem 18 anos')\n",
        "elif idade == 21:\n",
        "  print('Tem 21 anos')\n",
        "else:\n",
        "    print('Maior de idade')"
      ],
      "metadata": {
        "colab": {
          "base_uri": "https://localhost:8080/"
        },
        "id": "DJqMNoxprlUU",
        "outputId": "0d4ae60a-f8e6-4fa1-f94a-4f8ef9880bf3"
      },
      "execution_count": 4,
      "outputs": [
        {
          "output_type": "stream",
          "name": "stdout",
          "text": [
            "Maior de idade\n"
          ]
        }
      ]
    },
    {
      "cell_type": "markdown",
      "source": [
        "# 2.Operadores Lógicos\n",
        "\n",
        "- Operadores unários:\n",
        "  - `not`: inverte o valor lógico.\n",
        "- Operadores binários:\n",
        "  - `and`: todas as condições precisam ser verdadeiras;\n",
        "  - `or`: apenas 1 condição precisa ser verdadeira;\n",
        "  - `is`: o primeiro valor é comparado com um segundo"
      ],
      "metadata": {
        "id": "h1MQrTRxt-wE"
      }
    },
    {
      "cell_type": "code",
      "source": [
        "a = True\n",
        "b = False\n",
        "c = True\n",
        "\n",
        "# operador not\n",
        "print('### Operador not ###')\n",
        "print(not a)\n",
        "print(not b)\n",
        "\n",
        "# operador and\n",
        "print('### Operador and ###')\n",
        "print(a and b)\n",
        "\n",
        "# operador or\n",
        "print('### Operador or ###')\n",
        "print(a or b)\n",
        "\n",
        "# operador is\n",
        "print('### Operador is ###')\n",
        "print(a is b)\n",
        "print(a is c)"
      ],
      "metadata": {
        "colab": {
          "base_uri": "https://localhost:8080/"
        },
        "id": "tjmu_MV-wSM7",
        "outputId": "a737d518-307c-4116-c41e-919e04f7347e"
      },
      "execution_count": 13,
      "outputs": [
        {
          "output_type": "stream",
          "name": "stdout",
          "text": [
            "### Operador not ###\n",
            "False\n",
            "True\n",
            "### Operador and ###\n",
            "False\n",
            "### Operador or ###\n",
            "True\n",
            "### Operador is ###\n",
            "False\n",
            "True\n"
          ]
        }
      ]
    }
  ]
}