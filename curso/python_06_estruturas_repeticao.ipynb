{
  "nbformat": 4,
  "nbformat_minor": 0,
  "metadata": {
    "colab": {
      "provenance": [],
      "authorship_tag": "ABX9TyNUFBsgoRD+S3WBsYc9Puwg",
      "include_colab_link": true
    },
    "kernelspec": {
      "name": "python3",
      "display_name": "Python 3"
    },
    "language_info": {
      "name": "python"
    }
  },
  "cells": [
    {
      "cell_type": "markdown",
      "metadata": {
        "id": "view-in-github",
        "colab_type": "text"
      },
      "source": [
        "<a href=\"https://colab.research.google.com/github/Gustavo-RibMartins/estudos-python/blob/develop/cursos/python_06_estruturas_repeticao.ipynb\" target=\"_parent\"><img src=\"https://colab.research.google.com/assets/colab-badge.svg\" alt=\"Open In Colab\"/></a>"
      ]
    },
    {
      "cell_type": "markdown",
      "source": [
        "# 1.Loop for\n",
        "\n",
        "Loop é uma estrutura de repetição. For é uma dessas estruturas.\n",
        "\n",
        "sintaxe:\n",
        "\n",
        "```python\n",
        "for item in interavel:\n",
        "  execucao do loop\n",
        "```\n",
        "\n",
        "Utilizamos loops para iterar sobre sequências ou sobre valores iteráveis (strings, listas, ranges)."
      ],
      "metadata": {
        "id": "XmEkaFduA_yS"
      }
    },
    {
      "cell_type": "code",
      "source": [
        "# Exemplo de for (n°1)\n",
        "nome = 'Gustavo'\n",
        "lista = [1, 3, 5, 7, 9] # temos que transformar em uma lista\n",
        "numeros = range(1, 10)\n",
        "\n",
        "# Iterando sobre uma string\n",
        "for letra in nome:\n",
        "  print(letra)"
      ],
      "metadata": {
        "colab": {
          "base_uri": "https://localhost:8080/"
        },
        "id": "AWkd4N9xCBc_",
        "outputId": "f1c1de55-1047-4236-81ab-63dc840511b2"
      },
      "execution_count": 1,
      "outputs": [
        {
          "output_type": "stream",
          "name": "stdout",
          "text": [
            "G\n",
            "u\n",
            "s\n",
            "t\n",
            "a\n",
            "v\n",
            "o\n"
          ]
        }
      ]
    },
    {
      "cell_type": "markdown",
      "source": [
        "Observe que foi possível utilizar a variável `letra` sem ter declarado ela antes (declaração no próprio bloco do loop)."
      ],
      "metadata": {
        "id": "W73tfRtzChkp"
      }
    },
    {
      "cell_type": "code",
      "source": [
        "# Exemplo de for (n°2)\n",
        "nome = 'Gustavo'\n",
        "lista = [1, 3, 5, 7, 9] # temos que transformar em uma lista\n",
        "numeros = range(1, 10)\n",
        "\n",
        "# Iterando sobre uma lista\n",
        "for numero in lista:\n",
        "  print(numero)"
      ],
      "metadata": {
        "colab": {
          "base_uri": "https://localhost:8080/"
        },
        "id": "s0hde5L1Cw8L",
        "outputId": "4b48758f-7ace-4690-afe1-255235db1a8f"
      },
      "execution_count": 2,
      "outputs": [
        {
          "output_type": "stream",
          "name": "stdout",
          "text": [
            "1\n",
            "3\n",
            "5\n",
            "7\n",
            "9\n"
          ]
        }
      ]
    },
    {
      "cell_type": "code",
      "source": [
        "# Exemplo de for (n°3)\n",
        "nome = 'Gustavo'\n",
        "lista = [1, 3, 5, 7, 9] # temos que transformar em uma lista\n",
        "numeros = range(1, 10)\n",
        "\n",
        "# Iterando sobre um range\n",
        "for numero in range(1,10):\n",
        "  print(numero)"
      ],
      "metadata": {
        "colab": {
          "base_uri": "https://localhost:8080/"
        },
        "id": "TXbeKTHuC_1r",
        "outputId": "98157822-8229-4dac-aed2-f1226ff84e75"
      },
      "execution_count": 3,
      "outputs": [
        {
          "output_type": "stream",
          "name": "stdout",
          "text": [
            "1\n",
            "2\n",
            "3\n",
            "4\n",
            "5\n",
            "6\n",
            "7\n",
            "8\n",
            "9\n"
          ]
        }
      ]
    },
    {
      "cell_type": "markdown",
      "source": [
        "**Obs.:** para o range, o parâmetro inicial está contido em um intervalo fechado e o parâmetro final em um intervalo aberto. Exemplo:\n",
        "\n",
        "```python\n",
        "range(1,5) = [1, 5) = 1, 2, 3, 4\n",
        "```"
      ],
      "metadata": {
        "id": "armvTpAKDyho"
      }
    },
    {
      "cell_type": "code",
      "source": [
        "nome = 'Gustavo'\n",
        "nome[0:4]"
      ],
      "metadata": {
        "colab": {
          "base_uri": "https://localhost:8080/",
          "height": 35
        },
        "id": "j4p4_3O4EMNT",
        "outputId": "50ad0a3d-729d-485a-812a-b7fb132959a7"
      },
      "execution_count": 4,
      "outputs": [
        {
          "output_type": "execute_result",
          "data": {
            "text/plain": [
              "'Gust'"
            ],
            "application/vnd.google.colaboratory.intrinsic+json": {
              "type": "string"
            }
          },
          "metadata": {},
          "execution_count": 4
        }
      ]
    },
    {
      "cell_type": "code",
      "source": [
        "# Exemplo de for (n°4)\n",
        "nome = 'Gustavo'\n",
        "\n",
        "for indice, letra in enumerate(nome):\n",
        "  print(nome[indice]) # ou poderia usar print(letra) direto"
      ],
      "metadata": {
        "colab": {
          "base_uri": "https://localhost:8080/"
        },
        "id": "UxFQo8lgExd7",
        "outputId": "e43f51d9-9120-4c01-ac54-89f5c458fcf5"
      },
      "execution_count": 7,
      "outputs": [
        {
          "output_type": "stream",
          "name": "stdout",
          "text": [
            "G\n",
            "u\n",
            "s\n",
            "t\n",
            "a\n",
            "v\n",
            "o\n"
          ]
        }
      ]
    },
    {
      "cell_type": "markdown",
      "source": [
        "**enumerate():** transforma cada item da lista em uma tupla, com o valor original da lista + índice da posição do item."
      ],
      "metadata": {
        "id": "SEUZiCe1FKT9"
      }
    },
    {
      "cell_type": "code",
      "source": [
        "nome = 'Gustavo'\n",
        "\n",
        "for valor in enumerate(nome):\n",
        "  print(valor)"
      ],
      "metadata": {
        "colab": {
          "base_uri": "https://localhost:8080/"
        },
        "id": "isTWZ6BIGpNc",
        "outputId": "edcc9947-c777-4459-ff39-80c3705a53db"
      },
      "execution_count": 9,
      "outputs": [
        {
          "output_type": "stream",
          "name": "stdout",
          "text": [
            "(0, 'G')\n",
            "(1, 'u')\n",
            "(2, 's')\n",
            "(3, 't')\n",
            "(4, 'a')\n",
            "(5, 'v')\n",
            "(6, 'o')\n"
          ]
        }
      ]
    },
    {
      "cell_type": "markdown",
      "source": [
        "**Obs.:** quando não precisamos de uma valor (como o parâmetro `indice` no código anterior), podemos descartá-lo usando underscore (_)."
      ],
      "metadata": {
        "id": "eFbrw0fJF_kd"
      }
    },
    {
      "cell_type": "code",
      "source": [
        "# Exemplo de for (n°5)\n",
        "nome = 'Gustavo'\n",
        "\n",
        "for _, letra in enumerate(nome):\n",
        "  print(letra)"
      ],
      "metadata": {
        "colab": {
          "base_uri": "https://localhost:8080/"
        },
        "id": "z42XXjWPGJwg",
        "outputId": "ef3ed8c1-a4af-4508-c12f-06296ac84be0"
      },
      "execution_count": 8,
      "outputs": [
        {
          "output_type": "stream",
          "name": "stdout",
          "text": [
            "G\n",
            "u\n",
            "s\n",
            "t\n",
            "a\n",
            "v\n",
            "o\n"
          ]
        }
      ]
    },
    {
      "cell_type": "markdown",
      "source": [
        "No python, o `print()` adiciona um `/n` por default para fazer quebra de linha, como no exemplo anterior. Se quisermos imprimir tudo na mesma linha, é preciso alterar o valor default do parâmetro `end`."
      ],
      "metadata": {
        "id": "35T8dZfbIT8d"
      }
    },
    {
      "cell_type": "code",
      "source": [
        "# Metodos com print()\n",
        "help(print)"
      ],
      "metadata": {
        "colab": {
          "base_uri": "https://localhost:8080/"
        },
        "id": "SHxCZmrHIhin",
        "outputId": "574b8e07-9d14-4317-ea7f-5a6c5f23f579"
      },
      "execution_count": 10,
      "outputs": [
        {
          "output_type": "stream",
          "name": "stdout",
          "text": [
            "Help on built-in function print in module builtins:\n",
            "\n",
            "print(...)\n",
            "    print(value, ..., sep=' ', end='\\n', file=sys.stdout, flush=False)\n",
            "    \n",
            "    Prints the values to a stream, or to sys.stdout by default.\n",
            "    Optional keyword arguments:\n",
            "    file:  a file-like object (stream); defaults to the current sys.stdout.\n",
            "    sep:   string inserted between values, default a space.\n",
            "    end:   string appended after the last value, default a newline.\n",
            "    flush: whether to forcibly flush the stream.\n",
            "\n"
          ]
        }
      ]
    },
    {
      "cell_type": "code",
      "source": [
        "nome = 'Gustavo'\n",
        "\n",
        "for _, letra in enumerate(nome):\n",
        "  print(letra, end='')"
      ],
      "metadata": {
        "colab": {
          "base_uri": "https://localhost:8080/"
        },
        "id": "tPEfQtEfIpzE",
        "outputId": "624ca836-00e9-48bb-a01f-d56785ad2667"
      },
      "execution_count": 12,
      "outputs": [
        {
          "output_type": "stream",
          "name": "stdout",
          "text": [
            "Gustavo"
          ]
        }
      ]
    },
    {
      "cell_type": "markdown",
      "source": [
        "# 2.Ranges\n",
        "\n",
        "É um método/ função auxiliar, não é bem uma estrutura de repetição. Ranges são utilizados para gerar sequências numéricas não aleatória, em formato especificado."
      ],
      "metadata": {
        "id": "0uqvSP_lMHC8"
      }
    },
    {
      "cell_type": "code",
      "source": [
        "# Exemplo 1: range(valor_de_parada)\n",
        "\n",
        "for num in range(3):\n",
        "  print(num, end=' ')"
      ],
      "metadata": {
        "colab": {
          "base_uri": "https://localhost:8080/"
        },
        "id": "-GvTXIJbNNfg",
        "outputId": "0cdc0478-e5cc-42fa-aff1-fee0979f6e4d"
      },
      "execution_count": 19,
      "outputs": [
        {
          "output_type": "stream",
          "name": "stdout",
          "text": [
            "0 1 2 "
          ]
        }
      ]
    },
    {
      "cell_type": "code",
      "source": [
        "# Exemplo 2: range(valor_de_inicio, valor_de_parada)\n",
        "\n",
        "for num in range(5, 11):\n",
        "  print(num, end=' ')"
      ],
      "metadata": {
        "colab": {
          "base_uri": "https://localhost:8080/"
        },
        "id": "Kv56zLLbNqWc",
        "outputId": "19963f5a-0e66-4352-ef16-42dc7e541b39"
      },
      "execution_count": 20,
      "outputs": [
        {
          "output_type": "stream",
          "name": "stdout",
          "text": [
            "5 6 7 8 9 10 "
          ]
        }
      ]
    },
    {
      "cell_type": "code",
      "source": [
        "# Exemplo 3: range(valor_de_inicio, valor_de_parada, passo)\n",
        "\n",
        "for num in range(1, 10, 2):\n",
        "  print(num, end=' ')\n",
        "\n",
        "print('\\n')\n",
        "# Tambem eh possivel fazer na direcao inversa\n",
        "\n",
        "for num in range(10, 1, -2):\n",
        "  print(num, end= ' ')"
      ],
      "metadata": {
        "colab": {
          "base_uri": "https://localhost:8080/"
        },
        "id": "QkHBR8XHN4i-",
        "outputId": "860685a2-b578-4d92-d919-7f20522d5404"
      },
      "execution_count": 24,
      "outputs": [
        {
          "output_type": "stream",
          "name": "stdout",
          "text": [
            "1 3 5 7 9 \n",
            "\n",
            "10 8 6 4 2 "
          ]
        }
      ]
    },
    {
      "cell_type": "code",
      "source": [
        "# Criando uma lista a partir de um range\n",
        "\n",
        "lista = list(range(1, 10, 2)) # convertendo range para lista\n",
        "lista"
      ],
      "metadata": {
        "colab": {
          "base_uri": "https://localhost:8080/"
        },
        "id": "uiN5dAxaPG2j",
        "outputId": "52a325b2-a512-4e3c-948b-33513e4c3021"
      },
      "execution_count": 25,
      "outputs": [
        {
          "output_type": "execute_result",
          "data": {
            "text/plain": [
              "[1, 3, 5, 7, 9]"
            ]
          },
          "metadata": {},
          "execution_count": 25
        }
      ]
    },
    {
      "cell_type": "markdown",
      "source": [
        "# 3.Loop while\n",
        "\n",
        "sintaxe:\n",
        "\n",
        "```python\n",
        "while expressao_booleana:\n",
        "  execucao do loop\n",
        "```\n",
        "\n",
        "O bloco do while será repetido enquanto a `expressao_booleana` for verdadeira."
      ],
      "metadata": {
        "id": "x_-6Y8hIPUcx"
      }
    },
    {
      "cell_type": "code",
      "source": [
        "numero = 1\n",
        "\n",
        "while numero < 10:\n",
        "  print(numero)\n",
        "  numero += 1"
      ],
      "metadata": {
        "colab": {
          "base_uri": "https://localhost:8080/"
        },
        "id": "cY-c6Tx9Puis",
        "outputId": "0fd692b4-f85e-45fb-91e0-e83b376a4a79"
      },
      "execution_count": 26,
      "outputs": [
        {
          "output_type": "stream",
          "name": "stdout",
          "text": [
            "1\n",
            "2\n",
            "3\n",
            "4\n",
            "5\n",
            "6\n",
            "7\n",
            "8\n",
            "9\n"
          ]
        }
      ]
    },
    {
      "cell_type": "markdown",
      "source": [
        "# 4.Saindo de loops com break\n",
        "\n",
        "Usamos o break para sair de loops de maneira projetada."
      ],
      "metadata": {
        "id": "ZRoHoOK4QbaY"
      }
    },
    {
      "cell_type": "code",
      "source": [
        "for numero in range(1, 11):\n",
        "  if numero == 6:\n",
        "    print('sai do loop')\n",
        "    break\n",
        "  else:\n",
        "    print(numero)"
      ],
      "metadata": {
        "colab": {
          "base_uri": "https://localhost:8080/"
        },
        "id": "xDOLiLO0QoxM",
        "outputId": "e3e0027a-facd-4e3a-b1ab-5b12b07f8719"
      },
      "execution_count": 28,
      "outputs": [
        {
          "output_type": "stream",
          "name": "stdout",
          "text": [
            "1\n",
            "2\n",
            "3\n",
            "4\n",
            "5\n",
            "sai do loop\n"
          ]
        }
      ]
    }
  ]
}