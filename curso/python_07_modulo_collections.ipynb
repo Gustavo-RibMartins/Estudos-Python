{
  "nbformat": 4,
  "nbformat_minor": 0,
  "metadata": {
    "colab": {
      "provenance": [],
      "authorship_tag": "ABX9TyNKLHAV9FzESyrCLf2MjzbG",
      "include_colab_link": true
    },
    "kernelspec": {
      "name": "python3",
      "display_name": "Python 3"
    },
    "language_info": {
      "name": "python"
    }
  },
  "cells": [
    {
      "cell_type": "markdown",
      "metadata": {
        "id": "view-in-github",
        "colab_type": "text"
      },
      "source": [
        "<a href=\"https://colab.research.google.com/github/Gustavo-RibMartins/estudos-python/blob/develop/curso/python_07_modulo_collections.ipynb\" target=\"_parent\"><img src=\"https://colab.research.google.com/assets/colab-badge.svg\" alt=\"Open In Colab\"/></a>"
      ]
    },
    {
      "cell_type": "markdown",
      "source": [
        "# 1.Módulo Collections - Counter\n",
        "\n",
        "Collections -> High-performance Container Datetypes. São melhorias nas coleções do Python.\n",
        "\n",
        "Counter -> Recebe um iterável como parâmetro e cria um objeto do typo Collections Counterque é parecido com um dicionário, contendo como chave o elemento da lista passado como parâmetro e como valor a quantidade de ocorrências desse elemento."
      ],
      "metadata": {
        "id": "6mSUCnbTVLGo"
      }
    },
    {
      "cell_type": "code",
      "execution_count": 5,
      "metadata": {
        "colab": {
          "base_uri": "https://localhost:8080/"
        },
        "id": "7BTQyZJ8U440",
        "outputId": "a1be2063-ce2d-40cf-f3fa-227a2a4b3365"
      },
      "outputs": [
        {
          "output_type": "stream",
          "name": "stdout",
          "text": [
            "<class 'collections.Counter'>\n",
            "Counter({1: 5, 2: 5, 3: 5, 5: 4, 4: 3, 45: 2, 66: 2, 43: 1, 34: 1})\n",
            "<class 'collections.Counter'>\n",
            "Counter({'i': 3, 's': 2, 't': 2, 'a': 2, 'o': 2, ' ': 2, 'r': 2, 'G': 1, 'u': 1, 'v': 1, 'R': 1, 'b': 1, 'e': 1, 'M': 1, 'n': 1})\n"
          ]
        }
      ],
      "source": [
        "# Utilizando o Counter\n",
        "\n",
        "from collections import Counter\n",
        "\n",
        "\n",
        "# Podemos utilizar qualquer iteravel, aqui usamos uma lista\n",
        "lista = [1, 1, 1, 2, 2, 2, 3, 3, 3, 3, 1, 1, 2, 2, 4, 4, 4, 5, 5, 5, 5, 3, 45, 45, 66, 66, 43, 34]\n",
        "\n",
        "res = Counter(lista)\n",
        "print(type(res))\n",
        "print(res)\n",
        "\n",
        "# Usando string\n",
        "nome = 'Gustavo Ribeiro Martins'\n",
        "\n",
        "res = Counter(nome)\n",
        "print(type(res))\n",
        "print(res)"
      ]
    },
    {
      "cell_type": "code",
      "source": [
        "from collections import Counter\n",
        "\n",
        "texto = \"\"\"\n",
        "“A mancha negra” (1887) do artista francês Albert Bettannier. Essa pintura\n",
        "mostra um professor apontando para uma mancha negra no mapa da França, onde o\n",
        "país perdeu as províncias da Alsácia-Lorena após a Guerra Franco-Prussiana.\n",
        "Essa perda levará ao surgimento de um ódio profundo e à demanda por vingança\n",
        "contra a Alemanha, chamado revanchismo. O revanchismo francês influenciou o\n",
        "Tratado de Versalhes de 1919 após o fim da Primeira Guerra Mundial,\n",
        "que devolveu a Alsácia-Lorena à França e extraiu reparações da Alemanha\n",
        "derrotada. A conferência não foi aberta apenas no aniversário da proclamação do\n",
        "Império Alemão; o tratado também teve que ser assinado pelo novo governo alemão\n",
        "na mesma sala, a Sala dos Espelhos.\n",
        "\"\"\"\n",
        "\n",
        "palavras = texto.split()\n",
        "\n",
        "res = Counter(palavras)\n",
        "print(res)\n",
        "\n",
        "print(res.most_common(5)) # imprimir o top 5"
      ],
      "metadata": {
        "colab": {
          "base_uri": "https://localhost:8080/"
        },
        "id": "yiavQzF3WTPW",
        "outputId": "cc0eb958-57bb-4411-b4b6-45ddf924c961"
      },
      "execution_count": 13,
      "outputs": [
        {
          "output_type": "stream",
          "name": "stdout",
          "text": [
            "Counter({'da': 5, 'o': 4, 'a': 4, 'de': 3, 'mancha': 2, 'do': 2, 'francês': 2, 'Essa': 2, 'um': 2, 'no': 2, 'Alsácia-Lorena': 2, 'após': 2, 'Guerra': 2, 'e': 2, 'à': 2, 'que': 2, '“A': 1, 'negra”': 1, '(1887)': 1, 'artista': 1, 'Albert': 1, 'Bettannier.': 1, 'pintura': 1, 'mostra': 1, 'professor': 1, 'apontando': 1, 'para': 1, 'uma': 1, 'negra': 1, 'mapa': 1, 'França,': 1, 'onde': 1, 'país': 1, 'perdeu': 1, 'as': 1, 'províncias': 1, 'Franco-Prussiana.': 1, 'perda': 1, 'levará': 1, 'ao': 1, 'surgimento': 1, 'ódio': 1, 'profundo': 1, 'demanda': 1, 'por': 1, 'vingança': 1, 'contra': 1, 'Alemanha,': 1, 'chamado': 1, 'revanchismo.': 1, 'O': 1, 'revanchismo': 1, 'influenciou': 1, 'Tratado': 1, 'Versalhes': 1, '1919': 1, 'fim': 1, 'Primeira': 1, 'Mundial,': 1, 'devolveu': 1, 'França': 1, 'extraiu': 1, 'reparações': 1, 'Alemanha': 1, 'derrotada.': 1, 'A': 1, 'conferência': 1, 'não': 1, 'foi': 1, 'aberta': 1, 'apenas': 1, 'aniversário': 1, 'proclamação': 1, 'Império': 1, 'Alemão;': 1, 'tratado': 1, 'também': 1, 'teve': 1, 'ser': 1, 'assinado': 1, 'pelo': 1, 'novo': 1, 'governo': 1, 'alemão': 1, 'na': 1, 'mesma': 1, 'sala,': 1, 'Sala': 1, 'dos': 1, 'Espelhos.': 1})\n",
            "[('da', 5), ('o', 4), ('a', 4), ('de', 3), ('mancha', 2)]\n"
          ]
        }
      ]
    },
    {
      "cell_type": "markdown",
      "source": [
        "# 2.Módulo Collections - Default Dict:\n",
        "\n",
        "Não apresenta KeyError quando tentamos acessar uma chave que não existe no dicionário. Informamos um valor default, podendo utilizar um lambda pra isso. Este valor será utilizado sempre que não houver um valor definido. Caso tentemos acessar uma chave que não existe, essa chave será criada e o valor default será atribuído.\n",
        "\n",
        "> Obs.: Lambdas são funções sem nome, que podem ou não receber parâmetros de entrada e retornar valores."
      ],
      "metadata": {
        "id": "XA7fEmpsZy23"
      }
    },
    {
      "cell_type": "code",
      "source": [
        "from collections import defaultdict\n",
        "\n",
        "\n",
        "dicionario = defaultdict(lambda: 0)\n",
        "\n",
        "dicionario['curso'] = 'python'\n",
        "print(dicionario)\n",
        "\n",
        "print(dicionario['outro'])\n",
        "print(dicionario)"
      ],
      "metadata": {
        "colab": {
          "base_uri": "https://localhost:8080/"
        },
        "id": "dU6ZMJ-8bvJA",
        "outputId": "3080b6ea-95d8-4c61-acaa-dfccd9334c1e"
      },
      "execution_count": 16,
      "outputs": [
        {
          "output_type": "stream",
          "name": "stdout",
          "text": [
            "defaultdict(<function <lambda> at 0x7a3f69390550>, {'curso': 'python'})\n",
            "0\n",
            "defaultdict(<function <lambda> at 0x7a3f69390550>, {'curso': 'python', 'outro': 0})\n"
          ]
        }
      ]
    },
    {
      "cell_type": "markdown",
      "source": [
        "# 3.Módulo Collections - Ordered Dict\n",
        "\n",
        "Dicionários comuns, a ordem de inserção dos elementos não é garantida. Em Ordered Dict a ordem de inserção é garantida."
      ],
      "metadata": {
        "id": "1u90bcktgqZx"
      }
    },
    {
      "cell_type": "code",
      "source": [
        "from collections import OrderedDict\n",
        "\n",
        "dicionario = OrderedDict({'a': 1, 'b': 2, 'c': 3, 'd': 4, 'e': 5})\n",
        "\n",
        "for chave, valor in dicionario.items():\n",
        "  print(f'chave={chave}: valor={valor}')"
      ],
      "metadata": {
        "colab": {
          "base_uri": "https://localhost:8080/"
        },
        "id": "jAIFqzOTed8O",
        "outputId": "77551294-6291-4bfa-d877-832b31bb0615"
      },
      "execution_count": 1,
      "outputs": [
        {
          "output_type": "stream",
          "name": "stdout",
          "text": [
            "chave=a: valor=1\n",
            "chave=b: valor=2\n",
            "chave=c: valor=3\n",
            "chave=d: valor=4\n",
            "chave=e: valor=5\n"
          ]
        }
      ]
    },
    {
      "cell_type": "code",
      "source": [
        "dict1 = {'a': 1, 'b': 2}\n",
        "dict2 = {'b': 2, 'a': 1}\n",
        "\n",
        "# Para o dicionario comum, a ordem nao importa\n",
        "print(dict1 == dict2)\n",
        "\n",
        "odict1 = OrderedDict({'a': 1, 'b': 2})\n",
        "odict2 = OrderedDict({'b': 2, 'a': 1})\n",
        "\n",
        "# Para o ordered dict, a ordem importa\n",
        "print(odict1 == odict2)"
      ],
      "metadata": {
        "colab": {
          "base_uri": "https://localhost:8080/"
        },
        "id": "vgZmYE3NfB1c",
        "outputId": "7e5c049c-6912-4ad6-a1a7-648e907f53e1"
      },
      "execution_count": 3,
      "outputs": [
        {
          "output_type": "stream",
          "name": "stdout",
          "text": [
            "True\n",
            "False\n"
          ]
        }
      ]
    },
    {
      "cell_type": "markdown",
      "source": [
        "# 4.Módulo Collections - Named Tuple\n",
        "\n",
        "São tuplas diferenciadas onde especificamos um nome para a mesma e também parâmetros."
      ],
      "metadata": {
        "id": "m-g2cHyjfzez"
      }
    },
    {
      "cell_type": "code",
      "source": [
        "from collections import namedtuple\n",
        "\n",
        "# Precisamos definir o nome e parâmetros\n",
        "\n",
        "# Forma 1 - Declaração Named Tuple\n",
        "\n",
        "cachorro = namedtuple('cachorro', 'idade raca nome')\n",
        "\n",
        "# Forma 2 - Declaração Named Tuple\n",
        "\n",
        "cachorro = namedtuple('cachorro', 'idade, raca, nome')\n",
        "\n",
        "# Forma 3 - Declaração Named Tuple\n",
        "\n",
        "cachorro = namedtuple('cachorro', ['idade', 'raca', 'nome'])\n",
        "\n",
        "# Usando\n",
        "\n",
        "ray = cachorro(idade=2, raca='Chow-Chow', nome='Ray')\n",
        "\n",
        "print(ray)\n"
      ],
      "metadata": {
        "colab": {
          "base_uri": "https://localhost:8080/"
        },
        "id": "fB5dRHyshV6l",
        "outputId": "82e5f4bb-816c-49a4-b41b-0ce605d897be"
      },
      "execution_count": 4,
      "outputs": [
        {
          "output_type": "stream",
          "name": "stdout",
          "text": [
            "cachorro(idade=2, raca='Chow-Chow', nome='Ray')\n"
          ]
        }
      ]
    },
    {
      "cell_type": "code",
      "source": [
        "# Acessando os dados\n",
        "\n",
        "# Forma 1\n",
        "print(ray[0]) # idade\n",
        "print(ray[1]) # raca\n",
        "print(ray[2]) # nome\n",
        "\n",
        "# Forma 2\n",
        "print(ray.idade)\n",
        "print(ray.raca)\n",
        "print(ray.nome)"
      ],
      "metadata": {
        "colab": {
          "base_uri": "https://localhost:8080/"
        },
        "id": "mjwgijSli8x9",
        "outputId": "5bf07672-811b-4f3c-e978-9264b2cfad26"
      },
      "execution_count": 5,
      "outputs": [
        {
          "output_type": "stream",
          "name": "stdout",
          "text": [
            "2\n",
            "Chow-Chow\n",
            "Ray\n",
            "2\n",
            "Chow-Chow\n",
            "Ray\n"
          ]
        }
      ]
    },
    {
      "cell_type": "markdown",
      "source": [
        "# 5.Módulo Collections - Deque\n",
        "\n",
        "Podemos dizer que o deque é uma lista de alta performance."
      ],
      "metadata": {
        "id": "dK3SUSxjjuzl"
      }
    },
    {
      "cell_type": "code",
      "source": [
        "from collections import deque\n",
        "\n",
        "# Criando deques\n",
        "\n",
        "deq = deque('gustavo')\n",
        "print(deq)"
      ],
      "metadata": {
        "colab": {
          "base_uri": "https://localhost:8080/"
        },
        "id": "xF3dwrNYj7o0",
        "outputId": "c5d2136a-c461-4c2d-a959-65c8ea4f1d7b"
      },
      "execution_count": 10,
      "outputs": [
        {
          "output_type": "stream",
          "name": "stdout",
          "text": [
            "deque(['g', 'u', 's', 't', 'a', 'v', 'o'])\n"
          ]
        }
      ]
    },
    {
      "cell_type": "code",
      "source": [
        "# Adicionando elementos no deque\n",
        "\n",
        "deq.append('y') # adiciona no final\n",
        "print(deq)"
      ],
      "metadata": {
        "colab": {
          "base_uri": "https://localhost:8080/"
        },
        "id": "XMNIBpHxkJ-W",
        "outputId": "5a7b1b8c-8947-49c7-c914-91c127964d23"
      },
      "execution_count": 14,
      "outputs": [
        {
          "output_type": "stream",
          "name": "stdout",
          "text": [
            "deque(['g', 'u', 's', 't', 'a', 'v', 'o', 'y'])\n"
          ]
        }
      ]
    },
    {
      "cell_type": "code",
      "source": [
        "deq.appendleft('z') # adiciona no começo\n",
        "print(deq)"
      ],
      "metadata": {
        "colab": {
          "base_uri": "https://localhost:8080/"
        },
        "id": "Cj4OABnykcGo",
        "outputId": "a1a9c58e-9948-4539-bb18-4406290cb4e2"
      },
      "execution_count": 15,
      "outputs": [
        {
          "output_type": "stream",
          "name": "stdout",
          "text": [
            "deque(['z', 'g', 'u', 's', 't', 'a', 'v', 'o', 'y'])\n"
          ]
        }
      ]
    },
    {
      "cell_type": "code",
      "source": [
        "# Remover elemento\n",
        "\n",
        "print(deq.pop()) # remove e retorna o ultimo elemento\n",
        "print(deq.popleft()) # remove e retorna o primeiro elemento\n",
        "print(deq)"
      ],
      "metadata": {
        "colab": {
          "base_uri": "https://localhost:8080/"
        },
        "id": "WlVS-oZ4lLfE",
        "outputId": "5092fc42-64ec-407c-9322-04a28e3993d1"
      },
      "execution_count": 16,
      "outputs": [
        {
          "output_type": "stream",
          "name": "stdout",
          "text": [
            "y\n",
            "z\n",
            "deque(['g', 'u', 's', 't', 'a', 'v', 'o'])\n"
          ]
        }
      ]
    }
  ]
}