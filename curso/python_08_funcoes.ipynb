{
  "nbformat": 4,
  "nbformat_minor": 0,
  "metadata": {
    "colab": {
      "provenance": [],
      "authorship_tag": "ABX9TyPXNy1n1NokQTqnYbR2GV8O",
      "include_colab_link": true
    },
    "kernelspec": {
      "name": "python3",
      "display_name": "Python 3"
    },
    "language_info": {
      "name": "python"
    }
  },
  "cells": [
    {
      "cell_type": "markdown",
      "metadata": {
        "id": "view-in-github",
        "colab_type": "text"
      },
      "source": [
        "<a href=\"https://colab.research.google.com/github/Gustavo-RibMartins/estudos-python/blob/develop/curso/python_08_funcoes.ipynb\" target=\"_parent\"><img src=\"https://colab.research.google.com/assets/colab-badge.svg\" alt=\"Open In Colab\"/></a>"
      ]
    },
    {
      "cell_type": "markdown",
      "source": [
        "# 1.Funções\n",
        "\n",
        "São pequenas partes de código que realizam tarefas específicas.\n",
        "Pode ou não receber entradas de dados e retornar uma daída de dados.\n",
        "\n",
        "São muito úteis para executar procedimentos similares por repetidas vezes.\n",
        "\n",
        "**Obs.:** se você escrever uma função que realiza várias tarefas dentro dela, é bom fazer uma verificação para que a função seja simplificada."
      ],
      "metadata": {
        "id": "kZzsvqZf78RO"
      }
    },
    {
      "cell_type": "code",
      "execution_count": null,
      "metadata": {
        "colab": {
          "base_uri": "https://localhost:8080/",
          "height": 228
        },
        "id": "gzBmkC0a7h6c",
        "outputId": "ac2e2ce4-3d3a-4967-faf2-f3168a5e34d9"
      },
      "outputs": [
        {
          "output_type": "stream",
          "name": "stdout",
          "text": [
            "['verde', 'amarelo', 'azul', 'branco']\n"
          ]
        },
        {
          "output_type": "error",
          "ename": "AttributeError",
          "evalue": "'str' object has no attribute 'append'",
          "traceback": [
            "\u001b[0;31m---------------------------------------------------------------------------\u001b[0m",
            "\u001b[0;31mAttributeError\u001b[0m                            Traceback (most recent call last)",
            "\u001b[0;32m<ipython-input-3-1023246b0629>\u001b[0m in \u001b[0;36m<cell line: 10>\u001b[0;34m()\u001b[0m\n\u001b[1;32m      8\u001b[0m \u001b[0;31m# Outras aceitam apenas um tipo especifico como entrada\u001b[0m\u001b[0;34m\u001b[0m\u001b[0;34m\u001b[0m\u001b[0m\n\u001b[1;32m      9\u001b[0m \u001b[0mcores\u001b[0m\u001b[0;34m.\u001b[0m\u001b[0mappend\u001b[0m\u001b[0;34m(\u001b[0m\u001b[0;34m'roxo'\u001b[0m\u001b[0;34m)\u001b[0m\u001b[0;34m\u001b[0m\u001b[0;34m\u001b[0m\u001b[0m\n\u001b[0;32m---> 10\u001b[0;31m \u001b[0mcurso\u001b[0m\u001b[0;34m.\u001b[0m\u001b[0mappend\u001b[0m\u001b[0;34m(\u001b[0m\u001b[0;34m' Spark'\u001b[0m\u001b[0;34m)\u001b[0m \u001b[0;31m# AttributeError\u001b[0m\u001b[0;34m\u001b[0m\u001b[0;34m\u001b[0m\u001b[0m\n\u001b[0m",
            "\u001b[0;31mAttributeError\u001b[0m: 'str' object has no attribute 'append'"
          ]
        }
      ],
      "source": [
        "# Exemplo de utilização de funções\n",
        "cores = ['verde', 'amarelo', 'azul', 'branco'] # lista\n",
        "curso = 'Python' # String\n",
        "\n",
        "# Utilizando a função integrada (Built-in) do Python print()\n",
        "print(cores) # algumas funções aceitam qualquer tipo de dado\n",
        "\n",
        "# Outras aceitam apenas um tipo especifico como entrada\n",
        "cores.append('roxo')\n",
        "curso.append(' Spark') # AttributeError\n"
      ]
    },
    {
      "cell_type": "code",
      "source": [
        "# Algumas funções não recebem parâmetros de entrada\n",
        "cores.clear()\n",
        "print(cores)"
      ],
      "metadata": {
        "colab": {
          "base_uri": "https://localhost:8080/"
        },
        "id": "Zqm2yqkd-Y-I",
        "outputId": "ba14288c-de54-436e-f1e2-bec7587b75d4"
      },
      "execution_count": null,
      "outputs": [
        {
          "output_type": "stream",
          "name": "stdout",
          "text": [
            "[]\n"
          ]
        }
      ]
    },
    {
      "cell_type": "markdown",
      "source": [
        "**DRY - Don't Repeat Yourself**: conceito/ boa prática que defende o uso de não repetição no código."
      ],
      "metadata": {
        "id": "bdblRUJU_CYn"
      }
    },
    {
      "cell_type": "markdown",
      "source": [
        "**Sintaxe de definição de funções**\n",
        "\n",
        "```python\n",
        "def nome_da_funcao(parametros_de_entrada):\n",
        "  bloco_da_funcao\n",
        "```\n",
        "\n",
        "Onde:\n",
        "\n",
        "- nome_da_funcao -> SEMPRE, com letras minúsculas, e se for nome composto, separado por underline (Snake Case);\n",
        "- parametros_de_entrada -> Opcionais, onde tendo mais de um, cada um separado por vírgula, podendo ser opcionais ou não;\n",
        "- bloco_da_funcao -> também chamado de corpo da função ou implementação, é onde o processamento da função acontece. Neste bloco, pode ter ou não retorno da função.\n",
        "\n",
        "**OBS.:** veja que para definir uma função, utilizamos a palavra reservada `def` informando ao Python que estamos definindo uma função. Também abrimos o bloco de código com dois pontos (`:`) que é utilizado para definir blocos."
      ],
      "metadata": {
        "id": "DlyLl4Hj_bBH"
      }
    },
    {
      "cell_type": "code",
      "source": [
        "# Definindo a primeira funcao\n",
        "\n",
        "# Definição\n",
        "def diz_oi():\n",
        "  print('oi!')\n",
        "\n",
        "# Chamada de execução\n",
        "diz_oi()"
      ],
      "metadata": {
        "colab": {
          "base_uri": "https://localhost:8080/"
        },
        "id": "pfnPqMZcAUga",
        "outputId": "579a9adc-fbd6-46e9-cfab-258dfac74e47"
      },
      "execution_count": null,
      "outputs": [
        {
          "output_type": "stream",
          "name": "stdout",
          "text": [
            "oi!\n"
          ]
        }
      ]
    },
    {
      "cell_type": "code",
      "source": [
        "# Podemos criar variaveis do tipo de uma função e executar a função através da variável,\n",
        "# porém, isso não é uma boa prática pois torna o entendimento do código mais difícil\n",
        "\n",
        "def diz_oi():\n",
        "  print('oi!')\n",
        "\n",
        "fala = diz_oi # sem parenteses\n",
        "fala()"
      ],
      "metadata": {
        "colab": {
          "base_uri": "https://localhost:8080/"
        },
        "id": "-zQsoxjTBaSR",
        "outputId": "5979af27-55fb-472f-b778-38037833cc32"
      },
      "execution_count": null,
      "outputs": [
        {
          "output_type": "stream",
          "name": "stdout",
          "text": [
            "oi!\n"
          ]
        }
      ]
    },
    {
      "cell_type": "markdown",
      "source": [
        "# 2.Funções com Retorno"
      ],
      "metadata": {
        "id": "MNnG8ebLCGMk"
      }
    },
    {
      "cell_type": "code",
      "source": [
        "def quadrado_de_7():\n",
        "  print(7 * 7)\n",
        "\n",
        "ret = quadrado_de_7()\n",
        "print(ret)"
      ],
      "metadata": {
        "colab": {
          "base_uri": "https://localhost:8080/"
        },
        "id": "YwknTKZEEI1_",
        "outputId": "8f857425-673e-4f79-e941-0c9591aa6b74"
      },
      "execution_count": null,
      "outputs": [
        {
          "output_type": "stream",
          "name": "stdout",
          "text": [
            "49\n",
            "None\n"
          ]
        }
      ]
    },
    {
      "cell_type": "markdown",
      "source": [
        "**Obs.:** o retorno é `None`, porque a função print() não retorna nada."
      ],
      "metadata": {
        "id": "x9V7DyzQE1XW"
      }
    },
    {
      "cell_type": "code",
      "source": [
        "def quadrado_de_7():\n",
        "  quadrado = 7 * 7\n",
        "  return(quadrado)\n",
        "\n",
        "ret = quadrado_de_7()\n",
        "print(ret)"
      ],
      "metadata": {
        "colab": {
          "base_uri": "https://localhost:8080/"
        },
        "id": "ctlfdAWwFAee",
        "outputId": "ce614990-1347-4b58-ff71-9fa0a33248c1"
      },
      "execution_count": null,
      "outputs": [
        {
          "output_type": "stream",
          "name": "stdout",
          "text": [
            "49\n"
          ]
        }
      ]
    },
    {
      "cell_type": "markdown",
      "source": [
        "**Obs.:** considerações sobre a palavra reservada `return`:\n",
        "\n",
        "1. Finaliza a função, ou seja, ela sai da execução da função;\n",
        "2. Podemos ter, em uma função, diferentes returns (porém, só um é retornado);\n",
        "3. Podemos, em uma função, retornar qualquer tipo de dado e até mesmo múltiplos valores."
      ],
      "metadata": {
        "id": "jRQ5_L7jGGq-"
      }
    },
    {
      "cell_type": "markdown",
      "source": [
        "# 3.Funções com Parâmetros"
      ],
      "metadata": {
        "id": "itKrbvtiKCwB"
      }
    },
    {
      "cell_type": "code",
      "source": [
        "def quadrado(numero):\n",
        "  return numero * numero\n",
        "\n",
        "print(quadrado(7))\n",
        "print(quadrado(2))\n",
        "print(quadrado(5))\n",
        "\n",
        "# Se não passar o parâmetro, ocorre TypeError\n",
        "\n",
        "print(quadrado())"
      ],
      "metadata": {
        "colab": {
          "base_uri": "https://localhost:8080/",
          "height": 263
        },
        "id": "Khcwzi6cLF74",
        "outputId": "0c45809f-c4e0-4ae3-927a-410e5444de06"
      },
      "execution_count": 1,
      "outputs": [
        {
          "output_type": "stream",
          "name": "stdout",
          "text": [
            "49\n",
            "4\n",
            "25\n"
          ]
        },
        {
          "output_type": "error",
          "ename": "TypeError",
          "evalue": "quadrado() missing 1 required positional argument: 'numero'",
          "traceback": [
            "\u001b[0;31m---------------------------------------------------------------------------\u001b[0m",
            "\u001b[0;31mTypeError\u001b[0m                                 Traceback (most recent call last)",
            "\u001b[0;32m<ipython-input-1-8993af2f137c>\u001b[0m in \u001b[0;36m<cell line: 10>\u001b[0;34m()\u001b[0m\n\u001b[1;32m      8\u001b[0m \u001b[0;31m# Se não passar o parâmetro, ocorre TypeError\u001b[0m\u001b[0;34m\u001b[0m\u001b[0;34m\u001b[0m\u001b[0m\n\u001b[1;32m      9\u001b[0m \u001b[0;34m\u001b[0m\u001b[0m\n\u001b[0;32m---> 10\u001b[0;31m \u001b[0mprint\u001b[0m\u001b[0;34m(\u001b[0m\u001b[0mquadrado\u001b[0m\u001b[0;34m(\u001b[0m\u001b[0;34m)\u001b[0m\u001b[0;34m)\u001b[0m\u001b[0;34m\u001b[0m\u001b[0;34m\u001b[0m\u001b[0m\n\u001b[0m",
            "\u001b[0;31mTypeError\u001b[0m: quadrado() missing 1 required positional argument: 'numero'"
          ]
        }
      ]
    },
    {
      "cell_type": "code",
      "source": [
        "def soma(a, b):\n",
        "  return a + b\n",
        "\n",
        "a = 5\n",
        "b = 3\n",
        "\n",
        "soma(a, b)"
      ],
      "metadata": {
        "colab": {
          "base_uri": "https://localhost:8080/"
        },
        "id": "Q-9eh2dT3tiv",
        "outputId": "9595e054-d812-4d35-9d45-4ea0df45daf7"
      },
      "execution_count": 2,
      "outputs": [
        {
          "output_type": "execute_result",
          "data": {
            "text/plain": [
              "8"
            ]
          },
          "metadata": {},
          "execution_count": 2
        }
      ]
    },
    {
      "cell_type": "markdown",
      "source": [
        "**Nomeando parâmetros**"
      ],
      "metadata": {
        "id": "HNj7f8GG5D0t"
      }
    },
    {
      "cell_type": "code",
      "source": [
        "# nomeacao ruim dos parametros\n",
        "def nome_completo(string1, string2):\n",
        "  return f'Seu nome completo é {string1} {string2}'\n",
        "\n",
        "print(nome_completo('Gustavo', 'R.Martins'))\n",
        "\n",
        "# nomeacao correta dos parametros\n",
        "def nome_complet(nome, sobrenome):\n",
        "    return f'Seu nome completo é {nome} {sobrenome}'\n",
        "\n",
        "print(nome_completo('Gustavo', 'R.Martins'))"
      ],
      "metadata": {
        "colab": {
          "base_uri": "https://localhost:8080/"
        },
        "id": "ZtIc9LTy5HpH",
        "outputId": "d08edc48-c482-42b0-e2f2-007b89d86905"
      },
      "execution_count": 3,
      "outputs": [
        {
          "output_type": "stream",
          "name": "stdout",
          "text": [
            "Seu nome completo é Gustavo R.Martins\n",
            "Seu nome completo é Gustavo R.Martins\n"
          ]
        }
      ]
    },
    {
      "cell_type": "markdown",
      "source": [
        "**Diferença entre Parâmetros e Argumentos**\n",
        "\n",
        "Parâmetros são variáveis declaradas na definição de uma função.\n",
        "Argumentos são dados passados durante a execução de uma função.\n",
        "\n",
        "Exemplo:\n",
        "\n",
        "```python\n",
        "def nome_complet(nome, sobrenome): # Parâmetros\n",
        "    return f'Seu nome completo é {nome} {sobrenome}'\n",
        "\n",
        "print(nome_completo('Gustavo', 'R.Martins')) # Argumentos\n",
        "```"
      ],
      "metadata": {
        "id": "q7JEdEzm5vNf"
      }
    },
    {
      "cell_type": "markdown",
      "source": [
        "**Ordem dos argumentos**\n",
        "\n",
        "A ordem com que os argumentos são passados é relevante para a execução da função:"
      ],
      "metadata": {
        "id": "ZOXwCvrJ6Xtk"
      }
    },
    {
      "cell_type": "code",
      "source": [
        "def nome_completo(nome, sobrenome):\n",
        "    return f'Seu nome completo é {nome} {sobrenome}'\n",
        "\n",
        "nome = 'Gustavo'\n",
        "sobrenome = 'R.Martins'\n",
        "sobrenome_2 = 'Ribeiro Martins'\n",
        "\n",
        "# ordem correta\n",
        "print(nome_completo(nome, sobrenome))\n",
        "\n",
        "# ordem errada\n",
        "print(nome_completo(sobrenome, nome))\n",
        "\n",
        "# o nome do argumento pode ser diferente do nome do parametro\n",
        "print(nome_completo(nome, sobrenome_2))"
      ],
      "metadata": {
        "colab": {
          "base_uri": "https://localhost:8080/"
        },
        "id": "dcA9VxmR6d5t",
        "outputId": "db0bf0d3-ab0f-4a63-bf94-faef64fb95ed"
      },
      "execution_count": 4,
      "outputs": [
        {
          "output_type": "stream",
          "name": "stdout",
          "text": [
            "Seu nome completo é Gustavo R.Martins\n",
            "Seu nome completo é R.Martins Gustavo\n",
            "Seu nome completo é Gustavo Ribeiro Martins\n"
          ]
        }
      ]
    },
    {
      "cell_type": "markdown",
      "source": [
        "**Argumentos Nomeados (Keyword Arguments)**\n",
        "\n",
        "Caso utilizemos nomes nos parâmetros nos argumentos para informá-los, podemos utilizar qualquer ordem."
      ],
      "metadata": {
        "id": "MqDqwEm36Mdp"
      }
    },
    {
      "cell_type": "code",
      "source": [
        "def nome_completo(nome, sobrenome):\n",
        "    return f'Seu nome completo é {nome} {sobrenome}'\n",
        "\n",
        "nome = 'Gustavo'\n",
        "sobrenome = 'R.Martins'\n",
        "\n",
        "print(nome_completo(nome='Gustavo', sobrenome='R.Martins'))\n",
        "print(nome_completo(nome=nome, sobrenome=sobrenome))\n",
        "print(nome_completo(sobrenome=sobrenome, nome=nome)) # passando fora da ordem também funciona"
      ],
      "metadata": {
        "colab": {
          "base_uri": "https://localhost:8080/"
        },
        "id": "FNSUOOv769Tu",
        "outputId": "8263a455-f965-4d27-9d4b-fd18c575623c"
      },
      "execution_count": 7,
      "outputs": [
        {
          "output_type": "stream",
          "name": "stdout",
          "text": [
            "Seu nome completo é Gustavo R.Martins\n",
            "Seu nome completo é Gustavo R.Martins\n",
            "Seu nome completo é Gustavo R.Martins\n"
          ]
        }
      ]
    },
    {
      "cell_type": "markdown",
      "source": [
        "**Erro comum na utilização de retur**"
      ],
      "metadata": {
        "id": "egQOZSJm72Ul"
      }
    },
    {
      "cell_type": "code",
      "source": [
        "def soma_impares(numeros):\n",
        "  total = 0\n",
        "  for num in numeros:\n",
        "    if num % 2 != 0:\n",
        "      total = total + num\n",
        "    return total # errado, o return está dentro do loop e ele finaliza a função\n",
        "\n",
        "lista = [1, 2, 3, 4, 5, 6, 7]\n",
        "print(soma_impares(lista))"
      ],
      "metadata": {
        "colab": {
          "base_uri": "https://localhost:8080/"
        },
        "id": "IQsKxEiD74fR",
        "outputId": "c75a3b8b-0a80-4875-d37b-0ac822967188"
      },
      "execution_count": 9,
      "outputs": [
        {
          "output_type": "stream",
          "name": "stdout",
          "text": [
            "1\n"
          ]
        }
      ]
    },
    {
      "cell_type": "markdown",
      "source": [
        "# 4.Funções com Parâmetro Padrão\n",
        "\n",
        "Funções onde a passagem de parâmetros é opcional."
      ],
      "metadata": {
        "id": "oPnQzQLL9nVI"
      }
    },
    {
      "cell_type": "code",
      "source": [
        "def exponencial(numero, potencia=2): # o 2º parâmetro se torna opcional pois na definição ele já recebe um valor\n",
        "  return numero ** potencia\n",
        "\n",
        "print(exponencial(2)) # 2 ao quadrado, não ocorre TypeError\n",
        "print(exponencial(2, 3)) # 2 ao cubo"
      ],
      "metadata": {
        "colab": {
          "base_uri": "https://localhost:8080/"
        },
        "id": "nadXpN5890I7",
        "outputId": "51c952f8-c5bc-4b9b-dd46-08cd5b4b094b"
      },
      "execution_count": 11,
      "outputs": [
        {
          "output_type": "stream",
          "name": "stdout",
          "text": [
            "4\n",
            "8\n"
          ]
        }
      ]
    },
    {
      "cell_type": "markdown",
      "source": [
        "**Obs.:** em funções python, os parâmetros com valores default DEVE SEMPRE estar no final da declaração."
      ],
      "metadata": {
        "id": "a5t9L6si-7cQ"
      }
    },
    {
      "cell_type": "code",
      "source": [
        "# correto\n",
        "def exponencial(numero, potencia=2):\n",
        "  return numero ** potencia\n",
        "\n",
        "# errado\n",
        "def exponencial(numero=1, potencia):\n",
        "  return numero ** potencia"
      ],
      "metadata": {
        "colab": {
          "base_uri": "https://localhost:8080/",
          "height": 141
        },
        "id": "z1GmKZTL_CZ7",
        "outputId": "27702c92-5653-4858-f80f-80136d2b716e"
      },
      "execution_count": 12,
      "outputs": [
        {
          "output_type": "error",
          "ename": "SyntaxError",
          "evalue": "non-default argument follows default argument (<ipython-input-12-b1eada45ce11>, line 6)",
          "traceback": [
            "\u001b[0;36m  File \u001b[0;32m\"<ipython-input-12-b1eada45ce11>\"\u001b[0;36m, line \u001b[0;32m6\u001b[0m\n\u001b[0;31m    def exponencial(numero=1, potencia):\u001b[0m\n\u001b[0m                              ^\u001b[0m\n\u001b[0;31mSyntaxError\u001b[0m\u001b[0;31m:\u001b[0m non-default argument follows default argument\n"
          ]
        }
      ]
    },
    {
      "cell_type": "markdown",
      "source": [
        "Podemos ter funções que são declaradas dentro de funções, e também tem uma forma especial de escopo de variável."
      ],
      "metadata": {
        "id": "m1rF1DRIB8tJ"
      }
    },
    {
      "cell_type": "code",
      "source": [
        "var_global = 100\n",
        "\n",
        "def fora():\n",
        "  contador = 0\n",
        "\n",
        "  def dentro():\n",
        "    global var_global         # variável global, fora do escopo da função\n",
        "    nonlocal contador         # variável nem global nem local, está na função anterior\n",
        "    contador = contador + 1\n",
        "    return contador + var_global\n",
        "  return dentro()\n",
        "\n",
        "print(fora())\n",
        "print(dentro()) # NameError, dentro() está inserido no escopo de fora()."
      ],
      "metadata": {
        "colab": {
          "base_uri": "https://localhost:8080/",
          "height": 228
        },
        "id": "XPSAfX-kCCwZ",
        "outputId": "cfd0e4aa-8b46-424d-8e64-11f37bead91f"
      },
      "execution_count": 15,
      "outputs": [
        {
          "output_type": "stream",
          "name": "stdout",
          "text": [
            "101\n"
          ]
        },
        {
          "output_type": "error",
          "ename": "NameError",
          "evalue": "name 'dentro' is not defined",
          "traceback": [
            "\u001b[0;31m---------------------------------------------------------------------------\u001b[0m",
            "\u001b[0;31mNameError\u001b[0m                                 Traceback (most recent call last)",
            "\u001b[0;32m<ipython-input-15-aa6d3c0b0220>\u001b[0m in \u001b[0;36m<cell line: 14>\u001b[0;34m()\u001b[0m\n\u001b[1;32m     12\u001b[0m \u001b[0;34m\u001b[0m\u001b[0m\n\u001b[1;32m     13\u001b[0m \u001b[0mprint\u001b[0m\u001b[0;34m(\u001b[0m\u001b[0mfora\u001b[0m\u001b[0;34m(\u001b[0m\u001b[0;34m)\u001b[0m\u001b[0;34m)\u001b[0m\u001b[0;34m\u001b[0m\u001b[0;34m\u001b[0m\u001b[0m\n\u001b[0;32m---> 14\u001b[0;31m \u001b[0mprint\u001b[0m\u001b[0;34m(\u001b[0m\u001b[0mdentro\u001b[0m\u001b[0;34m(\u001b[0m\u001b[0;34m)\u001b[0m\u001b[0;34m)\u001b[0m \u001b[0;31m# NameError\u001b[0m\u001b[0;34m\u001b[0m\u001b[0;34m\u001b[0m\u001b[0m\n\u001b[0m",
            "\u001b[0;31mNameError\u001b[0m: name 'dentro' is not defined"
          ]
        }
      ]
    },
    {
      "cell_type": "markdown",
      "source": [
        "# 5.Docstrings\n",
        "\n",
        "Documentando funções com Docstrings. São definidas entre 3 aspas duplas no início e no fim.\n",
        "\n",
        "Exemplo:\n",
        "\n",
        "```python\n",
        "\"\"\"\n",
        "Isso aqui é uma docstring\n",
        "Tudo que estiver contido entre as aspas duplas\n",
        "fará parte da docstring\n",
        "\"\"\"\n",
        "```\n",
        "\n",
        "Obs.: podemos ter acesso à documentação de uma função em Python utilizando a propriedade especial `__doc__`."
      ],
      "metadata": {
        "id": "bVfGhohZEpP_"
      }
    },
    {
      "cell_type": "code",
      "source": [
        "# Documentação do método print() feita com Docstring\n",
        "\n",
        "print(help(print()))"
      ],
      "metadata": {
        "colab": {
          "base_uri": "https://localhost:8080/"
        },
        "id": "wyPDhMlWFIGi",
        "outputId": "ff473503-440e-4a59-c861-d1916d1ce56b"
      },
      "execution_count": 21,
      "outputs": [
        {
          "output_type": "stream",
          "name": "stdout",
          "text": [
            "\n",
            "Help on NoneType object:\n",
            "\n",
            "class NoneType(object)\n",
            " |  Methods defined here:\n",
            " |  \n",
            " |  __bool__(self, /)\n",
            " |      True if self else False\n",
            " |  \n",
            " |  __repr__(self, /)\n",
            " |      Return repr(self).\n",
            " |  \n",
            " |  ----------------------------------------------------------------------\n",
            " |  Static methods defined here:\n",
            " |  \n",
            " |  __new__(*args, **kwargs) from builtins.type\n",
            " |      Create and return a new object.  See help(type) for accurate signature.\n",
            "\n",
            "None\n"
          ]
        }
      ]
    },
    {
      "cell_type": "code",
      "source": [
        "def exponencial(numero, potencia=2):\n",
        "  \"\"\"\n",
        "  Função que retorno por padrão o quadrado de 'numero' ou 'numero' à 'potencial' informada.\n",
        "  :param numero: Número que desejamos gerar o exponencial\n",
        "  :param potencia: Potência que queremos gerar o exponencial. Por padrão é 2.\n",
        "  :return: Retorna a exponencial de 'numero' por 'potencia'\n",
        "  \"\"\"\n",
        "  return numero ** potencia"
      ],
      "metadata": {
        "colab": {
          "base_uri": "https://localhost:8080/"
        },
        "id": "ZtFD42ouFTK7",
        "outputId": "df7e6a20-2077-4917-8e00-2832cf574b59"
      },
      "execution_count": 25,
      "outputs": [
        {
          "output_type": "stream",
          "name": "stdout",
          "text": [
            "32\n",
            "No Python documentation found for \"Função que retorno por padrão o quadrado de 'numero' ou 'numero' à 'potencial' informada.\\n  :param numero: Número que desejamos gerar o exponencial\\n  :param potencia: Potência que queremos gerar o exponencial. Por padrão é 2.\\n  :return: Retorna a exponencial de 'numero' por 'potencia'\".\n",
            "Use help() to get the interactive help utility.\n",
            "Use help(str) for help on the str class.\n",
            "\n"
          ]
        }
      ]
    },
    {
      "cell_type": "markdown",
      "source": [
        "# 6.*args\n",
        "\n",
        "O `*args` é um parâmetro como outro qualquer. Isso significa, que você poderá chamar de qualquer coisa, desde que comece com asterisco, mas por convenção, utilizamos `*args` para definí-lo.\n",
        "\n",
        "O parâmetro `*args` utilizado em uma função, coloca os valores extras informados como entrada em uma tupla. Então desde já, lembre-se que tuplas são imutáveis."
      ],
      "metadata": {
        "id": "873JLWvCQEVC"
      }
    },
    {
      "cell_type": "code",
      "source": [
        "def soma_todos_numeros(num1, num2, num3):\n",
        "  return num1 + num2 + num3\n",
        "\n",
        "print(soma_todos_numeros(4, 6, 9))\n",
        "\n",
        "# se precisasse somar um quarto número, precisaria adicionar mais um parâmetro na função\n",
        "# para não ocorrer TypeError\n",
        "\n",
        "print(soma_todos_numeros(1, 2, 3, 4)) # ao passar uma qtde maior de argumentos irá gerar TypeError"
      ],
      "metadata": {
        "colab": {
          "base_uri": "https://localhost:8080/",
          "height": 228
        },
        "id": "k1Us80q6QuQT",
        "outputId": "007e012f-d3f8-4853-b9cc-104d862d76c7"
      },
      "execution_count": 27,
      "outputs": [
        {
          "output_type": "stream",
          "name": "stdout",
          "text": [
            "19\n"
          ]
        },
        {
          "output_type": "error",
          "ename": "TypeError",
          "evalue": "soma_todos_numeros() takes 3 positional arguments but 4 were given",
          "traceback": [
            "\u001b[0;31m---------------------------------------------------------------------------\u001b[0m",
            "\u001b[0;31mTypeError\u001b[0m                                 Traceback (most recent call last)",
            "\u001b[0;32m<ipython-input-27-7950f1f45f56>\u001b[0m in \u001b[0;36m<cell line: 9>\u001b[0;34m()\u001b[0m\n\u001b[1;32m      7\u001b[0m \u001b[0;31m# para não ocorrer TypeError\u001b[0m\u001b[0;34m\u001b[0m\u001b[0;34m\u001b[0m\u001b[0m\n\u001b[1;32m      8\u001b[0m \u001b[0;34m\u001b[0m\u001b[0m\n\u001b[0;32m----> 9\u001b[0;31m \u001b[0mprint\u001b[0m\u001b[0;34m(\u001b[0m\u001b[0msoma_todos_numeros\u001b[0m\u001b[0;34m(\u001b[0m\u001b[0;36m1\u001b[0m\u001b[0;34m,\u001b[0m \u001b[0;36m2\u001b[0m\u001b[0;34m,\u001b[0m \u001b[0;36m3\u001b[0m\u001b[0;34m,\u001b[0m \u001b[0;36m4\u001b[0m\u001b[0;34m)\u001b[0m\u001b[0;34m)\u001b[0m \u001b[0;31m# ao passar uma qtde maior de argumentos irá gerar TypeError\u001b[0m\u001b[0;34m\u001b[0m\u001b[0;34m\u001b[0m\u001b[0m\n\u001b[0m",
            "\u001b[0;31mTypeError\u001b[0m: soma_todos_numeros() takes 3 positional arguments but 4 were given"
          ]
        }
      ]
    },
    {
      "cell_type": "code",
      "source": [
        "# refatorando com *args\n",
        "\n",
        "def soma_todos_numeros(*args): # pra declarar usa *\n",
        "  print(args) # para utilizar não usa *\n",
        "\n",
        "soma_todos_numeros()\n",
        "soma_todos_numeros(1)\n",
        "soma_todos_numeros(1, 2)\n",
        "soma_todos_numeros(1, 2, 3)\n",
        "soma_todos_numeros(1, 2, 3, 4, 5, 6, 7, 8, 9, 10)"
      ],
      "metadata": {
        "colab": {
          "base_uri": "https://localhost:8080/"
        },
        "id": "G-5TnWRfRfi2",
        "outputId": "bfa4fb57-69c2-41c5-ecb0-4434c133346e"
      },
      "execution_count": 28,
      "outputs": [
        {
          "output_type": "stream",
          "name": "stdout",
          "text": [
            "()\n",
            "(1,)\n",
            "(1, 2)\n",
            "(1, 2, 3)\n",
            "(1, 2, 3, 4, 5, 6, 7, 8, 9, 10)\n"
          ]
        }
      ]
    },
    {
      "cell_type": "code",
      "source": [
        "def soma_todos_numeros(*args):\n",
        "  return sum(args)\n",
        "\n",
        "print(soma_todos_numeros(1, 2, 3, 4, 5, 6, 7, 8, 9, 10))"
      ],
      "metadata": {
        "colab": {
          "base_uri": "https://localhost:8080/"
        },
        "id": "--E8hwdQR-ZR",
        "outputId": "fda7bdab-f2b0-4163-f6a2-c9836dc3ceff"
      },
      "execution_count": 30,
      "outputs": [
        {
          "output_type": "stream",
          "name": "stdout",
          "text": [
            "55\n"
          ]
        }
      ]
    },
    {
      "cell_type": "markdown",
      "source": [
        "Também é possível passar uma lista para o *args, mas precisa tomar cuidado e ver se é necessário fazer o desempacotamento, pois a lista inteira é considerada como um único argumento passado ao *args."
      ],
      "metadata": {
        "id": "zgc4a9NvTq6s"
      }
    },
    {
      "cell_type": "code",
      "source": [
        "def soma_todos_numeros(*args):\n",
        "  print(args)\n",
        "\n",
        "lista = [1, 2, 3, 4, 5, 6, 7]\n",
        "soma_todos_numeros(lista, 100, 200)\n",
        "\n",
        "# Desempacotando\n",
        "soma_todos_numeros(*lista, 100, 200)\n",
        "\n",
        "# O asterisco serve para informar que estamos passando uma coleção que precisa ser desempacotada"
      ],
      "metadata": {
        "colab": {
          "base_uri": "https://localhost:8080/"
        },
        "id": "BU8kj9O6T1kH",
        "outputId": "6346602b-e436-4401-8148-204e24f1897b"
      },
      "execution_count": 36,
      "outputs": [
        {
          "output_type": "stream",
          "name": "stdout",
          "text": [
            "([1, 2, 3, 4, 5, 6, 7], 100, 200)\n",
            "(1, 2, 3, 4, 5, 6, 7, 100, 200)\n"
          ]
        }
      ]
    },
    {
      "cell_type": "markdown",
      "source": [
        "# 7.**kwargs\n",
        "\n",
        "`**kwargs`, diferente do `*args` que coloca os valores extras em uma tupla, exige que utilizamos parâmetros nomeados, e transforma esses parâmetros extras em um dicionário."
      ],
      "metadata": {
        "id": "kiT2P1M0VCeK"
      }
    },
    {
      "cell_type": "code",
      "source": [
        "def cores_favoritas(**kwargs):\n",
        "  print(kwargs)\n",
        "  for pessoa, cor in kwargs.items():\n",
        "    print(f'A cor favorita de {pessoa.title()} é {cor}')\n",
        "\n",
        "cores_favoritas(marcos='verde', julia='amarelo', fernanda='azul', vanessa='branco')"
      ],
      "metadata": {
        "colab": {
          "base_uri": "https://localhost:8080/"
        },
        "id": "iJh1lWh2Vn7R",
        "outputId": "0eb74f05-fc49-4ee7-d09a-1397ddfd9ff7"
      },
      "execution_count": 44,
      "outputs": [
        {
          "output_type": "stream",
          "name": "stdout",
          "text": [
            "{'marcos': 'verde', 'julia': 'amarelo', 'fernanda': 'azul', 'vanessa': 'branco'}\n",
            "A cor favorita de Marcos é verde\n",
            "A cor favorita de Julia é amarelo\n",
            "A cor favorita de Fernanda é azul\n",
            "A cor favorita de Vanessa é branco\n"
          ]
        }
      ]
    },
    {
      "cell_type": "markdown",
      "source": [
        "**Obs.:** os parâmetros `*args` e `**kwargs` não são obrigatórios.\n",
        "\n",
        "Nas nossas funções, poder ter (NESTA ORDEM):\n",
        "\n",
        "- parâmetros obrigatórios;\n",
        "- `*args`;\n",
        "- parâmetros default;\n",
        "- `**kwargs`."
      ],
      "metadata": {
        "id": "VGLq9VqfWvKV"
      }
    },
    {
      "cell_type": "code",
      "source": [
        "def minha_funcao(idade, nome, *args, solteiro=False, **kwargs):\n",
        "  print(f'{nome} tem {idade} anos')\n",
        "  print(args)\n",
        "  if solteiro:\n",
        "    print('Solteiro')\n",
        "  else:\n",
        "    print('Casado')\n",
        "  print(kwargs)\n",
        "\n",
        "cursos_do_gus = ['Python', 'Terraform', 'AWS']\n",
        "minha_funcao(27, 'Gustavo', *cursos_do_gus)"
      ],
      "metadata": {
        "colab": {
          "base_uri": "https://localhost:8080/"
        },
        "id": "C2yVCmvzXv2N",
        "outputId": "d59dd00f-6259-4146-a245-7b0fa99649dc"
      },
      "execution_count": 45,
      "outputs": [
        {
          "output_type": "stream",
          "name": "stdout",
          "text": [
            "Gustavo tem 27 anos\n",
            "('Python', 'Terraform', 'AWS')\n",
            "Casado\n",
            "{}\n"
          ]
        }
      ]
    },
    {
      "cell_type": "code",
      "source": [
        "# Desempacotar com **kwargs\n",
        "\n",
        "def mostra_nomes(**kwargs):\n",
        "  return f\"{kwargs['nome']} {kwargs['sobrenome']}\"\n",
        "\n",
        "nomes = {'nome': 'Gustavo', 'sobrenome': 'Martins'}\n",
        "print(mostra_nomes(**nomes))"
      ],
      "metadata": {
        "colab": {
          "base_uri": "https://localhost:8080/"
        },
        "id": "MJxwzBlEaWTL",
        "outputId": "7a789e29-89e1-4f30-829f-f031d161abc2"
      },
      "execution_count": 48,
      "outputs": [
        {
          "output_type": "stream",
          "name": "stdout",
          "text": [
            "Gustavo Martins\n"
          ]
        }
      ]
    }
  ]
}