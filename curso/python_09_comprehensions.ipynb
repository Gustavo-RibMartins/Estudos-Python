{
  "nbformat": 4,
  "nbformat_minor": 0,
  "metadata": {
    "colab": {
      "provenance": [],
      "authorship_tag": "ABX9TyMJ30aLF7piUDD5opuuVgIH",
      "include_colab_link": true
    },
    "kernelspec": {
      "name": "python3",
      "display_name": "Python 3"
    },
    "language_info": {
      "name": "python"
    }
  },
  "cells": [
    {
      "cell_type": "markdown",
      "metadata": {
        "id": "view-in-github",
        "colab_type": "text"
      },
      "source": [
        "<a href=\"https://colab.research.google.com/github/Gustavo-RibMartins/estudos-python/blob/develop/curso/python_09_comprehensions.ipynb\" target=\"_parent\"><img src=\"https://colab.research.google.com/assets/colab-badge.svg\" alt=\"Open In Colab\"/></a>"
      ]
    },
    {
      "cell_type": "markdown",
      "source": [
        "# 1.List Comprehension\n",
        "\n",
        "Utilizando List Comprehension nós podemos gerar novas listas com dados processados a partir de outro iterável.\n",
        "\n",
        "**Sintaxe da List Comprehension**\n",
        "\n",
        "```python\n",
        "[dado for dado in iteravel]\n",
        "```"
      ],
      "metadata": {
        "id": "fmDcgq8K_474"
      }
    },
    {
      "cell_type": "code",
      "execution_count": null,
      "metadata": {
        "colab": {
          "base_uri": "https://localhost:8080/"
        },
        "id": "qwJcV8E6_zLw",
        "outputId": "16f53496-3a36-4586-a741-7703150638b7"
      },
      "outputs": [
        {
          "output_type": "stream",
          "name": "stdout",
          "text": [
            "[10, 20, 30, 40, 50]\n"
          ]
        }
      ],
      "source": [
        "numeros = [1, 2, 3, 4, 5]\n",
        "\n",
        "res = [numero * 10 for numero in numeros]\n",
        "\n",
        "print(res)"
      ]
    },
    {
      "cell_type": "markdown",
      "source": [
        "Para entender melhor o que está acontecendo, devemos dividir a express~\n",
        "ao em duas partes:\n",
        "\n",
        "- A primeira: `for numero in numeros`\n",
        "- A segunda: `numero * 10`"
      ],
      "metadata": {
        "id": "vCMVPqUDC_MK"
      }
    },
    {
      "cell_type": "markdown",
      "source": [
        "**List Comprehension vs Loop**"
      ],
      "metadata": {
        "id": "p9RuN1nxEc3s"
      }
    },
    {
      "cell_type": "code",
      "source": [
        "# Loop\n",
        "numeros = [1, 2, 3, 4, 5]\n",
        "\n",
        "numeros_dobrados = []\n",
        "\n",
        "for numero in numeros:\n",
        "  numeros_dobrados.append(numero * 2)\n",
        "\n",
        "print(numeros_dobrados)"
      ],
      "metadata": {
        "colab": {
          "base_uri": "https://localhost:8080/"
        },
        "id": "e8K4AGAYEhly",
        "outputId": "c876ca32-5e37-4dd9-ccb0-70cf3c41abb9"
      },
      "execution_count": null,
      "outputs": [
        {
          "output_type": "stream",
          "name": "stdout",
          "text": [
            "[2, 4, 6, 8, 10]\n"
          ]
        }
      ]
    },
    {
      "cell_type": "code",
      "source": [
        "# List Comprehension\n",
        "\n",
        "numeros = [1, 2, 3, 4, 5]\n",
        "\n",
        "print([numero * 2 for numero in numeros])"
      ],
      "metadata": {
        "colab": {
          "base_uri": "https://localhost:8080/"
        },
        "id": "RDBmMbDZE3Ok",
        "outputId": "e3154e93-a7bb-459c-f3b6-1590ffadbeff"
      },
      "execution_count": null,
      "outputs": [
        {
          "output_type": "stream",
          "name": "stdout",
          "text": [
            "[2, 4, 6, 8, 10]\n"
          ]
        }
      ]
    },
    {
      "cell_type": "markdown",
      "source": [
        "Podemos adicionar estruturas condicionais lógicas às nossas List Comprehension."
      ],
      "metadata": {
        "id": "BooNZDvuOJZi"
      }
    },
    {
      "cell_type": "code",
      "source": [
        "numeros = [1, 2, 3, 4, 5, 6]\n",
        "\n",
        "pares = [numero for numero in numeros if numero % 2 == 0]\n",
        "impares = [numero for numero in numeros if numero % 2 != 0]\n",
        "\n",
        "print(pares)\n",
        "print(impares)"
      ],
      "metadata": {
        "colab": {
          "base_uri": "https://localhost:8080/"
        },
        "id": "rRXa28nhONeM",
        "outputId": "316c697c-736a-4019-bc42-0d3cae7eb039"
      },
      "execution_count": null,
      "outputs": [
        {
          "output_type": "stream",
          "name": "stdout",
          "text": [
            "[2, 4, 6]\n",
            "[1, 3, 5]\n"
          ]
        }
      ]
    },
    {
      "cell_type": "code",
      "source": [
        "numeros = [1, 2, 3, 4, 5, 6]\n",
        "\n",
        "res = [numero * 2 if numero % 2 == 0 else numero / 2 for numero in numeros]\n",
        "print(res)"
      ],
      "metadata": {
        "colab": {
          "base_uri": "https://localhost:8080/"
        },
        "id": "GMdefevVPCd4",
        "outputId": "1cf9213f-8ec7-4292-88bd-914f1b597060"
      },
      "execution_count": null,
      "outputs": [
        {
          "output_type": "stream",
          "name": "stdout",
          "text": [
            "[0.5, 4, 1.5, 8, 2.5, 12]\n"
          ]
        }
      ]
    },
    {
      "cell_type": "markdown",
      "source": [
        "# 2.Listas Aninhadas (Nested Lists)\n",
        "\n",
        "Algumas linguagens de programação possuem uma estrutura de dados chamada arrays, que podem ser:\n",
        "\n",
        "- Unidimensionais (Arrays/ Vetores);\n",
        "- Multidimensionais (Matrizes).\n",
        "\n",
        "Em Python temos as listas."
      ],
      "metadata": {
        "id": "hp-a96DlPxcL"
      }
    },
    {
      "cell_type": "code",
      "source": [
        "# Exemplo\n",
        "\n",
        "listas = [[1, 2, 3], [4, 5, 6], [7, 8, 9]] # matriz 3x3\n",
        "\n",
        "print(listas)\n",
        "print(type(listas))\n",
        "\n",
        "print(listas[0][1]) # linha 0 - coluna 1"
      ],
      "metadata": {
        "colab": {
          "base_uri": "https://localhost:8080/"
        },
        "id": "kLGueYmZRGCx",
        "outputId": "e191727c-8495-459e-b5f6-81bd4caf17ae"
      },
      "execution_count": null,
      "outputs": [
        {
          "output_type": "stream",
          "name": "stdout",
          "text": [
            "[[1, 2, 3], [4, 5, 6], [7, 8, 9]]\n",
            "<class 'list'>\n",
            "2\n"
          ]
        }
      ]
    },
    {
      "cell_type": "markdown",
      "source": [
        "**Iterando com loops em uma lista aninhada**"
      ],
      "metadata": {
        "id": "fe6RULDrSAln"
      }
    },
    {
      "cell_type": "code",
      "source": [
        "listas = [[1, 2, 3], [4, 5, 6], [7, 8, 9]]\n",
        "\n",
        "for lista in listas:\n",
        "  for num in lista:\n",
        "    print(num)"
      ],
      "metadata": {
        "colab": {
          "base_uri": "https://localhost:8080/"
        },
        "id": "yojS5hnQSEyJ",
        "outputId": "35663182-1b68-460b-96b1-d990f251283f"
      },
      "execution_count": null,
      "outputs": [
        {
          "output_type": "stream",
          "name": "stdout",
          "text": [
            "1\n",
            "2\n",
            "3\n",
            "4\n",
            "5\n",
            "6\n",
            "7\n",
            "8\n",
            "9\n"
          ]
        }
      ]
    },
    {
      "cell_type": "code",
      "source": [
        "# List Comprehension\n",
        "\n",
        "listas = [[1, 2, 3], [4, 5, 6], [7, 8, 9]]\n",
        "\n",
        "[[print(valor) for valor in lista] for lista in listas]"
      ],
      "metadata": {
        "colab": {
          "base_uri": "https://localhost:8080/"
        },
        "id": "dheXg_o-SlJH",
        "outputId": "7cf37af3-09a1-4656-93ed-c8d72224c597"
      },
      "execution_count": null,
      "outputs": [
        {
          "output_type": "stream",
          "name": "stdout",
          "text": [
            "1\n",
            "2\n",
            "3\n",
            "4\n",
            "5\n",
            "6\n",
            "7\n",
            "8\n",
            "9\n"
          ]
        },
        {
          "output_type": "execute_result",
          "data": {
            "text/plain": [
              "[[None, None, None], [None, None, None], [None, None, None]]"
            ]
          },
          "metadata": {},
          "execution_count": 19
        }
      ]
    },
    {
      "cell_type": "markdown",
      "source": [
        "# 3.Dictionary Comprehension\n",
        "\n",
        "Muda apenas a sintaxe com relação ao list comprehension.\n",
        "\n",
        "```python\n",
        "# sintaxe\n",
        "{chave:valor for valor in iteraval}\n",
        "\n",
        "```"
      ],
      "metadata": {
        "id": "DicLgGB8Uy6s"
      }
    },
    {
      "cell_type": "code",
      "source": [
        "numeros = {'a': 1, 'b': 2, 'c': 3, 'd': 4, 'e': 5}\n",
        "\n",
        "quadrado = {chave: valor ** 2 for chave, valor in numeros.items()}\n",
        "print(quadrado)"
      ],
      "metadata": {
        "colab": {
          "base_uri": "https://localhost:8080/"
        },
        "id": "S7UrImvnV5ET",
        "outputId": "8de300ec-9e31-42db-aea2-c3d6bab08164"
      },
      "execution_count": 3,
      "outputs": [
        {
          "output_type": "stream",
          "name": "stdout",
          "text": [
            "{'a': 1, 'b': 4, 'c': 9, 'd': 16, 'e': 25}\n"
          ]
        }
      ]
    },
    {
      "cell_type": "code",
      "source": [
        "numeros = [1, 2, 3, 4, 5]\n",
        "\n",
        "quadrados = {valor: valor ** 2 for valor in numeros}\n",
        "print(quadrados)"
      ],
      "metadata": {
        "colab": {
          "base_uri": "https://localhost:8080/"
        },
        "id": "yQAwUToeWk8c",
        "outputId": "a0ea1de4-ded4-4539-b7b1-f7bd9b220519"
      },
      "execution_count": 4,
      "outputs": [
        {
          "output_type": "stream",
          "name": "stdout",
          "text": [
            "{1: 1, 2: 4, 3: 9, 4: 16, 5: 25}\n"
          ]
        }
      ]
    },
    {
      "cell_type": "code",
      "source": [
        "chaves = 'abcde'\n",
        "valores = [1, 2, 3, 4, 5]\n",
        "\n",
        "mistura = {chaves[i]: valores[i] for i in range(0, len(chaves))}\n",
        "print(mistura)"
      ],
      "metadata": {
        "colab": {
          "base_uri": "https://localhost:8080/"
        },
        "id": "NEecCo7KXKns",
        "outputId": "346d2b57-79a1-4362-a964-8c23cd7ed386"
      },
      "execution_count": 6,
      "outputs": [
        {
          "output_type": "stream",
          "name": "stdout",
          "text": [
            "{'a': 1, 'b': 2, 'c': 3, 'd': 4, 'e': 5}\n"
          ]
        }
      ]
    },
    {
      "cell_type": "code",
      "source": [
        "# Exemplo com lógica condicional\n",
        "\n",
        "numeros = [1, 2, 3, 4, 5]\n",
        "\n",
        "res = {num:('par' if num % 2 == 0 else 'impar') for num in numeros}\n",
        "print(res)"
      ],
      "metadata": {
        "colab": {
          "base_uri": "https://localhost:8080/"
        },
        "id": "bemnJOSpXjfM",
        "outputId": "0eeaf117-a466-4512-e19d-147945bcbf81"
      },
      "execution_count": 7,
      "outputs": [
        {
          "output_type": "stream",
          "name": "stdout",
          "text": [
            "{1: 'impar', 2: 'par', 3: 'impar', 4: 'par', 5: 'impar'}\n"
          ]
        }
      ]
    },
    {
      "cell_type": "markdown",
      "source": [
        "# 4.Set Comprehension\n",
        "\n",
        "Mesmo princípio de list e dictionary comprehension."
      ],
      "metadata": {
        "id": "1qfp90twYBtR"
      }
    },
    {
      "cell_type": "code",
      "source": [
        "numeros = {num for num in range(1, 7)}\n",
        "print(numeros)"
      ],
      "metadata": {
        "colab": {
          "base_uri": "https://localhost:8080/"
        },
        "id": "Ka6p5A2BYNtS",
        "outputId": "70fc604f-a297-4a3a-8a72-f0f89e9d06ff"
      },
      "execution_count": 8,
      "outputs": [
        {
          "output_type": "stream",
          "name": "stdout",
          "text": [
            "{1, 2, 3, 4, 5, 6}\n"
          ]
        }
      ]
    },
    {
      "cell_type": "code",
      "source": [
        "numeros = {x ** 2 for x in range(10)}\n",
        "print(numeros)"
      ],
      "metadata": {
        "colab": {
          "base_uri": "https://localhost:8080/"
        },
        "id": "VN7eKK5tYUm-",
        "outputId": "c7689c76-fb8c-4028-9230-bb305fa5690a"
      },
      "execution_count": 10,
      "outputs": [
        {
          "output_type": "stream",
          "name": "stdout",
          "text": [
            "{0: 0, 1: 1, 2: 4, 3: 9, 4: 16, 5: 25, 6: 36, 7: 49, 8: 64, 9: 81}\n"
          ]
        }
      ]
    },
    {
      "cell_type": "markdown",
      "source": [
        "**Obs.:** em conjuntos não existe ordenação de valores e nem repetição."
      ],
      "metadata": {
        "id": "kLCb-nuDYiXR"
      }
    },
    {
      "cell_type": "code",
      "source": [
        "letras = {letra for letra in 'Gustavo R.Martins'}\n",
        "print(letras)"
      ],
      "metadata": {
        "colab": {
          "base_uri": "https://localhost:8080/"
        },
        "id": "3oRIbAT3ZLPa",
        "outputId": "f8705f4a-5889-4fa6-ea39-8445ba2cf3b3"
      },
      "execution_count": 12,
      "outputs": [
        {
          "output_type": "stream",
          "name": "stdout",
          "text": [
            "{'M', 't', 'R', 'G', 'n', 'v', 'o', 'r', 'i', '.', 'a', 's', ' ', 'u'}\n"
          ]
        }
      ]
    }
  ]
}