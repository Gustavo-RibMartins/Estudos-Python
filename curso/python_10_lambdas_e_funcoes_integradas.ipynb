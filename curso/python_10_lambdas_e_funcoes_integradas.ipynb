{
  "nbformat": 4,
  "nbformat_minor": 0,
  "metadata": {
    "colab": {
      "provenance": [],
      "authorship_tag": "ABX9TyNK72+WTjtx0PSJxbIGlc1g",
      "include_colab_link": true
    },
    "kernelspec": {
      "name": "python3",
      "display_name": "Python 3"
    },
    "language_info": {
      "name": "python"
    }
  },
  "cells": [
    {
      "cell_type": "markdown",
      "metadata": {
        "id": "view-in-github",
        "colab_type": "text"
      },
      "source": [
        "<a href=\"https://colab.research.google.com/github/Gustavo-RibMartins/estudos-python/blob/develop/curso/python_10_lambdas_e_funcoes_integradas.ipynb\" target=\"_parent\"><img src=\"https://colab.research.google.com/assets/colab-badge.svg\" alt=\"Open In Colab\"/></a>"
      ]
    },
    {
      "cell_type": "markdown",
      "source": [
        "# 1.Lambdas\n",
        "\n",
        "Conhecidas por Expressões Lambdas ou simplesmente Lambdas, são funções sem nome, ou seja, funções anônimas."
      ],
      "metadata": {
        "id": "Oj1ZaOe7bqPi"
      }
    },
    {
      "cell_type": "code",
      "execution_count": 1,
      "metadata": {
        "colab": {
          "base_uri": "https://localhost:8080/"
        },
        "id": "rKYztjj3boCr",
        "outputId": "3a03bdc2-713a-4a5d-8fa5-01ab8c0752b2"
      },
      "outputs": [
        {
          "output_type": "stream",
          "name": "stdout",
          "text": [
            "13\n"
          ]
        }
      ],
      "source": [
        "# Função Python comum\n",
        "\n",
        "def funcao(x):\n",
        "  return 3 * x + 1\n",
        "\n",
        "print(funcao(4))"
      ]
    },
    {
      "cell_type": "code",
      "source": [
        "# Expressão Lambda\n",
        "\n",
        "lambda x: 3 * x + 1"
      ],
      "metadata": {
        "colab": {
          "base_uri": "https://localhost:8080/"
        },
        "id": "cJ5F8cJBcWLN",
        "outputId": "5e41cc77-a027-4469-9f5e-583d6f1e8017"
      },
      "execution_count": 2,
      "outputs": [
        {
          "output_type": "execute_result",
          "data": {
            "text/plain": [
              "<function __main__.<lambda>(x)>"
            ]
          },
          "metadata": {},
          "execution_count": 2
        }
      ]
    },
    {
      "cell_type": "markdown",
      "source": [
        "Sintaxe\n",
        "\n",
        "```python\n",
        "lambda <parâmetros>: <retorno>\n",
        "```\n",
        "\n",
        "E como utilizar a expressão lambda? Dando um nome a ela."
      ],
      "metadata": {
        "id": "mcddc5-PcnDv"
      }
    },
    {
      "cell_type": "code",
      "source": [
        "calc = lambda x: 3 * x + 1\n",
        "\n",
        "print(calc(4))"
      ],
      "metadata": {
        "colab": {
          "base_uri": "https://localhost:8080/"
        },
        "id": "ChfiNqUDc2Dg",
        "outputId": "858351da-3a4e-4b5c-817b-edac216bfbdd"
      },
      "execution_count": 3,
      "outputs": [
        {
          "output_type": "stream",
          "name": "stdout",
          "text": [
            "13\n"
          ]
        }
      ]
    },
    {
      "cell_type": "markdown",
      "source": [
        "Se pra usar a lambda é preciso dar um nome a ela, qual a vantagem de usar uma Lambda ao invés de uma função?\n",
        "\n",
        "Primeiro, como foi feito acima, declarando uma variável para usar a Lambda não é uma boa forma de uso deste recurso, posteriormente ficará claro os casos de uso de Lambdas."
      ],
      "metadata": {
        "id": "RHfDnT1CdBu-"
      }
    },
    {
      "cell_type": "code",
      "source": [
        "# Podemos ter expressões lambdas com múltiplas entradas\n",
        "\n",
        "nome_completo = lambda nome, sobrenome: nome.strip().title() + ' ' + sobrenome.strip().title()\n",
        "\n",
        "print(nome_completo('gustavo ', '      RIBEIRO '))\n",
        "\n",
        "# strip(): remove espaços a esquerda e a direita da uma string"
      ],
      "metadata": {
        "colab": {
          "base_uri": "https://localhost:8080/"
        },
        "id": "P2zTBRijdW56",
        "outputId": "6b74d8ac-c9e4-41f1-bd21-ee7a43da5c01"
      },
      "execution_count": 8,
      "outputs": [
        {
          "output_type": "stream",
          "name": "stdout",
          "text": [
            "Gustavo Ribeiro\n"
          ]
        }
      ]
    },
    {
      "cell_type": "markdown",
      "source": [
        "Em funções Python podemos ter nenhuma ou várias entradas. Em Lambdas também."
      ],
      "metadata": {
        "id": "ruhbHvb5ej5F"
      }
    },
    {
      "cell_type": "code",
      "source": [
        "amar = lambda : 'Como não amar Python?'\n",
        "uma_entrada = lambda x: 3 * x + 1\n",
        "duas_entradas = lambda x, y: (x * y) ** 0.5\n",
        "tres_entradas = lambda x, y, z: 3 / (1 / x + 1 / y + 1 / z)\n",
        "\n",
        "print(amar())\n",
        "print(uma_entrada(5))\n",
        "print(duas_entradas(5, 6))\n",
        "print(tres_entradas(5, 6, 7))"
      ],
      "metadata": {
        "colab": {
          "base_uri": "https://localhost:8080/"
        },
        "id": "BQShdz9fen46",
        "outputId": "0523f1db-7d04-442f-be4b-d4352e9f37ec"
      },
      "execution_count": 10,
      "outputs": [
        {
          "output_type": "stream",
          "name": "stdout",
          "text": [
            "Como não amar Python?\n",
            "16\n",
            "5.477225575051661\n",
            "5.88785046728972\n"
          ]
        }
      ]
    },
    {
      "cell_type": "code",
      "source": [
        "# Exemplo para ordenar lista de autores por sobrenome\n",
        "# geralmente é assim que se usa expressões lambda\n",
        "\n",
        "autores = ['Isaac Asimov', 'Ray Bradbury', 'Robert Heinlein', 'Arthur C. Clarke', 'Frank Herbert', 'Orson Scott Card', 'Douglas Adams', 'H. G. Wells', 'Leigh Brackett']\n",
        "\n",
        "autores.sort(key=lambda sobrenome: sobrenome.split(' ')[-1].lower())\n",
        "print(autores)\n",
        "\n",
        "# normalmente, usamos lambdas nas chaves das funções (key)."
      ],
      "metadata": {
        "colab": {
          "base_uri": "https://localhost:8080/"
        },
        "id": "WbSI6_ASgA5F",
        "outputId": "6fc3f3c3-f0a9-45ca-df95-0be6a1c604c6"
      },
      "execution_count": 11,
      "outputs": [
        {
          "output_type": "stream",
          "name": "stdout",
          "text": [
            "['Douglas Adams', 'Isaac Asimov', 'Leigh Brackett', 'Ray Bradbury', 'Orson Scott Card', 'Arthur C. Clarke', 'Robert Heinlein', 'Frank Herbert', 'H. G. Wells']\n"
          ]
        }
      ]
    },
    {
      "cell_type": "code",
      "source": [
        "def funcao_quadratica(a, b, c):\n",
        "  \"\"\"Retorna a função f(x) = a*x**2 + b*x + c\"\"\"\n",
        "  return lambda x: a*x**2 + b*x + c\n",
        "\n",
        "print(funcao_quadratica(3, 0, 1)(2)) # primeiro passa (a, b, c), e depois o valor (2) para a lambda"
      ],
      "metadata": {
        "colab": {
          "base_uri": "https://localhost:8080/"
        },
        "id": "-4N5OmnkiJBW",
        "outputId": "f6cf97ca-d29e-4ce4-d6b2-d74ab393f6a8"
      },
      "execution_count": 12,
      "outputs": [
        {
          "output_type": "stream",
          "name": "stdout",
          "text": [
            "13\n"
          ]
        }
      ]
    },
    {
      "cell_type": "markdown",
      "source": [
        "Geralmente, aplicamos lambdas em filtragem e ordenação de dados, mas é possível usá-las em mais contextos."
      ],
      "metadata": {
        "id": "vZeJYxNxioIB"
      }
    },
    {
      "cell_type": "markdown",
      "source": [
        "# 2.Map\n",
        "\n",
        "Com map, fazemos mapeamento de valores para função."
      ],
      "metadata": {
        "id": "d17RMMkFi10g"
      }
    },
    {
      "cell_type": "code",
      "source": [
        "import math\n",
        "\n",
        "def area(r):\n",
        "  \"\"\"Calcula a área de um circulo com raio 'r'.\"\"\"\n",
        "  return math.pi * (r ** 2)\n",
        "\n",
        "print(area(2))"
      ],
      "metadata": {
        "colab": {
          "base_uri": "https://localhost:8080/"
        },
        "id": "Ldc1ecIqn7Aq",
        "outputId": "9cbefee9-6654-46b4-cbcc-de3742d64db1"
      },
      "execution_count": 13,
      "outputs": [
        {
          "output_type": "stream",
          "name": "stdout",
          "text": [
            "12.566370614359172\n"
          ]
        }
      ]
    },
    {
      "cell_type": "code",
      "source": [
        "# e se tivessemos uma lista de raios?\n",
        "raios = [2, 5, 7.1, 0.3, 10, 44]\n",
        "\n",
        "# forma comum\n",
        "areas = []\n",
        "for r in raios:\n",
        "  areas.append(area(r))\n",
        "\n",
        "print(areas)"
      ],
      "metadata": {
        "colab": {
          "base_uri": "https://localhost:8080/"
        },
        "id": "yE2ARudcoZUw",
        "outputId": "1abf2b3b-0da2-4295-c86b-20ed8af248a0"
      },
      "execution_count": 14,
      "outputs": [
        {
          "output_type": "stream",
          "name": "stdout",
          "text": [
            "[12.566370614359172, 78.53981633974483, 158.36768566746147, 0.2827433388230814, 314.1592653589793, 6082.12337734984]\n"
          ]
        }
      ]
    },
    {
      "cell_type": "code",
      "source": [
        "# forma 2 - usando map\n",
        "\n",
        "areas = map(area, raios)\n",
        "print(areas) # retorna um map object\n",
        "print(list(areas))"
      ],
      "metadata": {
        "colab": {
          "base_uri": "https://localhost:8080/"
        },
        "id": "VDFQ9uNLoybq",
        "outputId": "3617f8d7-b18d-4607-ddb8-7599af20b201"
      },
      "execution_count": 16,
      "outputs": [
        {
          "output_type": "stream",
          "name": "stdout",
          "text": [
            "<map object at 0x7fbb835417e0>\n",
            "[12.566370614359172, 78.53981633974483, 158.36768566746147, 0.2827433388230814, 314.1592653589793, 6082.12337734984]\n"
          ]
        }
      ]
    },
    {
      "cell_type": "markdown",
      "source": [
        "Map é uma função que recebe 2 parâmetros:\n",
        "\n",
        "```python\n",
        "map(<funcao>, <iteravel>)\n",
        "```"
      ],
      "metadata": {
        "id": "VmQn2MGto9ct"
      }
    },
    {
      "cell_type": "code",
      "source": [
        "# forma 3 - Map com Lambda\n",
        "\n",
        "print(list(map(lambda r: math.pi * (r ** 2), raios)))"
      ],
      "metadata": {
        "colab": {
          "base_uri": "https://localhost:8080/"
        },
        "id": "EzjFlZr9pzXN",
        "outputId": "4912f308-d5fd-4a1a-83dc-a273b5fecd86"
      },
      "execution_count": 17,
      "outputs": [
        {
          "output_type": "stream",
          "name": "stdout",
          "text": [
            "[12.566370614359172, 78.53981633974483, 158.36768566746147, 0.2827433388230814, 314.1592653589793, 6082.12337734984]\n"
          ]
        }
      ]
    },
    {
      "cell_type": "markdown",
      "source": [
        "**Obs.:** depois de utilizar a função map() depois da primeira utilização do resultado (convertendo, fazendo um loop), ele zera!"
      ],
      "metadata": {
        "id": "CU8w5GLOqn1V"
      }
    },
    {
      "cell_type": "code",
      "source": [
        "# Lista de Tuplas (cidade, temperatura em ºC)\n",
        "cidades = [('Berlin', 29), ('Cairo', 36), ('Buenos Aires', 19), ('Los Angeles', 26), ('Tokio', 27), ('Nova York', 28), ('Londres', 22)]\n",
        "print(cidades)\n",
        "\n",
        "# Vamos converter as temperaturas de °C para °F\n",
        "# farenheit = 9/5 * °C + 32\n",
        "\n",
        "c_para_f = lambda dado: (dado[0], (9/5) * dado[1] + 32)\n",
        "\n",
        "print(list(map(c_para_f, cidades)))"
      ],
      "metadata": {
        "colab": {
          "base_uri": "https://localhost:8080/"
        },
        "id": "3AS8Ia5BroGo",
        "outputId": "cae46c13-4940-44b8-a154-d8c267e119e1"
      },
      "execution_count": 22,
      "outputs": [
        {
          "output_type": "stream",
          "name": "stdout",
          "text": [
            "[('Berlin', 29), ('Cairo', 36), ('Buenos Aires', 19), ('Los Angeles', 26), ('Tokio', 27), ('Nova York', 28), ('Londres', 22)]\n",
            "[('Berlin', 84.2), ('Cairo', 96.8), ('Buenos Aires', 66.2), ('Los Angeles', 78.80000000000001), ('Tokio', 80.6), ('Nova York', 82.4), ('Londres', 71.6)]\n"
          ]
        }
      ]
    },
    {
      "cell_type": "code",
      "source": [
        "areas = map(area, raios)\n",
        "print(list(areas)) # usando o resultado do map object pela 1ª vez\n",
        "print(list(areas)) # se tentar usar de novo, ele já estará zerado"
      ],
      "metadata": {
        "colab": {
          "base_uri": "https://localhost:8080/"
        },
        "id": "r13eiV_NqpML",
        "outputId": "e387496f-1664-4c5e-d364-772eec31abc1"
      },
      "execution_count": 20,
      "outputs": [
        {
          "output_type": "stream",
          "name": "stdout",
          "text": [
            "[12.566370614359172, 78.53981633974483, 158.36768566746147, 0.2827433388230814, 314.1592653589793, 6082.12337734984]\n",
            "[]\n"
          ]
        }
      ]
    },
    {
      "cell_type": "markdown",
      "source": [
        "# 3.Filter\n",
        "\n",
        "Serve para filtrar dados de uma determinada coleção."
      ],
      "metadata": {
        "id": "JhYbit89s_2l"
      }
    },
    {
      "cell_type": "code",
      "source": [
        "import statistics # biblioteca para trabalhar com dados estatisticos\n",
        "\n",
        "# dados coletados de algum sensor\n",
        "dados = [1.3, 2.7, 0.8, 4.1, 4.3, -0.1]\n",
        "\n",
        "# calculando a média dos dados usando a função mean()\n",
        "\n",
        "statistics.mean(dados)"
      ],
      "metadata": {
        "colab": {
          "base_uri": "https://localhost:8080/"
        },
        "id": "0kwjc2OUtS0e",
        "outputId": "4aedee45-ee53-44c8-f2ca-c702220658ef"
      },
      "execution_count": 24,
      "outputs": [
        {
          "output_type": "execute_result",
          "data": {
            "text/plain": [
              "2.183333333333333"
            ]
          },
          "metadata": {},
          "execution_count": 24
        }
      ]
    },
    {
      "cell_type": "markdown",
      "source": [
        "**Obs.:** assim como a função map(), a filter() recebe dois parâmetros, sendo uma função e um iterável."
      ],
      "metadata": {
        "id": "a4Bz4JiwvxDs"
      }
    },
    {
      "cell_type": "code",
      "source": [
        "import statistics\n",
        "\n",
        "dados = [1.3, 2.7, 0.8, 4.1, 4.3, -0.1]\n",
        "media = statistics.mean(dados)\n",
        "\n",
        "res = filter(lambda x: x > media, dados)\n",
        "print(res)\n",
        "print(list(res))\n",
        "print(media)\n",
        "\n",
        "print(list(res)) # assim como o map, após usar pela 1ª vez, ele é zerado (dados excluídos da memória)"
      ],
      "metadata": {
        "colab": {
          "base_uri": "https://localhost:8080/"
        },
        "id": "cGUeAYBiv4Sy",
        "outputId": "bec42c41-f5bc-4321-d33a-9e05227f0e50"
      },
      "execution_count": 31,
      "outputs": [
        {
          "output_type": "stream",
          "name": "stdout",
          "text": [
            "<filter object at 0x7fbb8359f790>\n",
            "[2.7, 4.1, 4.3]\n",
            "2.183333333333333\n",
            "[]\n"
          ]
        }
      ]
    },
    {
      "cell_type": "code",
      "source": [
        "# Filtrando valores faltantes\n",
        "\n",
        "paises = ['', 'Argentina', 'Brasil', '', '', 'Chile']\n",
        "print(paises)\n",
        "\n",
        "res = filter(None, paises)\n",
        "print(list(res))"
      ],
      "metadata": {
        "colab": {
          "base_uri": "https://localhost:8080/"
        },
        "id": "FV4xQ-E_w60F",
        "outputId": "3887c116-1c1a-4fa0-befb-5ada35fbc1ab"
      },
      "execution_count": 32,
      "outputs": [
        {
          "output_type": "stream",
          "name": "stdout",
          "text": [
            "['', 'Argentina', 'Brasil', '', '', 'Chile']\n",
            "['Argentina', 'Brasil', 'Chile']\n"
          ]
        }
      ]
    },
    {
      "cell_type": "markdown",
      "source": [
        "**Combinar filter() e map()**"
      ],
      "metadata": {
        "id": "TLVTSnrE4n2I"
      }
    },
    {
      "cell_type": "code",
      "source": [
        "nomes = ['Vanessa', 'Ana', 'Maria']\n",
        "\n",
        "# devemos criar uma lista contendo 'Sua instrutora é ' + nome, desde que cada nome tenha menos que 5 caracteres\n",
        "\n",
        "lista = list(map(lambda nome: f'Sua instrutora é {nome}', filter(lambda nome: len(nome) < 5, nomes)))\n",
        "# lista = list(\n",
        "#               map(\n",
        "#                   lambda, filter(\n",
        "#                                   lambda, nomes\n",
        "#                           )\n",
        "#               )\n",
        "#         )\n",
        "print(lista)"
      ],
      "metadata": {
        "colab": {
          "base_uri": "https://localhost:8080/"
        },
        "id": "1HW5-Y7u4qAq",
        "outputId": "6f4b1993-286c-41b6-b1f2-9fe074719653"
      },
      "execution_count": 35,
      "outputs": [
        {
          "output_type": "stream",
          "name": "stdout",
          "text": [
            "['Sua instrutora é Ana']\n"
          ]
        }
      ]
    },
    {
      "cell_type": "markdown",
      "source": [
        "# 4.Reduce\n",
        "\n",
        "**Obs.:** a partir do python3+ a função reduce() não é mais uma função integrada (built-in). Agora temos que importar e utilizar esta função a partir do módulo `functools`.\n",
        "\n",
        "Guido van Rossum (criador do Python): \"Utilize a função reduce() se você realmente precisa dela. Em todo caso, 99% das vezes um loop for é mais legível\".\n",
        "\n",
        "Para entender o reduce().\n",
        "\n",
        "Imagine que você tem uma coleção de dados:\n",
        "\n",
        "```python\n",
        "dados = [a1, a2, a3, ..., an]\n",
        "```\n",
        "\n",
        "E você tem uma função que recebe dois parâmetros:\n",
        "\n",
        "```python\n",
        "def funcao(x, y):\n",
        "  return x * y\n",
        "```\n",
        "\n",
        "Assim como `map()` e `filter()` a função `reduce()` recebe 2 parâmetros: a função e o iterável.\n",
        "\n",
        "```python\n",
        "reduce(funcao, dados)\n",
        "```\n",
        "\n",
        "A função `reduce()`, funciona da seguinte forma:\n",
        "\n",
        "- **Passo 1**: `res1 = f(a1, a2)`. Aplica a função nos dois primeiros elementos da coleção e guarda o resultado;\n",
        "- **Passo 2**: `res2 = f(res1, a3)`. Aplica a função passando o resultado do passo 1 mais o terceiro elemento e guarda o resultado;\n",
        "- ...\n",
        "- **Passo n**: `resn = f(resn_1, an)`.\n",
        "\n",
        "Ou seja, em cada passo, ela aplica a função passando como primeiro argumento, o resultado da aplicação anterior. No final, `reduce()` irá retornar o resultado final."
      ],
      "metadata": {
        "id": "CuRpoQ9H8Ri6"
      }
    },
    {
      "cell_type": "code",
      "source": [
        "from functools import reduce\n",
        "\n",
        "primos = [2, 3, 4, 5, 7, 11, 13, 17, 19, 23, 29]\n",
        "\n",
        "# Para utilizar o reduce() nós precisamos de uma função que receba 2 parâmetros\n",
        "multi = lambda x, y: x * y\n",
        "\n",
        "res = reduce(multi, primos)\n",
        "print(res)"
      ],
      "metadata": {
        "colab": {
          "base_uri": "https://localhost:8080/"
        },
        "id": "0g7DTEm4AENK",
        "outputId": "0c825cd2-a72d-49da-cb5d-5a6f102e5347"
      },
      "execution_count": 37,
      "outputs": [
        {
          "output_type": "stream",
          "name": "stdout",
          "text": [
            "25878772920\n"
          ]
        }
      ]
    },
    {
      "cell_type": "code",
      "source": [
        "# Utilizando um loop normal\n",
        "\n",
        "res = 1\n",
        "for n in primos:\n",
        "  res = res * n\n",
        "\n",
        "print(res)"
      ],
      "metadata": {
        "colab": {
          "base_uri": "https://localhost:8080/"
        },
        "id": "RnmDi1wlA4wz",
        "outputId": "eef3fb73-ac31-4f43-ec9d-2c8e95d40263"
      },
      "execution_count": 38,
      "outputs": [
        {
          "output_type": "stream",
          "name": "stdout",
          "text": [
            "25878772920\n"
          ]
        }
      ]
    },
    {
      "cell_type": "markdown",
      "source": [
        "# 5.Any e All\n",
        "\n",
        "`all()` -> retorna `True` se todos os elementos do iterável são verdadeiros ou ainda se o iterável está vazio."
      ],
      "metadata": {
        "id": "5s81gQCLBmcO"
      }
    },
    {
      "cell_type": "code",
      "source": [
        "# Exemplo all()\n",
        "\n",
        "print(all([0, 1, 2, 3, 4]))\n",
        "print(all([1, 2, 3, 4]))\n",
        "print(all([]))\n",
        "\n",
        "print(all((1, 2, 3))) # pode ser uma tupla, set, string"
      ],
      "metadata": {
        "colab": {
          "base_uri": "https://localhost:8080/"
        },
        "id": "n1b43S5OB-Dp",
        "outputId": "d58127d6-e056-48d8-acbd-4497d2a861f8"
      },
      "execution_count": 42,
      "outputs": [
        {
          "output_type": "stream",
          "name": "stdout",
          "text": [
            "False\n",
            "True\n",
            "True\n",
            "True\n"
          ]
        }
      ]
    },
    {
      "cell_type": "code",
      "source": [
        "# Verificando se todos os nomes começam com 'C'\n",
        "\n",
        "nomes = ['Carlos', 'Camila', 'Carla', 'Cassiano', 'Cristina']\n",
        "print(nomes)\n",
        "print(all([nome[0] == 'C' for nome in nomes])) # List Comprehension\n",
        "\n",
        "nomes.append('Daniel')\n",
        "print(nomes)\n",
        "print(all([nome[0] == 'C' for nome in nomes]))"
      ],
      "metadata": {
        "colab": {
          "base_uri": "https://localhost:8080/"
        },
        "id": "97E62N2jCfi3",
        "outputId": "ae1e5b58-0503-49ad-b4ea-3749b47d857c"
      },
      "execution_count": 50,
      "outputs": [
        {
          "output_type": "stream",
          "name": "stdout",
          "text": [
            "['Carlos', 'Camila', 'Carla', 'Cassiano', 'Cristina']\n",
            "True\n",
            "['Carlos', 'Camila', 'Carla', 'Cassiano', 'Cristina', 'Daniel']\n",
            "False\n"
          ]
        }
      ]
    },
    {
      "cell_type": "markdown",
      "source": [
        "`any()` -> retorna `True`se qualquer elemento do iterável for verdadeiro. Se o iterável estiver vázio, retorna `False`."
      ],
      "metadata": {
        "id": "H_R9PbRTEXpF"
      }
    },
    {
      "cell_type": "code",
      "source": [
        "print(any([0, 1, 2, 3, 4])) # 1 elemento é false e os outros True\n",
        "print(any([0, (), {}, False])) # Todos os elementos são false\n",
        "print(any([]))"
      ],
      "metadata": {
        "colab": {
          "base_uri": "https://localhost:8080/"
        },
        "id": "9uVIY0k9Elf8",
        "outputId": "d41290d7-683c-40e0-bded-cf5f16164495"
      },
      "execution_count": 53,
      "outputs": [
        {
          "output_type": "stream",
          "name": "stdout",
          "text": [
            "True\n",
            "False\n",
            "False\n"
          ]
        }
      ]
    },
    {
      "cell_type": "code",
      "source": [
        "nomes = ['Carlos', 'Camila', 'Carla', 'Cassiano', 'Cristina', 'Vanessa']\n",
        "print(nomes)\n",
        "print(any([nome[0] == 'C' for nome in nomes]))"
      ],
      "metadata": {
        "colab": {
          "base_uri": "https://localhost:8080/"
        },
        "id": "MxRngbAUE-sp",
        "outputId": "dca8fc57-6a36-41a8-de14-bd724af735b5"
      },
      "execution_count": 54,
      "outputs": [
        {
          "output_type": "stream",
          "name": "stdout",
          "text": [
            "['Carlos', 'Camila', 'Carla', 'Cassiano', 'Cristina', 'Vanessa']\n",
            "True\n"
          ]
        }
      ]
    },
    {
      "cell_type": "code",
      "source": [
        "print(any([num for num in [4, 2, 10, 6, 8, 9] if num % 2 == 0]))"
      ],
      "metadata": {
        "colab": {
          "base_uri": "https://localhost:8080/"
        },
        "id": "Wv8hMXR-FKKv",
        "outputId": "c10421c2-8dff-4bb9-9764-2d83af8d3c25"
      },
      "execution_count": 57,
      "outputs": [
        {
          "output_type": "stream",
          "name": "stdout",
          "text": [
            "False\n"
          ]
        }
      ]
    },
    {
      "cell_type": "markdown",
      "source": [
        "# 6.Generators\n",
        "\n",
        "Generator Expression é a mesma coisa que `tuple comprehensions`.\n",
        "Na aula anterior, fizemos:\n",
        "\n",
        "```python\n",
        "nomes = ['Carlos', 'Camila', 'Carla', 'Cassiano', 'Cristina', 'Vanessa']\n",
        "print(any([nome[0] == 'C' for nome in nomes]))\n",
        "```\n",
        "\n",
        "Poderíamos ter usado `Generators`."
      ],
      "metadata": {
        "id": "4dDi9W4zk-HQ"
      }
    },
    {
      "cell_type": "code",
      "source": [
        "nomes = ['Carlos', 'Camila', 'Carla', 'Cassiano', 'Cristina', 'Vanessa']\n",
        "\n",
        "print(any(nome[0] == 'C' for nome in nomes)) # sem colchetes"
      ],
      "metadata": {
        "colab": {
          "base_uri": "https://localhost:8080/"
        },
        "id": "w1JpWEFOlzCX",
        "outputId": "ff337893-8cbf-4072-bcfc-c4c0b09f21c8"
      },
      "execution_count": 1,
      "outputs": [
        {
          "output_type": "stream",
          "name": "stdout",
          "text": [
            "True\n"
          ]
        }
      ]
    },
    {
      "cell_type": "markdown",
      "source": [
        "Assim como `map()` e `filter()`, ao acessar o dado pela primeira vez no `generator`, o dado é apagado da memória.\n",
        "\n",
        "Em questão de performance, o `generator` consome menos recurso da máquina do que o `list comprehension`, por isso, é mais performático."
      ],
      "metadata": {
        "id": "vOkYEsexnx51"
      }
    },
    {
      "cell_type": "code",
      "source": [
        "from sys import getsizeof\n",
        "\n",
        "print(getsizeof('Gustavo')) # retorna a qtde de bytes em memória do elemento passado como parâmetro\n",
        "\n",
        "print(getsizeof((nome[0] == 'C' for nome in nomes))) # 15% menor que o list comprehension\n",
        "print(getsizeof([nome[0] == 'C' for nome in nomes]))"
      ],
      "metadata": {
        "colab": {
          "base_uri": "https://localhost:8080/"
        },
        "id": "6Qp_L6YsovZ3",
        "outputId": "dda5b288-ce6c-45f8-e2a7-9f6c0ff0921b"
      },
      "execution_count": 3,
      "outputs": [
        {
          "output_type": "stream",
          "name": "stdout",
          "text": [
            "56\n",
            "104\n",
            "120\n"
          ]
        }
      ]
    },
    {
      "cell_type": "code",
      "source": [
        "list_comp = getsizeof([x * 10 for x in range(1000)])\n",
        "set_comp = getsizeof({x * 10 for x in range(1000)})\n",
        "dic_comp = getsizeof({x: x * 10 for x in range(1000)})\n",
        "\n",
        "gen = getsizeof(x * 10 for x in range(1000))\n",
        "\n",
        "print(list_comp)\n",
        "print(set_comp)\n",
        "print(dic_comp)\n",
        "print(gen)"
      ],
      "metadata": {
        "colab": {
          "base_uri": "https://localhost:8080/"
        },
        "id": "mIEioPgIqwKD",
        "outputId": "f5083391-4972-4aa6-cace-912297b79b9a"
      },
      "execution_count": 4,
      "outputs": [
        {
          "output_type": "stream",
          "name": "stdout",
          "text": [
            "8856\n",
            "32984\n",
            "36960\n",
            "104\n"
          ]
        }
      ]
    },
    {
      "cell_type": "markdown",
      "source": [
        "# 7.Sorted\n",
        "\n",
        "**Obs.:** não confunda, apesar do nome, com a função `sort()`. O `sort()` só funciona em listas.\n",
        "\n",
        "Podemos utilizar `sorted()` com qualquer iterável.\n",
        "\n",
        "`sorted()` serve para ordenar elementos."
      ],
      "metadata": {
        "id": "qWDeKvVcrhpG"
      }
    },
    {
      "cell_type": "code",
      "source": [
        "numeros = [6, 1, 8, 2]\n",
        "print(numeros)\n",
        "\n",
        "print(sorted(numeros)) # ordenar do menor para o maior\n",
        "\n",
        "print(numeros) # observe que o sorted() não afetou a lista 'numeros'\n",
        "\n",
        "# o sort() modifica a lista, enquanto o sorted() gera uma nova lista."
      ],
      "metadata": {
        "colab": {
          "base_uri": "https://localhost:8080/"
        },
        "id": "ItT4gwlfsL0O",
        "outputId": "4858d23c-ca37-42f4-face-2e230cf8cab4"
      },
      "execution_count": 6,
      "outputs": [
        {
          "output_type": "stream",
          "name": "stdout",
          "text": [
            "[6, 1, 8, 2]\n",
            "[1, 2, 6, 8]\n",
            "[6, 1, 8, 2]\n"
          ]
        }
      ]
    },
    {
      "cell_type": "code",
      "source": [
        "# o sorted() sempre retorna uma lista com os elementos do iteravel\n",
        "\n",
        "numeros = (6, 1, 8, 2) # tupla\n",
        "print(numeros)\n",
        "print(sorted(numeros))\n",
        "\n",
        "numeros = {6, 1, 8, 2} # set\n",
        "print(numeros)\n",
        "print(sorted(numeros))"
      ],
      "metadata": {
        "colab": {
          "base_uri": "https://localhost:8080/"
        },
        "id": "pKToJ4q6snyp",
        "outputId": "808af757-4c96-474f-ca7a-1c5097677cef"
      },
      "execution_count": 7,
      "outputs": [
        {
          "output_type": "stream",
          "name": "stdout",
          "text": [
            "(6, 1, 8, 2)\n",
            "[1, 2, 6, 8]\n",
            "{8, 1, 2, 6}\n",
            "[1, 2, 6, 8]\n"
          ]
        }
      ]
    },
    {
      "cell_type": "code",
      "source": [
        "# Adicionando parâmetros ao sorted()\n",
        "\n",
        "numeros = [6, 1, 8, 2]\n",
        "\n",
        "print(sorted(numeros, reverse=True)) # ordenação descendente"
      ],
      "metadata": {
        "colab": {
          "base_uri": "https://localhost:8080/"
        },
        "id": "U14JHevw2VrH",
        "outputId": "01b7bab4-daa8-49ac-ce37-733b1210b12a"
      },
      "execution_count": 8,
      "outputs": [
        {
          "output_type": "stream",
          "name": "stdout",
          "text": [
            "[8, 6, 2, 1]\n"
          ]
        }
      ]
    },
    {
      "cell_type": "code",
      "source": [
        "musicas = [\n",
        "    {\"titulo\": \"Thunderstruck\", \"tocou\": 3},\n",
        "    {\"titulo\": \"Dead Skin Mask\", \"tocou\": 2},\n",
        "    {\"titulo\": \"Back in Black\", \"tocou\": 4},\n",
        "    {\"titulo\": \"Too old to rock'in'roll, too young to die\", \"tocou\": 32}\n",
        "]\n",
        "\n",
        "# ordena da menos tocada para mais tocada\n",
        "print(sorted(musicas, key=lambda musica: musica['tocou']))\n",
        "\n",
        "# ordena da mais tocada para menos tocada\n",
        "print(sorted(musicas, key=lambda musica: musica['tocou'], reverse=True))"
      ],
      "metadata": {
        "colab": {
          "base_uri": "https://localhost:8080/"
        },
        "id": "RQCDDSOr5UfH",
        "outputId": "5d9b49e6-f065-4121-c62b-0bbf75259799"
      },
      "execution_count": 10,
      "outputs": [
        {
          "output_type": "stream",
          "name": "stdout",
          "text": [
            "[{'titulo': 'Dead Skin Mask', 'tocou': 2}, {'titulo': 'Thunderstruck', 'tocou': 3}, {'titulo': 'Back in Black', 'tocou': 4}, {'titulo': \"Too old to rock'in'roll, too young to die\", 'tocou': 32}]\n",
            "[{'titulo': \"Too old to rock'in'roll, too young to die\", 'tocou': 32}, {'titulo': 'Back in Black', 'tocou': 4}, {'titulo': 'Thunderstruck', 'tocou': 3}, {'titulo': 'Dead Skin Mask', 'tocou': 2}]\n"
          ]
        }
      ]
    },
    {
      "cell_type": "markdown",
      "source": [
        "# 8.Min e Max\n",
        "\n",
        "`max()` -> retorna o maior valor em um iterável ou o maior de dois ou mais elementos."
      ],
      "metadata": {
        "id": "JLeDtY6Q6ORZ"
      }
    },
    {
      "cell_type": "code",
      "source": [
        "lista = [1, 8, 4, 99, 34, 129]\n",
        "print(max(lista))\n",
        "\n",
        "print(max(3, 34))"
      ],
      "metadata": {
        "colab": {
          "base_uri": "https://localhost:8080/"
        },
        "id": "D_rgyE446d4-",
        "outputId": "fe8828e3-a6cb-4f7b-a7c6-8210bcacf8b7"
      },
      "execution_count": 12,
      "outputs": [
        {
          "output_type": "stream",
          "name": "stdout",
          "text": [
            "129\n",
            "34\n"
          ]
        }
      ]
    },
    {
      "cell_type": "markdown",
      "source": [
        "`min()` -> retorna o menor valor em um iterável ou o menor entre dois ou mais elementos."
      ],
      "metadata": {
        "id": "thrxrt-k7EoJ"
      }
    },
    {
      "cell_type": "code",
      "source": [
        "lista = [1, 8, 4, 99, 34, 129]\n",
        "print(min(lista))\n",
        "\n",
        "print(min(3, 34))"
      ],
      "metadata": {
        "colab": {
          "base_uri": "https://localhost:8080/"
        },
        "id": "r7kD6slV7KRa",
        "outputId": "8098fba4-e6a3-4300-c211-beedbdf8e93e"
      },
      "execution_count": 13,
      "outputs": [
        {
          "output_type": "stream",
          "name": "stdout",
          "text": [
            "1\n",
            "3\n"
          ]
        }
      ]
    },
    {
      "cell_type": "code",
      "source": [
        "nomes = ['Gustavo R. Martins', 'Ribeiro', 'Martins', 'Guga', 'Gus']\n",
        "\n",
        "print(max(nomes))\n",
        "print(min(nomes))\n",
        "\n",
        "print(max(nomes, key=lambda nome: len(nome)))\n",
        "print(min(nomes, key=lambda nome: len(nome)))"
      ],
      "metadata": {
        "colab": {
          "base_uri": "https://localhost:8080/"
        },
        "id": "ZkJb3i_C7iJ3",
        "outputId": "fdc7823d-53fb-4414-d841-75f7ce551496"
      },
      "execution_count": 16,
      "outputs": [
        {
          "output_type": "stream",
          "name": "stdout",
          "text": [
            "Ribeiro\n",
            "Guga\n",
            "Gustavo R. Martins\n",
            "Gus\n"
          ]
        }
      ]
    },
    {
      "cell_type": "markdown",
      "source": [
        "# 9.Reversed\n",
        "\n",
        "**Obs.:** não confunda com a função `reverse()` que estudamos nas listas.\n",
        "A função `reverse()` só funciona em listas, já a função `reversed()` funciona com qualquer iterável.\n",
        "\n",
        "Sua função é inverter o iterável e retorna um iterável chamado *List Reverse Iterator*."
      ],
      "metadata": {
        "id": "-aR9NrgL81-G"
      }
    },
    {
      "cell_type": "code",
      "source": [
        "lista = [1, 2, 3, 4, 5]\n",
        "\n",
        "res = reversed(lista)\n",
        "\n",
        "print(res)\n",
        "print(type(res))\n",
        "\n",
        "print(list(res))\n",
        "print(list(res)) # após o 1º acesso, ele é zerado"
      ],
      "metadata": {
        "colab": {
          "base_uri": "https://localhost:8080/"
        },
        "id": "Ddo2lUjc9NJa",
        "outputId": "d2ca827f-6dcd-4961-e913-28c6da4d5932"
      },
      "execution_count": 21,
      "outputs": [
        {
          "output_type": "stream",
          "name": "stdout",
          "text": [
            "<list_reverseiterator object at 0x7c2005d55030>\n",
            "<class 'list_reverseiterator'>\n",
            "[5, 4, 3, 2, 1]\n",
            "[]\n"
          ]
        }
      ]
    },
    {
      "cell_type": "markdown",
      "source": [
        "# 10.Len, Abs, Sum e Round\n",
        "\n",
        "`len()` -> retorna o tamanho (ou seja, o número de itens) de um iterável."
      ],
      "metadata": {
        "id": "6O-YFS5K-j61"
      }
    },
    {
      "cell_type": "code",
      "source": [
        "print(len('Gustavo Ribeiro Martins'))\n",
        "print(len([1, 2, 3, 4, 5]))"
      ],
      "metadata": {
        "colab": {
          "base_uri": "https://localhost:8080/"
        },
        "id": "M_it2c1w-8Lu",
        "outputId": "2b8a006d-f3b1-4cb6-e12f-32865271c3aa"
      },
      "execution_count": 22,
      "outputs": [
        {
          "output_type": "stream",
          "name": "stdout",
          "text": [
            "23\n",
            "5\n"
          ]
        }
      ]
    },
    {
      "cell_type": "markdown",
      "source": [
        "`abs()` -> retorna o valor absoluto de um número real."
      ],
      "metadata": {
        "id": "2Wqc3YFJ_YP2"
      }
    },
    {
      "cell_type": "code",
      "source": [
        "reais = [1, -3, 1.45, -5.2]\n",
        "\n",
        "for num in reais:\n",
        "  print(abs(num))"
      ],
      "metadata": {
        "colab": {
          "base_uri": "https://localhost:8080/"
        },
        "id": "Lu-Aec66_ctb",
        "outputId": "55bf0e60-b512-4567-8af0-aa366f39cb72"
      },
      "execution_count": 23,
      "outputs": [
        {
          "output_type": "stream",
          "name": "stdout",
          "text": [
            "1\n",
            "3\n",
            "1.45\n",
            "5.2\n"
          ]
        }
      ]
    },
    {
      "cell_type": "markdown",
      "source": [
        "`sum()` -> recebe como parâmetro um iterável, podendo receber um valor inicial, e retorna a soma total dos elementos, incluindo o valor inicial.\n",
        "\n",
        "**obs.:** o valor inicial default = 0"
      ],
      "metadata": {
        "id": "kgzKgVRx_yFF"
      }
    },
    {
      "cell_type": "code",
      "source": [
        "lista = [1, 2, 3, 4, 5]\n",
        "print(sum(lista))\n",
        "\n",
        "print(sum(lista, 5)) # valor inicial = 5"
      ],
      "metadata": {
        "colab": {
          "base_uri": "https://localhost:8080/"
        },
        "id": "9fkzNwu4_-Jm",
        "outputId": "01849038-68a1-4438-a64d-d144ea956094"
      },
      "execution_count": 25,
      "outputs": [
        {
          "output_type": "stream",
          "name": "stdout",
          "text": [
            "15\n",
            "20\n"
          ]
        }
      ]
    },
    {
      "cell_type": "markdown",
      "source": [
        "`round()` -> retorna um número arredondado para n digito de precisão após a casa decimal. Se a precisão não for informada, retorna o inteiro mais próximo da entrada."
      ],
      "metadata": {
        "id": "etBShbb6AS9o"
      }
    },
    {
      "cell_type": "code",
      "source": [
        "print(round(10.2))\n",
        "print(round(10.5))\n",
        "print(round(10.6))\n",
        "\n",
        "print(round(1.2121212121, 2)) # 2 casas decimais de precisão\n",
        "print(round(1.2199999999, 2))"
      ],
      "metadata": {
        "colab": {
          "base_uri": "https://localhost:8080/"
        },
        "id": "a0wuDLkCAfXm",
        "outputId": "93fb00b9-4d54-4c02-f080-d9b8fbce282e"
      },
      "execution_count": 26,
      "outputs": [
        {
          "output_type": "stream",
          "name": "stdout",
          "text": [
            "10\n",
            "10\n",
            "11\n",
            "1.21\n",
            "1.22\n"
          ]
        }
      ]
    },
    {
      "cell_type": "markdown",
      "source": [
        "# 11.Zip\n",
        "\n",
        "`zip()` -> cria um iterável (chamado *Zip Object*) que agrega elementos de cada um dos iteráveis passados como entrada em pares."
      ],
      "metadata": {
        "id": "1eEMCic-BA2D"
      }
    },
    {
      "cell_type": "code",
      "source": [
        "lista1 = [1, 2, 3]\n",
        "lista2 = [4, 5, 6]\n",
        "\n",
        "zip1 = zip(lista1, lista2)\n",
        "\n",
        "print(zip1)\n",
        "print(type(zip1))\n",
        "\n",
        "print(list(zip1))\n",
        "print(list(zip1)) # é zerado após o 1º acesso\n",
        "\n",
        "zip2 = zip(lista1, lista2, 'gus')\n",
        "print(list(zip2))"
      ],
      "metadata": {
        "colab": {
          "base_uri": "https://localhost:8080/"
        },
        "id": "rZv5LUhJBUYw",
        "outputId": "4d002d81-0231-489d-d16d-e6d7b3d98376"
      },
      "execution_count": 32,
      "outputs": [
        {
          "output_type": "stream",
          "name": "stdout",
          "text": [
            "<zip object at 0x7c200f51d040>\n",
            "<class 'zip'>\n",
            "[(1, 4), (2, 5), (3, 6)]\n",
            "[]\n",
            "[(1, 4, 'g'), (2, 5, 'u'), (3, 6, 's')]\n"
          ]
        }
      ]
    },
    {
      "cell_type": "markdown",
      "source": [
        "**Obs.:** o `zip()` utiliza como parâmetro o menor tamanho em iterável. Isso significa que se estiver trabalhando com iteráveis de tamanhos diferentes, irá parar quando os elementos do menor iterável acabar."
      ],
      "metadata": {
        "id": "tPFIMhm_CUH6"
      }
    },
    {
      "cell_type": "code",
      "source": [
        "set1 = {1, 2, 3} # 3 elementos\n",
        "set2 = {10, 20, 30, 40, 50} # 5 elementos\n",
        "set3 = {100, 200, 300, 400, 500, 600} # 6 elementos\n",
        "\n",
        "zip_sets = zip(set1, set2, set3)\n",
        "print(list(zip_sets))"
      ],
      "metadata": {
        "colab": {
          "base_uri": "https://localhost:8080/"
        },
        "id": "Yr1eAjSICiVe",
        "outputId": "2633c802-df05-4a5a-fa2b-dc59149b1870"
      },
      "execution_count": 33,
      "outputs": [
        {
          "output_type": "stream",
          "name": "stdout",
          "text": [
            "[(1, 50, 400), (2, 20, 100), (3, 40, 500)]\n"
          ]
        }
      ]
    },
    {
      "cell_type": "code",
      "source": [
        "# podemos usar diferentes iteráveis com zip()\n",
        "\n",
        "lista = [1, 2, 3]\n",
        "tupla = (4, 5, 6)\n",
        "dicionario = {'a': 7, 'b': 8, 'c': 9}\n",
        "\n",
        "zt = zip(lista, tupla, dicionario.values())\n",
        "print(list(zt))"
      ],
      "metadata": {
        "colab": {
          "base_uri": "https://localhost:8080/"
        },
        "id": "GJ3KkJEIC5kI",
        "outputId": "364dde6c-d524-4f65-826f-f7a16ed306c5"
      },
      "execution_count": 36,
      "outputs": [
        {
          "output_type": "stream",
          "name": "stdout",
          "text": [
            "[(1, 4, 7), (2, 5, 8), (3, 6, 9)]\n"
          ]
        }
      ]
    },
    {
      "cell_type": "code",
      "source": [
        "# lista de tuplas\n",
        "\n",
        "dados = [(0, 1), (1, 2), (2, 3), (3, 4), (4, 5)]\n",
        "\n",
        "print(list(zip(*dados))) # desempacotamento"
      ],
      "metadata": {
        "colab": {
          "base_uri": "https://localhost:8080/"
        },
        "id": "3Y0bLL1sDSiz",
        "outputId": "f8e9a13b-4f95-4671-84ed-2329d7cd396b"
      },
      "execution_count": 37,
      "outputs": [
        {
          "output_type": "stream",
          "name": "stdout",
          "text": [
            "[(0, 1, 2, 3, 4), (1, 2, 3, 4, 5)]\n"
          ]
        }
      ]
    }
  ]
}