{
  "nbformat": 4,
  "nbformat_minor": 0,
  "metadata": {
    "colab": {
      "provenance": [],
      "authorship_tag": "ABX9TyMTRBCrsL60AQvswV70xF0O",
      "include_colab_link": true
    },
    "kernelspec": {
      "name": "python3",
      "display_name": "Python 3"
    },
    "language_info": {
      "name": "python"
    }
  },
  "cells": [
    {
      "cell_type": "markdown",
      "metadata": {
        "id": "view-in-github",
        "colab_type": "text"
      },
      "source": [
        "<a href=\"https://colab.research.google.com/github/Gustavo-RibMartins/estudos-python/blob/develop/curso/python_11_debugando_tratando_erros.ipynb\" target=\"_parent\"><img src=\"https://colab.research.google.com/assets/colab-badge.svg\" alt=\"Open In Colab\"/></a>"
      ]
    },
    {
      "cell_type": "markdown",
      "source": [
        "# 1.Erros mais comuns em Python\n",
        "\n",
        "Importante prestar atenção nas mensagens de erro e aprender a ler as saídas de erros geradas pela execução do código.\n",
        "\n",
        "**Obs.:**\n",
        "- Traceback = saída de erros;\n",
        "- Exceptions e Erros são sinônimos na programação.\n",
        "\n",
        "**Tipos de Erros**\n",
        "\n",
        "### 1.1.NameError\n",
        "\n",
        "Ocorre quando uma variável ou função não foi definida. Ocorre bastante quando estamos usando variáveis locais e globais."
      ],
      "metadata": {
        "id": "XH35DR8TbB9B"
      }
    },
    {
      "cell_type": "code",
      "source": [
        "printf('Texto')"
      ],
      "metadata": {
        "colab": {
          "base_uri": "https://localhost:8080/",
          "height": 141
        },
        "id": "xLlYh7RRbzsN",
        "outputId": "a8cc4cdb-9041-45d8-9bc4-3512ae611991"
      },
      "execution_count": 1,
      "outputs": [
        {
          "output_type": "error",
          "ename": "NameError",
          "evalue": "name 'printf' is not defined",
          "traceback": [
            "\u001b[0;31m---------------------------------------------------------------------------\u001b[0m",
            "\u001b[0;31mNameError\u001b[0m                                 Traceback (most recent call last)",
            "\u001b[0;32m<ipython-input-1-499c30fbb427>\u001b[0m in \u001b[0;36m<cell line: 1>\u001b[0;34m()\u001b[0m\n\u001b[0;32m----> 1\u001b[0;31m \u001b[0mprintf\u001b[0m\u001b[0;34m(\u001b[0m\u001b[0;34m'Texto'\u001b[0m\u001b[0;34m)\u001b[0m\u001b[0;34m\u001b[0m\u001b[0;34m\u001b[0m\u001b[0m\n\u001b[0m",
            "\u001b[0;31mNameError\u001b[0m: name 'printf' is not defined"
          ]
        }
      ]
    },
    {
      "cell_type": "code",
      "source": [
        "print(var1)"
      ],
      "metadata": {
        "colab": {
          "base_uri": "https://localhost:8080/",
          "height": 141
        },
        "id": "aiT0oe6-eF-P",
        "outputId": "eaec2138-b53e-4a3f-83d3-b1cefd5b0e6c"
      },
      "execution_count": 5,
      "outputs": [
        {
          "output_type": "error",
          "ename": "NameError",
          "evalue": "name 'var1' is not defined",
          "traceback": [
            "\u001b[0;31m---------------------------------------------------------------------------\u001b[0m",
            "\u001b[0;31mNameError\u001b[0m                                 Traceback (most recent call last)",
            "\u001b[0;32m<ipython-input-5-b5880a42db53>\u001b[0m in \u001b[0;36m<cell line: 1>\u001b[0;34m()\u001b[0m\n\u001b[0;32m----> 1\u001b[0;31m \u001b[0mprint\u001b[0m\u001b[0;34m(\u001b[0m\u001b[0mvar1\u001b[0m\u001b[0;34m)\u001b[0m\u001b[0;34m\u001b[0m\u001b[0;34m\u001b[0m\u001b[0m\n\u001b[0m",
            "\u001b[0;31mNameError\u001b[0m: name 'var1' is not defined"
          ]
        }
      ]
    },
    {
      "cell_type": "code",
      "source": [
        "# NameError com uso de variável local e global\n",
        "\n",
        "global_var = 10\n",
        "\n",
        "if global_var < 5: # este bloco não é executado\n",
        "  local_var = 100\n",
        "\n",
        "print(local_var)\n",
        "\n",
        "# um forma de resolver, seria declarando 'local_var' antes do bloco do if com um valor default inicial"
      ],
      "metadata": {
        "colab": {
          "base_uri": "https://localhost:8080/",
          "height": 176
        },
        "id": "f8uW_YOReeE4",
        "outputId": "4129e450-efa6-46f4-fc71-e9537b2b89cd"
      },
      "execution_count": 9,
      "outputs": [
        {
          "output_type": "error",
          "ename": "NameError",
          "evalue": "name 'local_var' is not defined",
          "traceback": [
            "\u001b[0;31m---------------------------------------------------------------------------\u001b[0m",
            "\u001b[0;31mNameError\u001b[0m                                 Traceback (most recent call last)",
            "\u001b[0;32m<ipython-input-9-674c1fabd7a0>\u001b[0m in \u001b[0;36m<cell line: 8>\u001b[0;34m()\u001b[0m\n\u001b[1;32m      6\u001b[0m   \u001b[0mlocal_var\u001b[0m \u001b[0;34m=\u001b[0m \u001b[0;36m100\u001b[0m\u001b[0;34m\u001b[0m\u001b[0;34m\u001b[0m\u001b[0m\n\u001b[1;32m      7\u001b[0m \u001b[0;34m\u001b[0m\u001b[0m\n\u001b[0;32m----> 8\u001b[0;31m \u001b[0mprint\u001b[0m\u001b[0;34m(\u001b[0m\u001b[0mlocal_var\u001b[0m\u001b[0;34m)\u001b[0m\u001b[0;34m\u001b[0m\u001b[0;34m\u001b[0m\u001b[0m\n\u001b[0m",
            "\u001b[0;31mNameError\u001b[0m: name 'local_var' is not defined"
          ]
        }
      ]
    },
    {
      "cell_type": "markdown",
      "source": [
        "### 1.2.SyntaxeError\n",
        "Erro de sintaxe na escrita do código."
      ],
      "metadata": {
        "id": "SKP_vDrAeOVV"
      }
    },
    {
      "cell_type": "code",
      "source": [
        "def funcao: # faltou o () na definição da função\n",
        "  print('Gustavo')"
      ],
      "metadata": {
        "colab": {
          "base_uri": "https://localhost:8080/",
          "height": 106
        },
        "id": "d4xG2rJVc9FE",
        "outputId": "300f3412-62c6-4de8-a7d1-b0dd32ac37c0"
      },
      "execution_count": 3,
      "outputs": [
        {
          "output_type": "error",
          "ename": "SyntaxError",
          "evalue": "invalid syntax (<ipython-input-3-83553dc58d08>, line 3)",
          "traceback": [
            "\u001b[0;36m  File \u001b[0;32m\"<ipython-input-3-83553dc58d08>\"\u001b[0;36m, line \u001b[0;32m3\u001b[0m\n\u001b[0;31m    def funcao: # faltou o ()\u001b[0m\n\u001b[0m              ^\u001b[0m\n\u001b[0;31mSyntaxError\u001b[0m\u001b[0;31m:\u001b[0m invalid syntax\n"
          ]
        }
      ]
    },
    {
      "cell_type": "code",
      "source": [
        "None = 1 # uso de palavra reservada como nome de variável"
      ],
      "metadata": {
        "colab": {
          "base_uri": "https://localhost:8080/",
          "height": 106
        },
        "id": "6gTxVc-Rddes",
        "outputId": "4e4b4a96-fbad-4504-9b8e-d4670be17eed"
      },
      "execution_count": 4,
      "outputs": [
        {
          "output_type": "error",
          "ename": "SyntaxError",
          "evalue": "cannot assign to None (<ipython-input-4-d03f602a0186>, line 1)",
          "traceback": [
            "\u001b[0;36m  File \u001b[0;32m\"<ipython-input-4-d03f602a0186>\"\u001b[0;36m, line \u001b[0;32m1\u001b[0m\n\u001b[0;31m    None = 1\u001b[0m\n\u001b[0m    ^\u001b[0m\n\u001b[0;31mSyntaxError\u001b[0m\u001b[0;31m:\u001b[0m cannot assign to None\n"
          ]
        }
      ]
    },
    {
      "cell_type": "markdown",
      "source": [
        "### 1.3.TypeError\n",
        "\n",
        "Ocorre quando uma função/operação/ação é aplicada a um tipo errado."
      ],
      "metadata": {
        "id": "kc9jS6LNf0hw"
      }
    },
    {
      "cell_type": "code",
      "source": [
        "print(len([1, 2, 3, 4, 5]))\n",
        "print(len('Gustavo Ribeiro Martins'))\n",
        "\n",
        "print(len(5))"
      ],
      "metadata": {
        "colab": {
          "base_uri": "https://localhost:8080/",
          "height": 211
        },
        "id": "N3Wq1r1igAnh",
        "outputId": "df52a764-708b-4347-9af9-1acce87c0b51"
      },
      "execution_count": 11,
      "outputs": [
        {
          "output_type": "stream",
          "name": "stdout",
          "text": [
            "5\n",
            "23\n"
          ]
        },
        {
          "output_type": "error",
          "ename": "TypeError",
          "evalue": "object of type 'int' has no len()",
          "traceback": [
            "\u001b[0;31m---------------------------------------------------------------------------\u001b[0m",
            "\u001b[0;31mTypeError\u001b[0m                                 Traceback (most recent call last)",
            "\u001b[0;32m<ipython-input-11-7d662c480883>\u001b[0m in \u001b[0;36m<cell line: 4>\u001b[0;34m()\u001b[0m\n\u001b[1;32m      2\u001b[0m \u001b[0mprint\u001b[0m\u001b[0;34m(\u001b[0m\u001b[0mlen\u001b[0m\u001b[0;34m(\u001b[0m\u001b[0;34m'Gustavo Ribeiro Martins'\u001b[0m\u001b[0;34m)\u001b[0m\u001b[0;34m)\u001b[0m\u001b[0;34m\u001b[0m\u001b[0;34m\u001b[0m\u001b[0m\n\u001b[1;32m      3\u001b[0m \u001b[0;34m\u001b[0m\u001b[0m\n\u001b[0;32m----> 4\u001b[0;31m \u001b[0mprint\u001b[0m\u001b[0;34m(\u001b[0m\u001b[0mlen\u001b[0m\u001b[0;34m(\u001b[0m\u001b[0;36m5\u001b[0m\u001b[0;34m)\u001b[0m\u001b[0;34m)\u001b[0m\u001b[0;34m\u001b[0m\u001b[0;34m\u001b[0m\u001b[0m\n\u001b[0m",
            "\u001b[0;31mTypeError\u001b[0m: object of type 'int' has no len()"
          ]
        }
      ]
    },
    {
      "cell_type": "code",
      "source": [
        "'string' + 2"
      ],
      "metadata": {
        "colab": {
          "base_uri": "https://localhost:8080/",
          "height": 141
        },
        "id": "qbmk1gC2ga5x",
        "outputId": "f966f8b6-daa8-4ad7-f8bf-fae4787ef10c"
      },
      "execution_count": 12,
      "outputs": [
        {
          "output_type": "error",
          "ename": "TypeError",
          "evalue": "can only concatenate str (not \"int\") to str",
          "traceback": [
            "\u001b[0;31m---------------------------------------------------------------------------\u001b[0m",
            "\u001b[0;31mTypeError\u001b[0m                                 Traceback (most recent call last)",
            "\u001b[0;32m<ipython-input-12-d228c07f7e4e>\u001b[0m in \u001b[0;36m<cell line: 1>\u001b[0;34m()\u001b[0m\n\u001b[0;32m----> 1\u001b[0;31m \u001b[0;34m'string'\u001b[0m \u001b[0;34m+\u001b[0m \u001b[0;36m2\u001b[0m\u001b[0;34m\u001b[0m\u001b[0;34m\u001b[0m\u001b[0m\n\u001b[0m",
            "\u001b[0;31mTypeError\u001b[0m: can only concatenate str (not \"int\") to str"
          ]
        }
      ]
    },
    {
      "cell_type": "markdown",
      "source": [
        "### 1.4.IndexError\n",
        "\n",
        "Ocorre quando tentamos acessar um elemento em uma lista ou outro tipo de dado indexado utilizando um índice inválido."
      ],
      "metadata": {
        "id": "QZlGv5zKgkHo"
      }
    },
    {
      "cell_type": "code",
      "source": [
        "lista = [1, 2, 3, 4, 5] # vai até o índice 4\n",
        "\n",
        "print(lista[5]) # tento acessar o índice 5"
      ],
      "metadata": {
        "colab": {
          "base_uri": "https://localhost:8080/",
          "height": 176
        },
        "id": "kDBLiYyPgsvs",
        "outputId": "748fabf3-3758-4431-9e68-cdc67e722375"
      },
      "execution_count": 14,
      "outputs": [
        {
          "output_type": "error",
          "ename": "IndexError",
          "evalue": "list index out of range",
          "traceback": [
            "\u001b[0;31m---------------------------------------------------------------------------\u001b[0m",
            "\u001b[0;31mIndexError\u001b[0m                                Traceback (most recent call last)",
            "\u001b[0;32m<ipython-input-14-eab8e31dbe53>\u001b[0m in \u001b[0;36m<cell line: 3>\u001b[0;34m()\u001b[0m\n\u001b[1;32m      1\u001b[0m \u001b[0mlista\u001b[0m \u001b[0;34m=\u001b[0m \u001b[0;34m[\u001b[0m\u001b[0;36m1\u001b[0m\u001b[0;34m,\u001b[0m \u001b[0;36m2\u001b[0m\u001b[0;34m,\u001b[0m \u001b[0;36m3\u001b[0m\u001b[0;34m,\u001b[0m \u001b[0;36m4\u001b[0m\u001b[0;34m,\u001b[0m \u001b[0;36m5\u001b[0m\u001b[0;34m]\u001b[0m \u001b[0;31m# vai até o índice 4\u001b[0m\u001b[0;34m\u001b[0m\u001b[0;34m\u001b[0m\u001b[0m\n\u001b[1;32m      2\u001b[0m \u001b[0;34m\u001b[0m\u001b[0m\n\u001b[0;32m----> 3\u001b[0;31m \u001b[0mprint\u001b[0m\u001b[0;34m(\u001b[0m\u001b[0mlista\u001b[0m\u001b[0;34m[\u001b[0m\u001b[0;36m5\u001b[0m\u001b[0;34m]\u001b[0m\u001b[0;34m)\u001b[0m \u001b[0;31m# tento acessar o índice 5\u001b[0m\u001b[0;34m\u001b[0m\u001b[0;34m\u001b[0m\u001b[0m\n\u001b[0m",
            "\u001b[0;31mIndexError\u001b[0m: list index out of range"
          ]
        }
      ]
    },
    {
      "cell_type": "markdown",
      "source": [
        "### 1.5.ValueError\n",
        "\n",
        "Ocorre quando uma função/operação built-in (integrada) recebe um argumento com tipo correto mas valor inapropriado."
      ],
      "metadata": {
        "id": "HIzU7ncPhW5r"
      }
    },
    {
      "cell_type": "code",
      "source": [
        "print(int('10')) # passei uma string (tipo esperado) e o valor é possível de converter para int\n",
        "print(int('Gustavo')) # também passei o tipo esprado pela função, mas o valor não é possível converter para int"
      ],
      "metadata": {
        "colab": {
          "base_uri": "https://localhost:8080/",
          "height": 176
        },
        "id": "onRzaAXNhmpC",
        "outputId": "37e8bbe3-08de-4512-9ddb-69113ca48cd1"
      },
      "execution_count": 16,
      "outputs": [
        {
          "output_type": "stream",
          "name": "stdout",
          "text": [
            "10\n"
          ]
        },
        {
          "output_type": "error",
          "ename": "ValueError",
          "evalue": "invalid literal for int() with base 10: 'Gustavo'",
          "traceback": [
            "\u001b[0;31m---------------------------------------------------------------------------\u001b[0m",
            "\u001b[0;31mValueError\u001b[0m                                Traceback (most recent call last)",
            "\u001b[0;32m<ipython-input-16-120f691c48c5>\u001b[0m in \u001b[0;36m<cell line: 2>\u001b[0;34m()\u001b[0m\n\u001b[1;32m      1\u001b[0m \u001b[0mprint\u001b[0m\u001b[0;34m(\u001b[0m\u001b[0mint\u001b[0m\u001b[0;34m(\u001b[0m\u001b[0;34m'10'\u001b[0m\u001b[0;34m)\u001b[0m\u001b[0;34m)\u001b[0m\u001b[0;34m\u001b[0m\u001b[0;34m\u001b[0m\u001b[0m\n\u001b[0;32m----> 2\u001b[0;31m \u001b[0mprint\u001b[0m\u001b[0;34m(\u001b[0m\u001b[0mint\u001b[0m\u001b[0;34m(\u001b[0m\u001b[0;34m'Gustavo'\u001b[0m\u001b[0;34m)\u001b[0m\u001b[0;34m)\u001b[0m\u001b[0;34m\u001b[0m\u001b[0;34m\u001b[0m\u001b[0m\n\u001b[0m",
            "\u001b[0;31mValueError\u001b[0m: invalid literal for int() with base 10: 'Gustavo'"
          ]
        }
      ]
    },
    {
      "cell_type": "markdown",
      "source": [
        "### 1.6.KeyError\n",
        "\n",
        "Ocorre quando tentamos acessar um dicionário com uma chave que não existe."
      ],
      "metadata": {
        "id": "tzx5M9briAiH"
      }
    },
    {
      "cell_type": "code",
      "source": [
        "dic = {} # dicionário vazio\n",
        "\n",
        "print(dic['pk_dic'])"
      ],
      "metadata": {
        "colab": {
          "base_uri": "https://localhost:8080/",
          "height": 176
        },
        "id": "7-hE45HviINJ",
        "outputId": "a5e59d8e-04e3-4cb1-df51-bec1d04fe1c1"
      },
      "execution_count": 17,
      "outputs": [
        {
          "output_type": "error",
          "ename": "KeyError",
          "evalue": "'pk_dic'",
          "traceback": [
            "\u001b[0;31m---------------------------------------------------------------------------\u001b[0m",
            "\u001b[0;31mKeyError\u001b[0m                                  Traceback (most recent call last)",
            "\u001b[0;32m<ipython-input-17-f1ad9aa1cbb3>\u001b[0m in \u001b[0;36m<cell line: 3>\u001b[0;34m()\u001b[0m\n\u001b[1;32m      1\u001b[0m \u001b[0mdic\u001b[0m \u001b[0;34m=\u001b[0m \u001b[0;34m{\u001b[0m\u001b[0;34m}\u001b[0m \u001b[0;31m# dicionário vazio\u001b[0m\u001b[0;34m\u001b[0m\u001b[0;34m\u001b[0m\u001b[0m\n\u001b[1;32m      2\u001b[0m \u001b[0;34m\u001b[0m\u001b[0m\n\u001b[0;32m----> 3\u001b[0;31m \u001b[0mprint\u001b[0m\u001b[0;34m(\u001b[0m\u001b[0mdic\u001b[0m\u001b[0;34m[\u001b[0m\u001b[0;34m'pk_dic'\u001b[0m\u001b[0;34m]\u001b[0m\u001b[0;34m)\u001b[0m\u001b[0;34m\u001b[0m\u001b[0;34m\u001b[0m\u001b[0m\n\u001b[0m",
            "\u001b[0;31mKeyError\u001b[0m: 'pk_dic'"
          ]
        }
      ]
    },
    {
      "cell_type": "code",
      "source": [
        "dic = {'pk': 1}\n",
        "\n",
        "print(dic['pk'])\n",
        "print(dic['fk'])"
      ],
      "metadata": {
        "colab": {
          "base_uri": "https://localhost:8080/",
          "height": 193
        },
        "id": "n1U-HvRTiYwz",
        "outputId": "453f6eea-3df5-4300-ee78-0349fe096164"
      },
      "execution_count": 19,
      "outputs": [
        {
          "output_type": "stream",
          "name": "stdout",
          "text": [
            "1\n"
          ]
        },
        {
          "output_type": "error",
          "ename": "KeyError",
          "evalue": "'fk'",
          "traceback": [
            "\u001b[0;31m---------------------------------------------------------------------------\u001b[0m",
            "\u001b[0;31mKeyError\u001b[0m                                  Traceback (most recent call last)",
            "\u001b[0;32m<ipython-input-19-dc45c7eaf7a2>\u001b[0m in \u001b[0;36m<cell line: 4>\u001b[0;34m()\u001b[0m\n\u001b[1;32m      2\u001b[0m \u001b[0;34m\u001b[0m\u001b[0m\n\u001b[1;32m      3\u001b[0m \u001b[0mprint\u001b[0m\u001b[0;34m(\u001b[0m\u001b[0mdic\u001b[0m\u001b[0;34m[\u001b[0m\u001b[0;34m'pk'\u001b[0m\u001b[0;34m]\u001b[0m\u001b[0;34m)\u001b[0m\u001b[0;34m\u001b[0m\u001b[0;34m\u001b[0m\u001b[0m\n\u001b[0;32m----> 4\u001b[0;31m \u001b[0mprint\u001b[0m\u001b[0;34m(\u001b[0m\u001b[0mdic\u001b[0m\u001b[0;34m[\u001b[0m\u001b[0;34m'fk'\u001b[0m\u001b[0;34m]\u001b[0m\u001b[0;34m)\u001b[0m\u001b[0;34m\u001b[0m\u001b[0;34m\u001b[0m\u001b[0m\n\u001b[0m",
            "\u001b[0;31mKeyError\u001b[0m: 'fk'"
          ]
        }
      ]
    },
    {
      "cell_type": "markdown",
      "source": [
        "### 1.7.AttributeError\n",
        "\n",
        "Ocorre quando uma variável não tem um atributo/função."
      ],
      "metadata": {
        "id": "y-q1SyGKisFW"
      }
    },
    {
      "cell_type": "code",
      "source": [
        "# exemplo: função sort() só se aplica a listas e vamos tentar aplicar em uma tupla\n",
        "\n",
        "lista = [1, 2, 3, 4, 5]\n",
        "tupla = (1, 2, 3, 4, 5)\n",
        "\n",
        "lista.sort(reverse=True)\n",
        "print(lista)\n",
        "\n",
        "tupla.sort(reverse=True)\n",
        "print(tupla)"
      ],
      "metadata": {
        "colab": {
          "base_uri": "https://localhost:8080/",
          "height": 211
        },
        "id": "79jblDIgi0BK",
        "outputId": "77110818-cecd-41a2-a3dd-0a7832a03fe3"
      },
      "execution_count": 25,
      "outputs": [
        {
          "output_type": "stream",
          "name": "stdout",
          "text": [
            "[5, 4, 3, 2, 1]\n"
          ]
        },
        {
          "output_type": "error",
          "ename": "AttributeError",
          "evalue": "'tuple' object has no attribute 'sort'",
          "traceback": [
            "\u001b[0;31m---------------------------------------------------------------------------\u001b[0m",
            "\u001b[0;31mAttributeError\u001b[0m                            Traceback (most recent call last)",
            "\u001b[0;32m<ipython-input-25-d6048028e689>\u001b[0m in \u001b[0;36m<cell line: 9>\u001b[0;34m()\u001b[0m\n\u001b[1;32m      7\u001b[0m \u001b[0mprint\u001b[0m\u001b[0;34m(\u001b[0m\u001b[0mlista\u001b[0m\u001b[0;34m)\u001b[0m\u001b[0;34m\u001b[0m\u001b[0;34m\u001b[0m\u001b[0m\n\u001b[1;32m      8\u001b[0m \u001b[0;34m\u001b[0m\u001b[0m\n\u001b[0;32m----> 9\u001b[0;31m \u001b[0mtupla\u001b[0m\u001b[0;34m.\u001b[0m\u001b[0msort\u001b[0m\u001b[0;34m(\u001b[0m\u001b[0mreverse\u001b[0m\u001b[0;34m=\u001b[0m\u001b[0;32mTrue\u001b[0m\u001b[0;34m)\u001b[0m\u001b[0;34m\u001b[0m\u001b[0;34m\u001b[0m\u001b[0m\n\u001b[0m\u001b[1;32m     10\u001b[0m \u001b[0mprint\u001b[0m\u001b[0;34m(\u001b[0m\u001b[0mtupla\u001b[0m\u001b[0;34m)\u001b[0m\u001b[0;34m\u001b[0m\u001b[0;34m\u001b[0m\u001b[0m\n",
            "\u001b[0;31mAttributeError\u001b[0m: 'tuple' object has no attribute 'sort'"
          ]
        }
      ]
    },
    {
      "cell_type": "markdown",
      "source": [
        "### 1.8.IndentationError\n",
        "\n",
        "Ocorre quando não respeitamos a indentação do Python."
      ],
      "metadata": {
        "id": "_lNHA655jZww"
      }
    },
    {
      "cell_type": "code",
      "source": [
        "def nova():\n",
        "print('Guga')\n",
        "\n",
        "nova()"
      ],
      "metadata": {
        "colab": {
          "base_uri": "https://localhost:8080/",
          "height": 106
        },
        "id": "dmSDWtVKjoDG",
        "outputId": "4a95a475-49b3-4d8f-bf58-3089375d658d"
      },
      "execution_count": 30,
      "outputs": [
        {
          "output_type": "error",
          "ename": "IndentationError",
          "evalue": "expected an indented block after function definition on line 1 (<ipython-input-30-73165a3af302>, line 2)",
          "traceback": [
            "\u001b[0;36m  File \u001b[0;32m\"<ipython-input-30-73165a3af302>\"\u001b[0;36m, line \u001b[0;32m2\u001b[0m\n\u001b[0;31m    print('Guga')\u001b[0m\n\u001b[0m    ^\u001b[0m\n\u001b[0;31mIndentationError\u001b[0m\u001b[0;31m:\u001b[0m expected an indented block after function definition on line 1\n"
          ]
        }
      ]
    },
    {
      "cell_type": "markdown",
      "source": [
        "### 1.9.Documentação sobre outros erros\n",
        "\n",
        "Disponível no Python.org: [python.org/exceptions](https://docs.python.org/3/library/exceptions.html)."
      ],
      "metadata": {
        "id": "4RH2hkjmkOvE"
      }
    },
    {
      "cell_type": "markdown",
      "source": [
        "# 2.Levantando os próprios erros com raise\n",
        "\n",
        "raise -> lança exceções\n",
        "\n",
        "**Obs.:**\n",
        "- O `raise` não é uma função, é uma palavra reservada assim como `def`;\n",
        "- Assim como o `return`, o `raise` finaliza a função. Ou seja, nada é executado após o `raise`.\n",
        "\n",
        "Pense no `raise`como sendo útil para que possamos criar nossas próprias exceções e mensagens de erro.\n",
        "\n",
        "```python\n",
        "raise TipoDoErro('Mensagem de erro')\n",
        "```"
      ],
      "metadata": {
        "id": "w98cXhEUlBwz"
      }
    },
    {
      "cell_type": "code",
      "source": [
        "raise ValueError('Você passou um valor inconrreto')"
      ],
      "metadata": {
        "colab": {
          "base_uri": "https://localhost:8080/",
          "height": 141
        },
        "id": "nlhemnpNl_sB",
        "outputId": "c5b7f224-746c-44fd-cb65-350ef24713c8"
      },
      "execution_count": 32,
      "outputs": [
        {
          "output_type": "error",
          "ename": "ValueError",
          "evalue": "Você passou um valor inconrreto",
          "traceback": [
            "\u001b[0;31m---------------------------------------------------------------------------\u001b[0m",
            "\u001b[0;31mValueError\u001b[0m                                Traceback (most recent call last)",
            "\u001b[0;32m<ipython-input-32-d55e1164d5b8>\u001b[0m in \u001b[0;36m<cell line: 1>\u001b[0;34m()\u001b[0m\n\u001b[0;32m----> 1\u001b[0;31m \u001b[0;32mraise\u001b[0m \u001b[0mValueError\u001b[0m\u001b[0;34m(\u001b[0m\u001b[0;34m'Você passou um valor inconrreto'\u001b[0m\u001b[0;34m)\u001b[0m\u001b[0;34m\u001b[0m\u001b[0;34m\u001b[0m\u001b[0m\n\u001b[0m",
            "\u001b[0;31mValueError\u001b[0m: Você passou um valor inconrreto"
          ]
        }
      ]
    },
    {
      "cell_type": "code",
      "source": [
        "def colore(texto, cor):\n",
        "  if type(texto) is not str:\n",
        "    raise TypeError('texto precisa ser uma string')\n",
        "  elif type(cor) is not str:\n",
        "    raise TypeErro('cor precisa ser uma string')\n",
        "  print(f'O texto {texto} será impresso na cor {cor}')\n",
        "\n",
        "colore('Gustao', 'Azul')\n",
        "colore(1, 'Verde')"
      ],
      "metadata": {
        "colab": {
          "base_uri": "https://localhost:8080/",
          "height": 315
        },
        "id": "INc9esslmVYA",
        "outputId": "7a72fe04-b23d-4892-fee0-6a2da5570088"
      },
      "execution_count": 34,
      "outputs": [
        {
          "output_type": "stream",
          "name": "stdout",
          "text": [
            "O texto Gustao será impresso na cor Azul\n"
          ]
        },
        {
          "output_type": "error",
          "ename": "TypeError",
          "evalue": "texto precisa ser uma string",
          "traceback": [
            "\u001b[0;31m---------------------------------------------------------------------------\u001b[0m",
            "\u001b[0;31mTypeError\u001b[0m                                 Traceback (most recent call last)",
            "\u001b[0;32m<ipython-input-34-863fb80d0ab8>\u001b[0m in \u001b[0;36m<cell line: 9>\u001b[0;34m()\u001b[0m\n\u001b[1;32m      7\u001b[0m \u001b[0;34m\u001b[0m\u001b[0m\n\u001b[1;32m      8\u001b[0m \u001b[0mcolore\u001b[0m\u001b[0;34m(\u001b[0m\u001b[0;34m'Gustao'\u001b[0m\u001b[0;34m,\u001b[0m \u001b[0;34m'Azul'\u001b[0m\u001b[0;34m)\u001b[0m\u001b[0;34m\u001b[0m\u001b[0;34m\u001b[0m\u001b[0m\n\u001b[0;32m----> 9\u001b[0;31m \u001b[0mcolore\u001b[0m\u001b[0;34m(\u001b[0m\u001b[0;36m1\u001b[0m\u001b[0;34m,\u001b[0m \u001b[0;34m'Verde'\u001b[0m\u001b[0;34m)\u001b[0m\u001b[0;34m\u001b[0m\u001b[0;34m\u001b[0m\u001b[0m\n\u001b[0m",
            "\u001b[0;32m<ipython-input-34-863fb80d0ab8>\u001b[0m in \u001b[0;36mcolore\u001b[0;34m(texto, cor)\u001b[0m\n\u001b[1;32m      1\u001b[0m \u001b[0;32mdef\u001b[0m \u001b[0mcolore\u001b[0m\u001b[0;34m(\u001b[0m\u001b[0mtexto\u001b[0m\u001b[0;34m,\u001b[0m \u001b[0mcor\u001b[0m\u001b[0;34m)\u001b[0m\u001b[0;34m:\u001b[0m\u001b[0;34m\u001b[0m\u001b[0;34m\u001b[0m\u001b[0m\n\u001b[1;32m      2\u001b[0m   \u001b[0;32mif\u001b[0m \u001b[0mtype\u001b[0m\u001b[0;34m(\u001b[0m\u001b[0mtexto\u001b[0m\u001b[0;34m)\u001b[0m \u001b[0;32mis\u001b[0m \u001b[0;32mnot\u001b[0m \u001b[0mstr\u001b[0m\u001b[0;34m:\u001b[0m\u001b[0;34m\u001b[0m\u001b[0;34m\u001b[0m\u001b[0m\n\u001b[0;32m----> 3\u001b[0;31m     \u001b[0;32mraise\u001b[0m \u001b[0mTypeError\u001b[0m\u001b[0;34m(\u001b[0m\u001b[0;34m'texto precisa ser uma string'\u001b[0m\u001b[0;34m)\u001b[0m\u001b[0;34m\u001b[0m\u001b[0;34m\u001b[0m\u001b[0m\n\u001b[0m\u001b[1;32m      4\u001b[0m   \u001b[0;32melif\u001b[0m \u001b[0mtype\u001b[0m\u001b[0;34m(\u001b[0m\u001b[0mcor\u001b[0m\u001b[0;34m)\u001b[0m \u001b[0;32mis\u001b[0m \u001b[0;32mnot\u001b[0m \u001b[0mstr\u001b[0m\u001b[0;34m:\u001b[0m\u001b[0;34m\u001b[0m\u001b[0;34m\u001b[0m\u001b[0m\n\u001b[1;32m      5\u001b[0m     \u001b[0;32mraise\u001b[0m \u001b[0mTypeErro\u001b[0m\u001b[0;34m(\u001b[0m\u001b[0;34m'cor precisa ser uma string'\u001b[0m\u001b[0;34m)\u001b[0m\u001b[0;34m\u001b[0m\u001b[0;34m\u001b[0m\u001b[0m\n",
            "\u001b[0;31mTypeError\u001b[0m: texto precisa ser uma string"
          ]
        }
      ]
    },
    {
      "cell_type": "markdown",
      "source": [
        "# 3.O bloco Try/Except\n",
        "\n",
        "Utilizamos o bloco `try/except` para tratar erros que podem ocorrer no nosso código. Previnindo assim que o programa pare de funcionar e o usuário receba mensagens de erro inesperadas.\n",
        "\n",
        "```python\n",
        "try:\n",
        "  execução problemática\n",
        "except:\n",
        "  o que deve ser feito em caso de problema\n",
        "```\n",
        "\n",
        "Traduzindo: tente fazer o `try`, se não conseguir, faça o `except`."
      ],
      "metadata": {
        "id": "WOLUr9fDnzvd"
      }
    },
    {
      "cell_type": "code",
      "source": [
        "# exemplo 1: tratando um erro genérico\n",
        "\n",
        "try:\n",
        "  funcao() # NameError\n",
        "except:\n",
        "  print('Deu algum problema')\n",
        "\n",
        "# obs.: tratar erro de forma genérica não é a melhor forma de tratamento.\n",
        "# O ideal é sempre tratar de forma específica."
      ],
      "metadata": {
        "colab": {
          "base_uri": "https://localhost:8080/"
        },
        "id": "WQ7E1Y2DuWX9",
        "outputId": "48fdaa97-7a10-4545-d452-ad040479333e"
      },
      "execution_count": 35,
      "outputs": [
        {
          "output_type": "stream",
          "name": "stdout",
          "text": [
            "Deu algum problema\n"
          ]
        }
      ]
    },
    {
      "cell_type": "code",
      "source": [
        "# exemplo 2 - tratando um erro específico\n",
        "\n",
        "try:\n",
        "  funcao() # NameError\n",
        "except NameError:\n",
        "  print('Você está utilizando uma função inexistente')\n",
        "\n",
        "# observe que estamos tratando apenas o NameError"
      ],
      "metadata": {
        "colab": {
          "base_uri": "https://localhost:8080/"
        },
        "id": "n2R4vxizu_4L",
        "outputId": "dae80de3-b00f-4de5-8c87-a8225c29795e"
      },
      "execution_count": 36,
      "outputs": [
        {
          "output_type": "stream",
          "name": "stdout",
          "text": [
            "Você está utilizando uma função inexistente\n"
          ]
        }
      ]
    },
    {
      "cell_type": "code",
      "source": [
        "try:\n",
        "  len(5) # TypeError\n",
        "except NameError: # tratamos apenas NameError\n",
        "  print('Você está utilizando uma função inexistente')"
      ],
      "metadata": {
        "colab": {
          "base_uri": "https://localhost:8080/",
          "height": 193
        },
        "id": "Dn4y8tJSvooo",
        "outputId": "2a888927-e02c-4c92-c9ce-6949fba41fc0"
      },
      "execution_count": 37,
      "outputs": [
        {
          "output_type": "error",
          "ename": "TypeError",
          "evalue": "object of type 'int' has no len()",
          "traceback": [
            "\u001b[0;31m---------------------------------------------------------------------------\u001b[0m",
            "\u001b[0;31mTypeError\u001b[0m                                 Traceback (most recent call last)",
            "\u001b[0;32m<ipython-input-37-e7158a3acc02>\u001b[0m in \u001b[0;36m<cell line: 1>\u001b[0;34m()\u001b[0m\n\u001b[1;32m      1\u001b[0m \u001b[0;32mtry\u001b[0m\u001b[0;34m:\u001b[0m\u001b[0;34m\u001b[0m\u001b[0;34m\u001b[0m\u001b[0m\n\u001b[0;32m----> 2\u001b[0;31m   \u001b[0mlen\u001b[0m\u001b[0;34m(\u001b[0m\u001b[0;36m5\u001b[0m\u001b[0;34m)\u001b[0m \u001b[0;31m# TypeError\u001b[0m\u001b[0;34m\u001b[0m\u001b[0;34m\u001b[0m\u001b[0m\n\u001b[0m\u001b[1;32m      3\u001b[0m \u001b[0;32mexcept\u001b[0m \u001b[0mNameError\u001b[0m\u001b[0;34m:\u001b[0m \u001b[0;31m# tratamos apenas NameError\u001b[0m\u001b[0;34m\u001b[0m\u001b[0;34m\u001b[0m\u001b[0m\n\u001b[1;32m      4\u001b[0m   \u001b[0mprint\u001b[0m\u001b[0;34m(\u001b[0m\u001b[0;34m'Você está utilizando uma função inexistente'\u001b[0m\u001b[0;34m)\u001b[0m\u001b[0;34m\u001b[0m\u001b[0;34m\u001b[0m\u001b[0m\n",
            "\u001b[0;31mTypeError\u001b[0m: object of type 'int' has no len()"
          ]
        }
      ]
    },
    {
      "cell_type": "code",
      "source": [
        "# é preciso adicionar o TypeError no except\n",
        "\n",
        "try:\n",
        "  len(5) # TypeError\n",
        "except NameError: # tratamos apenas NameError\n",
        "  print('Você está utilizando uma função inexistente')\n",
        "except TypeError:\n",
        "  print('Você passou um tipo de dado errado a função')"
      ],
      "metadata": {
        "colab": {
          "base_uri": "https://localhost:8080/"
        },
        "id": "L0N1qAtwvyOh",
        "outputId": "96484e4d-b079-4d70-f7a8-38069f766b1c"
      },
      "execution_count": 38,
      "outputs": [
        {
          "output_type": "stream",
          "name": "stdout",
          "text": [
            "Você passou um tipo de dado errado a função\n"
          ]
        }
      ]
    },
    {
      "cell_type": "markdown",
      "source": [
        "É possível colocar um alias no erro. Convenção é chamar de `err`."
      ],
      "metadata": {
        "id": "0sQcSPoWv9xz"
      }
    },
    {
      "cell_type": "code",
      "source": [
        "try:\n",
        "  len(5)\n",
        "except TypeError as err:\n",
        "  print(f'A aplicação gerou o seguinte erro: {err}')"
      ],
      "metadata": {
        "colab": {
          "base_uri": "https://localhost:8080/"
        },
        "id": "BVkne8PNwDRI",
        "outputId": "63303c8f-0b66-4044-890f-3e8b269a4b23"
      },
      "execution_count": 39,
      "outputs": [
        {
          "output_type": "stream",
          "name": "stdout",
          "text": [
            "A aplicação gerou o seguinte erro: object of type 'int' has no len()\n"
          ]
        }
      ]
    },
    {
      "cell_type": "markdown",
      "source": [
        "# 4.Try, Except, Else e Finally\n",
        "\n",
        "Dica de quando e onde tratar código:\n",
        "\n",
        "- Toda entrada deve ser tratada.\n",
        "\n",
        "`else` -> se não ocorrer o `except`, executa o `else`."
      ],
      "metadata": {
        "id": "NUMNXfvdDUQu"
      }
    },
    {
      "cell_type": "code",
      "source": [
        "try:\n",
        "  num = int(input('Informe um número: '))\n",
        "except ValueError:\n",
        "  print('Valor incorreto')\n",
        "else:\n",
        "  print(f'Você digitou {num}')"
      ],
      "metadata": {
        "colab": {
          "base_uri": "https://localhost:8080/"
        },
        "id": "L44yzHucEblF",
        "outputId": "e01452c1-6a70-45bd-9aea-df46500d1bca"
      },
      "execution_count": 2,
      "outputs": [
        {
          "output_type": "stream",
          "name": "stdout",
          "text": [
            "Informe um número: 53\n",
            "Você digitou 53\n"
          ]
        }
      ]
    },
    {
      "cell_type": "markdown",
      "source": [
        "`finally` -> o bloco `finally` é sempre executado, independentemente se houve exceção ou não."
      ],
      "metadata": {
        "id": "kl1HLoBUGN9S"
      }
    },
    {
      "cell_type": "code",
      "source": [
        "try:\n",
        "  num = int(input('Informe um número: '))\n",
        "except ValueError:\n",
        "  print('Você não digitou um valor válido.')\n",
        "else:\n",
        "  print(f'Você digitou o número: {num}')\n",
        "finally:\n",
        "  print('Executando o finally')"
      ],
      "metadata": {
        "colab": {
          "base_uri": "https://localhost:8080/"
        },
        "id": "ELnUDqLVFm3w",
        "outputId": "7e16cfed-f1d5-4821-f468-d2efe162f2f4"
      },
      "execution_count": 6,
      "outputs": [
        {
          "output_type": "stream",
          "name": "stdout",
          "text": [
            "Informe um número: guga\n",
            "Você não digitou um valor válido.\n",
            "Executando o finally\n"
          ]
        }
      ]
    },
    {
      "cell_type": "markdown",
      "source": [
        "O `finally`, geralmente, é utilizado para fechar ou desalocar recursos (conexões com bancos de dados, por exemplo)."
      ],
      "metadata": {
        "id": "37_MdlmIGeWd"
      }
    },
    {
      "cell_type": "markdown",
      "source": [
        "# 5.Debugando código com PDB\n",
        "\n",
        "PDB = Python Debugger\n",
        "\n"
      ],
      "metadata": {
        "id": "hmN0uigHIABo"
      }
    },
    {
      "cell_type": "code",
      "source": [
        "def dividir(a, b):\n",
        "  print(f'a={a}, b={b}')\n",
        "  try:\n",
        "    return int(a) / int(b)\n",
        "  except (ValueError, ZeroDivisionError) as err:\n",
        "    return f'Ocorreu um problema: {err}'\n",
        "\n",
        "print(dividir(4, 7))\n",
        "\n",
        "# obs.: a utilização do print() para debuggar é uma prática ruim (existem melhores)"
      ],
      "metadata": {
        "colab": {
          "base_uri": "https://localhost:8080/"
        },
        "id": "-L79kfRAIfyr",
        "outputId": "8b8f48e7-8af7-468a-fe79-c3db7f8d0396"
      },
      "execution_count": 9,
      "outputs": [
        {
          "output_type": "stream",
          "name": "stdout",
          "text": [
            "a=4, b=7\n",
            "0.5714285714285714\n"
          ]
        }
      ]
    },
    {
      "cell_type": "markdown",
      "source": [
        "Uma forma mais profissional de se fazer o debug, utilizando o debugger. Em python, podemos fazer isso em diferentes IDEs, como o PyCharm.\n",
        "\n",
        "Para utilizar o Python Debugger, precisamos importar a biblioteca `pdb` e então utilizar a função `set_trace()`.\n",
        "\n",
        "**Comandos básicos do pdb**\n",
        "\n",
        "- l: listar onde estamos no código;\n",
        "- n: próxima linha;\n",
        "- p: imprime variável;\n",
        "- c: continua a execução - finaliza o debuggin."
      ],
      "metadata": {
        "id": "RM1_McXxJIUB"
      }
    },
    {
      "cell_type": "code",
      "source": [
        "import pdb\n",
        "\n",
        "nome = 'Gustavo'\n",
        "sobrenome = 'Martins'\n",
        "pdb.set_trace() # adicionando breakpoint\n",
        "nome_completo = nome + ' ' + sobrenome\n",
        "curso = 'python'\n",
        "final = nome_completo + ' faz o curso de ' + curso\n",
        "print(final)"
      ],
      "metadata": {
        "colab": {
          "base_uri": "https://localhost:8080/"
        },
        "id": "wP9TKI4UK6vO",
        "outputId": "e6bef54c-eadb-4e8e-81f0-a3283a551da2"
      },
      "execution_count": 14,
      "outputs": [
        {
          "output_type": "stream",
          "name": "stdout",
          "text": [
            "--Return--\n",
            "None\n",
            "> \u001b[0;32m<ipython-input-14-c2e2dfe4dc8a>\u001b[0m(5)\u001b[0;36m<cell line: 5>\u001b[0;34m()\u001b[0m\n",
            "\u001b[0;32m      3 \u001b[0;31m\u001b[0mnome\u001b[0m \u001b[0;34m=\u001b[0m \u001b[0;34m'Gustavo'\u001b[0m\u001b[0;34m\u001b[0m\u001b[0;34m\u001b[0m\u001b[0m\n",
            "\u001b[0m\u001b[0;32m      4 \u001b[0;31m\u001b[0msobrenome\u001b[0m \u001b[0;34m=\u001b[0m \u001b[0;34m'Martins'\u001b[0m\u001b[0;34m\u001b[0m\u001b[0;34m\u001b[0m\u001b[0m\n",
            "\u001b[0m\u001b[0;32m----> 5 \u001b[0;31m\u001b[0mpdb\u001b[0m\u001b[0;34m.\u001b[0m\u001b[0mset_trace\u001b[0m\u001b[0;34m(\u001b[0m\u001b[0;34m)\u001b[0m \u001b[0;31m# adicionando breakpoint\u001b[0m\u001b[0;34m\u001b[0m\u001b[0;34m\u001b[0m\u001b[0m\n",
            "\u001b[0m\u001b[0;32m      6 \u001b[0;31m\u001b[0mnome_completo\u001b[0m \u001b[0;34m=\u001b[0m \u001b[0mnome\u001b[0m \u001b[0;34m+\u001b[0m \u001b[0;34m' '\u001b[0m \u001b[0;34m+\u001b[0m \u001b[0msobrenome\u001b[0m\u001b[0;34m\u001b[0m\u001b[0;34m\u001b[0m\u001b[0m\n",
            "\u001b[0m\u001b[0;32m      7 \u001b[0;31m\u001b[0mcurso\u001b[0m \u001b[0;34m=\u001b[0m \u001b[0;34m'python'\u001b[0m\u001b[0;34m\u001b[0m\u001b[0;34m\u001b[0m\u001b[0m\n",
            "\u001b[0m\n",
            "ipdb> l\n",
            "\u001b[1;32m      1 \u001b[0m\u001b[0;32mimport\u001b[0m \u001b[0mpdb\u001b[0m\u001b[0;34m\u001b[0m\u001b[0;34m\u001b[0m\u001b[0m\n",
            "\u001b[1;32m      2 \u001b[0m\u001b[0;34m\u001b[0m\u001b[0m\n",
            "\u001b[1;32m      3 \u001b[0m\u001b[0mnome\u001b[0m \u001b[0;34m=\u001b[0m \u001b[0;34m'Gustavo'\u001b[0m\u001b[0;34m\u001b[0m\u001b[0;34m\u001b[0m\u001b[0m\n",
            "\u001b[1;32m      4 \u001b[0m\u001b[0msobrenome\u001b[0m \u001b[0;34m=\u001b[0m \u001b[0;34m'Martins'\u001b[0m\u001b[0;34m\u001b[0m\u001b[0;34m\u001b[0m\u001b[0m\n",
            "\u001b[0;32m----> 5 \u001b[0;31m\u001b[0mpdb\u001b[0m\u001b[0;34m.\u001b[0m\u001b[0mset_trace\u001b[0m\u001b[0;34m(\u001b[0m\u001b[0;34m)\u001b[0m \u001b[0;31m# adicionando breakpoint\u001b[0m\u001b[0;34m\u001b[0m\u001b[0;34m\u001b[0m\u001b[0m\n",
            "\u001b[0m\u001b[1;32m      6 \u001b[0m\u001b[0mnome_completo\u001b[0m \u001b[0;34m=\u001b[0m \u001b[0mnome\u001b[0m \u001b[0;34m+\u001b[0m \u001b[0;34m' '\u001b[0m \u001b[0;34m+\u001b[0m \u001b[0msobrenome\u001b[0m\u001b[0;34m\u001b[0m\u001b[0;34m\u001b[0m\u001b[0m\n",
            "\u001b[1;32m      7 \u001b[0m\u001b[0mcurso\u001b[0m \u001b[0;34m=\u001b[0m \u001b[0;34m'python'\u001b[0m\u001b[0;34m\u001b[0m\u001b[0;34m\u001b[0m\u001b[0m\n",
            "\u001b[1;32m      8 \u001b[0m\u001b[0mfinal\u001b[0m \u001b[0;34m=\u001b[0m \u001b[0mnome_completo\u001b[0m \u001b[0;34m+\u001b[0m \u001b[0;34m' faz o curso de '\u001b[0m \u001b[0;34m+\u001b[0m \u001b[0mcurso\u001b[0m\u001b[0;34m\u001b[0m\u001b[0;34m\u001b[0m\u001b[0m\n",
            "\u001b[1;32m      9 \u001b[0m\u001b[0mprint\u001b[0m\u001b[0;34m(\u001b[0m\u001b[0mfinal\u001b[0m\u001b[0;34m)\u001b[0m\u001b[0;34m\u001b[0m\u001b[0;34m\u001b[0m\u001b[0m\n",
            "\n",
            "ipdb> c\n",
            "Gustavo Martins faz o curso de python\n"
          ]
        }
      ]
    },
    {
      "cell_type": "code",
      "source": [],
      "metadata": {
        "id": "jUQGXu-yM350"
      },
      "execution_count": null,
      "outputs": []
    },
    {
      "cell_type": "markdown",
      "source": [
        "A partir do python 3.7, não é mais necessário importar a biblioteca pdb, pois o comando de debug foi incorporado como função built-in (integrada) chamada `breakpoint()`."
      ],
      "metadata": {
        "id": "qnuzCksdMpv3"
      }
    },
    {
      "cell_type": "code",
      "source": [
        "nome = 'Gustavo'\n",
        "sobrenome = 'Martins'\n",
        "breakpoint()\n",
        "nome_completo = nome + ' ' + sobrenome\n",
        "curso = 'python'\n",
        "final = nome_completo + ' faz o curso de ' + curso\n",
        "print(final)"
      ],
      "metadata": {
        "colab": {
          "base_uri": "https://localhost:8080/"
        },
        "id": "wnP94EiAM8Ad",
        "outputId": "d2817d33-522d-4d77-819a-adef2e14bf84"
      },
      "execution_count": 15,
      "outputs": [
        {
          "output_type": "stream",
          "name": "stdout",
          "text": [
            "--Return--\n",
            "None\n",
            "> \u001b[0;32m<ipython-input-15-18d266df0bfe>\u001b[0m(3)\u001b[0;36m<cell line: 3>\u001b[0;34m()\u001b[0m\n",
            "\u001b[0;32m      1 \u001b[0;31m\u001b[0mnome\u001b[0m \u001b[0;34m=\u001b[0m \u001b[0;34m'Gustavo'\u001b[0m\u001b[0;34m\u001b[0m\u001b[0;34m\u001b[0m\u001b[0m\n",
            "\u001b[0m\u001b[0;32m      2 \u001b[0;31m\u001b[0msobrenome\u001b[0m \u001b[0;34m=\u001b[0m \u001b[0;34m'Martins'\u001b[0m\u001b[0;34m\u001b[0m\u001b[0;34m\u001b[0m\u001b[0m\n",
            "\u001b[0m\u001b[0;32m----> 3 \u001b[0;31m\u001b[0mbreakpoint\u001b[0m\u001b[0;34m(\u001b[0m\u001b[0;34m)\u001b[0m\u001b[0;34m\u001b[0m\u001b[0;34m\u001b[0m\u001b[0m\n",
            "\u001b[0m\u001b[0;32m      4 \u001b[0;31m\u001b[0mnome_completo\u001b[0m \u001b[0;34m=\u001b[0m \u001b[0mnome\u001b[0m \u001b[0;34m+\u001b[0m \u001b[0;34m' '\u001b[0m \u001b[0;34m+\u001b[0m \u001b[0msobrenome\u001b[0m\u001b[0;34m\u001b[0m\u001b[0;34m\u001b[0m\u001b[0m\n",
            "\u001b[0m\u001b[0;32m      5 \u001b[0;31m\u001b[0mcurso\u001b[0m \u001b[0;34m=\u001b[0m \u001b[0;34m'python'\u001b[0m\u001b[0;34m\u001b[0m\u001b[0;34m\u001b[0m\u001b[0m\n",
            "\u001b[0m\n",
            "ipdb> c\n",
            "Gustavo Martins faz o curso de python\n"
          ]
        }
      ]
    }
  ]
}