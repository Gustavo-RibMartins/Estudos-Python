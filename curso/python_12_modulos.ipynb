{
  "nbformat": 4,
  "nbformat_minor": 0,
  "metadata": {
    "colab": {
      "provenance": [],
      "authorship_tag": "ABX9TyPhVTdyoMcrncSUPuG//VFQ",
      "include_colab_link": true
    },
    "kernelspec": {
      "name": "python3",
      "display_name": "Python 3"
    },
    "language_info": {
      "name": "python"
    }
  },
  "cells": [
    {
      "cell_type": "markdown",
      "metadata": {
        "id": "view-in-github",
        "colab_type": "text"
      },
      "source": [
        "<a href=\"https://colab.research.google.com/github/Gustavo-RibMartins/estudos-python/blob/develop/curso/python_12_modulos.ipynb\" target=\"_parent\"><img src=\"https://colab.research.google.com/assets/colab-badge.svg\" alt=\"Open In Colab\"/></a>"
      ]
    },
    {
      "cell_type": "markdown",
      "source": [
        "# 1.Módulo Random\n",
        "\n",
        "Em python, módulos nada mais são do que outros arquivos python.\n",
        "\n",
        "Módulo Random -> possui várias funções para geração de números pseudo-aleatórios."
      ],
      "metadata": {
        "id": "iSPjjt35Q23C"
      }
    },
    {
      "cell_type": "code",
      "source": [
        "# forma 1 - importando todo o módulo (não recomendado)\n",
        "\n",
        "import random\n",
        "\n",
        "# ao realizar o import de todo o módulo, todas as funções, atributos, classes e\n",
        "# propriedades que estiverem dentro do módulo ficarão disponíveis (ficarão em\n",
        "# memória).\n",
        "\n",
        "dir(random)"
      ],
      "metadata": {
        "colab": {
          "base_uri": "https://localhost:8080/"
        },
        "id": "f7eqQPksTH1f",
        "outputId": "33138b56-8775-4e56-d4ac-5019f60e0f7d"
      },
      "execution_count": null,
      "outputs": [
        {
          "output_type": "execute_result",
          "data": {
            "text/plain": [
              "['BPF',\n",
              " 'LOG4',\n",
              " 'NV_MAGICCONST',\n",
              " 'RECIP_BPF',\n",
              " 'Random',\n",
              " 'SG_MAGICCONST',\n",
              " 'SystemRandom',\n",
              " 'TWOPI',\n",
              " '_ONE',\n",
              " '_Sequence',\n",
              " '_Set',\n",
              " '__all__',\n",
              " '__builtins__',\n",
              " '__cached__',\n",
              " '__doc__',\n",
              " '__file__',\n",
              " '__loader__',\n",
              " '__name__',\n",
              " '__package__',\n",
              " '__spec__',\n",
              " '_accumulate',\n",
              " '_acos',\n",
              " '_bisect',\n",
              " '_ceil',\n",
              " '_cos',\n",
              " '_e',\n",
              " '_exp',\n",
              " '_floor',\n",
              " '_index',\n",
              " '_inst',\n",
              " '_isfinite',\n",
              " '_log',\n",
              " '_os',\n",
              " '_pi',\n",
              " '_random',\n",
              " '_repeat',\n",
              " '_sha512',\n",
              " '_sin',\n",
              " '_sqrt',\n",
              " '_test',\n",
              " '_test_generator',\n",
              " '_urandom',\n",
              " '_warn',\n",
              " 'betavariate',\n",
              " 'choice',\n",
              " 'choices',\n",
              " 'expovariate',\n",
              " 'gammavariate',\n",
              " 'gauss',\n",
              " 'getrandbits',\n",
              " 'getstate',\n",
              " 'lognormvariate',\n",
              " 'normalvariate',\n",
              " 'paretovariate',\n",
              " 'randbytes',\n",
              " 'randint',\n",
              " 'random',\n",
              " 'randrange',\n",
              " 'sample',\n",
              " 'seed',\n",
              " 'setstate',\n",
              " 'shuffle',\n",
              " 'triangular',\n",
              " 'uniform',\n",
              " 'vonmisesvariate',\n",
              " 'weibullvariate']"
            ]
          },
          "metadata": {},
          "execution_count": 1
        }
      ]
    },
    {
      "cell_type": "code",
      "source": [
        "print(random.random()) # retorna um número aleatório entre 0 e 1\n",
        "\n",
        "# random.random() = <nome do módulo>.<nome da função>"
      ],
      "metadata": {
        "colab": {
          "base_uri": "https://localhost:8080/"
        },
        "id": "uZIHwVDtT4Li",
        "outputId": "b2280df6-62e7-4ad9-847e-0a1234f58079"
      },
      "execution_count": null,
      "outputs": [
        {
          "output_type": "stream",
          "name": "stdout",
          "text": [
            "0.49055909976186973\n"
          ]
        }
      ]
    },
    {
      "cell_type": "code",
      "source": [
        "# forma 2 - importando uma função específica do módulo (forma recomendada)\n",
        "\n",
        "from random import random\n",
        "\n",
        "print(random())"
      ],
      "metadata": {
        "colab": {
          "base_uri": "https://localhost:8080/"
        },
        "id": "gIux9XiRUkal",
        "outputId": "7748fe4a-5d98-4248-edce-ef088db68015"
      },
      "execution_count": null,
      "outputs": [
        {
          "output_type": "stream",
          "name": "stdout",
          "text": [
            "0.6753495374404284\n"
          ]
        }
      ]
    },
    {
      "cell_type": "code",
      "source": [
        "# Gerar um número real pseudo-aleatório entre os valores estabelecidos\n",
        "\n",
        "from random import uniform\n",
        "\n",
        "for i in range(10):\n",
        "  print(uniform(3, 7)) # 7 não é incluído --> [3, 7)"
      ],
      "metadata": {
        "colab": {
          "base_uri": "https://localhost:8080/"
        },
        "id": "N3EffGqUVPq6",
        "outputId": "0d0cdb85-d597-4147-a719-cbe1786b266e"
      },
      "execution_count": null,
      "outputs": [
        {
          "output_type": "stream",
          "name": "stdout",
          "text": [
            "6.122390673097546\n",
            "6.268661689498493\n",
            "6.60403137062007\n",
            "3.6065645928220773\n",
            "5.567171581192425\n",
            "6.311600755364486\n",
            "5.282045610184467\n",
            "4.443207149244889\n",
            "3.7246810450090813\n",
            "5.926071143782892\n"
          ]
        }
      ]
    },
    {
      "cell_type": "code",
      "source": [
        "# Gerar um número inteiro pseudo-aleatório entre os valores estabelecidos\n",
        "\n",
        "from random import randint\n",
        "\n",
        "for i in range(6):\n",
        "  print(randint(1, 61), end=', ')"
      ],
      "metadata": {
        "colab": {
          "base_uri": "https://localhost:8080/"
        },
        "id": "vthS8-P3VrvI",
        "outputId": "78849d2f-51ac-4e3c-e837-68036f9ccb64"
      },
      "execution_count": null,
      "outputs": [
        {
          "output_type": "stream",
          "name": "stdout",
          "text": [
            "7, 13, 12, 45, 41, 11, "
          ]
        }
      ]
    },
    {
      "cell_type": "code",
      "source": [
        "# Mostra um valor aleatório entre um iterável\n",
        "\n",
        "from random import choice\n",
        "\n",
        "jogadas = ['pedra', 'papel', 'tesoura', 'lagarto', 'spock']\n",
        "\n",
        "print(choice(jogadas))"
      ],
      "metadata": {
        "colab": {
          "base_uri": "https://localhost:8080/"
        },
        "id": "urqAp1QAWST0",
        "outputId": "8c8c4dad-f71c-4b66-9d4a-235c5ca921b6"
      },
      "execution_count": null,
      "outputs": [
        {
          "output_type": "stream",
          "name": "stdout",
          "text": [
            "tesoura\n"
          ]
        }
      ]
    },
    {
      "cell_type": "markdown",
      "source": [
        "`shuffle()` -> tem a função de embaralhar dados."
      ],
      "metadata": {
        "id": "D_AkvQ1bWz0y"
      }
    },
    {
      "cell_type": "code",
      "source": [
        "from random import shuffle\n",
        "\n",
        "cartas = ['K', 'Q', 'J', 'A', '2', '3', '4', '5', '6', '7']\n",
        "print(cartas)\n",
        "\n",
        "shuffle(cartas)\n",
        "print(cartas)"
      ],
      "metadata": {
        "colab": {
          "base_uri": "https://localhost:8080/"
        },
        "id": "49Z39jcQW51V",
        "outputId": "65952988-b03d-466a-ce57-ab8c7964d1e0"
      },
      "execution_count": null,
      "outputs": [
        {
          "output_type": "stream",
          "name": "stdout",
          "text": [
            "['K', 'Q', 'J', 'A', '2', '3', '4', '5', '6', '7']\n",
            "['3', '2', 'J', 'K', '7', '4', '6', 'A', 'Q', '5']\n"
          ]
        }
      ]
    },
    {
      "cell_type": "markdown",
      "source": [
        "# 2.Módulos Built-in\n",
        "\n",
        "Módulos integrados, que já vêm instalados no python."
      ],
      "metadata": {
        "id": "ZOcYQ1x_XuTl"
      }
    },
    {
      "cell_type": "code",
      "source": [
        "# utilizando alias para módulos/ funções\n",
        "\n",
        "import random as rdm\n",
        "\n",
        "print(rdm.random())"
      ],
      "metadata": {
        "colab": {
          "base_uri": "https://localhost:8080/"
        },
        "id": "yoPukJCcbU89",
        "outputId": "69b7636b-6d33-473f-ed62-cbf998c58e1c"
      },
      "execution_count": null,
      "outputs": [
        {
          "output_type": "stream",
          "name": "stdout",
          "text": [
            "0.7854744828231761\n"
          ]
        }
      ]
    },
    {
      "cell_type": "markdown",
      "source": [
        "Podemos importar todas as funções de um módulo utilizando o *"
      ],
      "metadata": {
        "id": "1XEp2j1MbnMd"
      }
    },
    {
      "cell_type": "code",
      "source": [
        "from random import *\n",
        "\n",
        "print(random()) # não preciso colocar o \"modulo.\" antes da função"
      ],
      "metadata": {
        "colab": {
          "base_uri": "https://localhost:8080/"
        },
        "id": "uKgMwkR9bqHK",
        "outputId": "9306b56d-a068-4605-852b-998080138b01"
      },
      "execution_count": null,
      "outputs": [
        {
          "output_type": "stream",
          "name": "stdout",
          "text": [
            "0.8960430130485536\n"
          ]
        }
      ]
    },
    {
      "cell_type": "code",
      "source": [
        "# colocando alias no função\n",
        "\n",
        "from random import randint as rdi\n",
        "print(rdi(5, 50))"
      ],
      "metadata": {
        "colab": {
          "base_uri": "https://localhost:8080/"
        },
        "id": "RnhcH8JtcDfG",
        "outputId": "035d516d-22de-457b-9f69-881ef1675aa4"
      },
      "execution_count": null,
      "outputs": [
        {
          "output_type": "stream",
          "name": "stdout",
          "text": [
            "14\n"
          ]
        }
      ]
    },
    {
      "cell_type": "code",
      "source": [
        "# importando mais de uma função\n",
        "\n",
        "from random import randint as rdi, random as rdm\n",
        "\n",
        "print(rdi(5, 50))\n",
        "print(rdm())"
      ],
      "metadata": {
        "colab": {
          "base_uri": "https://localhost:8080/"
        },
        "id": "9f91H3uhcOp4",
        "outputId": "b385e330-b234-460f-c650-3776c62000a8"
      },
      "execution_count": null,
      "outputs": [
        {
          "output_type": "stream",
          "name": "stdout",
          "text": [
            "6\n",
            "0.18416013207123316\n"
          ]
        }
      ]
    },
    {
      "cell_type": "markdown",
      "source": [
        "Para fazer múltiplos imports de um mesmo módulo, é interessante usar `tuple`."
      ],
      "metadata": {
        "id": "N_6r3lMicxcP"
      }
    },
    {
      "cell_type": "code",
      "source": [
        "from random import (\n",
        "    random,\n",
        "    randint,\n",
        "    shuffle,\n",
        "    choice,\n",
        "    uniform\n",
        ")"
      ],
      "metadata": {
        "id": "ppbqMqrMc4Ns"
      },
      "execution_count": 1,
      "outputs": []
    },
    {
      "cell_type": "markdown",
      "source": [
        "Documentação dos módulos built-in do python: [modulos/builtin](https://docs.python.org/3/py-modindex.html)"
      ],
      "metadata": {
        "id": "rFB2nyyodUWT"
      }
    },
    {
      "cell_type": "markdown",
      "source": [
        "# 3.Módulos customizados\n",
        "\n",
        "Qualquer arquivo python que você crie no seu ambiente de projeto python é um módulo customizado, que pode ser importado e utilizado.\n",
        "\n",
        "sintaxe:\n",
        "```python\n",
        "from <arquivo> import <função>\n",
        "```\n",
        "\n",
        "**Obs.:** não colocar a extensão `.py` no nome do arquivo no `from`."
      ],
      "metadata": {
        "id": "1F14QTt_dqvi"
      }
    },
    {
      "cell_type": "markdown",
      "source": [
        "# 4.Instalando e utilizando módulos externos\n",
        "\n",
        "Utilizamos o gerenciador de pacotes Python chamado `pip` - Python Installer Package.\n",
        "\n",
        "Você pode conhecer todos os pacotes externos oficiais em [pypi.org](https://pypi.org)"
      ],
      "metadata": {
        "id": "gcjo0kJBfDTA"
      }
    },
    {
      "cell_type": "code",
      "source": [
        "pip install colorama"
      ],
      "metadata": {
        "colab": {
          "base_uri": "https://localhost:8080/"
        },
        "id": "2lc_UpD6jfyc",
        "outputId": "f7c33b36-88c4-41cd-85e9-836bb1e3dd94"
      },
      "execution_count": 2,
      "outputs": [
        {
          "output_type": "stream",
          "name": "stdout",
          "text": [
            "Collecting colorama\n",
            "  Downloading colorama-0.4.6-py2.py3-none-any.whl (25 kB)\n",
            "Installing collected packages: colorama\n",
            "Successfully installed colorama-0.4.6\n"
          ]
        }
      ]
    },
    {
      "cell_type": "markdown",
      "source": [
        "Se tentar fazer a instalação de um pacote já instalado, não será feito novamente."
      ],
      "metadata": {
        "id": "PipHifsQkDNG"
      }
    },
    {
      "cell_type": "code",
      "source": [
        "pip install colorama"
      ],
      "metadata": {
        "colab": {
          "base_uri": "https://localhost:8080/"
        },
        "id": "ctgj9JILkG7T",
        "outputId": "e32d333b-8106-4ac3-c5ac-a505cc553e7a"
      },
      "execution_count": 3,
      "outputs": [
        {
          "output_type": "stream",
          "name": "stdout",
          "text": [
            "Requirement already satisfied: colorama in /usr/local/lib/python3.10/dist-packages (0.4.6)\n"
          ]
        }
      ]
    },
    {
      "cell_type": "markdown",
      "source": [
        "`colorama` -> é utilizado para permitir impressão de textos coloridos no terminal."
      ],
      "metadata": {
        "id": "rXRPkkc_kLWo"
      }
    },
    {
      "cell_type": "code",
      "source": [
        "from colorama import init\n",
        "init()"
      ],
      "metadata": {
        "id": "eB4HfM8kkdzS"
      },
      "execution_count": 4,
      "outputs": []
    },
    {
      "cell_type": "code",
      "source": [
        "from colorama import just_fix_windows_console\n",
        "just_fix_windows_console()"
      ],
      "metadata": {
        "id": "1tVe6UkJk5Ut"
      },
      "execution_count": 6,
      "outputs": []
    },
    {
      "cell_type": "code",
      "source": [
        "from colorama import Fore, Back, Style\n",
        "print(Fore.RED + 'some red text')\n",
        "print(Back.GREEN + 'and with a green background')\n",
        "print(Style.DIM + 'and in dim text')\n",
        "print(Style.RESET_ALL)\n",
        "print('back to normal now')\n",
        "\n",
        "# não aparecem as cores, apenas no terminal"
      ],
      "metadata": {
        "colab": {
          "base_uri": "https://localhost:8080/"
        },
        "id": "SvJ9dTGgkqTY",
        "outputId": "6cc6cc3d-0b39-41c4-efb2-9ca0a383539e"
      },
      "execution_count": 7,
      "outputs": [
        {
          "output_type": "stream",
          "name": "stdout",
          "text": [
            "some red text\n",
            "and with a green background\n",
            "and in dim text\n",
            "\n",
            "back to normal now\n"
          ]
        }
      ]
    },
    {
      "cell_type": "markdown",
      "source": [
        "# 5.Pacotes\n",
        "\n",
        "Módulo -> é apenas um arquivo Python que pode ter diversas funções para utilizarmos;\n",
        "\n",
        "Pacote -> é um diretório contendo uma coleção de módulos.\n",
        "\n",
        "**Obs.:** nas versões 2.x do Python, um pacote Python deveria conter dentro dele um arquivo chamado `__init __.py`. Nas versões do Python 3.x, não é mais obrigatória a utilização deste arquivo, mas normalmente ainda é utilizado para manter compatibilidade.\n",
        "\n",
        "Imagine a seguinte estrutura de arquivos e pastas:\n",
        "\n",
        "```bash\n",
        "./python_package/\n",
        "---- __init__.py\n",
        "---- modulo1.py\n",
        "---- modulo2.py\n",
        "---- python_subpackage/\n",
        "-------- __init__.py\n",
        "-------- submodulo3.py\n",
        "-------- submodulo4.py\n",
        "```\n",
        "\n",
        "A utilização dos pacotes ficaria da seguinte forma:\n",
        "\n",
        "```python\n",
        "from python_package import modulo1\n",
        "\n",
        "print(modulo1.funcao1(par1, par2, ..., parN))\n",
        "```\n",
        "Importando sumódulos:\n",
        "\n",
        "```python\n",
        "from python_package.python_subpackage import submodulo3\n",
        "\n",
        "print(submodulo3.funcao3())\n",
        "```"
      ],
      "metadata": {
        "id": "WrRnudTKm_yy"
      }
    },
    {
      "cell_type": "markdown",
      "source": [
        "# 6.Dunder Main e Dunder Name\n",
        "\n",
        "Dunder = Double Under = __\n",
        "\n",
        "`Dunder Name` -> ```__name__```\n",
        "\n",
        "`Dunder Main` -> ```__main__```\n",
        "\n",
        "Em Python, são utilizados dunder para criar funções, atributos, propriedades e etc, para não gerar conflito com os nomes desses elementos na programação.\n",
        "\n",
        "Na linguagem C, temos um programa da seguinte forma:\n",
        "\n",
        "```c\n",
        "int main(){\n",
        "  return 0;\n",
        "}\n",
        "```\n",
        "\n",
        "Em Java, temos:\n",
        "\n",
        "```java\n",
        "public static void main(String[] args){\n",
        "\n",
        "}\n",
        "```\n",
        "\n",
        "O main é a função principal, por onde inicia a execução do programa.\n",
        "\n",
        "Em Python, se executarmos um módulo diretamente na linha de comando, internamente o Python atribuirá à variável ```__name__``` o valor ```__main__``` indicando que este módulo é o módulo de execução principal."
      ],
      "metadata": {
        "id": "H5sOORGOqimD"
      }
    },
    {
      "cell_type": "code",
      "source": [
        "def soma_impares(numeros):\n",
        "  total = 0\n",
        "  for num in numeros:\n",
        "    if num % 2 != 0:\n",
        "      total = total + num\n",
        "  return total\n",
        "\n",
        "# o bloco a seguir só será executado se o módulo for executado diretamente\n",
        "# se for via import, não será executado pois __name__ != '__main__'\n",
        "if __name__ == '__main__':\n",
        "  lista = [1, 2, 3, 4, 5]\n",
        "  print(soma_impares(lista))\n",
        "\n",
        "# quando ocorre import, a variável __name__ recebe o nome do próprio módulo."
      ],
      "metadata": {
        "id": "5mp5LT99tROn"
      },
      "execution_count": null,
      "outputs": []
    }
  ]
}