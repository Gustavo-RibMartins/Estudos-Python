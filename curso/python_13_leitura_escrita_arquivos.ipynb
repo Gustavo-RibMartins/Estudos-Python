{
  "nbformat": 4,
  "nbformat_minor": 0,
  "metadata": {
    "colab": {
      "provenance": [],
      "authorship_tag": "ABX9TyMlrZ9H1pRyp/cu4GGrHrmi",
      "include_colab_link": true
    },
    "kernelspec": {
      "name": "python3",
      "display_name": "Python 3"
    },
    "language_info": {
      "name": "python"
    }
  },
  "cells": [
    {
      "cell_type": "markdown",
      "metadata": {
        "id": "view-in-github",
        "colab_type": "text"
      },
      "source": [
        "<a href=\"https://colab.research.google.com/github/Gustavo-RibMartins/estudos-python/blob/develop/curso/python_13_leitura_escrita_arquivos.ipynb\" target=\"_parent\"><img src=\"https://colab.research.google.com/assets/colab-badge.svg\" alt=\"Open In Colab\"/></a>"
      ]
    },
    {
      "cell_type": "markdown",
      "source": [
        "# 1.Leitura de arquivos\n",
        "\n",
        "Para ler o conteúdo de um arquivo em Python, utilizamos a função integrada `open()`.\n",
        "\n",
        "`open()` -> na forma mais simples de utilização nós passamos apenas um parâmetro de entrada, que neste caso, é o caminho para o arquivo a ser lido. Essa função retorna um `_io.TextIOWrapper` e é com ele que trabalhamos.\n",
        "\n",
        "Documentação da função `open()` : [python-open](https://docs.python.org/3/library/functions.html#open)\n",
        "\n",
        "**Obs.:** por padrão, a função `open()` abre o arquivo para leitura. Este arquivo deve existir, ou então teremos o erro FileNotFoundError."
      ],
      "metadata": {
        "id": "8BG4ne10B1Q1"
      }
    },
    {
      "cell_type": "code",
      "execution_count": 5,
      "metadata": {
        "id": "1fNna44jwCtd",
        "colab": {
          "base_uri": "https://localhost:8080/"
        },
        "outputId": "572e646c-ee6d-47ba-e21e-f40967fb03fa"
      },
      "outputs": [
        {
          "output_type": "stream",
          "name": "stdout",
          "text": [
            "<_io.TextIOWrapper name='texto.txt' mode='r' encoding='UTF-8'>\n",
            "<class '_io.TextIOWrapper'>\n"
          ]
        }
      ],
      "source": [
        "# exemplo\n",
        "\n",
        "arquivo = open('texto.txt')\n",
        "print(arquivo)\n",
        "\n",
        "print(type(arquivo))"
      ]
    },
    {
      "cell_type": "markdown",
      "source": [
        "mode='r' --> leitura"
      ],
      "metadata": {
        "id": "P-UQ5CVkEIQ4"
      }
    },
    {
      "cell_type": "code",
      "source": [
        "arquivo = open('texto.txt')\n",
        "\n",
        "# para ler o conteúdo de um arquivo após sua abertura, devemos utilizar a função read()\n",
        "\n",
        "print(arquivo.read())\n",
        "\n",
        "print(arquivo.read()) # no segundo print, não acontece nada"
      ],
      "metadata": {
        "colab": {
          "base_uri": "https://localhost:8080/"
        },
        "id": "nlUZWf_8MaDG",
        "outputId": "f68e81b9-973c-43fc-b4e7-7bfa5f378bc3"
      },
      "execution_count": 7,
      "outputs": [
        {
          "output_type": "stream",
          "name": "stdout",
          "text": [
            "Nome: Gustavo Ribeiro Martins\n",
            "Profissão: Engenheiro de Analytics\n",
            "Idade: 27\n",
            "\n",
            "\n"
          ]
        }
      ]
    },
    {
      "cell_type": "markdown",
      "source": [
        "**Obs.:** O Python utiliza um recruso para trabalhar com arquivos chamado cursor. Esse curso, funciona como o cursor quando estamos escrevendo. A função `read()` lê todo o conteúdo do arquivo."
      ],
      "metadata": {
        "id": "_IIPfufqM3GB"
      }
    },
    {
      "cell_type": "code",
      "source": [
        "arquivo = open('sample_data/README.md')\n",
        "\n",
        "ret = arquivo.read()\n",
        "print(type(ret))\n",
        "print(ret)"
      ],
      "metadata": {
        "colab": {
          "base_uri": "https://localhost:8080/"
        },
        "id": "5INl4Aq2OG_t",
        "outputId": "9d31ffb6-9440-4f58-c3f7-b4dac27318ea"
      },
      "execution_count": 2,
      "outputs": [
        {
          "output_type": "stream",
          "name": "stdout",
          "text": [
            "<class 'str'>\n",
            "This directory includes a few sample datasets to get you started.\n",
            "\n",
            "*   `california_housing_data*.csv` is California housing data from the 1990 US\n",
            "    Census; more information is available at:\n",
            "    https://developers.google.com/machine-learning/crash-course/california-housing-data-description\n",
            "\n",
            "*   `mnist_*.csv` is a small sample of the\n",
            "    [MNIST database](https://en.wikipedia.org/wiki/MNIST_database), which is\n",
            "    described at: http://yann.lecun.com/exdb/mnist/\n",
            "\n",
            "*   `anscombe.json` contains a copy of\n",
            "    [Anscombe's quartet](https://en.wikipedia.org/wiki/Anscombe%27s_quartet); it\n",
            "    was originally described in\n",
            "\n",
            "    Anscombe, F. J. (1973). 'Graphs in Statistical Analysis'. American\n",
            "    Statistician. 27 (1): 17-21. JSTOR 2682899.\n",
            "\n",
            "    and our copy was prepared by the\n",
            "    [vega_datasets library](https://github.com/altair-viz/vega_datasets/blob/4f67bdaad10f45e3549984e17e1b3088c731503d/vega_datasets/_data/anscombe.json).\n",
            "\n"
          ]
        }
      ]
    },
    {
      "cell_type": "markdown",
      "source": [
        "# 2.Seek e Cursors\n",
        "\n",
        "`seek()`-> é utilizada para movimentar o cursos pelo arquivo."
      ],
      "metadata": {
        "id": "L0SQBk0D1B_m"
      }
    },
    {
      "cell_type": "code",
      "source": [
        "arquivo = open('sample_data/anscombe.json')\n",
        "\n",
        "print(arquivo.read())\n",
        "print(arquivo.read()) # ao tentar ler de novo, o cursor já está no final do arquivo"
      ],
      "metadata": {
        "colab": {
          "base_uri": "https://localhost:8080/"
        },
        "id": "lrpDp-Nc1bZA",
        "outputId": "bf4bce24-34e2-4333-f7d9-199d4f67655c"
      },
      "execution_count": 4,
      "outputs": [
        {
          "output_type": "stream",
          "name": "stdout",
          "text": [
            "[\n",
            "  {\"Series\":\"I\", \"X\":10.0, \"Y\":8.04},\n",
            "  {\"Series\":\"I\", \"X\":8.0, \"Y\":6.95},\n",
            "  {\"Series\":\"I\", \"X\":13.0, \"Y\":7.58},\n",
            "  {\"Series\":\"I\", \"X\":9.0, \"Y\":8.81},\n",
            "  {\"Series\":\"I\", \"X\":11.0, \"Y\":8.33},\n",
            "  {\"Series\":\"I\", \"X\":14.0, \"Y\":9.96},\n",
            "  {\"Series\":\"I\", \"X\":6.0, \"Y\":7.24},\n",
            "  {\"Series\":\"I\", \"X\":4.0, \"Y\":4.26},\n",
            "  {\"Series\":\"I\", \"X\":12.0, \"Y\":10.84},\n",
            "  {\"Series\":\"I\", \"X\":7.0, \"Y\":4.81},\n",
            "  {\"Series\":\"I\", \"X\":5.0, \"Y\":5.68},\n",
            "\n",
            "  {\"Series\":\"II\", \"X\":10.0, \"Y\":9.14},\n",
            "  {\"Series\":\"II\", \"X\":8.0, \"Y\":8.14},\n",
            "  {\"Series\":\"II\", \"X\":13.0, \"Y\":8.74},\n",
            "  {\"Series\":\"II\", \"X\":9.0, \"Y\":8.77},\n",
            "  {\"Series\":\"II\", \"X\":11.0, \"Y\":9.26},\n",
            "  {\"Series\":\"II\", \"X\":14.0, \"Y\":8.10},\n",
            "  {\"Series\":\"II\", \"X\":6.0, \"Y\":6.13},\n",
            "  {\"Series\":\"II\", \"X\":4.0, \"Y\":3.10},\n",
            "  {\"Series\":\"II\", \"X\":12.0, \"Y\":9.13},\n",
            "  {\"Series\":\"II\", \"X\":7.0, \"Y\":7.26},\n",
            "  {\"Series\":\"II\", \"X\":5.0, \"Y\":4.74},\n",
            "\n",
            "  {\"Series\":\"III\", \"X\":10.0, \"Y\":7.46},\n",
            "  {\"Series\":\"III\", \"X\":8.0, \"Y\":6.77},\n",
            "  {\"Series\":\"III\", \"X\":13.0, \"Y\":12.74},\n",
            "  {\"Series\":\"III\", \"X\":9.0, \"Y\":7.11},\n",
            "  {\"Series\":\"III\", \"X\":11.0, \"Y\":7.81},\n",
            "  {\"Series\":\"III\", \"X\":14.0, \"Y\":8.84},\n",
            "  {\"Series\":\"III\", \"X\":6.0, \"Y\":6.08},\n",
            "  {\"Series\":\"III\", \"X\":4.0, \"Y\":5.39},\n",
            "  {\"Series\":\"III\", \"X\":12.0, \"Y\":8.15},\n",
            "  {\"Series\":\"III\", \"X\":7.0, \"Y\":6.42},\n",
            "  {\"Series\":\"III\", \"X\":5.0, \"Y\":5.73},\n",
            "\n",
            "  {\"Series\":\"IV\", \"X\":8.0, \"Y\":6.58},\n",
            "  {\"Series\":\"IV\", \"X\":8.0, \"Y\":5.76},\n",
            "  {\"Series\":\"IV\", \"X\":8.0, \"Y\":7.71},\n",
            "  {\"Series\":\"IV\", \"X\":8.0, \"Y\":8.84},\n",
            "  {\"Series\":\"IV\", \"X\":8.0, \"Y\":8.47},\n",
            "  {\"Series\":\"IV\", \"X\":8.0, \"Y\":7.04},\n",
            "  {\"Series\":\"IV\", \"X\":8.0, \"Y\":5.25},\n",
            "  {\"Series\":\"IV\", \"X\":19.0, \"Y\":12.50},\n",
            "  {\"Series\":\"IV\", \"X\":8.0, \"Y\":5.56},\n",
            "  {\"Series\":\"IV\", \"X\":8.0, \"Y\":7.91},\n",
            "  {\"Series\":\"IV\", \"X\":8.0, \"Y\":6.89}\n",
            "]\n",
            "\n",
            "\n"
          ]
        }
      ]
    },
    {
      "cell_type": "code",
      "source": [
        "# Movimentando o cursor pelo arquivo com a função seek()\n",
        "\n",
        "arquivo = open('sample_data/anscombe.json')\n",
        "\n",
        "print(arquivo.read())\n",
        "arquivo.seek(0) # parâmetro indica onde queremos colocar o cursor (posição 0)\n",
        "\n",
        "print(arquivo.read())"
      ],
      "metadata": {
        "colab": {
          "base_uri": "https://localhost:8080/"
        },
        "id": "8A9p3tBf2f_A",
        "outputId": "b20003ea-4c79-436d-eefa-cfa8b68e7cb3"
      },
      "execution_count": 5,
      "outputs": [
        {
          "output_type": "stream",
          "name": "stdout",
          "text": [
            "[\n",
            "  {\"Series\":\"I\", \"X\":10.0, \"Y\":8.04},\n",
            "  {\"Series\":\"I\", \"X\":8.0, \"Y\":6.95},\n",
            "  {\"Series\":\"I\", \"X\":13.0, \"Y\":7.58},\n",
            "  {\"Series\":\"I\", \"X\":9.0, \"Y\":8.81},\n",
            "  {\"Series\":\"I\", \"X\":11.0, \"Y\":8.33},\n",
            "  {\"Series\":\"I\", \"X\":14.0, \"Y\":9.96},\n",
            "  {\"Series\":\"I\", \"X\":6.0, \"Y\":7.24},\n",
            "  {\"Series\":\"I\", \"X\":4.0, \"Y\":4.26},\n",
            "  {\"Series\":\"I\", \"X\":12.0, \"Y\":10.84},\n",
            "  {\"Series\":\"I\", \"X\":7.0, \"Y\":4.81},\n",
            "  {\"Series\":\"I\", \"X\":5.0, \"Y\":5.68},\n",
            "\n",
            "  {\"Series\":\"II\", \"X\":10.0, \"Y\":9.14},\n",
            "  {\"Series\":\"II\", \"X\":8.0, \"Y\":8.14},\n",
            "  {\"Series\":\"II\", \"X\":13.0, \"Y\":8.74},\n",
            "  {\"Series\":\"II\", \"X\":9.0, \"Y\":8.77},\n",
            "  {\"Series\":\"II\", \"X\":11.0, \"Y\":9.26},\n",
            "  {\"Series\":\"II\", \"X\":14.0, \"Y\":8.10},\n",
            "  {\"Series\":\"II\", \"X\":6.0, \"Y\":6.13},\n",
            "  {\"Series\":\"II\", \"X\":4.0, \"Y\":3.10},\n",
            "  {\"Series\":\"II\", \"X\":12.0, \"Y\":9.13},\n",
            "  {\"Series\":\"II\", \"X\":7.0, \"Y\":7.26},\n",
            "  {\"Series\":\"II\", \"X\":5.0, \"Y\":4.74},\n",
            "\n",
            "  {\"Series\":\"III\", \"X\":10.0, \"Y\":7.46},\n",
            "  {\"Series\":\"III\", \"X\":8.0, \"Y\":6.77},\n",
            "  {\"Series\":\"III\", \"X\":13.0, \"Y\":12.74},\n",
            "  {\"Series\":\"III\", \"X\":9.0, \"Y\":7.11},\n",
            "  {\"Series\":\"III\", \"X\":11.0, \"Y\":7.81},\n",
            "  {\"Series\":\"III\", \"X\":14.0, \"Y\":8.84},\n",
            "  {\"Series\":\"III\", \"X\":6.0, \"Y\":6.08},\n",
            "  {\"Series\":\"III\", \"X\":4.0, \"Y\":5.39},\n",
            "  {\"Series\":\"III\", \"X\":12.0, \"Y\":8.15},\n",
            "  {\"Series\":\"III\", \"X\":7.0, \"Y\":6.42},\n",
            "  {\"Series\":\"III\", \"X\":5.0, \"Y\":5.73},\n",
            "\n",
            "  {\"Series\":\"IV\", \"X\":8.0, \"Y\":6.58},\n",
            "  {\"Series\":\"IV\", \"X\":8.0, \"Y\":5.76},\n",
            "  {\"Series\":\"IV\", \"X\":8.0, \"Y\":7.71},\n",
            "  {\"Series\":\"IV\", \"X\":8.0, \"Y\":8.84},\n",
            "  {\"Series\":\"IV\", \"X\":8.0, \"Y\":8.47},\n",
            "  {\"Series\":\"IV\", \"X\":8.0, \"Y\":7.04},\n",
            "  {\"Series\":\"IV\", \"X\":8.0, \"Y\":5.25},\n",
            "  {\"Series\":\"IV\", \"X\":19.0, \"Y\":12.50},\n",
            "  {\"Series\":\"IV\", \"X\":8.0, \"Y\":5.56},\n",
            "  {\"Series\":\"IV\", \"X\":8.0, \"Y\":7.91},\n",
            "  {\"Series\":\"IV\", \"X\":8.0, \"Y\":6.89}\n",
            "]\n",
            "\n",
            "[\n",
            "  {\"Series\":\"I\", \"X\":10.0, \"Y\":8.04},\n",
            "  {\"Series\":\"I\", \"X\":8.0, \"Y\":6.95},\n",
            "  {\"Series\":\"I\", \"X\":13.0, \"Y\":7.58},\n",
            "  {\"Series\":\"I\", \"X\":9.0, \"Y\":8.81},\n",
            "  {\"Series\":\"I\", \"X\":11.0, \"Y\":8.33},\n",
            "  {\"Series\":\"I\", \"X\":14.0, \"Y\":9.96},\n",
            "  {\"Series\":\"I\", \"X\":6.0, \"Y\":7.24},\n",
            "  {\"Series\":\"I\", \"X\":4.0, \"Y\":4.26},\n",
            "  {\"Series\":\"I\", \"X\":12.0, \"Y\":10.84},\n",
            "  {\"Series\":\"I\", \"X\":7.0, \"Y\":4.81},\n",
            "  {\"Series\":\"I\", \"X\":5.0, \"Y\":5.68},\n",
            "\n",
            "  {\"Series\":\"II\", \"X\":10.0, \"Y\":9.14},\n",
            "  {\"Series\":\"II\", \"X\":8.0, \"Y\":8.14},\n",
            "  {\"Series\":\"II\", \"X\":13.0, \"Y\":8.74},\n",
            "  {\"Series\":\"II\", \"X\":9.0, \"Y\":8.77},\n",
            "  {\"Series\":\"II\", \"X\":11.0, \"Y\":9.26},\n",
            "  {\"Series\":\"II\", \"X\":14.0, \"Y\":8.10},\n",
            "  {\"Series\":\"II\", \"X\":6.0, \"Y\":6.13},\n",
            "  {\"Series\":\"II\", \"X\":4.0, \"Y\":3.10},\n",
            "  {\"Series\":\"II\", \"X\":12.0, \"Y\":9.13},\n",
            "  {\"Series\":\"II\", \"X\":7.0, \"Y\":7.26},\n",
            "  {\"Series\":\"II\", \"X\":5.0, \"Y\":4.74},\n",
            "\n",
            "  {\"Series\":\"III\", \"X\":10.0, \"Y\":7.46},\n",
            "  {\"Series\":\"III\", \"X\":8.0, \"Y\":6.77},\n",
            "  {\"Series\":\"III\", \"X\":13.0, \"Y\":12.74},\n",
            "  {\"Series\":\"III\", \"X\":9.0, \"Y\":7.11},\n",
            "  {\"Series\":\"III\", \"X\":11.0, \"Y\":7.81},\n",
            "  {\"Series\":\"III\", \"X\":14.0, \"Y\":8.84},\n",
            "  {\"Series\":\"III\", \"X\":6.0, \"Y\":6.08},\n",
            "  {\"Series\":\"III\", \"X\":4.0, \"Y\":5.39},\n",
            "  {\"Series\":\"III\", \"X\":12.0, \"Y\":8.15},\n",
            "  {\"Series\":\"III\", \"X\":7.0, \"Y\":6.42},\n",
            "  {\"Series\":\"III\", \"X\":5.0, \"Y\":5.73},\n",
            "\n",
            "  {\"Series\":\"IV\", \"X\":8.0, \"Y\":6.58},\n",
            "  {\"Series\":\"IV\", \"X\":8.0, \"Y\":5.76},\n",
            "  {\"Series\":\"IV\", \"X\":8.0, \"Y\":7.71},\n",
            "  {\"Series\":\"IV\", \"X\":8.0, \"Y\":8.84},\n",
            "  {\"Series\":\"IV\", \"X\":8.0, \"Y\":8.47},\n",
            "  {\"Series\":\"IV\", \"X\":8.0, \"Y\":7.04},\n",
            "  {\"Series\":\"IV\", \"X\":8.0, \"Y\":5.25},\n",
            "  {\"Series\":\"IV\", \"X\":19.0, \"Y\":12.50},\n",
            "  {\"Series\":\"IV\", \"X\":8.0, \"Y\":5.56},\n",
            "  {\"Series\":\"IV\", \"X\":8.0, \"Y\":7.91},\n",
            "  {\"Series\":\"IV\", \"X\":8.0, \"Y\":6.89}\n",
            "]\n",
            "\n"
          ]
        }
      ]
    },
    {
      "cell_type": "code",
      "source": [
        "# readline() -> faz a leitura linha a linha\n",
        "\n",
        "arquivo = open('sample_data/anscombe.json')\n",
        "print(arquivo.readline()) # imprime a primeira linha\n",
        "print(arquivo.readline()) # imprime a segunda linha"
      ],
      "metadata": {
        "colab": {
          "base_uri": "https://localhost:8080/"
        },
        "id": "H4YDmqtD5bDC",
        "outputId": "bbc0a42c-9a71-4cfc-918e-cacd26d82918"
      },
      "execution_count": 9,
      "outputs": [
        {
          "output_type": "stream",
          "name": "stdout",
          "text": [
            "[\n",
            "\n",
            "  {\"Series\":\"I\", \"X\":10.0, \"Y\":8.04},\n",
            "\n"
          ]
        }
      ]
    },
    {
      "cell_type": "code",
      "source": [
        "# readlines() -> transformas as linhas do arquivo em uma lista\n",
        "\n",
        "arquivo = open('sample_data/anscombe.json')\n",
        "print(arquivo.readlines())"
      ],
      "metadata": {
        "colab": {
          "base_uri": "https://localhost:8080/"
        },
        "id": "m7Q_gwfh74xC",
        "outputId": "2383ac51-f24a-416f-ceac-3fc40e446e79"
      },
      "execution_count": 10,
      "outputs": [
        {
          "output_type": "stream",
          "name": "stdout",
          "text": [
            "['[\\n', '  {\"Series\":\"I\", \"X\":10.0, \"Y\":8.04},\\n', '  {\"Series\":\"I\", \"X\":8.0, \"Y\":6.95},\\n', '  {\"Series\":\"I\", \"X\":13.0, \"Y\":7.58},\\n', '  {\"Series\":\"I\", \"X\":9.0, \"Y\":8.81},\\n', '  {\"Series\":\"I\", \"X\":11.0, \"Y\":8.33},\\n', '  {\"Series\":\"I\", \"X\":14.0, \"Y\":9.96},\\n', '  {\"Series\":\"I\", \"X\":6.0, \"Y\":7.24},\\n', '  {\"Series\":\"I\", \"X\":4.0, \"Y\":4.26},\\n', '  {\"Series\":\"I\", \"X\":12.0, \"Y\":10.84},\\n', '  {\"Series\":\"I\", \"X\":7.0, \"Y\":4.81},\\n', '  {\"Series\":\"I\", \"X\":5.0, \"Y\":5.68},\\n', '\\n', '  {\"Series\":\"II\", \"X\":10.0, \"Y\":9.14},\\n', '  {\"Series\":\"II\", \"X\":8.0, \"Y\":8.14},\\n', '  {\"Series\":\"II\", \"X\":13.0, \"Y\":8.74},\\n', '  {\"Series\":\"II\", \"X\":9.0, \"Y\":8.77},\\n', '  {\"Series\":\"II\", \"X\":11.0, \"Y\":9.26},\\n', '  {\"Series\":\"II\", \"X\":14.0, \"Y\":8.10},\\n', '  {\"Series\":\"II\", \"X\":6.0, \"Y\":6.13},\\n', '  {\"Series\":\"II\", \"X\":4.0, \"Y\":3.10},\\n', '  {\"Series\":\"II\", \"X\":12.0, \"Y\":9.13},\\n', '  {\"Series\":\"II\", \"X\":7.0, \"Y\":7.26},\\n', '  {\"Series\":\"II\", \"X\":5.0, \"Y\":4.74},\\n', '\\n', '  {\"Series\":\"III\", \"X\":10.0, \"Y\":7.46},\\n', '  {\"Series\":\"III\", \"X\":8.0, \"Y\":6.77},\\n', '  {\"Series\":\"III\", \"X\":13.0, \"Y\":12.74},\\n', '  {\"Series\":\"III\", \"X\":9.0, \"Y\":7.11},\\n', '  {\"Series\":\"III\", \"X\":11.0, \"Y\":7.81},\\n', '  {\"Series\":\"III\", \"X\":14.0, \"Y\":8.84},\\n', '  {\"Series\":\"III\", \"X\":6.0, \"Y\":6.08},\\n', '  {\"Series\":\"III\", \"X\":4.0, \"Y\":5.39},\\n', '  {\"Series\":\"III\", \"X\":12.0, \"Y\":8.15},\\n', '  {\"Series\":\"III\", \"X\":7.0, \"Y\":6.42},\\n', '  {\"Series\":\"III\", \"X\":5.0, \"Y\":5.73},\\n', '\\n', '  {\"Series\":\"IV\", \"X\":8.0, \"Y\":6.58},\\n', '  {\"Series\":\"IV\", \"X\":8.0, \"Y\":5.76},\\n', '  {\"Series\":\"IV\", \"X\":8.0, \"Y\":7.71},\\n', '  {\"Series\":\"IV\", \"X\":8.0, \"Y\":8.84},\\n', '  {\"Series\":\"IV\", \"X\":8.0, \"Y\":8.47},\\n', '  {\"Series\":\"IV\", \"X\":8.0, \"Y\":7.04},\\n', '  {\"Series\":\"IV\", \"X\":8.0, \"Y\":5.25},\\n', '  {\"Series\":\"IV\", \"X\":19.0, \"Y\":12.50},\\n', '  {\"Series\":\"IV\", \"X\":8.0, \"Y\":5.56},\\n', '  {\"Series\":\"IV\", \"X\":8.0, \"Y\":7.91},\\n', '  {\"Series\":\"IV\", \"X\":8.0, \"Y\":6.89}\\n', ']\\n']\n"
          ]
        }
      ]
    },
    {
      "cell_type": "markdown",
      "source": [
        "**Obs.:** quando abrimos um arquivo com `open()` é criada uma conexão entre o arquivo no disco do computador e o seu programa. Essa conexão é chamada de streaming.\n",
        "Ao finalizar os trabalhos com o arquivo, devemos fechar essa conexão. Para isso utilizamos a função `close()`."
      ],
      "metadata": {
        "id": "rQXyhHPA8Zv1"
      }
    },
    {
      "cell_type": "code",
      "source": [
        "arquivo = open('sample_data/anscombe.json')\n",
        "\n",
        "print(arquivo.closed) # retorna True se o arquivo estiver fechado\n",
        "\n",
        "arquivo.close()\n",
        "\n",
        "print(arquivo.closed)\n",
        "\n",
        "print(arquivo.read()) # se tentar manipular um arquivo fechado, ocorre ValueError"
      ],
      "metadata": {
        "colab": {
          "base_uri": "https://localhost:8080/",
          "height": 211
        },
        "id": "SgTo_EN08xWh",
        "outputId": "38aa81af-f886-4e29-eb30-f7aeb476fcd4"
      },
      "execution_count": 16,
      "outputs": [
        {
          "output_type": "stream",
          "name": "stdout",
          "text": [
            "False\n",
            "True\n"
          ]
        },
        {
          "output_type": "error",
          "ename": "ValueError",
          "evalue": "I/O operation on closed file.",
          "traceback": [
            "\u001b[0;31m---------------------------------------------------------------------------\u001b[0m",
            "\u001b[0;31mValueError\u001b[0m                                Traceback (most recent call last)",
            "\u001b[0;32m<ipython-input-16-a04a0226e31c>\u001b[0m in \u001b[0;36m<cell line: 9>\u001b[0;34m()\u001b[0m\n\u001b[1;32m      7\u001b[0m \u001b[0mprint\u001b[0m\u001b[0;34m(\u001b[0m\u001b[0marquivo\u001b[0m\u001b[0;34m.\u001b[0m\u001b[0mclosed\u001b[0m\u001b[0;34m)\u001b[0m\u001b[0;34m\u001b[0m\u001b[0;34m\u001b[0m\u001b[0m\n\u001b[1;32m      8\u001b[0m \u001b[0;34m\u001b[0m\u001b[0m\n\u001b[0;32m----> 9\u001b[0;31m \u001b[0mprint\u001b[0m\u001b[0;34m(\u001b[0m\u001b[0marquivo\u001b[0m\u001b[0;34m.\u001b[0m\u001b[0mread\u001b[0m\u001b[0;34m(\u001b[0m\u001b[0;34m)\u001b[0m\u001b[0;34m)\u001b[0m \u001b[0;31m# se tentar manipular um arquivo fechado, ocorre ValueError\u001b[0m\u001b[0;34m\u001b[0m\u001b[0;34m\u001b[0m\u001b[0m\n\u001b[0m",
            "\u001b[0;31mValueError\u001b[0m: I/O operation on closed file."
          ]
        }
      ]
    },
    {
      "cell_type": "code",
      "source": [
        "# é possível limitar a quantidade de registros no read()\n",
        "\n",
        "arquivo = open('sample_data/anscombe.json')\n",
        "\n",
        "arquivo.read(10) # apenas 10 caracteres"
      ],
      "metadata": {
        "colab": {
          "base_uri": "https://localhost:8080/",
          "height": 35
        },
        "id": "EjLzb8R-97Ql",
        "outputId": "a3b109e7-bf8f-4624-b194-8614509bbd05"
      },
      "execution_count": 18,
      "outputs": [
        {
          "output_type": "execute_result",
          "data": {
            "text/plain": [
              "'[\\n  {\"Seri'"
            ],
            "application/vnd.google.colaboratory.intrinsic+json": {
              "type": "string"
            }
          },
          "metadata": {},
          "execution_count": 18
        }
      ]
    },
    {
      "cell_type": "markdown",
      "source": [
        "# 3.Comando with\n",
        "\n",
        "O bloco `with` é utilizado para criar um contexto de trabalho onde os recursos utilizados são fechados após o bloco `with`."
      ],
      "metadata": {
        "id": "gjRdVYxyPlgx"
      }
    },
    {
      "cell_type": "code",
      "source": [
        "# forma Pythônica de manipular arquivos\n",
        "\n",
        "with open('sample_data/anscombe.json') as arquivo:\n",
        "  print(arquivo.read(20)) # leia 20 caracteres\n",
        "\n",
        "print(arquivo.closed) # arquivo é fechado automaticamente após o bloco do with"
      ],
      "metadata": {
        "colab": {
          "base_uri": "https://localhost:8080/"
        },
        "id": "Vw6c42dQQHex",
        "outputId": "4a2ce555-efe5-4cf2-a924-8ad1f98326c0"
      },
      "execution_count": 19,
      "outputs": [
        {
          "output_type": "stream",
          "name": "stdout",
          "text": [
            "[\n",
            "  {\"Series\":\"I\", \"\n",
            "True\n"
          ]
        }
      ]
    },
    {
      "cell_type": "markdown",
      "source": [
        "# 4.Escrevendo em arquivos\n",
        "\n",
        "Ao abrir um arquivo para leitura, não podemos realizar a escrita nele, apenas ler. Da mesma forma, se abrirmos um arquivo para escrita, não podemos ler, só escrever.\n",
        "\n",
        "**Obs.:** ao abrir um arquivo para escrita, o arquivo é criado no sistema operacional."
      ],
      "metadata": {
        "id": "VkxPMEsFQwOW"
      }
    },
    {
      "cell_type": "code",
      "source": [
        "# modo 'w' -> write\n",
        "\n",
        "with open('sample_data/novo_arquivo.txt', 'w') as arquivo: # será criado esse arquivo\n",
        "  arquivo.write('<<<Gustavo escreveu isso!>>>\\n')\n",
        "  arquivo.write('<<<Gustavo escreveu isso, de novo!>>>')\n",
        "\n",
        "with open('sample_data/novo_arquivo.txt', 'r') as arquivo:\n",
        "  print(arquivo.read())\n",
        "\n",
        "# A função write() recebe uma string como parâmetro, caso contrário, teremos TypeError"
      ],
      "metadata": {
        "colab": {
          "base_uri": "https://localhost:8080/"
        },
        "id": "uW-rpWHkRjZ9",
        "outputId": "c85606bd-3bf3-48dd-f01c-e9d80e63d1c2"
      },
      "execution_count": 25,
      "outputs": [
        {
          "output_type": "stream",
          "name": "stdout",
          "text": [
            "<<<Gustavo escreveu isso!>>>\n",
            "<<<Gustavo escreveu isso, de novo!>>>\n"
          ]
        }
      ]
    },
    {
      "cell_type": "markdown",
      "source": [
        "Abrindo um arquivo com o modo 'w', se o arquivo não existir, será criado.\n",
        "Caso o arquivo já exista ele será sobrescrito e todo o conteúdo no arquivo anterior será perdido."
      ],
      "metadata": {
        "id": "MMOtOdniTTox"
      }
    },
    {
      "cell_type": "code",
      "source": [
        "# se o arquivo já existir, o write() irá sobrepô-lo\n",
        "\n",
        "with open('sample_data/novo_arquivo.txt', 'w') as arquivo:\n",
        "  arquivo.write('mensagem nova')\n",
        "\n",
        "with open('sample_data/novo_arquivo.txt', 'r') as arquivo:\n",
        "  print(arquivo.read())"
      ],
      "metadata": {
        "colab": {
          "base_uri": "https://localhost:8080/"
        },
        "id": "Om5zlMC9TBfU",
        "outputId": "541ef8d7-589e-46f6-ac47-1232998b9fe1"
      },
      "execution_count": 26,
      "outputs": [
        {
          "output_type": "stream",
          "name": "stdout",
          "text": [
            "mensagem nova\n"
          ]
        }
      ]
    },
    {
      "cell_type": "markdown",
      "source": [
        "# 5.Modos de abertura de arquivos\n",
        "\n",
        "- r -> leitura (padrão);\n",
        "- w -> escrita (trunca o arquivo se já existir);\n",
        "- x -> escrita (falha se o arquivo já existir);\n",
        "- a -> escrita (append no final do arquivo caso exista);\n",
        "- `+` -> abre um arquivo em disco para atualização (leitura e escrita com controle do cursor - é usado com r, w, a)."
      ],
      "metadata": {
        "id": "OxTQ8LHbULiI"
      }
    },
    {
      "cell_type": "code",
      "source": [
        "# modo 'x'\n",
        "\n",
        "with open('sample_data/modo_x.csv', 'x') as arquivo:\n",
        "  arquivo.write('modo X')\n",
        "  print('escrita finalizada')\n",
        "\n",
        "with open('sample_data/modo_x.csv', 'x') as arquivo: # FileExistsError\n",
        "  arquivo.write('modo X')\n",
        "  print('escrita finalizada')"
      ],
      "metadata": {
        "colab": {
          "base_uri": "https://localhost:8080/",
          "height": 228
        },
        "id": "wm50V3UmUxZ9",
        "outputId": "ed58a5d8-6ff2-4eeb-beb6-7a0d049ccfc9"
      },
      "execution_count": 30,
      "outputs": [
        {
          "output_type": "stream",
          "name": "stdout",
          "text": [
            "escrita finalizada\n"
          ]
        },
        {
          "output_type": "error",
          "ename": "FileExistsError",
          "evalue": "[Errno 17] File exists: 'sample_data/modo_x.csv'",
          "traceback": [
            "\u001b[0;31m---------------------------------------------------------------------------\u001b[0m",
            "\u001b[0;31mFileExistsError\u001b[0m                           Traceback (most recent call last)",
            "\u001b[0;32m<ipython-input-30-7076a2b756f7>\u001b[0m in \u001b[0;36m<cell line: 7>\u001b[0;34m()\u001b[0m\n\u001b[1;32m      5\u001b[0m   \u001b[0mprint\u001b[0m\u001b[0;34m(\u001b[0m\u001b[0;34m'escrita finalizada'\u001b[0m\u001b[0;34m)\u001b[0m\u001b[0;34m\u001b[0m\u001b[0;34m\u001b[0m\u001b[0m\n\u001b[1;32m      6\u001b[0m \u001b[0;34m\u001b[0m\u001b[0m\n\u001b[0;32m----> 7\u001b[0;31m \u001b[0;32mwith\u001b[0m \u001b[0mopen\u001b[0m\u001b[0;34m(\u001b[0m\u001b[0;34m'sample_data/modo_x.csv'\u001b[0m\u001b[0;34m,\u001b[0m \u001b[0;34m'x'\u001b[0m\u001b[0;34m)\u001b[0m \u001b[0;32mas\u001b[0m \u001b[0marquivo\u001b[0m\u001b[0;34m:\u001b[0m\u001b[0;34m\u001b[0m\u001b[0;34m\u001b[0m\u001b[0m\n\u001b[0m\u001b[1;32m      8\u001b[0m   \u001b[0marquivo\u001b[0m\u001b[0;34m.\u001b[0m\u001b[0mwrite\u001b[0m\u001b[0;34m(\u001b[0m\u001b[0;34m'modo X'\u001b[0m\u001b[0;34m)\u001b[0m\u001b[0;34m\u001b[0m\u001b[0;34m\u001b[0m\u001b[0m\n\u001b[1;32m      9\u001b[0m   \u001b[0mprint\u001b[0m\u001b[0;34m(\u001b[0m\u001b[0;34m'escrita finalizada'\u001b[0m\u001b[0;34m)\u001b[0m\u001b[0;34m\u001b[0m\u001b[0;34m\u001b[0m\u001b[0m\n",
            "\u001b[0;31mFileExistsError\u001b[0m: [Errno 17] File exists: 'sample_data/modo_x.csv'"
          ]
        }
      ]
    },
    {
      "cell_type": "code",
      "source": [
        "# modo 'a'\n",
        "\n",
        "with open('sample_data/modo_a.csv', 'a') as arquivo:\n",
        "  arquivo.write('modo A\\n')\n",
        "  print('escrita finalizada')\n",
        "\n",
        "with open('sample_data/modo_a.csv', 'a') as arquivo:\n",
        "  arquivo.write('modo A - versão 2')\n",
        "  print('escrita finalizada')\n",
        "\n",
        "with open('sample_data/modo_a.csv', 'r') as arquivo:\n",
        "  print(arquivo.read())"
      ],
      "metadata": {
        "colab": {
          "base_uri": "https://localhost:8080/"
        },
        "id": "ocECZsA4Vjos",
        "outputId": "5675c28d-c4eb-4c2c-f090-69472fdfa50d"
      },
      "execution_count": 32,
      "outputs": [
        {
          "output_type": "stream",
          "name": "stdout",
          "text": [
            "escrita finalizada\n",
            "escrita finalizada\n",
            "modo A\n",
            "modo A - versão 2\n"
          ]
        }
      ]
    },
    {
      "cell_type": "markdown",
      "source": [
        "O modo 'a' adiciona conteúdo no final do arquivo, mesmo usando `seek(0)` para mover o cursor para o ínicio do arquivo, o conteúdo em modo 'a' será adicionado no final do arquivo."
      ],
      "metadata": {
        "id": "liGb6hZVWGaT"
      }
    },
    {
      "cell_type": "code",
      "source": [
        "with open('sample_data/modo_a.csv', 'a') as arquivo:\n",
        "  arquivo.seek(0) # mover cursor para o início do arquivo\n",
        "  arquivo.write('modo A - versão beta\\n')\n",
        "  print('escrita finalizada')\n",
        "\n",
        "with open('sample_data/modo_a.csv', 'r') as arquivo:\n",
        "  print(arquivo.read())\n",
        "\n",
        "# observe que o conteúdo novo foi adicionado ao final do arquivo\n",
        "# com modo 'a', não controlamos o cursor"
      ],
      "metadata": {
        "colab": {
          "base_uri": "https://localhost:8080/"
        },
        "id": "18oOuS6RWPpw",
        "outputId": "4cd31c8e-e951-415a-e131-e761e5227f06"
      },
      "execution_count": 33,
      "outputs": [
        {
          "output_type": "stream",
          "name": "stdout",
          "text": [
            "escrita finalizada\n",
            "modo A\n",
            "modo A - versão 2modo A - versão beta\n",
            "\n"
          ]
        }
      ]
    },
    {
      "cell_type": "markdown",
      "source": [
        "# 6.StringIO\n",
        "\n",
        "Para ler ou escrever dados em arquivos do sistema operacional, o software precisa de permissão (leitura, escrita).\n",
        "\n",
        "`SintrgIO` -> utilizado para ler e criar arquivos em memória, ou seja, não é salvo em disco.\n",
        "\n",
        "Para utilizar, primeiro fazemos o import."
      ],
      "metadata": {
        "id": "Qr80AGM8Ysn0"
      }
    },
    {
      "cell_type": "code",
      "source": [
        "from io import StringIO\n",
        "\n",
        "mensagem = 'String de teste escrita pelo Gustavo'\n",
        "\n",
        "# criando o arquivo em memória com um texto dentro dele\n",
        "arquivo = StringIO(mensagem)\n",
        "\n",
        "print(arquivo.read() + '\\n')\n",
        "\n",
        "arquivo.write(' Adicionando novo texto')\n",
        "\n",
        "# movimentando o cursor\n",
        "arquivo.seek(0)\n",
        "\n",
        "# Adicionando texto no início\n",
        "arquivo.write('TITULO\\n') # observe que isso sobrescreveu parte do conteúdo do arquivo\n",
        "\n",
        "arquivo.seek(0)\n",
        "print(arquivo.read())"
      ],
      "metadata": {
        "colab": {
          "base_uri": "https://localhost:8080/"
        },
        "id": "Cf3trTstZ-31",
        "outputId": "0c1078c4-060d-4610-cfa9-11bb458b4562"
      },
      "execution_count": 40,
      "outputs": [
        {
          "output_type": "stream",
          "name": "stdout",
          "text": [
            "String de teste escrita pelo Gustavo\n",
            "\n",
            "TITULO\n",
            "de teste escrita pelo Gustavo Adicionando novo texto\n"
          ]
        }
      ]
    },
    {
      "cell_type": "markdown",
      "source": [
        "# 7.Sistema de arquivos - navegação\n",
        "\n",
        "Para fazer uso de manipulação de arquivos do sistema operacional, precisamos importar e fazer uso do módulo `os`.\n",
        "\n",
        "`os` -> Operating System"
      ],
      "metadata": {
        "id": "dlYGZBC6cL4g"
      }
    },
    {
      "cell_type": "code",
      "source": [
        "import os"
      ],
      "metadata": {
        "id": "7WGmT_FyjpsB"
      },
      "execution_count": null,
      "outputs": []
    },
    {
      "cell_type": "markdown",
      "source": [
        "`getcwd()` -> pega o currento work directory (caminho absoluto)."
      ],
      "metadata": {
        "id": "Sx9aXNO8juL5"
      }
    },
    {
      "cell_type": "code",
      "source": [
        "import os\n",
        "\n",
        "print(os.getcwd())"
      ],
      "metadata": {
        "colab": {
          "base_uri": "https://localhost:8080/"
        },
        "id": "OEMmJ7Y8jz3n",
        "outputId": "593ffd85-3230-44c7-894d-411987453db5"
      },
      "execution_count": 41,
      "outputs": [
        {
          "output_type": "stream",
          "name": "stdout",
          "text": [
            "/content\n"
          ]
        }
      ]
    },
    {
      "cell_type": "markdown",
      "source": [
        "`chdir()` -> para mudar o diretório."
      ],
      "metadata": {
        "id": "GmuMZB-llx2S"
      }
    },
    {
      "cell_type": "code",
      "source": [
        "os.chdir('..')\n",
        "print(os.getcwd())\n",
        "\n",
        "os.chdir('content')\n",
        "print(os.getcwd())"
      ],
      "metadata": {
        "colab": {
          "base_uri": "https://localhost:8080/"
        },
        "id": "lhsrC292l1oN",
        "outputId": "49f676db-4785-4cba-9b8f-2917acda3571"
      },
      "execution_count": 43,
      "outputs": [
        {
          "output_type": "stream",
          "name": "stdout",
          "text": [
            "/\n",
            "/content\n"
          ]
        }
      ]
    },
    {
      "cell_type": "markdown",
      "source": [
        "`path.isabs()` -> checar se um diretório é absoluto ou relativo."
      ],
      "metadata": {
        "id": "80qIV0NkmUqv"
      }
    },
    {
      "cell_type": "code",
      "source": [
        "print(os.path.isabs('/content'))\n",
        "print(os.path.isabs('content'))"
      ],
      "metadata": {
        "colab": {
          "base_uri": "https://localhost:8080/"
        },
        "id": "malsmqugmape",
        "outputId": "a9baf653-053e-43a7-83d5-b502fe912788"
      },
      "execution_count": 45,
      "outputs": [
        {
          "output_type": "stream",
          "name": "stdout",
          "text": [
            "True\n",
            "False\n"
          ]
        }
      ]
    },
    {
      "cell_type": "markdown",
      "source": [
        "**Obs.:** em Windows, os diretórios usam barra invertida \"\\\", o que é um caracter especial no Python."
      ],
      "metadata": {
        "id": "CtCrwXBBnG3p"
      }
    },
    {
      "cell_type": "code",
      "source": [
        "print('c:\\users\\gustavo\\python\\')"
      ],
      "metadata": {
        "colab": {
          "base_uri": "https://localhost:8080/",
          "height": 106
        },
        "id": "qYC_KFM_npng",
        "outputId": "09c09981-2c0f-4039-f528-100e339692ea"
      },
      "execution_count": 47,
      "outputs": [
        {
          "output_type": "error",
          "ename": "SyntaxError",
          "evalue": "unterminated string literal (detected at line 1) (<ipython-input-47-42cdebf95586>, line 1)",
          "traceback": [
            "\u001b[0;36m  File \u001b[0;32m\"<ipython-input-47-42cdebf95586>\"\u001b[0;36m, line \u001b[0;32m1\u001b[0m\n\u001b[0;31m    print('c:\\users\\gustavo\\python\\')\u001b[0m\n\u001b[0m          ^\u001b[0m\n\u001b[0;31mSyntaxError\u001b[0m\u001b[0;31m:\u001b[0m unterminated string literal (detected at line 1)\n"
          ]
        }
      ]
    },
    {
      "cell_type": "code",
      "source": [
        "# em Windows, usar dupla barra invertida\n",
        "\n",
        "print('c:\\\\users\\\\gustavo\\\\python\\\\')"
      ],
      "metadata": {
        "colab": {
          "base_uri": "https://localhost:8080/"
        },
        "id": "o4vvASfFnkXo",
        "outputId": "601523e1-926e-417a-ea47-391fd6b338f6"
      },
      "execution_count": 48,
      "outputs": [
        {
          "output_type": "stream",
          "name": "stdout",
          "text": [
            "c:\\users\\gustavo\\python\\\n"
          ]
        }
      ]
    },
    {
      "cell_type": "markdown",
      "source": [
        "Podemos identificar o sistema operacional com o módulo `os`.\n",
        "\n",
        "`posix` -> retorno para Linux/ Mac\n",
        "\n",
        "`nt` -> retorno para windows"
      ],
      "metadata": {
        "id": "cg8aKPTxLybB"
      }
    },
    {
      "cell_type": "code",
      "source": [
        "import os\n",
        "\n",
        "print(os.name)"
      ],
      "metadata": {
        "colab": {
          "base_uri": "https://localhost:8080/"
        },
        "id": "iOmZ9E0DL3qT",
        "outputId": "960ce9fc-f315-411d-ec93-de5b1a1be1cc"
      },
      "execution_count": 2,
      "outputs": [
        {
          "output_type": "stream",
          "name": "stdout",
          "text": [
            "posix\n"
          ]
        }
      ]
    },
    {
      "cell_type": "code",
      "source": [
        "# podemos ter mais detalhes do sistema operacional\n",
        "\n",
        "print(os.uname())"
      ],
      "metadata": {
        "colab": {
          "base_uri": "https://localhost:8080/"
        },
        "id": "Yr7PgfZbNjEE",
        "outputId": "e9c0a05b-dfd1-445e-c914-b67938f039d4"
      },
      "execution_count": 3,
      "outputs": [
        {
          "output_type": "stream",
          "name": "stdout",
          "text": [
            "posix.uname_result(sysname='Linux', nodename='89568e073dcf', release='6.1.58+', version='#1 SMP PREEMPT_DYNAMIC Sat Nov 18 15:31:17 UTC 2023', machine='x86_64')\n"
          ]
        }
      ]
    },
    {
      "cell_type": "markdown",
      "source": [
        "Podemos listar os arquivos e diretórios com o `listdir()`."
      ],
      "metadata": {
        "id": "WQVjjQkcOYLg"
      }
    },
    {
      "cell_type": "code",
      "source": [
        "print(os.listdir())"
      ],
      "metadata": {
        "colab": {
          "base_uri": "https://localhost:8080/"
        },
        "id": "42Z-5LqEOeyV",
        "outputId": "2b74f0e1-3854-4515-cf18-edd3fb1b65ed"
      },
      "execution_count": 4,
      "outputs": [
        {
          "output_type": "stream",
          "name": "stdout",
          "text": [
            "['.config', 'sample_data']\n"
          ]
        }
      ]
    },
    {
      "cell_type": "markdown",
      "source": [
        "Podemos listar os arquivos e diretórios com mais detalhes com `scandir()`."
      ],
      "metadata": {
        "id": "6G2JHKbLOxb1"
      }
    },
    {
      "cell_type": "code",
      "source": [
        "print(type(os.scandir()))\n",
        "print(list(os.scandir()))\n",
        "print(list(os.scandir('sample_data')))"
      ],
      "metadata": {
        "colab": {
          "base_uri": "https://localhost:8080/"
        },
        "id": "RgzTBz8qO1qE",
        "outputId": "b8797f21-7e3d-4913-89a6-663c6d4dd671"
      },
      "execution_count": 10,
      "outputs": [
        {
          "output_type": "stream",
          "name": "stdout",
          "text": [
            "<class 'posix.ScandirIterator'>\n",
            "[<DirEntry '.config'>, <DirEntry 'sample_data'>]\n",
            "[<DirEntry 'README.md'>, <DirEntry 'anscombe.json'>, <DirEntry 'mnist_test.csv'>, <DirEntry 'mnist_train_small.csv'>, <DirEntry 'california_housing_test.csv'>, <DirEntry 'california_housing_train.csv'>]\n"
          ]
        }
      ]
    },
    {
      "cell_type": "code",
      "source": [
        "arquivos = list(os.scandir('sample_data'))\n",
        "\n",
        "print(arquivos[0].name)\n",
        "print(arquivos[0].is_dir())\n",
        "print(arquivos[0].is_file())\n",
        "print(arquivos[0].path)\n",
        "print(arquivos[0].stat())"
      ],
      "metadata": {
        "colab": {
          "base_uri": "https://localhost:8080/"
        },
        "id": "CgY8PqPhPfB8",
        "outputId": "9af1bea4-c0fc-44c9-da79-54e3d6a09084"
      },
      "execution_count": 20,
      "outputs": [
        {
          "output_type": "stream",
          "name": "stdout",
          "text": [
            "README.md\n",
            "False\n",
            "True\n",
            "sample_data/README.md\n",
            "os.stat_result(st_mode=33261, st_ino=4325384, st_dev=47, st_nlink=1, st_uid=0, st_gid=0, st_size=930, st_atime=946713600, st_mtime=946713600, st_ctime=1707923416)\n"
          ]
        }
      ]
    },
    {
      "cell_type": "markdown",
      "source": [
        "**Obs.:** quando utilizamos a função `scandir()` nós precisamos fechá-la, assim como abrimos um arquivo.\n",
        "\n",
        "O ideal é colocá-la dentro do bloco do `with` o criar uma variável como a seguir:"
      ],
      "metadata": {
        "id": "lG0O4WlHQi3u"
      }
    },
    {
      "cell_type": "code",
      "source": [
        "import os\n",
        "\n",
        "scanner = os.scandir()\n",
        "\n",
        "\n",
        "\n",
        "scanner.close()"
      ],
      "metadata": {
        "id": "Es_yIqniQpuk"
      },
      "execution_count": 21,
      "outputs": []
    },
    {
      "cell_type": "markdown",
      "source": [
        "# 8.Sistema de arquivos - manipulação"
      ],
      "metadata": {
        "id": "6YzQp3z7RE_F"
      }
    },
    {
      "cell_type": "code",
      "source": [
        "# descobrindo se um arquivo ou diretório existe\n",
        "\n",
        "import os\n",
        "\n",
        "print(os.path.exists('arquivo.txt'))\n",
        "print(os.path.exists('folder'))\n",
        "print(os.path.exists('sample_data'))"
      ],
      "metadata": {
        "colab": {
          "base_uri": "https://localhost:8080/"
        },
        "id": "XDYYfHYxRbjU",
        "outputId": "5cc71256-f530-4eb2-ef5f-6bb20179c18b"
      },
      "execution_count": 24,
      "outputs": [
        {
          "output_type": "stream",
          "name": "stdout",
          "text": [
            "False\n",
            "False\n",
            "True\n"
          ]
        }
      ]
    },
    {
      "cell_type": "code",
      "source": [
        "# criando arquivos\n",
        "\n",
        "open('sample_data/arquivo-teste.txt', 'w').close()\n",
        "\n",
        "# ou\n",
        "\n",
        "os.mknod('sample_data/arquivo-teste-2.txt')"
      ],
      "metadata": {
        "id": "BVlJ4q0HSI_W"
      },
      "execution_count": 26,
      "outputs": []
    },
    {
      "cell_type": "markdown",
      "source": [
        "Se você estiver usando Mac OS, pode haver um erro de PermissionError ao usar `mknod`.\n",
        "\n",
        "**Obs.:** se o arquivo já existir, `mknod` dará FileExistsError."
      ],
      "metadata": {
        "id": "itbA-lyfTGjE"
      }
    },
    {
      "cell_type": "code",
      "source": [
        "os.mknod('sample_data/arquivo-teste-2.txt')"
      ],
      "metadata": {
        "colab": {
          "base_uri": "https://localhost:8080/",
          "height": 141
        },
        "id": "Uw4GTUkgTbB3",
        "outputId": "6293da7f-e14a-474c-f6cd-34d8bfd90392"
      },
      "execution_count": 27,
      "outputs": [
        {
          "output_type": "error",
          "ename": "FileExistsError",
          "evalue": "[Errno 17] File exists",
          "traceback": [
            "\u001b[0;31m---------------------------------------------------------------------------\u001b[0m",
            "\u001b[0;31mFileExistsError\u001b[0m                           Traceback (most recent call last)",
            "\u001b[0;32m<ipython-input-27-75e6597ae4ed>\u001b[0m in \u001b[0;36m<cell line: 1>\u001b[0;34m()\u001b[0m\n\u001b[0;32m----> 1\u001b[0;31m \u001b[0mos\u001b[0m\u001b[0;34m.\u001b[0m\u001b[0mmknod\u001b[0m\u001b[0;34m(\u001b[0m\u001b[0;34m'sample_data/arquivo-teste-2.txt'\u001b[0m\u001b[0;34m)\u001b[0m\u001b[0;34m\u001b[0m\u001b[0;34m\u001b[0m\u001b[0m\n\u001b[0m",
            "\u001b[0;31mFileExistsError\u001b[0m: [Errno 17] File exists"
          ]
        }
      ]
    },
    {
      "cell_type": "code",
      "source": [
        "# criando diretórios\n",
        "\n",
        "os.mkdir('sample_data/templates')\n",
        "\n",
        "os.mkdir('sample_data/templates') # se já existir, dará erro"
      ],
      "metadata": {
        "colab": {
          "base_uri": "https://localhost:8080/",
          "height": 176
        },
        "id": "X2JjC4MvTnPX",
        "outputId": "a547548f-cf35-4527-f6d5-753fe33ac726"
      },
      "execution_count": 29,
      "outputs": [
        {
          "output_type": "error",
          "ename": "FileExistsError",
          "evalue": "[Errno 17] File exists: 'sample_data/templates'",
          "traceback": [
            "\u001b[0;31m---------------------------------------------------------------------------\u001b[0m",
            "\u001b[0;31mFileExistsError\u001b[0m                           Traceback (most recent call last)",
            "\u001b[0;32m<ipython-input-29-fee031690e9f>\u001b[0m in \u001b[0;36m<cell line: 5>\u001b[0;34m()\u001b[0m\n\u001b[1;32m      3\u001b[0m \u001b[0mos\u001b[0m\u001b[0;34m.\u001b[0m\u001b[0mmkdir\u001b[0m\u001b[0;34m(\u001b[0m\u001b[0;34m'sample_data/templates'\u001b[0m\u001b[0;34m)\u001b[0m\u001b[0;34m\u001b[0m\u001b[0;34m\u001b[0m\u001b[0m\n\u001b[1;32m      4\u001b[0m \u001b[0;34m\u001b[0m\u001b[0m\n\u001b[0;32m----> 5\u001b[0;31m \u001b[0mos\u001b[0m\u001b[0;34m.\u001b[0m\u001b[0mmkdir\u001b[0m\u001b[0;34m(\u001b[0m\u001b[0;34m'sample_data/templates'\u001b[0m\u001b[0;34m)\u001b[0m \u001b[0;31m# se já existir, dará erro\u001b[0m\u001b[0;34m\u001b[0m\u001b[0;34m\u001b[0m\u001b[0m\n\u001b[0m",
            "\u001b[0;31mFileExistsError\u001b[0m: [Errno 17] File exists: 'sample_data/templates'"
          ]
        }
      ]
    },
    {
      "cell_type": "markdown",
      "source": [
        "Com `mkdir()`, é preciso criar um diretório de cada vez."
      ],
      "metadata": {
        "id": "HQXYDzmCUfGs"
      }
    },
    {
      "cell_type": "code",
      "source": [
        "# exemplo: criar o diretório sample_data/folder1/folder2/folder3\n",
        "\n",
        "os.mkdir('sample_data/folder1/folder2/folder3')"
      ],
      "metadata": {
        "colab": {
          "base_uri": "https://localhost:8080/",
          "height": 176
        },
        "id": "J0yQDhJTUiy4",
        "outputId": "a211825e-b7bb-4c9e-db15-df8ac1d79009"
      },
      "execution_count": 30,
      "outputs": [
        {
          "output_type": "error",
          "ename": "FileNotFoundError",
          "evalue": "[Errno 2] No such file or directory: 'sample_data/folder1/folder2/folder3'",
          "traceback": [
            "\u001b[0;31m---------------------------------------------------------------------------\u001b[0m",
            "\u001b[0;31mFileNotFoundError\u001b[0m                         Traceback (most recent call last)",
            "\u001b[0;32m<ipython-input-30-e3c9aec8ed92>\u001b[0m in \u001b[0;36m<cell line: 3>\u001b[0;34m()\u001b[0m\n\u001b[1;32m      1\u001b[0m \u001b[0;31m# exemplo: criar o diretório sample_data/folder1/folder2/folder3\u001b[0m\u001b[0;34m\u001b[0m\u001b[0;34m\u001b[0m\u001b[0m\n\u001b[1;32m      2\u001b[0m \u001b[0;34m\u001b[0m\u001b[0m\n\u001b[0;32m----> 3\u001b[0;31m \u001b[0mos\u001b[0m\u001b[0;34m.\u001b[0m\u001b[0mmkdir\u001b[0m\u001b[0;34m(\u001b[0m\u001b[0;34m'sample_data/folder1/folder2/folder3'\u001b[0m\u001b[0;34m)\u001b[0m\u001b[0;34m\u001b[0m\u001b[0;34m\u001b[0m\u001b[0m\n\u001b[0m",
            "\u001b[0;31mFileNotFoundError\u001b[0m: [Errno 2] No such file or directory: 'sample_data/folder1/folder2/folder3'"
          ]
        }
      ]
    },
    {
      "cell_type": "code",
      "source": [
        "# é preciso criar cada diretório isoladamente\n",
        "\n",
        "os.mkdir('sample_data/folder1')\n",
        "os.mkdir('sample_data/folder1/folder2')\n",
        "os.mkdir('sample_data/folder1/folder2/folder3')"
      ],
      "metadata": {
        "id": "hw54GPr3UrBH"
      },
      "execution_count": 31,
      "outputs": []
    },
    {
      "cell_type": "code",
      "source": [
        "# ou então, usar makedirs()\n",
        "os.makedirs('sample_data/folder4/folder5/folder6')\n",
        "\n",
        "# se já existir, dará erro\n",
        "os.makedirs('sample_data/folder4/folder5/folder6')"
      ],
      "metadata": {
        "colab": {
          "base_uri": "https://localhost:8080/",
          "height": 297
        },
        "id": "NubmXXOMU1eG",
        "outputId": "a412688d-f27b-467f-a446-3a292aed592f"
      },
      "execution_count": 34,
      "outputs": [
        {
          "output_type": "error",
          "ename": "FileExistsError",
          "evalue": "[Errno 17] File exists: 'sample_data/folder4/folder5/folder6'",
          "traceback": [
            "\u001b[0;31m---------------------------------------------------------------------------\u001b[0m",
            "\u001b[0;31mFileExistsError\u001b[0m                           Traceback (most recent call last)",
            "\u001b[0;32m<ipython-input-34-f9206ad73667>\u001b[0m in \u001b[0;36m<cell line: 5>\u001b[0;34m()\u001b[0m\n\u001b[1;32m      3\u001b[0m \u001b[0;34m\u001b[0m\u001b[0m\n\u001b[1;32m      4\u001b[0m \u001b[0;31m# se já existir, dará erro\u001b[0m\u001b[0;34m\u001b[0m\u001b[0;34m\u001b[0m\u001b[0m\n\u001b[0;32m----> 5\u001b[0;31m \u001b[0mos\u001b[0m\u001b[0;34m.\u001b[0m\u001b[0mmakedirs\u001b[0m\u001b[0;34m(\u001b[0m\u001b[0;34m'sample_data/folder4/folder5/folder6'\u001b[0m\u001b[0;34m)\u001b[0m\u001b[0;34m\u001b[0m\u001b[0;34m\u001b[0m\u001b[0m\n\u001b[0m",
            "\u001b[0;32m/usr/lib/python3.10/os.py\u001b[0m in \u001b[0;36mmakedirs\u001b[0;34m(name, mode, exist_ok)\u001b[0m\n\u001b[1;32m    223\u001b[0m             \u001b[0;32mreturn\u001b[0m\u001b[0;34m\u001b[0m\u001b[0;34m\u001b[0m\u001b[0m\n\u001b[1;32m    224\u001b[0m     \u001b[0;32mtry\u001b[0m\u001b[0;34m:\u001b[0m\u001b[0;34m\u001b[0m\u001b[0;34m\u001b[0m\u001b[0m\n\u001b[0;32m--> 225\u001b[0;31m         \u001b[0mmkdir\u001b[0m\u001b[0;34m(\u001b[0m\u001b[0mname\u001b[0m\u001b[0;34m,\u001b[0m \u001b[0mmode\u001b[0m\u001b[0;34m)\u001b[0m\u001b[0;34m\u001b[0m\u001b[0;34m\u001b[0m\u001b[0m\n\u001b[0m\u001b[1;32m    226\u001b[0m     \u001b[0;32mexcept\u001b[0m \u001b[0mOSError\u001b[0m\u001b[0;34m:\u001b[0m\u001b[0;34m\u001b[0m\u001b[0;34m\u001b[0m\u001b[0m\n\u001b[1;32m    227\u001b[0m         \u001b[0;31m# Cannot rely on checking for EEXIST, since the operating system\u001b[0m\u001b[0;34m\u001b[0m\u001b[0;34m\u001b[0m\u001b[0m\n",
            "\u001b[0;31mFileExistsError\u001b[0m: [Errno 17] File exists: 'sample_data/folder4/folder5/folder6'"
          ]
        }
      ]
    },
    {
      "cell_type": "code",
      "source": [
        "# para não dar erro caso exista\n",
        "os.makedirs('sample_data/folder4/folder5/folder6', exist_ok=True)"
      ],
      "metadata": {
        "id": "KZQCrEPFVat_"
      },
      "execution_count": 36,
      "outputs": []
    },
    {
      "cell_type": "markdown",
      "source": [
        "Renomeando diretórios"
      ],
      "metadata": {
        "id": "jZlCKBBqVmFc"
      }
    },
    {
      "cell_type": "code",
      "source": [
        "os.rename('sample_data/folder4', 'sample_data/folder7')\n",
        "\n",
        "# se o diretório não existir, teremos FileNotFoundError"
      ],
      "metadata": {
        "id": "Sullde5VVn-X"
      },
      "execution_count": 37,
      "outputs": []
    },
    {
      "cell_type": "markdown",
      "source": [
        "Deletar um arquivo."
      ],
      "metadata": {
        "id": "bj2htF2SXXoV"
      }
    },
    {
      "cell_type": "code",
      "source": [
        "os.remove('sample_data/arquivo-teste.txt')"
      ],
      "metadata": {
        "id": "YhFIbBXbXZ0S"
      },
      "execution_count": 39,
      "outputs": []
    },
    {
      "cell_type": "markdown",
      "source": [
        "Deletar um diretório."
      ],
      "metadata": {
        "id": "rQdpgJ83XuAg"
      }
    },
    {
      "cell_type": "code",
      "source": [
        "os.rmdir('sample_data/folder1')\n",
        "\n",
        "# se o diretório tiver conteúdo, dará erro\n",
        "os.rmdir('sample_data/folder7')"
      ],
      "metadata": {
        "colab": {
          "base_uri": "https://localhost:8080/",
          "height": 176
        },
        "id": "JLOvDdatXvl9",
        "outputId": "f30cf27f-c9cc-471a-d002-929799cd6fc3"
      },
      "execution_count": 46,
      "outputs": [
        {
          "output_type": "error",
          "ename": "OSError",
          "evalue": "[Errno 39] Directory not empty: 'sample_data/folder7'",
          "traceback": [
            "\u001b[0;31m---------------------------------------------------------------------------\u001b[0m",
            "\u001b[0;31mOSError\u001b[0m                                   Traceback (most recent call last)",
            "\u001b[0;32m<ipython-input-46-43c575920079>\u001b[0m in \u001b[0;36m<cell line: 4>\u001b[0;34m()\u001b[0m\n\u001b[1;32m      2\u001b[0m \u001b[0;34m\u001b[0m\u001b[0m\n\u001b[1;32m      3\u001b[0m \u001b[0;31m# se o diretório tiver conteúdo, dará erro\u001b[0m\u001b[0;34m\u001b[0m\u001b[0;34m\u001b[0m\u001b[0m\n\u001b[0;32m----> 4\u001b[0;31m \u001b[0mos\u001b[0m\u001b[0;34m.\u001b[0m\u001b[0mrmdir\u001b[0m\u001b[0;34m(\u001b[0m\u001b[0;34m'sample_data/folder7'\u001b[0m\u001b[0;34m)\u001b[0m\u001b[0;34m\u001b[0m\u001b[0;34m\u001b[0m\u001b[0m\n\u001b[0m",
            "\u001b[0;31mOSError\u001b[0m: [Errno 39] Directory not empty: 'sample_data/folder7'"
          ]
        }
      ]
    },
    {
      "cell_type": "markdown",
      "source": [
        "Remover todo o conteúdo do diretório."
      ],
      "metadata": {
        "id": "K1X0DU7GYPgQ"
      }
    },
    {
      "cell_type": "code",
      "source": [
        "for arquivo in os.scandir('sample_data/folder7/folder5'):\n",
        "  if arquivo.is_file():\n",
        "    os.remove(arquivo.path)\n",
        "  if not arquivo.is_file():\n",
        "    os.rmdir(arquivo.path)"
      ],
      "metadata": {
        "id": "8IGueDaNYRuI"
      },
      "execution_count": 50,
      "outputs": []
    },
    {
      "cell_type": "markdown",
      "source": [
        "Criando diretórios e arquivos temporários"
      ],
      "metadata": {
        "id": "deVhIj5-aHHq"
      }
    },
    {
      "cell_type": "code",
      "source": [
        "import os\n",
        "import tempfile\n",
        "\n",
        "with tempfile.TemporaryDirectory() as tmp:\n",
        "  with tempfile.TemporaryFile() as tmpFile:\n",
        "    tmpFile.write(b'Gustavo Ribeiro Martins') # b de binários, só é possível escrever bits em arquivos temporários\n",
        "    tmpFile.seek(0)\n",
        "    print(tmpFile.read())"
      ],
      "metadata": {
        "colab": {
          "base_uri": "https://localhost:8080/"
        },
        "id": "3ej9eIQlaIsf",
        "outputId": "a241ff6f-5124-4450-9e2a-ad4b8d74024c"
      },
      "execution_count": 56,
      "outputs": [
        {
          "output_type": "stream",
          "name": "stdout",
          "text": [
            "b'Gustavo Ribeiro Martins'\n"
          ]
        }
      ]
    }
  ]
}