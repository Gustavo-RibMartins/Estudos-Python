{
  "nbformat": 4,
  "nbformat_minor": 0,
  "metadata": {
    "colab": {
      "provenance": [],
      "authorship_tag": "ABX9TyPxc1FRQBdtDDHJAEMatl/X",
      "include_colab_link": true
    },
    "kernelspec": {
      "name": "python3",
      "display_name": "Python 3"
    },
    "language_info": {
      "name": "python"
    }
  },
  "cells": [
    {
      "cell_type": "markdown",
      "metadata": {
        "id": "view-in-github",
        "colab_type": "text"
      },
      "source": [
        "<a href=\"https://colab.research.google.com/github/Gustavo-RibMartins/estudos-python/blob/develop/curso/python_14_iteradores_geradores.ipynb\" target=\"_parent\"><img src=\"https://colab.research.google.com/assets/colab-badge.svg\" alt=\"Open In Colab\"/></a>"
      ]
    },
    {
      "cell_type": "markdown",
      "source": [
        "# 1.Iterators e Iterables\n",
        "\n",
        "Iterator -> é um objeto que pode ser iterado, que retorna um dado sendo um elemento por vez quando uma função `next()` é chamada.\n",
        "\n",
        "Iterable -> um objeto que irá retornar um iterator quando a funçãi `iter()` for chamada."
      ],
      "metadata": {
        "id": "ebNVi_xJ_uPf"
      }
    },
    {
      "cell_type": "code",
      "source": [
        "# são iterables mas não são iterators\n",
        "\n",
        "nome = 'Gustavo'\n",
        "numeros = [1, 2, 3, 4, 5]\n",
        "\n",
        "print(next(nome))\n",
        "print(next(numeros))"
      ],
      "metadata": {
        "colab": {
          "base_uri": "https://localhost:8080/",
          "height": 193
        },
        "id": "5rxuXIi4BoSk",
        "outputId": "49243d63-07f6-4f79-f72d-f35cceef1985"
      },
      "execution_count": null,
      "outputs": [
        {
          "output_type": "error",
          "ename": "TypeError",
          "evalue": "'str' object is not an iterator",
          "traceback": [
            "\u001b[0;31m---------------------------------------------------------------------------\u001b[0m",
            "\u001b[0;31mTypeError\u001b[0m                                 Traceback (most recent call last)",
            "\u001b[0;32m<ipython-input-5-2e0188d90c02>\u001b[0m in \u001b[0;36m<cell line: 6>\u001b[0;34m()\u001b[0m\n\u001b[1;32m      4\u001b[0m \u001b[0mnumeros\u001b[0m \u001b[0;34m=\u001b[0m \u001b[0;34m[\u001b[0m\u001b[0;36m1\u001b[0m\u001b[0;34m,\u001b[0m \u001b[0;36m2\u001b[0m\u001b[0;34m,\u001b[0m \u001b[0;36m3\u001b[0m\u001b[0;34m,\u001b[0m \u001b[0;36m4\u001b[0m\u001b[0;34m,\u001b[0m \u001b[0;36m5\u001b[0m\u001b[0;34m]\u001b[0m\u001b[0;34m\u001b[0m\u001b[0;34m\u001b[0m\u001b[0m\n\u001b[1;32m      5\u001b[0m \u001b[0;34m\u001b[0m\u001b[0m\n\u001b[0;32m----> 6\u001b[0;31m \u001b[0mprint\u001b[0m\u001b[0;34m(\u001b[0m\u001b[0mnext\u001b[0m\u001b[0;34m(\u001b[0m\u001b[0mnome\u001b[0m\u001b[0;34m)\u001b[0m\u001b[0;34m)\u001b[0m\u001b[0;34m\u001b[0m\u001b[0;34m\u001b[0m\u001b[0m\n\u001b[0m\u001b[1;32m      7\u001b[0m \u001b[0mprint\u001b[0m\u001b[0;34m(\u001b[0m\u001b[0mnext\u001b[0m\u001b[0;34m(\u001b[0m\u001b[0mnumeros\u001b[0m\u001b[0;34m)\u001b[0m\u001b[0;34m)\u001b[0m\u001b[0;34m\u001b[0m\u001b[0;34m\u001b[0m\u001b[0m\n",
            "\u001b[0;31mTypeError\u001b[0m: 'str' object is not an iterator"
          ]
        }
      ]
    },
    {
      "cell_type": "code",
      "source": [
        "it1 = iter(nome)\n",
        "it2 = iter(numeros)\n",
        "\n",
        "print(next(it1))\n",
        "print(next(it1))\n",
        "print(next(it1))\n",
        "\n",
        "print(next(it2))\n",
        "print(next(it2))\n",
        "print(next(it2))\n",
        "print(next(it2))\n",
        "print(next(it2)) # fim da lista\n",
        "print(next(it2)) # erro por tentar acessar uma posição que não existe"
      ],
      "metadata": {
        "colab": {
          "base_uri": "https://localhost:8080/",
          "height": 315
        },
        "id": "AnUhlFZUEue3",
        "outputId": "f5181e92-6f28-42f6-e3b7-c0ee5909107f"
      },
      "execution_count": null,
      "outputs": [
        {
          "output_type": "stream",
          "name": "stdout",
          "text": [
            "G\n",
            "u\n",
            "s\n",
            "1\n",
            "2\n",
            "3\n",
            "4\n",
            "5\n"
          ]
        },
        {
          "output_type": "error",
          "ename": "StopIteration",
          "evalue": "",
          "traceback": [
            "\u001b[0;31m---------------------------------------------------------------------------\u001b[0m",
            "\u001b[0;31mStopIteration\u001b[0m                             Traceback (most recent call last)",
            "\u001b[0;32m<ipython-input-10-f99735aaa88a>\u001b[0m in \u001b[0;36m<cell line: 13>\u001b[0;34m()\u001b[0m\n\u001b[1;32m     11\u001b[0m \u001b[0mprint\u001b[0m\u001b[0;34m(\u001b[0m\u001b[0mnext\u001b[0m\u001b[0;34m(\u001b[0m\u001b[0mit2\u001b[0m\u001b[0;34m)\u001b[0m\u001b[0;34m)\u001b[0m\u001b[0;34m\u001b[0m\u001b[0;34m\u001b[0m\u001b[0m\n\u001b[1;32m     12\u001b[0m \u001b[0mprint\u001b[0m\u001b[0;34m(\u001b[0m\u001b[0mnext\u001b[0m\u001b[0;34m(\u001b[0m\u001b[0mit2\u001b[0m\u001b[0;34m)\u001b[0m\u001b[0;34m)\u001b[0m \u001b[0;31m# fim da lista\u001b[0m\u001b[0;34m\u001b[0m\u001b[0;34m\u001b[0m\u001b[0m\n\u001b[0;32m---> 13\u001b[0;31m \u001b[0mprint\u001b[0m\u001b[0;34m(\u001b[0m\u001b[0mnext\u001b[0m\u001b[0;34m(\u001b[0m\u001b[0mit2\u001b[0m\u001b[0;34m)\u001b[0m\u001b[0;34m)\u001b[0m \u001b[0;31m# erro por tentar acessar uma posição que não existe\u001b[0m\u001b[0;34m\u001b[0m\u001b[0;34m\u001b[0m\u001b[0m\n\u001b[0m",
            "\u001b[0;31mStopIteration\u001b[0m: "
          ]
        }
      ]
    },
    {
      "cell_type": "code",
      "source": [
        "# Criando sua própria versão de loop\n",
        "\n",
        "def meu_for(interavel):\n",
        "  it = iter(interavel)\n",
        "  while True:\n",
        "    try:\n",
        "      print(next(it))\n",
        "    except StopIteration:\n",
        "      break\n",
        "\n",
        "meu_for('Gus')\n",
        "meu_for([1, 2, 3])\n",
        "meu_for({4, 5, 6})"
      ],
      "metadata": {
        "colab": {
          "base_uri": "https://localhost:8080/"
        },
        "id": "wtXpTZa7GoCM",
        "outputId": "00394aae-52c9-4448-ea0b-c724bd9d1ee9"
      },
      "execution_count": null,
      "outputs": [
        {
          "output_type": "stream",
          "name": "stdout",
          "text": [
            "G\n",
            "u\n",
            "s\n",
            "1\n",
            "2\n",
            "3\n",
            "4\n",
            "5\n",
            "6\n"
          ]
        }
      ]
    },
    {
      "cell_type": "markdown",
      "source": [
        "# 2.Geradores\n",
        "\n",
        "Geradores (generators) são iteradores (iterators).\n",
        "\n",
        "**Obs.:** o contrário não é verdadeiro (nem todo iterator é um generator).\n",
        "\n",
        "- Generators podem ser criados com funções geradores;\n",
        "- Funções geradoras utilizam a palavra reservada `yield`;\n",
        "- Generators podem ser criados com Expressões Geradoras.\n",
        "\n",
        "Diferenças entre funções e generator functions:\n",
        "\n",
        "| Funções | Generator Functions |\n",
        "|---------|---------------------|\n",
        "| utilizam return | utilizam yield |\n",
        "| retorna uma vez | pode utilizar yield múltiplas vezes |\n",
        "| quando executada, retorna um valor | quando é executada, retorna um generator |"
      ],
      "metadata": {
        "id": "Fdgks-jqSJHj"
      }
    },
    {
      "cell_type": "code",
      "source": [
        "# exemplo de generator function\n",
        "\n",
        "def conta_ate(valor_maximo):\n",
        "  contador = 1\n",
        "  while contador <= valor_maximo:\n",
        "    yield contador # retorna o valor e aguarda até uma função next() para continuar\n",
        "    contador = contador + 1\n",
        "\n",
        "gen = conta_ate(5)\n",
        "\n",
        "print(type(gen))\n",
        "\n",
        "# uma Generator Function não é um Generator. Ela apenas gera um Generator\n",
        "\n",
        "print(next(gen))\n",
        "print(next(gen))\n",
        "print(next(gen))\n",
        "print(next(gen))\n",
        "print(next(gen))\n",
        "\n",
        "# ou\n",
        "\n",
        "print('\\n')\n",
        "\n",
        "gen = conta_ate(5)\n",
        "\n",
        "for num in gen:\n",
        "  print(num)"
      ],
      "metadata": {
        "colab": {
          "base_uri": "https://localhost:8080/"
        },
        "id": "ME8r6fvYTkWW",
        "outputId": "f1ba3021-2433-48cc-cb69-f33c75bfd35b"
      },
      "execution_count": 5,
      "outputs": [
        {
          "output_type": "stream",
          "name": "stdout",
          "text": [
            "<class 'generator'>\n",
            "1\n",
            "2\n",
            "3\n",
            "4\n",
            "5\n",
            "\n",
            "\n",
            "1\n",
            "2\n",
            "3\n",
            "4\n",
            "5\n"
          ]
        }
      ]
    },
    {
      "cell_type": "code",
      "source": [
        "gen = conta_ate(5)\n",
        "\n",
        "print(next(gen))  # imprime o 1\n",
        "print('espaço')\n",
        "\n",
        "for num in gen: # aqui já começa no 2\n",
        "  print(num)"
      ],
      "metadata": {
        "colab": {
          "base_uri": "https://localhost:8080/"
        },
        "id": "qIBJ8L3GYM8-",
        "outputId": "1330d4cc-43ed-4d74-bd0d-8ea74c7d1b21"
      },
      "execution_count": 6,
      "outputs": [
        {
          "output_type": "stream",
          "name": "stdout",
          "text": [
            "1\n",
            "espaço\n",
            "2\n",
            "3\n",
            "4\n",
            "5\n"
          ]
        }
      ]
    },
    {
      "cell_type": "code",
      "source": [
        "# também é possível gerar um lista\n",
        "\n",
        "gen = list(conta_ate(10))\n",
        "\n",
        "print(gen)"
      ],
      "metadata": {
        "colab": {
          "base_uri": "https://localhost:8080/"
        },
        "id": "zfbKPyJ5YlfP",
        "outputId": "85c74c1a-173e-457d-c61f-a0f11a64deb6"
      },
      "execution_count": 7,
      "outputs": [
        {
          "output_type": "stream",
          "name": "stdout",
          "text": [
            "[1, 2, 3, 4, 5, 6, 7, 8, 9, 10]\n"
          ]
        }
      ]
    },
    {
      "cell_type": "markdown",
      "source": [
        "O generator é muito eficiente com relação ao uso de memória pois gera um número de cada vez (aguarda o next()), diferente de uma coleção que gera todos os números de uma vez (no exemplo do instrutor, gerar a série de Fibonnaci com 100.000 elementos, usando listas consumiu 450MB de memória, usando generators consumiu 3MB).\n",
        "\n",
        "**Obs.:** o consumo menor de memória não representa aumento de velocidade no código.\n",
        "\n",
        "Com relação a velocidade, generator expression é mais rápido do que outros recursos, como list comprehension."
      ],
      "metadata": {
        "id": "aOqokxxma5Ox"
      }
    }
  ]
}