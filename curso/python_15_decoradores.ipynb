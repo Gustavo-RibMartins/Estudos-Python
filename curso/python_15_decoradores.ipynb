{
  "nbformat": 4,
  "nbformat_minor": 0,
  "metadata": {
    "colab": {
      "provenance": [],
      "authorship_tag": "ABX9TyMWVPF8ZOSiO95SdaKvuV0p",
      "include_colab_link": true
    },
    "kernelspec": {
      "name": "python3",
      "display_name": "Python 3"
    },
    "language_info": {
      "name": "python"
    }
  },
  "cells": [
    {
      "cell_type": "markdown",
      "metadata": {
        "id": "view-in-github",
        "colab_type": "text"
      },
      "source": [
        "<a href=\"https://colab.research.google.com/github/Gustavo-RibMartins/estudos-python/blob/develop/curso/python_15_decoradores.ipynb\" target=\"_parent\"><img src=\"https://colab.research.google.com/assets/colab-badge.svg\" alt=\"Open In Colab\"/></a>"
      ]
    },
    {
      "cell_type": "markdown",
      "source": [
        "# 1.Funções de maior grandeza\n",
        "\n",
        "Higher Order Functions - HOF\n",
        "\n",
        "Quando uma linguagem de programação suporta HOF, indica que podemos ter funções que retornam outras funções como resultado, ou mesmo que podemos passar funções como argumentos para outras funções, e até mesmo criar variáveis do tipo de funções nos nossos programas."
      ],
      "metadata": {
        "id": "rnBDszKDbaLe"
      }
    },
    {
      "cell_type": "code",
      "execution_count": null,
      "metadata": {
        "colab": {
          "base_uri": "https://localhost:8080/"
        },
        "id": "YWUNqwZgbX1l",
        "outputId": "7fa65f36-fe65-4cc9-b1e4-3a4530fc796b"
      },
      "outputs": [
        {
          "output_type": "stream",
          "name": "stdout",
          "text": [
            "5\n",
            "1\n"
          ]
        }
      ],
      "source": [
        "def somar(a, b):\n",
        "  return a + b\n",
        "\n",
        "def diminuir(a, b):\n",
        "  return a - b\n",
        "\n",
        "def multiplicar(a, b):\n",
        "  return a * b\n",
        "\n",
        "def dividir(a, b):\n",
        "  return a / b\n",
        "\n",
        "def calcular(num1, num2, funcao):\n",
        "  return funcao(num1, num2)\n",
        "\n",
        "print(calcular(2, 3, somar)) # soma\n",
        "print(calcular(2, 1, diminuir)) # subtracao"
      ]
    },
    {
      "cell_type": "markdown",
      "source": [
        "Em Python, as funções são **Cidadãos de Primeira Classe** (First Class Citizen).\n",
        "\n",
        "---\n",
        "\n",
        "**Nested Functions - Funções Aninhadas**\n",
        "\n",
        "Em Python, também podemos ter funções dentro de funções, que são conhecidas por *Nested Functions*, ou também *Inner Functions*."
      ],
      "metadata": {
        "id": "RSHNIqBSetTb"
      }
    },
    {
      "cell_type": "code",
      "source": [
        "# exemplo\n",
        "\n",
        "from random import choice\n",
        "\n",
        "def cumprimento(pessoa):\n",
        "  def humor():\n",
        "    return choice(('E ai, ', 'Suma daqui, ', 'Gosto muito de você, '))\n",
        "  return humor() + pessoa\n",
        "\n",
        "cumprimento('Gustavo')"
      ],
      "metadata": {
        "colab": {
          "base_uri": "https://localhost:8080/",
          "height": 35
        },
        "id": "6t-WyXRkfLSp",
        "outputId": "d6f4ca7f-87ad-4f8d-a518-3b3676e1ea1d"
      },
      "execution_count": null,
      "outputs": [
        {
          "output_type": "execute_result",
          "data": {
            "text/plain": [
              "'E ai, Gustavo'"
            ],
            "application/vnd.google.colaboratory.intrinsic+json": {
              "type": "string"
            }
          },
          "metadata": {},
          "execution_count": 10
        }
      ]
    },
    {
      "cell_type": "code",
      "source": [
        "# retornando funções de outras funções\n",
        "\n",
        "from random import choice\n",
        "\n",
        "def faz_me_rir():\n",
        "  def rir():\n",
        "    return choice(('hahahhahaha', 'kkkkkkk', 'rsrsrsrs'))\n",
        "  return rir\n",
        "\n",
        "rindo = faz_me_rir()\n",
        "print(rindo())\n",
        "print(type(rindo))"
      ],
      "metadata": {
        "colab": {
          "base_uri": "https://localhost:8080/"
        },
        "id": "63HpyjICf5eK",
        "outputId": "ce82ca6e-f918-4ba6-b492-98da8ca71eff"
      },
      "execution_count": null,
      "outputs": [
        {
          "output_type": "stream",
          "name": "stdout",
          "text": [
            "rsrsrsrs\n",
            "<class 'function'>\n"
          ]
        }
      ]
    },
    {
      "cell_type": "code",
      "source": [
        "from random import choice\n",
        "\n",
        "def faz_me_rir(pessoa):\n",
        "  def dando_risada():\n",
        "    risada = choice(('hahahhahaha', 'kkkkkkk', 'rsrsrsrs'))\n",
        "    return f'{risada} {pessoa}' # \"pessoa\" vem da função anterior\n",
        "  return dando_risada\n",
        "\n",
        "rindo = faz_me_rir('Gustavo')\n",
        "print(rindo())\n",
        "print(rindo())\n",
        "print(rindo())"
      ],
      "metadata": {
        "colab": {
          "base_uri": "https://localhost:8080/"
        },
        "id": "ljx0ma1RrFGH",
        "outputId": "00965893-65f7-4bcc-991a-286842440185"
      },
      "execution_count": null,
      "outputs": [
        {
          "output_type": "stream",
          "name": "stdout",
          "text": [
            "kkkkkkk Gustavo\n",
            "hahahhahaha Gustavo\n",
            "kkkkkkk Gustavo\n"
          ]
        }
      ]
    },
    {
      "cell_type": "markdown",
      "source": [
        "Inner Functions podem acessar o escopo de funções mais externas.\n",
        "Por exemplo, a função `rir()` consegue acessar o escopo de `faz_me_rir()`."
      ],
      "metadata": {
        "id": "I02GvO5iq1B4"
      }
    },
    {
      "cell_type": "markdown",
      "source": [
        "# 2.Decoradores\n",
        "\n",
        "Decorators: são funções. Envolvem outras funções e aprimoram seus comportamentos.\n",
        "\n",
        "Decorators também são exemplos de Higher Order Functions e possuem uma sintaxe própria usando `@` (Syntact Sugar/ Açúcar Sintático)."
      ],
      "metadata": {
        "id": "2Y3ywU3orzSA"
      }
    },
    {
      "cell_type": "code",
      "source": [
        "# Decorators como funções (sintaxe não recomendada, sem @)\n",
        "\n",
        "def seja_educado(funcao): # decorator\n",
        "  def sendo():\n",
        "    print('Foi um prazer conhecer você!')\n",
        "    funcao()\n",
        "    print('Tenha um ótimo dia!')\n",
        "  return sendo\n",
        "\n",
        "def saudacao(): # função decorada\n",
        "  print('Seja bem-vindo(a)!')\n",
        "\n",
        "# Testando\n",
        "\n",
        "teste = seja_educado(saudacao)\n",
        "teste()"
      ],
      "metadata": {
        "colab": {
          "base_uri": "https://localhost:8080/"
        },
        "id": "eKGTe4IWtCei",
        "outputId": "6abd6644-22c7-4258-da3d-53ca39b06715"
      },
      "execution_count": null,
      "outputs": [
        {
          "output_type": "stream",
          "name": "stdout",
          "text": [
            "Foi um prazer conhecer você!\n",
            "Seja bem-vindo(a)!\n",
            "Tenha um ótimo dia!\n"
          ]
        }
      ]
    },
    {
      "cell_type": "code",
      "source": [
        "# Decoratos como funções - Syntax Sugar (recomendado)\n",
        "\n",
        "def seja_educado_mesmo(funcao):\n",
        "  def sendo_mesmo():\n",
        "    print('Foi um prazer conhecer você!')\n",
        "    funcao()\n",
        "    print('Tenha um excelente dia!')\n",
        "  return sendo_mesmo\n",
        "\n",
        "@seja_educado_mesmo\n",
        "def apresentando():\n",
        "  print('Meu nome é Gustavo')\n",
        "\n",
        "# teste\n",
        "\n",
        "apresentando()"
      ],
      "metadata": {
        "colab": {
          "base_uri": "https://localhost:8080/"
        },
        "id": "l0qefI8ovKAr",
        "outputId": "09757ef3-c120-4e30-d2cd-18d7c7c85a28"
      },
      "execution_count": null,
      "outputs": [
        {
          "output_type": "stream",
          "name": "stdout",
          "text": [
            "Foi um prazer conhecer você!\n",
            "Meu nome é Gustavo\n",
            "Tenha um excelente dia!\n"
          ]
        }
      ]
    },
    {
      "cell_type": "markdown",
      "source": [
        "# 3.Decoradores com diferentes assinaturas\n",
        "\n",
        "Padrão de projeto: Decorator Pattern. Para resolver quando passamos mais parâmetros do que a função espera receber."
      ],
      "metadata": {
        "id": "8G_NpfWjwJ8j"
      }
    },
    {
      "cell_type": "code",
      "source": [
        "def gritar(funcao):\n",
        "  def aumentar(*args, **kwargs):\n",
        "    return funcao(*args, **kwargs).upper()\n",
        "  return aumentar\n",
        "\n",
        "@gritar\n",
        "def saudacao(nome):\n",
        "  return f'Olá, eu sou o Gustavo'\n",
        "\n",
        "@gritar\n",
        "def ordenar(principal, acompanhamento):\n",
        "  return f'Olá, eu gostaria de {principal} acompanhado de {acompanhamento}, por favor.'\n",
        "\n",
        "print(saudacao('Gustavo'))\n",
        "print(ordenar('Picanha', 'Batata Frita'))"
      ],
      "metadata": {
        "colab": {
          "base_uri": "https://localhost:8080/"
        },
        "id": "anUIzl1RxPhb",
        "outputId": "ec2e376d-bc97-4aa0-d8fa-8c4c3dada5c8"
      },
      "execution_count": null,
      "outputs": [
        {
          "output_type": "stream",
          "name": "stdout",
          "text": [
            "OLÁ, EU SOU O GUSTAVO\n",
            "OLÁ, EU GOSTARIA DE PICANHA ACOMPANHADO DE BATATA FRITA, POR FAVOR.\n"
          ]
        }
      ]
    },
    {
      "cell_type": "markdown",
      "source": [
        "Assinatura de uma função é representada pelo seu retorno, nome e parâmetros de entrada. Em Python não temos retorno, então é apenas o nome da funação e seus parâmetros."
      ],
      "metadata": {
        "id": "IHV6zOcNyPau"
      }
    },
    {
      "cell_type": "code",
      "source": [
        "# Decorator com argumentos\n",
        "\n",
        "def verifica_primeiro_argumento(valor):\n",
        "  def interna(funcao):\n",
        "    def outra(*args, **kwargs):\n",
        "      if args and args[0] != valor:\n",
        "        return f'Valor incorreto! Primeiro argumento precisa ser {valor}'\n",
        "      return funcao(*args, **kwargs)\n",
        "    return outra\n",
        "  return interna\n",
        "\n",
        "@verifica_primeiro_argumento('pizza')\n",
        "def comida_favorita(*args):\n",
        "  print(args)\n",
        "\n",
        "@verifica_primeiro_argumento(10)\n",
        "def soma_dez(num1, num2):\n",
        "  return num1 + num2\n",
        "\n",
        "# testando\n",
        "\n",
        "print(soma_dez(10, 20))\n",
        "print(soma_dez(5, 20))\n",
        "\n",
        "print(comida_favorita('pizza', 'churrasco', 'bolo', 'sorvete'))\n",
        "print(comida_favorita('churrasco', 'bolo', 'sorvete'))"
      ],
      "metadata": {
        "colab": {
          "base_uri": "https://localhost:8080/"
        },
        "id": "vCWEsK4Ly4Uk",
        "outputId": "7dd3f85a-30aa-440e-9460-507c56e9a127"
      },
      "execution_count": null,
      "outputs": [
        {
          "output_type": "stream",
          "name": "stdout",
          "text": [
            "30\n",
            "Valor incorreto! Primeiro argumento precisa ser 10\n",
            "('pizza', 'churrasco', 'bolo', 'sorvete')\n",
            "None\n",
            "Valor incorreto! Primeiro argumento precisa ser pizza\n"
          ]
        }
      ]
    },
    {
      "cell_type": "markdown",
      "source": [
        "# 4.Preservando Metadatas com wraps\n",
        "\n",
        "Metadatas -> são dados intrínsecos em arquivos (tamanho, data de modificação,...)\n",
        "\n",
        "wraps -> são funções que envolvem elementos com diversas finalidades."
      ],
      "metadata": {
        "id": "z7bNTvesChOS"
      }
    },
    {
      "cell_type": "code",
      "source": [
        "# Problema\n",
        "\n",
        "def ver_log(funcao):\n",
        "  def logar(*args, **kwargs):\n",
        "    \"\"\"Eu sou uma função (logar) dentro de outra\"\"\"\n",
        "    print(f'Você está chamando {funcao.__name__}')\n",
        "    print(f'Aqui a documentação: {funcao.__doc__}')\n",
        "    return funcao(*args, **kwargs)\n",
        "  return logar\n",
        "\n",
        "@ver_log\n",
        "def soma(a, b):\n",
        "  \"\"\"Soma dois números\"\"\"\n",
        "  return a + b\n",
        "\n",
        "print(soma(10, 30)) # até aqui tudo ok\n",
        "\n",
        "print(soma.__name__) # não trouxe o __name__ de soma()\n",
        "print(soma.__doc__) # não trouxe a __doc__ de soma()"
      ],
      "metadata": {
        "colab": {
          "base_uri": "https://localhost:8080/"
        },
        "id": "goNHP1XPEP6r",
        "outputId": "0d46f9a3-7711-4d12-8c0b-7816735d0b4b"
      },
      "execution_count": 3,
      "outputs": [
        {
          "output_type": "stream",
          "name": "stdout",
          "text": [
            "40\n",
            "soma\n",
            "Soma dois números\n"
          ]
        }
      ]
    },
    {
      "cell_type": "markdown",
      "source": [
        "Para resolver isso, precisamos fazer import de um decorator da própria linguagem Python."
      ],
      "metadata": {
        "id": "RYzW-I4OFwEZ"
      }
    },
    {
      "cell_type": "code",
      "source": [
        "from functools import wraps\n",
        "\n",
        "def ver_log(funcao):\n",
        "  @wraps(funcao) # só isso\n",
        "  def logar(*args, **kwargs):\n",
        "    \"\"\"Eu sou uma função (logar) dentro de outra\"\"\"\n",
        "    print(f'Você está chamando {funcao.__name__}')\n",
        "    print(f'Aqui a documentação: {funcao.__doc__}')\n",
        "    return funcao(*args, **kwargs)\n",
        "  return logar\n",
        "\n",
        "@ver_log\n",
        "def soma(a, b):\n",
        "  \"\"\"Soma dois números\"\"\"\n",
        "  return a + b\n",
        "\n",
        "print(soma(10, 30))\n",
        "\n",
        "print(soma.__name__)\n",
        "print(soma.__doc__)"
      ],
      "metadata": {
        "colab": {
          "base_uri": "https://localhost:8080/"
        },
        "id": "Us3pbUxUF2Ta",
        "outputId": "6a0e7b9b-c345-4d36-fa97-2c73f60d655d"
      },
      "execution_count": 4,
      "outputs": [
        {
          "output_type": "stream",
          "name": "stdout",
          "text": [
            "Você está chamando soma\n",
            "Aqui a documentação: Soma dois números\n",
            "40\n",
            "soma\n",
            "Soma dois números\n"
          ]
        }
      ]
    },
    {
      "cell_type": "markdown",
      "source": [
        "# 5.Forçando tipos de dados com um decorador"
      ],
      "metadata": {
        "id": "Yxlfr5F9GpHP"
      }
    },
    {
      "cell_type": "code",
      "source": [
        "def forca_tipo(*tipos):\n",
        "  def decorador(funcao):\n",
        "    def converte(*args, **kwargs):\n",
        "      novo_args = []\n",
        "      for(valor, tipo) in zip(args, tipos):\n",
        "        novo_args.append(tipo(valor))\n",
        "      return funcao(*novo_args, **kwargs)\n",
        "    return converte\n",
        "  return decorador\n",
        "\n",
        "@forca_tipo(str, int) # força tipos str e int\n",
        "def repete_msg(msg, vezes):\n",
        "  for vez in range(vezes):\n",
        "    print(msg)\n",
        "\n",
        "repete_msg('Guga', '3')\n",
        "\n",
        "@forca_tipo(float, float)\n",
        "def dividir(a, b):\n",
        "  print(a/b)\n",
        "\n",
        "dividir('1', '5')"
      ],
      "metadata": {
        "colab": {
          "base_uri": "https://localhost:8080/"
        },
        "id": "UfDyo_XoHeu_",
        "outputId": "d47c22a4-d58a-4abd-8531-388e61f2c64a"
      },
      "execution_count": 10,
      "outputs": [
        {
          "output_type": "stream",
          "name": "stdout",
          "text": [
            "Guga\n",
            "Guga\n",
            "Guga\n",
            "0.2\n"
          ]
        }
      ]
    }
  ]
}