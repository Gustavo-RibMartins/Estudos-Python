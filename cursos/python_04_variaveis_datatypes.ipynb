{
  "nbformat": 4,
  "nbformat_minor": 0,
  "metadata": {
    "colab": {
      "provenance": [],
      "toc_visible": true,
      "authorship_tag": "ABX9TyNcR7gzdVM90VUDu2WVISJV",
      "include_colab_link": true
    },
    "kernelspec": {
      "name": "python3",
      "display_name": "Python 3"
    },
    "language_info": {
      "name": "python"
    }
  },
  "cells": [
    {
      "cell_type": "markdown",
      "metadata": {
        "id": "view-in-github",
        "colab_type": "text"
      },
      "source": [
        "<a href=\"https://colab.research.google.com/github/Gustavo-RibMartins/estudos-python/blob/develop/cursos/python_04_variaveis_datatypes.ipynb\" target=\"_parent\"><img src=\"https://colab.research.google.com/assets/colab-badge.svg\" alt=\"Open In Colab\"/></a>"
      ]
    },
    {
      "cell_type": "markdown",
      "source": [
        "# 1.Tipo Numérico\n",
        "\n",
        "| Operador | Operação |\n",
        "|----------|----------|\n",
        "| + | soma |\n",
        "| - | subtração |\n",
        "| * | multiplicação |\n",
        "| / | divisão |\n",
        "| // | parte inteira da divisão |\n",
        "| % | resto da divisão |\n",
        "| ** | potência |\n",
        "| += | incremento |\n",
        "| -= | decremento |"
      ],
      "metadata": {
        "id": "3a4U24e8_oSQ"
      }
    },
    {
      "cell_type": "markdown",
      "source": [
        "É possível utilizar underscore para separar os milhares em um número muito grande, para facilitar a leitura humana."
      ],
      "metadata": {
        "id": "HnpRnJYFBBkR"
      }
    },
    {
      "cell_type": "code",
      "execution_count": 1,
      "metadata": {
        "colab": {
          "base_uri": "https://localhost:8080/"
        },
        "id": "_Zb4iLWR_KAZ",
        "outputId": "d4bcd14d-2952-40af-8cd7-6e83958f4bdb"
      },
      "outputs": [
        {
          "output_type": "stream",
          "name": "stdout",
          "text": [
            "1000000000000000000\n"
          ]
        }
      ],
      "source": [
        "a = 1_000_000_000_000_000_000\n",
        "print(a)"
      ]
    },
    {
      "cell_type": "markdown",
      "source": [
        "É possível utilizar a função `type()` para identificar o data type de uma variável."
      ],
      "metadata": {
        "id": "LQzAhF8DCE7V"
      }
    },
    {
      "cell_type": "code",
      "source": [
        "num = 45\n",
        "type(num)"
      ],
      "metadata": {
        "colab": {
          "base_uri": "https://localhost:8080/"
        },
        "id": "VHB2Q2T5CJ32",
        "outputId": "429cbd25-dd20-4a9b-ac5a-fc0f2a408eb4"
      },
      "execution_count": 4,
      "outputs": [
        {
          "output_type": "execute_result",
          "data": {
            "text/plain": [
              "int"
            ]
          },
          "metadata": {},
          "execution_count": 4
        }
      ]
    },
    {
      "cell_type": "markdown",
      "source": [
        "# 2.Tipo Float\n",
        "\n",
        "**Obs.:** o separador de casas decimais na programação é o ponto e não a vírgula."
      ],
      "metadata": {
        "id": "OFG0Lov-CgBZ"
      }
    },
    {
      "cell_type": "code",
      "source": [
        "num = 1.44\n",
        "type(num)"
      ],
      "metadata": {
        "colab": {
          "base_uri": "https://localhost:8080/"
        },
        "id": "526mBNzxC_-d",
        "outputId": "ce9972a4-4ac5-4d72-bca3-7a3bedc8aa24"
      },
      "execution_count": 5,
      "outputs": [
        {
          "output_type": "execute_result",
          "data": {
            "text/plain": [
              "float"
            ]
          },
          "metadata": {},
          "execution_count": 5
        }
      ]
    },
    {
      "cell_type": "markdown",
      "source": [
        "É possível fazer atribuição de várias variáveis na mesma linha no formato:\n",
        "\n",
        "```python\n",
        "var1, var2, ..., varN = valor1, valor2, ..., valorN\n",
        "```"
      ],
      "metadata": {
        "id": "9UcTMhuGDJPa"
      }
    },
    {
      "cell_type": "code",
      "source": [
        "valor1, valor2 = 1, 44\n",
        "print(f'valor1={valor1} e valor2={valor2}')"
      ],
      "metadata": {
        "colab": {
          "base_uri": "https://localhost:8080/"
        },
        "id": "qF7s3rffDW-z",
        "outputId": "83332976-398e-44ea-da3f-f4d1dace9e7a"
      },
      "execution_count": 6,
      "outputs": [
        {
          "output_type": "stream",
          "name": "stdout",
          "text": [
            "valor1=1 e valor2=44\n"
          ]
        }
      ]
    },
    {
      "cell_type": "markdown",
      "source": [
        "É possível converter um float em int com perda de precisão usando int(), ou um int em float usando float()"
      ],
      "metadata": {
        "id": "fONHSOlEDvMo"
      }
    },
    {
      "cell_type": "code",
      "source": [
        "flt = 1.44\n",
        "inteiro = 5\n",
        "print(int(flt))\n",
        "print(float(inteiro))"
      ],
      "metadata": {
        "colab": {
          "base_uri": "https://localhost:8080/"
        },
        "id": "Fn8_YhOVDzq0",
        "outputId": "28ba5e77-b20f-4963-ae7b-85f43f95b8d3"
      },
      "execution_count": 9,
      "outputs": [
        {
          "output_type": "stream",
          "name": "stdout",
          "text": [
            "1\n",
            "5.0\n"
          ]
        }
      ]
    },
    {
      "cell_type": "markdown",
      "source": [
        "Podemos trabalhar com números complexos do tipo `c = aj + b`"
      ],
      "metadata": {
        "id": "fQsliN4eD9SC"
      }
    },
    {
      "cell_type": "code",
      "source": [
        "comp = 5j\n",
        "type(comp)"
      ],
      "metadata": {
        "colab": {
          "base_uri": "https://localhost:8080/"
        },
        "id": "bfDCc135D_XX",
        "outputId": "12b2c282-479a-4873-d953-a25046986aaf"
      },
      "execution_count": 8,
      "outputs": [
        {
          "output_type": "execute_result",
          "data": {
            "text/plain": [
              "complex"
            ]
          },
          "metadata": {},
          "execution_count": 8
        }
      ]
    },
    {
      "cell_type": "markdown",
      "source": [
        "# 3.Tipo Boolean\n",
        "\n",
        "`True` ou `False`, sempre com a inicial maiúscula em Python.\n",
        "\n",
        "**Operações básicas de lógica Booleana**\n",
        "\n",
        "| Operador | Função |\n",
        "|----------|--------|\n",
        "| not | negação, inverte o valor booleano |\n",
        "| or | operação binária, soma |\n",
        "| and | operação binária, produto |\n",
        "| >, <, = | maior, menor, igual |"
      ],
      "metadata": {
        "id": "0UH1ImQbEwPE"
      }
    },
    {
      "cell_type": "code",
      "source": [
        "ativo = True\n",
        "op1, op2 = True, False\n",
        "\n",
        "print(f'not={not ativo}')\n",
        "print(f'or={op1 or op2}')\n",
        "print(f'and={op1 and op2}')\n",
        "print(f'5>6={5 > 6}')"
      ],
      "metadata": {
        "colab": {
          "base_uri": "https://localhost:8080/"
        },
        "id": "ktryYXnOFcgl",
        "outputId": "8eaaf740-a0e0-4767-a7fe-285335012dda"
      },
      "execution_count": 16,
      "outputs": [
        {
          "output_type": "stream",
          "name": "stdout",
          "text": [
            "not=False\n",
            "or=True\n",
            "and=False\n",
            "5>6=False\n"
          ]
        }
      ]
    }
  ]
}