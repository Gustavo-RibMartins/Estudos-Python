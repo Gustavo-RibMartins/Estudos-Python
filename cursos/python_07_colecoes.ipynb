{
  "nbformat": 4,
  "nbformat_minor": 0,
  "metadata": {
    "colab": {
      "provenance": [],
      "authorship_tag": "ABX9TyOBoogc2oJcXO+RmKw8rhc5",
      "include_colab_link": true
    },
    "kernelspec": {
      "name": "python3",
      "display_name": "Python 3"
    },
    "language_info": {
      "name": "python"
    }
  },
  "cells": [
    {
      "cell_type": "markdown",
      "metadata": {
        "id": "view-in-github",
        "colab_type": "text"
      },
      "source": [
        "<a href=\"https://colab.research.google.com/github/Gustavo-RibMartins/estudos-python/blob/develop/cursos/python_07_colecoes.ipynb\" target=\"_parent\"><img src=\"https://colab.research.google.com/assets/colab-badge.svg\" alt=\"Open In Colab\"/></a>"
      ]
    },
    {
      "cell_type": "markdown",
      "source": [
        "# 1.Listas\n",
        "\n",
        "Listas em Python funcionam como vetores ou matrizes (arrays), com a diferença de serem **dinâmicos** e podermos colocar **qualquer** tipo de dado.\n",
        "\n",
        "Por exemplo, em C/Java se você criar um array do tipo int com tamanho 5, este array será sempre do tipo inteiro e terá sempre no máximo 5 valores. Já em Python, não possui tamanho fixo, basta criar a lista e ir adicionando elementos.\n",
        "\n",
        "As listas em Python são representadas por colchetes []."
      ],
      "metadata": {
        "id": "xMSFty77pyEZ"
      }
    },
    {
      "cell_type": "code",
      "source": [
        "# exemplo de uma lista\n",
        "type([0, 1, 'gus', True])"
      ],
      "metadata": {
        "colab": {
          "base_uri": "https://localhost:8080/"
        },
        "id": "M2zrQiPCrD1q",
        "outputId": "3b2cc995-4e5c-4dc9-a38c-556a8ff36e35"
      },
      "execution_count": 2,
      "outputs": [
        {
          "output_type": "execute_result",
          "data": {
            "text/plain": [
              "list"
            ]
          },
          "metadata": {},
          "execution_count": 2
        }
      ]
    },
    {
      "cell_type": "code",
      "source": [
        "lista1 = [1, 99, 4, 27, 15, 22, 3, 1, 44, 42, 27]\n",
        "lista2 = ['G', 'u', 's']\n",
        "lista3 = []\n",
        "lista4 = list(range(11))"
      ],
      "metadata": {
        "id": "_AW2JVpsrVqQ"
      },
      "execution_count": 3,
      "outputs": []
    },
    {
      "cell_type": "markdown",
      "source": [
        "Podemos facilmente checar se um determinado valor está presente na lista."
      ],
      "metadata": {
        "id": "z7bg3-dcrxWt"
      }
    },
    {
      "cell_type": "code",
      "source": [
        "num = 7\n",
        "if num in lista4:\n",
        "  print(f'Achei o número {num}!')\n",
        "else:\n",
        "  print(f'Não encontrei o número {num}...')"
      ],
      "metadata": {
        "colab": {
          "base_uri": "https://localhost:8080/"
        },
        "id": "KariaKUsr1Mg",
        "outputId": "cfee471a-83fb-4866-fdeb-a620f52bcc8e"
      },
      "execution_count": 4,
      "outputs": [
        {
          "output_type": "stream",
          "name": "stdout",
          "text": [
            "Achei o número 7!\n"
          ]
        }
      ]
    },
    {
      "cell_type": "markdown",
      "source": [
        "Podemos facilmente ordenar uma lista."
      ],
      "metadata": {
        "id": "BWYVLvhusiyX"
      }
    },
    {
      "cell_type": "code",
      "source": [
        "lista1.sort()\n",
        "print(lista1)"
      ],
      "metadata": {
        "colab": {
          "base_uri": "https://localhost:8080/"
        },
        "id": "UfBBVDjismKD",
        "outputId": "0bbac116-0f6b-4e63-fe52-25a6016525e0"
      },
      "execution_count": 5,
      "outputs": [
        {
          "output_type": "stream",
          "name": "stdout",
          "text": [
            "[1, 1, 3, 4, 15, 22, 27, 27, 42, 44, 99]\n"
          ]
        }
      ]
    },
    {
      "cell_type": "markdown",
      "source": [
        "Podemos facilmente contar o número de ocorrências de um valor em uma lista."
      ],
      "metadata": {
        "id": "f2v5DbvqtOOH"
      }
    },
    {
      "cell_type": "code",
      "source": [
        "# contar quantos numeros 1 existem na lista1\n",
        "print(lista1.count(1))\n",
        "\n",
        "# contar quantas letras 's' tem na lista2\n",
        "print(lista2.count('s'))"
      ],
      "metadata": {
        "colab": {
          "base_uri": "https://localhost:8080/"
        },
        "id": "DK0oh_EwtSNg",
        "outputId": "e8c017f3-ccd3-44fe-8071-1ffba90e3c5e"
      },
      "execution_count": 6,
      "outputs": [
        {
          "output_type": "stream",
          "name": "stdout",
          "text": [
            "2\n",
            "1\n"
          ]
        }
      ]
    },
    {
      "cell_type": "markdown",
      "source": [
        "Adicionar elementos em listas.\n",
        "Obs.: para adicionar elementos em listas, utilizamos a função append.\n",
        "Com append, só conseguimos adicionar 1 elemento por vez."
      ],
      "metadata": {
        "id": "Wg-T5mdStuLL"
      }
    },
    {
      "cell_type": "code",
      "source": [
        "print(lista1)\n",
        "lista1.append(42)\n",
        "print(lista1)"
      ],
      "metadata": {
        "colab": {
          "base_uri": "https://localhost:8080/"
        },
        "id": "b1-75QWnt3XH",
        "outputId": "6ad34543-8db8-45cc-97e8-227190af7195"
      },
      "execution_count": 7,
      "outputs": [
        {
          "output_type": "stream",
          "name": "stdout",
          "text": [
            "[1, 1, 3, 4, 15, 22, 27, 27, 42, 44, 99]\n",
            "[1, 1, 3, 4, 15, 22, 27, 27, 42, 44, 99, 42]\n"
          ]
        }
      ]
    },
    {
      "cell_type": "markdown",
      "source": [
        "É possível colocar uma lista dentro de outra lista."
      ],
      "metadata": {
        "id": "Id5gnOBjuZFo"
      }
    },
    {
      "cell_type": "code",
      "source": [
        "print(lista1)\n",
        "lista1.append([100, 101, 102])\n",
        "print(lista1)"
      ],
      "metadata": {
        "colab": {
          "base_uri": "https://localhost:8080/"
        },
        "id": "dHU5bCBwucUL",
        "outputId": "dd4b0edc-84b5-45ce-e3c7-f47e5c6c46cd"
      },
      "execution_count": 8,
      "outputs": [
        {
          "output_type": "stream",
          "name": "stdout",
          "text": [
            "[1, 1, 3, 4, 15, 22, 27, 27, 42, 44, 99, 42]\n",
            "[1, 1, 3, 4, 15, 22, 27, 27, 42, 44, 99, 42, [100, 101, 102]]\n"
          ]
        }
      ]
    },
    {
      "cell_type": "markdown",
      "source": [
        "Para juntar duas listas, usar o método extend()."
      ],
      "metadata": {
        "id": "LMHdnHSGvLd5"
      }
    },
    {
      "cell_type": "code",
      "source": [
        "print(lista1)\n",
        "lista1.extend([123, 44, 67])\n",
        "print(lista1)"
      ],
      "metadata": {
        "colab": {
          "base_uri": "https://localhost:8080/"
        },
        "id": "NCArOQv8vDpo",
        "outputId": "fa23f2b3-ff8b-4abe-d363-64e2edad2fba"
      },
      "execution_count": 9,
      "outputs": [
        {
          "output_type": "stream",
          "name": "stdout",
          "text": [
            "[1, 1, 3, 4, 15, 22, 27, 27, 42, 44, 99, 42, [100, 101, 102]]\n",
            "[1, 1, 3, 4, 15, 22, 27, 27, 42, 44, 99, 42, [100, 101, 102], 123, 44, 67]\n"
          ]
        }
      ]
    },
    {
      "cell_type": "markdown",
      "source": [
        "Podemos inserir um novo elemento na lista, informando a posição do índice ao invés de somente inserir o elemento no final da lista com o método insert().\n",
        "Obs.: não substitui o valor, desloca os itens presentes para a direita."
      ],
      "metadata": {
        "id": "Ez5L4ATTvrQK"
      }
    },
    {
      "cell_type": "code",
      "source": [
        "lista1 = [1, 99, 4, 27, 15, 22, 3, 1, 44, 42, 27]\n",
        "lista1.insert(2, 'Novo Valor')\n",
        "print(lista1)"
      ],
      "metadata": {
        "colab": {
          "base_uri": "https://localhost:8080/"
        },
        "id": "n_kw-EGJvwh8",
        "outputId": "e6a8324f-18de-4b59-b99b-ccc657281c63"
      },
      "execution_count": 10,
      "outputs": [
        {
          "output_type": "stream",
          "name": "stdout",
          "text": [
            "[1, 99, 'Novo Valor', 4, 27, 15, 22, 3, 1, 44, 42, 27]\n"
          ]
        }
      ]
    },
    {
      "cell_type": "markdown",
      "source": [
        "É simples juntar 2 listas somando-as."
      ],
      "metadata": {
        "id": "Cg9a1CzRwRO1"
      }
    },
    {
      "cell_type": "code",
      "source": [
        "lista10 = [1, 2, 3]\n",
        "lista11 = [4, 5, 6]\n",
        "lista12 = lista10 + lista11\n",
        "print(lista12)"
      ],
      "metadata": {
        "colab": {
          "base_uri": "https://localhost:8080/"
        },
        "id": "BH1TMP4UwUbQ",
        "outputId": "0b9b380f-b0ad-4cb9-8496-6a999d7858cf"
      },
      "execution_count": 11,
      "outputs": [
        {
          "output_type": "stream",
          "name": "stdout",
          "text": [
            "[1, 2, 3, 4, 5, 6]\n"
          ]
        }
      ]
    },
    {
      "cell_type": "markdown",
      "source": [
        "Imprimir a lista inversa."
      ],
      "metadata": {
        "id": "_LqOccbnwtcL"
      }
    },
    {
      "cell_type": "code",
      "source": [
        "print(lista1)\n",
        "lista1.reverse()\n",
        "print(lista1)"
      ],
      "metadata": {
        "colab": {
          "base_uri": "https://localhost:8080/"
        },
        "id": "suK_oVGOwwbO",
        "outputId": "125650b7-43ea-45eb-826c-e19cfc550927"
      },
      "execution_count": 12,
      "outputs": [
        {
          "output_type": "stream",
          "name": "stdout",
          "text": [
            "[1, 99, 'Novo Valor', 4, 27, 15, 22, 3, 1, 44, 42, 27]\n",
            "[27, 42, 44, 1, 3, 22, 15, 27, 4, 'Novo Valor', 99, 1]\n"
          ]
        }
      ]
    },
    {
      "cell_type": "markdown",
      "source": [
        "Copiar uma lista"
      ],
      "metadata": {
        "id": "LVNQthFUw6M3"
      }
    },
    {
      "cell_type": "code",
      "source": [
        "lista1a = lista1\n",
        "print(lista1a)"
      ],
      "metadata": {
        "colab": {
          "base_uri": "https://localhost:8080/"
        },
        "id": "o6tcAUi1GOWU",
        "outputId": "f9ef2fed-b78f-4bc2-b9a6-2497dffb15db"
      },
      "execution_count": 13,
      "outputs": [
        {
          "output_type": "stream",
          "name": "stdout",
          "text": [
            "[27, 42, 44, 1, 3, 22, 15, 27, 4, 'Novo Valor', 99, 1]\n"
          ]
        }
      ]
    },
    {
      "cell_type": "markdown",
      "source": [
        "Tamanho da lista/ quantidade de elementos."
      ],
      "metadata": {
        "id": "seWNkdQrGaQt"
      }
    },
    {
      "cell_type": "code",
      "source": [
        "print(len(lista1))"
      ],
      "metadata": {
        "colab": {
          "base_uri": "https://localhost:8080/"
        },
        "id": "FC91XPU7Gbr5",
        "outputId": "561912ce-7f5b-4819-8089-c9d5902ddd51"
      },
      "execution_count": 14,
      "outputs": [
        {
          "output_type": "stream",
          "name": "stdout",
          "text": [
            "12\n"
          ]
        }
      ]
    },
    {
      "cell_type": "markdown",
      "source": [
        "Removendo o último elemento de uma lista."
      ],
      "metadata": {
        "id": "7oB99CQ0Gl6K"
      }
    },
    {
      "cell_type": "code",
      "source": [
        "print(lista1)\n",
        "lista1.pop()\n",
        "print(lista1)"
      ],
      "metadata": {
        "colab": {
          "base_uri": "https://localhost:8080/"
        },
        "id": "Z8Ysx2z5GoYQ",
        "outputId": "2e3bc798-f350-4af0-baf0-d678f4f6897d"
      },
      "execution_count": 15,
      "outputs": [
        {
          "output_type": "stream",
          "name": "stdout",
          "text": [
            "[27, 42, 44, 1, 3, 22, 15, 27, 4, 'Novo Valor', 99, 1]\n",
            "[27, 42, 44, 1, 3, 22, 15, 27, 4, 'Novo Valor', 99]\n"
          ]
        }
      ]
    },
    {
      "cell_type": "markdown",
      "source": [
        "Podemos remover um elemento pelo índice."
      ],
      "metadata": {
        "id": "vu_XzbxvG4gM"
      }
    },
    {
      "cell_type": "code",
      "source": [
        "# remover o primeiro elemento\n",
        "print(lista1)\n",
        "lista1.pop(0)\n",
        "print(lista1)"
      ],
      "metadata": {
        "colab": {
          "base_uri": "https://localhost:8080/"
        },
        "id": "if9KZGVoHD6l",
        "outputId": "5fa18d32-4d8e-42a4-ee1e-a71d4dc67dd3"
      },
      "execution_count": 16,
      "outputs": [
        {
          "output_type": "stream",
          "name": "stdout",
          "text": [
            "[27, 42, 44, 1, 3, 22, 15, 27, 4, 'Novo Valor', 99]\n",
            "[42, 44, 1, 3, 22, 15, 27, 4, 'Novo Valor', 99]\n"
          ]
        }
      ]
    },
    {
      "cell_type": "markdown",
      "source": [
        "Podemos remover todos os elementos da lista."
      ],
      "metadata": {
        "id": "RlYNSCnyHbQU"
      }
    },
    {
      "cell_type": "code",
      "source": [
        "print(lista1)\n",
        "lista1.clear()\n",
        "print(lista1)"
      ],
      "metadata": {
        "colab": {
          "base_uri": "https://localhost:8080/"
        },
        "id": "GVhZPpqWHfE0",
        "outputId": "8deb7e4f-9f72-4686-f75a-2ff48b4a2d20"
      },
      "execution_count": 17,
      "outputs": [
        {
          "output_type": "stream",
          "name": "stdout",
          "text": [
            "[42, 44, 1, 3, 22, 15, 27, 4, 'Novo Valor', 99]\n",
            "[]\n"
          ]
        }
      ]
    },
    {
      "cell_type": "markdown",
      "source": [
        "Operações com listas."
      ],
      "metadata": {
        "id": "qOLvUTfbHrOb"
      }
    },
    {
      "cell_type": "code",
      "source": [
        "lista1 = [1, 2, 3]\n",
        "\n",
        "listaM = lista1 * 3\n",
        "print(listaM)"
      ],
      "metadata": {
        "colab": {
          "base_uri": "https://localhost:8080/"
        },
        "id": "Ryjjf-G8HnXc",
        "outputId": "07b12e25-0005-481b-c587-7c36b02a59a1"
      },
      "execution_count": 21,
      "outputs": [
        {
          "output_type": "stream",
          "name": "stdout",
          "text": [
            "[1, 2, 3, 1, 2, 3, 1, 2, 3]\n"
          ]
        }
      ]
    },
    {
      "cell_type": "markdown",
      "source": [
        "Podemos facilmente converter uma string para uma lista."
      ],
      "metadata": {
        "id": "JszDWPtXH_-A"
      }
    },
    {
      "cell_type": "code",
      "source": [
        "nome = 'Gustavo Ribeiro Martins'\n",
        "print(nome)\n",
        "nome = nome.split()\n",
        "print(nome)"
      ],
      "metadata": {
        "colab": {
          "base_uri": "https://localhost:8080/"
        },
        "id": "qSXKfHGfICVi",
        "outputId": "0cf4b2ff-cac8-4573-c5bc-4be6258dc6c8"
      },
      "execution_count": 23,
      "outputs": [
        {
          "output_type": "stream",
          "name": "stdout",
          "text": [
            "Gustavo Ribeiro Martins\n",
            "['Gustavo', 'Ribeiro', 'Martins']\n"
          ]
        }
      ]
    },
    {
      "cell_type": "markdown",
      "source": [
        "**Obs.:** por padrão, o split() usa o espaço como delimitador dos elementos da lista. Podemos informar o delimitador."
      ],
      "metadata": {
        "id": "1Mgy-t1aIOgk"
      }
    },
    {
      "cell_type": "code",
      "source": [
        "cpf = '123.456.789.01'\n",
        "print(cpf)\n",
        "cpf = cpf.split('.')\n",
        "print(cpf)"
      ],
      "metadata": {
        "colab": {
          "base_uri": "https://localhost:8080/"
        },
        "id": "XZePx9FEIbku",
        "outputId": "423d1b87-3cf1-4ad9-ca06-8c97c9cd833d"
      },
      "execution_count": 24,
      "outputs": [
        {
          "output_type": "stream",
          "name": "stdout",
          "text": [
            "123.456.789.01\n",
            "['123', '456', '789', '01']\n"
          ]
        }
      ]
    },
    {
      "cell_type": "markdown",
      "source": [
        "Convertendo uma lista em string."
      ],
      "metadata": {
        "id": "sdbuuOpvIui_"
      }
    },
    {
      "cell_type": "code",
      "source": [
        "nome = ['Gustavo', 'Ribeiro', 'Martins']\n",
        "print(nome)\n",
        "\n",
        "nome = ' '.join(nome)\n",
        "print(nome)"
      ],
      "metadata": {
        "colab": {
          "base_uri": "https://localhost:8080/"
        },
        "id": "LUgCiKiFIwv8",
        "outputId": "2a9e39d3-40ab-4d6c-f9c1-a68e69e1b3bd"
      },
      "execution_count": 25,
      "outputs": [
        {
          "output_type": "stream",
          "name": "stdout",
          "text": [
            "['Gustavo', 'Ribeiro', 'Martins']\n",
            "Gustavo Ribeiro Martins\n"
          ]
        }
      ]
    },
    {
      "cell_type": "markdown",
      "source": [
        "É possível iterar sobre as listas."
      ],
      "metadata": {
        "id": "Vdd0ikSBJyZT"
      }
    },
    {
      "cell_type": "code",
      "source": [
        "carrinho = [] # lista vazia\n",
        "produto = ''  # qualquer valor != 'sair'\n",
        "\n",
        "while produto != 'sair':\n",
        "  print(\"Adicione um produto na lista ou digite 'sair' para sair: \")\n",
        "  produto = input()\n",
        "  if produto != 'sair':\n",
        "    carrinho.append(produto)\n",
        "\n",
        "for produto in carrinho:\n",
        "  print(produto)"
      ],
      "metadata": {
        "colab": {
          "base_uri": "https://localhost:8080/"
        },
        "id": "KOeaycX0J0vL",
        "outputId": "c4217aaa-c6ae-4363-f08c-5c93aa29f0ec"
      },
      "execution_count": 26,
      "outputs": [
        {
          "output_type": "stream",
          "name": "stdout",
          "text": [
            "Adicione um produto na lista ou digite 'sair' para sair: \n",
            "Carro\n",
            "Adicione um produto na lista ou digite 'sair' para sair: \n",
            "PS5\n",
            "Adicione um produto na lista ou digite 'sair' para sair: \n",
            "Livro\n",
            "Adicione um produto na lista ou digite 'sair' para sair: \n",
            "Caixa\n",
            "Adicione um produto na lista ou digite 'sair' para sair: \n",
            "sair\n",
            "Carro\n",
            "PS5\n",
            "Livro\n",
            "Caixa\n"
          ]
        }
      ]
    },
    {
      "cell_type": "markdown",
      "source": [
        "É possível acessar os elementos de forma indexada."
      ],
      "metadata": {
        "id": "B2j7XXZjKoDe"
      }
    },
    {
      "cell_type": "code",
      "source": [
        "#           0         1         2        3\n",
        "cores = ['verde', 'amarelo', 'azul', 'branco']\n",
        "\n",
        "print(cores[0]) # verde\n",
        "print(cores[1]) # amarelo\n",
        "print(cores[2]) # azul\n",
        "print(cores[3]) # branco"
      ],
      "metadata": {
        "colab": {
          "base_uri": "https://localhost:8080/"
        },
        "id": "7vU6oSvJKq3B",
        "outputId": "2d54afa8-cba9-4c44-ab20-f196ad944f29"
      },
      "execution_count": 27,
      "outputs": [
        {
          "output_type": "stream",
          "name": "stdout",
          "text": [
            "verde\n",
            "amarelo\n",
            "azul\n",
            "branco\n"
          ]
        }
      ]
    },
    {
      "cell_type": "code",
      "source": [
        "# Também é possível acessar de forma inversa\n",
        "\n",
        "print(cores[-1]) # branco\n",
        "print(cores[-2]) # azul\n",
        "print(cores[-3]) # amarelo\n",
        "print(cores[-4]) # verde"
      ],
      "metadata": {
        "colab": {
          "base_uri": "https://localhost:8080/"
        },
        "id": "uQibtpOgLAyf",
        "outputId": "63b60e83-1954-4d45-a6b0-7d4e3e20b637"
      },
      "execution_count": 28,
      "outputs": [
        {
          "output_type": "stream",
          "name": "stdout",
          "text": [
            "branco\n",
            "azul\n"
          ]
        }
      ]
    },
    {
      "cell_type": "markdown",
      "source": [
        "Gerar indice em um for."
      ],
      "metadata": {
        "id": "PibqhMKlLvd4"
      }
    },
    {
      "cell_type": "code",
      "source": [
        "for indice, cor in enumerate(cores):\n",
        "  print(indice, cor)"
      ],
      "metadata": {
        "colab": {
          "base_uri": "https://localhost:8080/"
        },
        "id": "2wkpUBrFLxSf",
        "outputId": "faf8d94d-2355-4b8f-95c6-d8a03220e943"
      },
      "execution_count": 29,
      "outputs": [
        {
          "output_type": "stream",
          "name": "stdout",
          "text": [
            "0 verde\n",
            "1 amarelo\n",
            "2 azul\n",
            "3 branco\n"
          ]
        }
      ]
    },
    {
      "cell_type": "markdown",
      "source": [
        "Listas é um tipo de coleção que **aceitam repetição**."
      ],
      "metadata": {
        "id": "YaCi4-ytMQPi"
      }
    },
    {
      "cell_type": "code",
      "source": [
        "lista = []\n",
        "lista.append(42)\n",
        "lista.append(42)\n",
        "lista.append(43)\n",
        "lista.append(43)\n",
        "print(lista)"
      ],
      "metadata": {
        "colab": {
          "base_uri": "https://localhost:8080/"
        },
        "id": "Rqrb7jOtMWOJ",
        "outputId": "45d36e81-9c06-479c-fd05-14cbe25aad60"
      },
      "execution_count": 30,
      "outputs": [
        {
          "output_type": "stream",
          "name": "stdout",
          "text": [
            "[42, 42, 43, 43]\n"
          ]
        }
      ]
    },
    {
      "cell_type": "markdown",
      "source": [
        "Encontrar o índice de um elemento na lista."
      ],
      "metadata": {
        "id": "j8q_thA6Md8F"
      }
    },
    {
      "cell_type": "code",
      "source": [
        "numeros = [5, 6, 7, 8, 9, 10]\n",
        "\n",
        "print(numeros.index(6))\n",
        "print(numeros.index(9))"
      ],
      "metadata": {
        "colab": {
          "base_uri": "https://localhost:8080/"
        },
        "id": "5-0JFVzQMhu_",
        "outputId": "69fc23ce-b0d6-4778-a78f-3bdb553a67b9"
      },
      "execution_count": 34,
      "outputs": [
        {
          "output_type": "stream",
          "name": "stdout",
          "text": [
            "1\n",
            "4\n"
          ]
        }
      ]
    },
    {
      "cell_type": "markdown",
      "source": [
        "Podemos fazer busca dentro de um range, ou seja, qual indice começar a buscar."
      ],
      "metadata": {
        "id": "UZhwK3OdNL4l"
      }
    },
    {
      "cell_type": "code",
      "source": [
        "numeros = [5, 0, 1, 2, 3, 4, 5, 6, 0, 1, 3, 5]\n",
        "\n",
        "print(numeros.index(5, 1)) # buscar a partir do indice 1"
      ],
      "metadata": {
        "colab": {
          "base_uri": "https://localhost:8080/"
        },
        "id": "pX0gJi9KNT0R",
        "outputId": "fd7d2af7-9762-4a8e-f622-e53e65f9e8ae"
      },
      "execution_count": 35,
      "outputs": [
        {
          "output_type": "stream",
          "name": "stdout",
          "text": [
            "6\n"
          ]
        }
      ]
    },
    {
      "cell_type": "markdown",
      "source": [
        "Podemos fazer busca denrto de um range com início e fim."
      ],
      "metadata": {
        "id": "w_wCwHZINsSl"
      }
    },
    {
      "cell_type": "code",
      "source": [
        "print(numeros.index(5, 7, 12)) # buscar o indice do valor 5 entre os indices 7 e 12"
      ],
      "metadata": {
        "colab": {
          "base_uri": "https://localhost:8080/"
        },
        "id": "UNtRGmpRNvMN",
        "outputId": "da268bcd-f91b-499b-b48a-37385b7085cc"
      },
      "execution_count": 38,
      "outputs": [
        {
          "output_type": "stream",
          "name": "stdout",
          "text": [
            "11\n"
          ]
        }
      ]
    },
    {
      "cell_type": "markdown",
      "source": [
        "Operações com a lista."
      ],
      "metadata": {
        "id": "spisFQAnO5N1"
      }
    },
    {
      "cell_type": "code",
      "source": [
        "lista = [1, 2, 3, 4, 5, 6]\n",
        "\n",
        "print(sum(lista)) # soma\n",
        "print(max(lista)) # maximo\n",
        "print(min(lista)) # minimo\n",
        "print(len(lista)) # tamanho"
      ],
      "metadata": {
        "colab": {
          "base_uri": "https://localhost:8080/"
        },
        "id": "oQBgFiu0O653",
        "outputId": "d33b2c22-d731-49cd-d77a-1fc4b7e6e808"
      },
      "execution_count": 42,
      "outputs": [
        {
          "output_type": "stream",
          "name": "stdout",
          "text": [
            "21\n",
            "6\n",
            "1\n",
            "6\n"
          ]
        }
      ]
    },
    {
      "cell_type": "markdown",
      "source": [
        "Transformar uma lista em tupla."
      ],
      "metadata": {
        "id": "VKRmoHqQPXpp"
      }
    },
    {
      "cell_type": "code",
      "source": [
        "lista = [1, 2, 3, 4, 5, 6]\n",
        "print(lista)\n",
        "print(type(lista))\n",
        "\n",
        "tupla = tuple(lista)\n",
        "print(tupla)\n",
        "print(type(tupla))"
      ],
      "metadata": {
        "colab": {
          "base_uri": "https://localhost:8080/"
        },
        "id": "QSkPZPw2PYO4",
        "outputId": "5b94a6a5-5675-43e3-ed9b-66dcaacc7b7b"
      },
      "execution_count": 43,
      "outputs": [
        {
          "output_type": "stream",
          "name": "stdout",
          "text": [
            "[1, 2, 3, 4, 5, 6]\n",
            "<class 'list'>\n",
            "(1, 2, 3, 4, 5, 6)\n",
            "<class 'tuple'>\n"
          ]
        }
      ]
    },
    {
      "cell_type": "markdown",
      "source": [
        "Desempacotamento de listas."
      ],
      "metadata": {
        "id": "4vB3ljnZPovV"
      }
    },
    {
      "cell_type": "code",
      "source": [
        "lista = [1, 2, 3]\n",
        "\n",
        "num1, num2, num3 = lista\n",
        "\n",
        "print(num1)\n",
        "print(num2)\n",
        "print(num3)"
      ],
      "metadata": {
        "colab": {
          "base_uri": "https://localhost:8080/"
        },
        "id": "vwHcXuIHPsf9",
        "outputId": "3b3472eb-0fc0-4ba0-9b16-83c88c73ec56"
      },
      "execution_count": 44,
      "outputs": [
        {
          "output_type": "stream",
          "name": "stdout",
          "text": [
            "1\n",
            "2\n",
            "3\n"
          ]
        }
      ]
    },
    {
      "cell_type": "markdown",
      "source": [
        "**Copiando uma lista para outra**: Shallow Copy e Deep Copy\n",
        "\n",
        "\n",
        "* Deep Copy: ao utilizar copy(), copiamos os dados de uma lista A para uma lista B, porém ambas são independentes. Modificando a lista B não afetamos a lista A."
      ],
      "metadata": {
        "id": "MaqWEyqsQCr7"
      }
    },
    {
      "cell_type": "code",
      "source": [
        "# Deep Copy\n",
        "\n",
        "lista = [1, 2, 3]\n",
        "print(f'lista = {lista}')\n",
        "\n",
        "nova = lista.copy()\n",
        "print(f'nova = {nova}')\n",
        "\n",
        "nova.append(4)\n",
        "print(f'nova = {nova}')\n",
        "print(f'lista = {lista}')"
      ],
      "metadata": {
        "colab": {
          "base_uri": "https://localhost:8080/"
        },
        "id": "eyDBlmk1QMxw",
        "outputId": "3c2c4b30-a03b-4892-b3bf-6c18de58fbe6"
      },
      "execution_count": 47,
      "outputs": [
        {
          "output_type": "stream",
          "name": "stdout",
          "text": [
            "lista = [1, 2, 3]\n",
            "nova = [1, 2, 3]\n",
            "nova = [1, 2, 3, 4]\n",
            "lista = [1, 2, 3]\n"
          ]
        }
      ]
    },
    {
      "cell_type": "markdown",
      "source": [
        "* Shallow Copy: utilizamos com listaA = listaB e as listas A e B se tornam dependentes. Modificando uma afeta a outra."
      ],
      "metadata": {
        "id": "qt8m9is5Q7sL"
      }
    },
    {
      "cell_type": "code",
      "source": [
        "# Shallow Copy\n",
        "\n",
        "lista = [1, 2, 3]\n",
        "print(f'lista = {lista}')\n",
        "\n",
        "nova = lista\n",
        "print(f'nova = {nova}')\n",
        "\n",
        "nova.append(4)\n",
        "print(f'nova = {nova}')\n",
        "print(f'lista = {lista}')"
      ],
      "metadata": {
        "colab": {
          "base_uri": "https://localhost:8080/"
        },
        "id": "b9V8SpV5RCEW",
        "outputId": "4e0e4bd8-0aac-40ab-a402-a7b729b71a83"
      },
      "execution_count": 48,
      "outputs": [
        {
          "output_type": "stream",
          "name": "stdout",
          "text": [
            "lista = [1, 2, 3]\n",
            "nova = [1, 2, 3]\n",
            "nova = [1, 2, 3, 4]\n",
            "lista = [1, 2, 3, 4]\n"
          ]
        }
      ]
    }
  ]
}