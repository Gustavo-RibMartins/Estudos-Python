{
  "nbformat": 4,
  "nbformat_minor": 0,
  "metadata": {
    "colab": {
      "provenance": [],
      "authorship_tag": "ABX9TyMfDGedx6p5wIHWfs4NABOx",
      "include_colab_link": true
    },
    "kernelspec": {
      "name": "python3",
      "display_name": "Python 3"
    },
    "language_info": {
      "name": "python"
    }
  },
  "cells": [
    {
      "cell_type": "markdown",
      "metadata": {
        "id": "view-in-github",
        "colab_type": "text"
      },
      "source": [
        "<a href=\"https://colab.research.google.com/github/Gustavo-RibMartins/estudos-python/blob/develop/cursos/python_07_colecoes.ipynb\" target=\"_parent\"><img src=\"https://colab.research.google.com/assets/colab-badge.svg\" alt=\"Open In Colab\"/></a>"
      ]
    },
    {
      "cell_type": "markdown",
      "source": [
        "# 1.Listas\n",
        "\n",
        "Listas em Python funcionam como vetores ou matrizes (arrays), com a diferença de serem **dinâmicos** e podermos colocar **qualquer** tipo de dado.\n",
        "\n",
        "Por exemplo, em C/Java se você criar um array do tipo int com tamanho 5, este array será sempre do tipo inteiro e terá sempre no máximo 5 valores. Já em Python, não possui tamanho fixo, basta criar a lista e ir adicionando elementos.\n",
        "\n",
        "As listas em Python são representadas por colchetes []."
      ],
      "metadata": {
        "id": "xMSFty77pyEZ"
      }
    },
    {
      "cell_type": "code",
      "source": [
        "# exemplo de uma lista\n",
        "type([0, 1, 'gus', True])"
      ],
      "metadata": {
        "colab": {
          "base_uri": "https://localhost:8080/"
        },
        "id": "M2zrQiPCrD1q",
        "outputId": "a5be599a-13c3-4fd6-d3f5-49192cb401fe"
      },
      "execution_count": null,
      "outputs": [
        {
          "output_type": "execute_result",
          "data": {
            "text/plain": [
              "list"
            ]
          },
          "metadata": {},
          "execution_count": 1
        }
      ]
    },
    {
      "cell_type": "code",
      "source": [
        "lista1 = [1, 99, 4, 27, 15, 22, 3, 1, 44, 42, 27]\n",
        "lista2 = ['G', 'u', 's']\n",
        "lista3 = []\n",
        "lista4 = list(range(11))"
      ],
      "metadata": {
        "id": "_AW2JVpsrVqQ"
      },
      "execution_count": null,
      "outputs": []
    },
    {
      "cell_type": "markdown",
      "source": [
        "Podemos facilmente checar se um determinado valor está presente na lista."
      ],
      "metadata": {
        "id": "z7bg3-dcrxWt"
      }
    },
    {
      "cell_type": "code",
      "source": [
        "num = 7\n",
        "if num in lista4:\n",
        "  print(f'Achei o número {num}!')\n",
        "else:\n",
        "  print(f'Não encontrei o número {num}...')"
      ],
      "metadata": {
        "colab": {
          "base_uri": "https://localhost:8080/"
        },
        "id": "KariaKUsr1Mg",
        "outputId": "cfee471a-83fb-4866-fdeb-a620f52bcc8e"
      },
      "execution_count": null,
      "outputs": [
        {
          "output_type": "stream",
          "name": "stdout",
          "text": [
            "Achei o número 7!\n"
          ]
        }
      ]
    },
    {
      "cell_type": "markdown",
      "source": [
        "Podemos facilmente ordenar uma lista."
      ],
      "metadata": {
        "id": "BWYVLvhusiyX"
      }
    },
    {
      "cell_type": "code",
      "source": [
        "lista1.sort()\n",
        "print(lista1)"
      ],
      "metadata": {
        "colab": {
          "base_uri": "https://localhost:8080/"
        },
        "id": "UfBBVDjismKD",
        "outputId": "0bbac116-0f6b-4e63-fe52-25a6016525e0"
      },
      "execution_count": null,
      "outputs": [
        {
          "output_type": "stream",
          "name": "stdout",
          "text": [
            "[1, 1, 3, 4, 15, 22, 27, 27, 42, 44, 99]\n"
          ]
        }
      ]
    },
    {
      "cell_type": "markdown",
      "source": [
        "Podemos facilmente contar o número de ocorrências de um valor em uma lista."
      ],
      "metadata": {
        "id": "f2v5DbvqtOOH"
      }
    },
    {
      "cell_type": "code",
      "source": [
        "# contar quantos numeros 1 existem na lista1\n",
        "print(lista1.count(1))\n",
        "\n",
        "# contar quantas letras 's' tem na lista2\n",
        "print(lista2.count('s'))"
      ],
      "metadata": {
        "colab": {
          "base_uri": "https://localhost:8080/"
        },
        "id": "DK0oh_EwtSNg",
        "outputId": "e8c017f3-ccd3-44fe-8071-1ffba90e3c5e"
      },
      "execution_count": null,
      "outputs": [
        {
          "output_type": "stream",
          "name": "stdout",
          "text": [
            "2\n",
            "1\n"
          ]
        }
      ]
    },
    {
      "cell_type": "markdown",
      "source": [
        "Adicionar elementos em listas.\n",
        "Obs.: para adicionar elementos em listas, utilizamos a função append.\n",
        "Com append, só conseguimos adicionar 1 elemento por vez."
      ],
      "metadata": {
        "id": "Wg-T5mdStuLL"
      }
    },
    {
      "cell_type": "code",
      "source": [
        "print(lista1)\n",
        "lista1.append(42)\n",
        "print(lista1)"
      ],
      "metadata": {
        "colab": {
          "base_uri": "https://localhost:8080/"
        },
        "id": "b1-75QWnt3XH",
        "outputId": "6ad34543-8db8-45cc-97e8-227190af7195"
      },
      "execution_count": null,
      "outputs": [
        {
          "output_type": "stream",
          "name": "stdout",
          "text": [
            "[1, 1, 3, 4, 15, 22, 27, 27, 42, 44, 99]\n",
            "[1, 1, 3, 4, 15, 22, 27, 27, 42, 44, 99, 42]\n"
          ]
        }
      ]
    },
    {
      "cell_type": "markdown",
      "source": [
        "É possível colocar uma lista dentro de outra lista."
      ],
      "metadata": {
        "id": "Id5gnOBjuZFo"
      }
    },
    {
      "cell_type": "code",
      "source": [
        "print(lista1)\n",
        "lista1.append([100, 101, 102])\n",
        "print(lista1)"
      ],
      "metadata": {
        "colab": {
          "base_uri": "https://localhost:8080/"
        },
        "id": "dHU5bCBwucUL",
        "outputId": "dd4b0edc-84b5-45ce-e3c7-f47e5c6c46cd"
      },
      "execution_count": null,
      "outputs": [
        {
          "output_type": "stream",
          "name": "stdout",
          "text": [
            "[1, 1, 3, 4, 15, 22, 27, 27, 42, 44, 99, 42]\n",
            "[1, 1, 3, 4, 15, 22, 27, 27, 42, 44, 99, 42, [100, 101, 102]]\n"
          ]
        }
      ]
    },
    {
      "cell_type": "markdown",
      "source": [
        "Para juntar duas listas, usar o método extend()."
      ],
      "metadata": {
        "id": "LMHdnHSGvLd5"
      }
    },
    {
      "cell_type": "code",
      "source": [
        "print(lista1)\n",
        "lista1.extend([123, 44, 67])\n",
        "print(lista1)"
      ],
      "metadata": {
        "colab": {
          "base_uri": "https://localhost:8080/"
        },
        "id": "NCArOQv8vDpo",
        "outputId": "fa23f2b3-ff8b-4abe-d363-64e2edad2fba"
      },
      "execution_count": null,
      "outputs": [
        {
          "output_type": "stream",
          "name": "stdout",
          "text": [
            "[1, 1, 3, 4, 15, 22, 27, 27, 42, 44, 99, 42, [100, 101, 102]]\n",
            "[1, 1, 3, 4, 15, 22, 27, 27, 42, 44, 99, 42, [100, 101, 102], 123, 44, 67]\n"
          ]
        }
      ]
    },
    {
      "cell_type": "markdown",
      "source": [
        "Podemos inserir um novo elemento na lista, informando a posição do índice ao invés de somente inserir o elemento no final da lista com o método insert().\n",
        "Obs.: não substitui o valor, desloca os itens presentes para a direita."
      ],
      "metadata": {
        "id": "Ez5L4ATTvrQK"
      }
    },
    {
      "cell_type": "code",
      "source": [
        "lista1 = [1, 99, 4, 27, 15, 22, 3, 1, 44, 42, 27]\n",
        "lista1.insert(2, 'Novo Valor')\n",
        "print(lista1)"
      ],
      "metadata": {
        "colab": {
          "base_uri": "https://localhost:8080/"
        },
        "id": "n_kw-EGJvwh8",
        "outputId": "e6a8324f-18de-4b59-b99b-ccc657281c63"
      },
      "execution_count": null,
      "outputs": [
        {
          "output_type": "stream",
          "name": "stdout",
          "text": [
            "[1, 99, 'Novo Valor', 4, 27, 15, 22, 3, 1, 44, 42, 27]\n"
          ]
        }
      ]
    },
    {
      "cell_type": "markdown",
      "source": [
        "É simples juntar 2 listas somando-as."
      ],
      "metadata": {
        "id": "Cg9a1CzRwRO1"
      }
    },
    {
      "cell_type": "code",
      "source": [
        "lista10 = [1, 2, 3]\n",
        "lista11 = [4, 5, 6]\n",
        "lista12 = lista10 + lista11\n",
        "print(lista12)"
      ],
      "metadata": {
        "colab": {
          "base_uri": "https://localhost:8080/"
        },
        "id": "BH1TMP4UwUbQ",
        "outputId": "0b9b380f-b0ad-4cb9-8496-6a999d7858cf"
      },
      "execution_count": null,
      "outputs": [
        {
          "output_type": "stream",
          "name": "stdout",
          "text": [
            "[1, 2, 3, 4, 5, 6]\n"
          ]
        }
      ]
    },
    {
      "cell_type": "markdown",
      "source": [
        "Imprimir a lista inversa."
      ],
      "metadata": {
        "id": "_LqOccbnwtcL"
      }
    },
    {
      "cell_type": "code",
      "source": [
        "print(lista1)\n",
        "lista1.reverse()\n",
        "print(lista1)"
      ],
      "metadata": {
        "colab": {
          "base_uri": "https://localhost:8080/"
        },
        "id": "suK_oVGOwwbO",
        "outputId": "125650b7-43ea-45eb-826c-e19cfc550927"
      },
      "execution_count": null,
      "outputs": [
        {
          "output_type": "stream",
          "name": "stdout",
          "text": [
            "[1, 99, 'Novo Valor', 4, 27, 15, 22, 3, 1, 44, 42, 27]\n",
            "[27, 42, 44, 1, 3, 22, 15, 27, 4, 'Novo Valor', 99, 1]\n"
          ]
        }
      ]
    },
    {
      "cell_type": "markdown",
      "source": [
        "Copiar uma lista"
      ],
      "metadata": {
        "id": "LVNQthFUw6M3"
      }
    },
    {
      "cell_type": "code",
      "source": [
        "lista1a = lista1\n",
        "print(lista1a)"
      ],
      "metadata": {
        "colab": {
          "base_uri": "https://localhost:8080/"
        },
        "id": "o6tcAUi1GOWU",
        "outputId": "f9ef2fed-b78f-4bc2-b9a6-2497dffb15db"
      },
      "execution_count": null,
      "outputs": [
        {
          "output_type": "stream",
          "name": "stdout",
          "text": [
            "[27, 42, 44, 1, 3, 22, 15, 27, 4, 'Novo Valor', 99, 1]\n"
          ]
        }
      ]
    },
    {
      "cell_type": "markdown",
      "source": [
        "Tamanho da lista/ quantidade de elementos."
      ],
      "metadata": {
        "id": "seWNkdQrGaQt"
      }
    },
    {
      "cell_type": "code",
      "source": [
        "print(len(lista1))"
      ],
      "metadata": {
        "colab": {
          "base_uri": "https://localhost:8080/"
        },
        "id": "FC91XPU7Gbr5",
        "outputId": "561912ce-7f5b-4819-8089-c9d5902ddd51"
      },
      "execution_count": null,
      "outputs": [
        {
          "output_type": "stream",
          "name": "stdout",
          "text": [
            "12\n"
          ]
        }
      ]
    },
    {
      "cell_type": "markdown",
      "source": [
        "Removendo o último elemento de uma lista."
      ],
      "metadata": {
        "id": "7oB99CQ0Gl6K"
      }
    },
    {
      "cell_type": "code",
      "source": [
        "print(lista1)\n",
        "lista1.pop()\n",
        "print(lista1)"
      ],
      "metadata": {
        "colab": {
          "base_uri": "https://localhost:8080/"
        },
        "id": "Z8Ysx2z5GoYQ",
        "outputId": "2e3bc798-f350-4af0-baf0-d678f4f6897d"
      },
      "execution_count": null,
      "outputs": [
        {
          "output_type": "stream",
          "name": "stdout",
          "text": [
            "[27, 42, 44, 1, 3, 22, 15, 27, 4, 'Novo Valor', 99, 1]\n",
            "[27, 42, 44, 1, 3, 22, 15, 27, 4, 'Novo Valor', 99]\n"
          ]
        }
      ]
    },
    {
      "cell_type": "markdown",
      "source": [
        "Podemos remover um elemento pelo índice."
      ],
      "metadata": {
        "id": "vu_XzbxvG4gM"
      }
    },
    {
      "cell_type": "code",
      "source": [
        "# remover o primeiro elemento\n",
        "print(lista1)\n",
        "lista1.pop(0)\n",
        "print(lista1)"
      ],
      "metadata": {
        "colab": {
          "base_uri": "https://localhost:8080/"
        },
        "id": "if9KZGVoHD6l",
        "outputId": "5fa18d32-4d8e-42a4-ee1e-a71d4dc67dd3"
      },
      "execution_count": null,
      "outputs": [
        {
          "output_type": "stream",
          "name": "stdout",
          "text": [
            "[27, 42, 44, 1, 3, 22, 15, 27, 4, 'Novo Valor', 99]\n",
            "[42, 44, 1, 3, 22, 15, 27, 4, 'Novo Valor', 99]\n"
          ]
        }
      ]
    },
    {
      "cell_type": "markdown",
      "source": [
        "Podemos remover todos os elementos da lista."
      ],
      "metadata": {
        "id": "RlYNSCnyHbQU"
      }
    },
    {
      "cell_type": "code",
      "source": [
        "print(lista1)\n",
        "lista1.clear()\n",
        "print(lista1)"
      ],
      "metadata": {
        "colab": {
          "base_uri": "https://localhost:8080/"
        },
        "id": "GVhZPpqWHfE0",
        "outputId": "8deb7e4f-9f72-4686-f75a-2ff48b4a2d20"
      },
      "execution_count": null,
      "outputs": [
        {
          "output_type": "stream",
          "name": "stdout",
          "text": [
            "[42, 44, 1, 3, 22, 15, 27, 4, 'Novo Valor', 99]\n",
            "[]\n"
          ]
        }
      ]
    },
    {
      "cell_type": "markdown",
      "source": [
        "Operações com listas."
      ],
      "metadata": {
        "id": "qOLvUTfbHrOb"
      }
    },
    {
      "cell_type": "code",
      "source": [
        "lista1 = [1, 2, 3]\n",
        "\n",
        "listaM = lista1 * 3\n",
        "print(listaM)"
      ],
      "metadata": {
        "colab": {
          "base_uri": "https://localhost:8080/"
        },
        "id": "Ryjjf-G8HnXc",
        "outputId": "07b12e25-0005-481b-c587-7c36b02a59a1"
      },
      "execution_count": null,
      "outputs": [
        {
          "output_type": "stream",
          "name": "stdout",
          "text": [
            "[1, 2, 3, 1, 2, 3, 1, 2, 3]\n"
          ]
        }
      ]
    },
    {
      "cell_type": "markdown",
      "source": [
        "Podemos facilmente converter uma string para uma lista."
      ],
      "metadata": {
        "id": "JszDWPtXH_-A"
      }
    },
    {
      "cell_type": "code",
      "source": [
        "nome = 'Gustavo Ribeiro Martins'\n",
        "print(nome)\n",
        "nome = nome.split()\n",
        "print(nome)"
      ],
      "metadata": {
        "colab": {
          "base_uri": "https://localhost:8080/"
        },
        "id": "qSXKfHGfICVi",
        "outputId": "0cf4b2ff-cac8-4573-c5bc-4be6258dc6c8"
      },
      "execution_count": null,
      "outputs": [
        {
          "output_type": "stream",
          "name": "stdout",
          "text": [
            "Gustavo Ribeiro Martins\n",
            "['Gustavo', 'Ribeiro', 'Martins']\n"
          ]
        }
      ]
    },
    {
      "cell_type": "markdown",
      "source": [
        "**Obs.:** por padrão, o split() usa o espaço como delimitador dos elementos da lista. Podemos informar o delimitador."
      ],
      "metadata": {
        "id": "1Mgy-t1aIOgk"
      }
    },
    {
      "cell_type": "code",
      "source": [
        "cpf = '123.456.789.01'\n",
        "print(cpf)\n",
        "cpf = cpf.split('.')\n",
        "print(cpf)"
      ],
      "metadata": {
        "colab": {
          "base_uri": "https://localhost:8080/"
        },
        "id": "XZePx9FEIbku",
        "outputId": "423d1b87-3cf1-4ad9-ca06-8c97c9cd833d"
      },
      "execution_count": null,
      "outputs": [
        {
          "output_type": "stream",
          "name": "stdout",
          "text": [
            "123.456.789.01\n",
            "['123', '456', '789', '01']\n"
          ]
        }
      ]
    },
    {
      "cell_type": "markdown",
      "source": [
        "Convertendo uma lista em string."
      ],
      "metadata": {
        "id": "sdbuuOpvIui_"
      }
    },
    {
      "cell_type": "code",
      "source": [
        "nome = ['Gustavo', 'Ribeiro', 'Martins']\n",
        "print(nome)\n",
        "\n",
        "nome = ' '.join(nome)\n",
        "print(nome)"
      ],
      "metadata": {
        "colab": {
          "base_uri": "https://localhost:8080/"
        },
        "id": "LUgCiKiFIwv8",
        "outputId": "2a9e39d3-40ab-4d6c-f9c1-a68e69e1b3bd"
      },
      "execution_count": null,
      "outputs": [
        {
          "output_type": "stream",
          "name": "stdout",
          "text": [
            "['Gustavo', 'Ribeiro', 'Martins']\n",
            "Gustavo Ribeiro Martins\n"
          ]
        }
      ]
    },
    {
      "cell_type": "markdown",
      "source": [
        "É possível iterar sobre as listas."
      ],
      "metadata": {
        "id": "Vdd0ikSBJyZT"
      }
    },
    {
      "cell_type": "code",
      "source": [
        "carrinho = [] # lista vazia\n",
        "produto = ''  # qualquer valor != 'sair'\n",
        "\n",
        "while produto != 'sair':\n",
        "  print(\"Adicione um produto na lista ou digite 'sair' para sair: \")\n",
        "  produto = input()\n",
        "  if produto != 'sair':\n",
        "    carrinho.append(produto)\n",
        "\n",
        "for produto in carrinho:\n",
        "  print(produto)"
      ],
      "metadata": {
        "colab": {
          "base_uri": "https://localhost:8080/"
        },
        "id": "KOeaycX0J0vL",
        "outputId": "c4217aaa-c6ae-4363-f08c-5c93aa29f0ec"
      },
      "execution_count": null,
      "outputs": [
        {
          "output_type": "stream",
          "name": "stdout",
          "text": [
            "Adicione um produto na lista ou digite 'sair' para sair: \n",
            "Carro\n",
            "Adicione um produto na lista ou digite 'sair' para sair: \n",
            "PS5\n",
            "Adicione um produto na lista ou digite 'sair' para sair: \n",
            "Livro\n",
            "Adicione um produto na lista ou digite 'sair' para sair: \n",
            "Caixa\n",
            "Adicione um produto na lista ou digite 'sair' para sair: \n",
            "sair\n",
            "Carro\n",
            "PS5\n",
            "Livro\n",
            "Caixa\n"
          ]
        }
      ]
    },
    {
      "cell_type": "markdown",
      "source": [
        "É possível acessar os elementos de forma indexada."
      ],
      "metadata": {
        "id": "B2j7XXZjKoDe"
      }
    },
    {
      "cell_type": "code",
      "source": [
        "#           0         1         2        3\n",
        "cores = ['verde', 'amarelo', 'azul', 'branco']\n",
        "\n",
        "print(cores[0]) # verde\n",
        "print(cores[1]) # amarelo\n",
        "print(cores[2]) # azul\n",
        "print(cores[3]) # branco"
      ],
      "metadata": {
        "colab": {
          "base_uri": "https://localhost:8080/"
        },
        "id": "7vU6oSvJKq3B",
        "outputId": "2d54afa8-cba9-4c44-ab20-f196ad944f29"
      },
      "execution_count": null,
      "outputs": [
        {
          "output_type": "stream",
          "name": "stdout",
          "text": [
            "verde\n",
            "amarelo\n",
            "azul\n",
            "branco\n"
          ]
        }
      ]
    },
    {
      "cell_type": "code",
      "source": [
        "# Também é possível acessar de forma inversa\n",
        "\n",
        "print(cores[-1]) # branco\n",
        "print(cores[-2]) # azul\n",
        "print(cores[-3]) # amarelo\n",
        "print(cores[-4]) # verde"
      ],
      "metadata": {
        "colab": {
          "base_uri": "https://localhost:8080/"
        },
        "id": "uQibtpOgLAyf",
        "outputId": "63b60e83-1954-4d45-a6b0-7d4e3e20b637"
      },
      "execution_count": null,
      "outputs": [
        {
          "output_type": "stream",
          "name": "stdout",
          "text": [
            "branco\n",
            "azul\n"
          ]
        }
      ]
    },
    {
      "cell_type": "markdown",
      "source": [
        "Gerar indice em um for."
      ],
      "metadata": {
        "id": "PibqhMKlLvd4"
      }
    },
    {
      "cell_type": "code",
      "source": [
        "for indice, cor in enumerate(cores):\n",
        "  print(indice, cor)"
      ],
      "metadata": {
        "colab": {
          "base_uri": "https://localhost:8080/"
        },
        "id": "2wkpUBrFLxSf",
        "outputId": "faf8d94d-2355-4b8f-95c6-d8a03220e943"
      },
      "execution_count": null,
      "outputs": [
        {
          "output_type": "stream",
          "name": "stdout",
          "text": [
            "0 verde\n",
            "1 amarelo\n",
            "2 azul\n",
            "3 branco\n"
          ]
        }
      ]
    },
    {
      "cell_type": "markdown",
      "source": [
        "Listas é um tipo de coleção que **aceitam repetição**."
      ],
      "metadata": {
        "id": "YaCi4-ytMQPi"
      }
    },
    {
      "cell_type": "code",
      "source": [
        "lista = []\n",
        "lista.append(42)\n",
        "lista.append(42)\n",
        "lista.append(43)\n",
        "lista.append(43)\n",
        "print(lista)"
      ],
      "metadata": {
        "colab": {
          "base_uri": "https://localhost:8080/"
        },
        "id": "Rqrb7jOtMWOJ",
        "outputId": "45d36e81-9c06-479c-fd05-14cbe25aad60"
      },
      "execution_count": null,
      "outputs": [
        {
          "output_type": "stream",
          "name": "stdout",
          "text": [
            "[42, 42, 43, 43]\n"
          ]
        }
      ]
    },
    {
      "cell_type": "markdown",
      "source": [
        "Encontrar o índice de um elemento na lista."
      ],
      "metadata": {
        "id": "j8q_thA6Md8F"
      }
    },
    {
      "cell_type": "code",
      "source": [
        "numeros = [5, 6, 7, 8, 9, 10]\n",
        "\n",
        "print(numeros.index(6))\n",
        "print(numeros.index(9))"
      ],
      "metadata": {
        "colab": {
          "base_uri": "https://localhost:8080/"
        },
        "id": "5-0JFVzQMhu_",
        "outputId": "69fc23ce-b0d6-4778-a78f-3bdb553a67b9"
      },
      "execution_count": null,
      "outputs": [
        {
          "output_type": "stream",
          "name": "stdout",
          "text": [
            "1\n",
            "4\n"
          ]
        }
      ]
    },
    {
      "cell_type": "markdown",
      "source": [
        "Podemos fazer busca dentro de um range, ou seja, qual indice começar a buscar."
      ],
      "metadata": {
        "id": "UZhwK3OdNL4l"
      }
    },
    {
      "cell_type": "code",
      "source": [
        "numeros = [5, 0, 1, 2, 3, 4, 5, 6, 0, 1, 3, 5]\n",
        "\n",
        "print(numeros.index(5, 1)) # buscar a partir do indice 1"
      ],
      "metadata": {
        "colab": {
          "base_uri": "https://localhost:8080/"
        },
        "id": "pX0gJi9KNT0R",
        "outputId": "fd7d2af7-9762-4a8e-f622-e53e65f9e8ae"
      },
      "execution_count": null,
      "outputs": [
        {
          "output_type": "stream",
          "name": "stdout",
          "text": [
            "6\n"
          ]
        }
      ]
    },
    {
      "cell_type": "markdown",
      "source": [
        "Podemos fazer busca denrto de um range com início e fim."
      ],
      "metadata": {
        "id": "w_wCwHZINsSl"
      }
    },
    {
      "cell_type": "code",
      "source": [
        "print(numeros.index(5, 7, 12)) # buscar o indice do valor 5 entre os indices 7 e 12"
      ],
      "metadata": {
        "colab": {
          "base_uri": "https://localhost:8080/"
        },
        "id": "UNtRGmpRNvMN",
        "outputId": "da268bcd-f91b-499b-b48a-37385b7085cc"
      },
      "execution_count": null,
      "outputs": [
        {
          "output_type": "stream",
          "name": "stdout",
          "text": [
            "11\n"
          ]
        }
      ]
    },
    {
      "cell_type": "markdown",
      "source": [
        "Operações com a lista."
      ],
      "metadata": {
        "id": "spisFQAnO5N1"
      }
    },
    {
      "cell_type": "code",
      "source": [
        "lista = [1, 2, 3, 4, 5, 6]\n",
        "\n",
        "print(sum(lista)) # soma\n",
        "print(max(lista)) # maximo\n",
        "print(min(lista)) # minimo\n",
        "print(len(lista)) # tamanho"
      ],
      "metadata": {
        "colab": {
          "base_uri": "https://localhost:8080/"
        },
        "id": "oQBgFiu0O653",
        "outputId": "d33b2c22-d731-49cd-d77a-1fc4b7e6e808"
      },
      "execution_count": null,
      "outputs": [
        {
          "output_type": "stream",
          "name": "stdout",
          "text": [
            "21\n",
            "6\n",
            "1\n",
            "6\n"
          ]
        }
      ]
    },
    {
      "cell_type": "markdown",
      "source": [
        "Transformar uma lista em tupla."
      ],
      "metadata": {
        "id": "VKRmoHqQPXpp"
      }
    },
    {
      "cell_type": "code",
      "source": [
        "lista = [1, 2, 3, 4, 5, 6]\n",
        "print(lista)\n",
        "print(type(lista))\n",
        "\n",
        "tupla = tuple(lista)\n",
        "print(tupla)\n",
        "print(type(tupla))"
      ],
      "metadata": {
        "colab": {
          "base_uri": "https://localhost:8080/"
        },
        "id": "QSkPZPw2PYO4",
        "outputId": "5b94a6a5-5675-43e3-ed9b-66dcaacc7b7b"
      },
      "execution_count": null,
      "outputs": [
        {
          "output_type": "stream",
          "name": "stdout",
          "text": [
            "[1, 2, 3, 4, 5, 6]\n",
            "<class 'list'>\n",
            "(1, 2, 3, 4, 5, 6)\n",
            "<class 'tuple'>\n"
          ]
        }
      ]
    },
    {
      "cell_type": "markdown",
      "source": [
        "Desempacotamento de listas."
      ],
      "metadata": {
        "id": "4vB3ljnZPovV"
      }
    },
    {
      "cell_type": "code",
      "source": [
        "lista = [1, 2, 3]\n",
        "\n",
        "num1, num2, num3 = lista\n",
        "\n",
        "print(num1)\n",
        "print(num2)\n",
        "print(num3)"
      ],
      "metadata": {
        "colab": {
          "base_uri": "https://localhost:8080/"
        },
        "id": "vwHcXuIHPsf9",
        "outputId": "3b3472eb-0fc0-4ba0-9b16-83c88c73ec56"
      },
      "execution_count": null,
      "outputs": [
        {
          "output_type": "stream",
          "name": "stdout",
          "text": [
            "1\n",
            "2\n",
            "3\n"
          ]
        }
      ]
    },
    {
      "cell_type": "markdown",
      "source": [
        "**Copiando uma lista para outra**: Shallow Copy e Deep Copy\n",
        "\n",
        "\n",
        "* Deep Copy: ao utilizar copy(), copiamos os dados de uma lista A para uma lista B, porém ambas são independentes. Modificando a lista B não afetamos a lista A."
      ],
      "metadata": {
        "id": "MaqWEyqsQCr7"
      }
    },
    {
      "cell_type": "code",
      "source": [
        "# Deep Copy\n",
        "\n",
        "lista = [1, 2, 3]\n",
        "print(f'lista = {lista}')\n",
        "\n",
        "nova = lista.copy()\n",
        "print(f'nova = {nova}')\n",
        "\n",
        "nova.append(4)\n",
        "print(f'nova = {nova}')\n",
        "print(f'lista = {lista}')"
      ],
      "metadata": {
        "colab": {
          "base_uri": "https://localhost:8080/"
        },
        "id": "eyDBlmk1QMxw",
        "outputId": "3c2c4b30-a03b-4892-b3bf-6c18de58fbe6"
      },
      "execution_count": null,
      "outputs": [
        {
          "output_type": "stream",
          "name": "stdout",
          "text": [
            "lista = [1, 2, 3]\n",
            "nova = [1, 2, 3]\n",
            "nova = [1, 2, 3, 4]\n",
            "lista = [1, 2, 3]\n"
          ]
        }
      ]
    },
    {
      "cell_type": "markdown",
      "source": [
        "* Shallow Copy: utilizamos com listaA = listaB e as listas A e B se tornam dependentes. Modificando uma afeta a outra."
      ],
      "metadata": {
        "id": "qt8m9is5Q7sL"
      }
    },
    {
      "cell_type": "code",
      "source": [
        "# Shallow Copy\n",
        "\n",
        "lista = [1, 2, 3]\n",
        "print(f'lista = {lista}')\n",
        "\n",
        "nova = lista\n",
        "print(f'nova = {nova}')\n",
        "\n",
        "nova.append(4)\n",
        "print(f'nova = {nova}')\n",
        "print(f'lista = {lista}')"
      ],
      "metadata": {
        "colab": {
          "base_uri": "https://localhost:8080/"
        },
        "id": "b9V8SpV5RCEW",
        "outputId": "4e0e4bd8-0aac-40ab-a402-a7b729b71a83"
      },
      "execution_count": null,
      "outputs": [
        {
          "output_type": "stream",
          "name": "stdout",
          "text": [
            "lista = [1, 2, 3]\n",
            "nova = [1, 2, 3]\n",
            "nova = [1, 2, 3, 4]\n",
            "lista = [1, 2, 3, 4]\n"
          ]
        }
      ]
    },
    {
      "cell_type": "markdown",
      "source": [
        "# 2.Tuplas\n",
        "\n",
        "São bastante parecidas com listas. Existem basicamente duas diferenças:\n",
        "\n",
        "* As Tuplas são representadas por parenteses ();\n",
        "* As Tuplas são imutáveis. Isso significa que ao se criar uma tupla ela não muda. Toda operação em uma tupla gera uma nova tupla."
      ],
      "metadata": {
        "id": "57j1eo3Tulz7"
      }
    },
    {
      "cell_type": "code",
      "source": [
        "# Listas (mutaveis)\n",
        "\n",
        "print(\"Lista\\n\")\n",
        "\n",
        "lista = [9, 4, 1, 6, 3]\n",
        "print(type(lista))\n",
        "print(lista)\n",
        "\n",
        "lista.sort()\n",
        "print(lista)\n",
        "\n",
        "lista.append(42)\n",
        "print(lista)\n",
        "\n",
        "print(\"\\nTupla\\n\")\n",
        "\n",
        "# Tuplas (imutaveis)\n",
        "\n",
        "tupla1 = (1, 2, 3, 4, 5, 6)\n",
        "print(type(tupla1))\n",
        "print(tupla1)\n",
        "\n",
        "tupla2 = 1, 2, 3, 4, 5, 6 # ao separar por virgula sem parenteses, o python tbm entende que eh uma tupla\n",
        "print(type(tupla2))\n",
        "print(tupla2)"
      ],
      "metadata": {
        "colab": {
          "base_uri": "https://localhost:8080/"
        },
        "id": "BsqH4tcDvLTn",
        "outputId": "a1326803-5ab5-4a4c-b205-44d8245833f4"
      },
      "execution_count": null,
      "outputs": [
        {
          "output_type": "stream",
          "name": "stdout",
          "text": [
            "Lista\n",
            "\n",
            "<class 'list'>\n",
            "[9, 4, 1, 6, 3]\n",
            "[1, 3, 4, 6, 9]\n",
            "[1, 3, 4, 6, 9, 42]\n",
            "\n",
            "Tupla\n",
            "\n",
            "<class 'tuple'>\n",
            "(1, 2, 3, 4, 5, 6)\n",
            "<class 'tuple'>\n",
            "(1, 2, 3, 4, 5, 6)\n"
          ]
        }
      ]
    },
    {
      "cell_type": "markdown",
      "source": [
        "**Cuidado**: não existem tuplas de 1 elemento."
      ],
      "metadata": {
        "id": "P07xtHLOwl-Q"
      }
    },
    {
      "cell_type": "code",
      "source": [
        "umElemento = (4) # Nao eh uma tupla\n",
        "print(type(umElemento))\n",
        "\n",
        "tupla3 = (4,) # Eh uma tupla\n",
        "print(type(tupla3))"
      ],
      "metadata": {
        "colab": {
          "base_uri": "https://localhost:8080/"
        },
        "id": "QLrkTjKBwoas",
        "outputId": "18f7369d-c418-4a04-ead2-36c531eb4254"
      },
      "execution_count": null,
      "outputs": [
        {
          "output_type": "stream",
          "name": "stdout",
          "text": [
            "<class 'int'>\n",
            "<class 'tuple'>\n"
          ]
        }
      ]
    },
    {
      "cell_type": "markdown",
      "source": [
        "> Tuplas são definidas pela vírugla e não apenas pelo uso do parênteses."
      ],
      "metadata": {
        "id": "XxFQy63uxD0b"
      }
    },
    {
      "cell_type": "code",
      "source": [
        "tupla = tuple(range(11))\n",
        "print(tupla)"
      ],
      "metadata": {
        "colab": {
          "base_uri": "https://localhost:8080/"
        },
        "id": "2aowXypyxcOc",
        "outputId": "c4ce7eda-4240-4b34-e16c-e65c6540e93e"
      },
      "execution_count": null,
      "outputs": [
        {
          "output_type": "stream",
          "name": "stdout",
          "text": [
            "(0, 1, 2, 3, 4, 5, 6, 7, 8, 9, 10)\n"
          ]
        }
      ]
    },
    {
      "cell_type": "code",
      "source": [
        "# Desempacotamento de tupla\n",
        "\n",
        "tupla = ('Gustavo', 'Ribeiro', 'Martins')\n",
        "nome, sobrenome, ultnome = tupla\n",
        "\n",
        "print(tupla)\n",
        "print(nome)\n",
        "print(sobrenome)\n",
        "print(ultnome)"
      ],
      "metadata": {
        "colab": {
          "base_uri": "https://localhost:8080/"
        },
        "id": "PJiVbH86xlju",
        "outputId": "a22ce724-5c62-4e62-99ba-acb153b28659"
      },
      "execution_count": null,
      "outputs": [
        {
          "output_type": "stream",
          "name": "stdout",
          "text": [
            "('Gustavo', 'Ribeiro', 'Martins')\n",
            "Gustavo\n",
            "Ribeiro\n",
            "Martins\n"
          ]
        }
      ]
    },
    {
      "cell_type": "markdown",
      "source": [
        "Por serem imutávies, métodos de adição e remoção de elementos nas tuplas não existem."
      ],
      "metadata": {
        "id": "q2Firl39yC0k"
      }
    },
    {
      "cell_type": "code",
      "source": [
        "# Operações matematicas\n",
        "\n",
        "tupla = (1, 2, 3, 4, 5, 6)\n",
        "\n",
        "print(sum(tupla))\n",
        "print(max(tupla))\n",
        "print(min(tupla))\n",
        "print(len(tupla))"
      ],
      "metadata": {
        "colab": {
          "base_uri": "https://localhost:8080/"
        },
        "id": "kGaOHgy3yLmz",
        "outputId": "7aeac435-7f53-4c5e-b247-993531a4e733"
      },
      "execution_count": null,
      "outputs": [
        {
          "output_type": "stream",
          "name": "stdout",
          "text": [
            "21\n",
            "6\n",
            "1\n",
            "6\n"
          ]
        }
      ]
    },
    {
      "cell_type": "code",
      "source": [
        "# Concatenação de Tuplas\n",
        "\n",
        "tupla1 = (1, 2, 3)\n",
        "tupla2 = (4, 5, 6)\n",
        "\n",
        "print(tupla1)\n",
        "print(tupla2)\n",
        "\n",
        "print(tupla1 + tupla2)\n",
        "\n",
        "print(tupla1) # continua sem alteracao\n",
        "print(tupla2) # continua sem alteracao"
      ],
      "metadata": {
        "colab": {
          "base_uri": "https://localhost:8080/"
        },
        "id": "sDWvFCgjycDS",
        "outputId": "ddf98eef-1846-411b-f242-a5c5530e2696"
      },
      "execution_count": null,
      "outputs": [
        {
          "output_type": "stream",
          "name": "stdout",
          "text": [
            "(1, 2, 3)\n",
            "(4, 5, 6)\n",
            "(1, 2, 3, 4, 5, 6)\n",
            "(1, 2, 3)\n",
            "(4, 5, 6)\n"
          ]
        }
      ]
    },
    {
      "cell_type": "markdown",
      "source": [
        "As tuplas são imutáveis, mas podemos sobrescrevê-las (não são bloqueadas para escrita)."
      ],
      "metadata": {
        "id": "lZQteM-czAw_"
      }
    },
    {
      "cell_type": "code",
      "source": [
        "tupla1 = 1, 2, 3\n",
        "tupla2 = 4,\n",
        "print(tupla1)\n",
        "\n",
        "tupla1 = tupla1 + tupla2\n",
        "print(tupla1)"
      ],
      "metadata": {
        "colab": {
          "base_uri": "https://localhost:8080/"
        },
        "id": "9rcATytzzGdE",
        "outputId": "6facd902-8ea8-44e4-b52a-842e9432f6af"
      },
      "execution_count": null,
      "outputs": [
        {
          "output_type": "stream",
          "name": "stdout",
          "text": [
            "(1, 2, 3)\n",
            "(1, 2, 3, 4)\n"
          ]
        }
      ]
    },
    {
      "cell_type": "code",
      "source": [
        "# Verificar se determinado elemento esta na tupla\n",
        "\n",
        "tupla = (1, 2, 3)\n",
        "\n",
        "print(1 in tupla)\n",
        "print(100 in tupla)"
      ],
      "metadata": {
        "colab": {
          "base_uri": "https://localhost:8080/"
        },
        "id": "He2FEDy_zP5B",
        "outputId": "63457b1c-ce1f-46b9-8982-fa7850c61177"
      },
      "execution_count": null,
      "outputs": [
        {
          "output_type": "stream",
          "name": "stdout",
          "text": [
            "True\n",
            "False\n"
          ]
        }
      ]
    },
    {
      "cell_type": "code",
      "source": [
        "# Iterando sobre uma tupla\n",
        "\n",
        "tupla = (1, 2, 3)\n",
        "\n",
        "for n in tupla:\n",
        "  print(n)\n",
        "\n",
        "for indice, valor in enumerate(tupla):\n",
        "  print(indice, valor)"
      ],
      "metadata": {
        "colab": {
          "base_uri": "https://localhost:8080/"
        },
        "id": "yJ2j-wtkza7L",
        "outputId": "9417c051-245e-4d4d-80fd-aa5d58e12c58"
      },
      "execution_count": null,
      "outputs": [
        {
          "output_type": "stream",
          "name": "stdout",
          "text": [
            "1\n",
            "2\n",
            "3\n",
            "0 1\n",
            "1 2\n",
            "2 3\n"
          ]
        }
      ]
    },
    {
      "cell_type": "code",
      "source": [
        "# Contando elementos emm uma tupla + convertendo string para tupla\n",
        "\n",
        "tupla = tuple('Gustavo Ribeiro Martins')\n",
        "print(tupla)\n",
        "\n",
        "print(tupla.count('r'))"
      ],
      "metadata": {
        "colab": {
          "base_uri": "https://localhost:8080/"
        },
        "id": "4SrfeOEGz4iI",
        "outputId": "6c0430d4-3b5f-4ebb-e484-584604f4bc1c"
      },
      "execution_count": null,
      "outputs": [
        {
          "output_type": "stream",
          "name": "stdout",
          "text": [
            "('G', 'u', 's', 't', 'a', 'v', 'o', ' ', 'R', 'i', 'b', 'e', 'i', 'r', 'o', ' ', 'M', 'a', 'r', 't', 'i', 'n', 's')\n",
            "2\n"
          ]
        }
      ]
    },
    {
      "cell_type": "markdown",
      "source": [
        "**Dicas na utilização de tuplas**\n",
        "\n",
        "Devemos utilizar tuplas SEMPRE que não precisamos modificar os dados contidos em uma coleção."
      ],
      "metadata": {
        "id": "rU41q9WE0i25"
      }
    },
    {
      "cell_type": "code",
      "source": [
        "# Exemplo 1\n",
        "\n",
        "meses = ('Janeiro', 'Fevereiro', 'Março', 'Abril', 'Maio', 'Junho', 'Julho', 'Agosto', 'Setembro', 'Outubro', 'Novembro', 'Dezembro')\n",
        "print(meses)"
      ],
      "metadata": {
        "colab": {
          "base_uri": "https://localhost:8080/"
        },
        "id": "kX47_7Vel_RW",
        "outputId": "7c4ad260-03c3-4122-f6ed-7d4863b1b10c"
      },
      "execution_count": null,
      "outputs": [
        {
          "output_type": "stream",
          "name": "stdout",
          "text": [
            "('Janeiro', 'Fevereiro', 'Março', 'Abril', 'Maio', 'Junho', 'Julho', 'Agosto', 'Setembro', 'Outubro', 'Novembro', 'Dezembro')\n"
          ]
        }
      ]
    },
    {
      "cell_type": "markdown",
      "source": [
        "O acesso a elementos de uma tupla também é semelhante a de uma lista."
      ],
      "metadata": {
        "id": "QhyzD2UTmrVK"
      }
    },
    {
      "cell_type": "code",
      "source": [
        "print(meses[5])"
      ],
      "metadata": {
        "colab": {
          "base_uri": "https://localhost:8080/"
        },
        "id": "TW-wvE3pmwTW",
        "outputId": "682c342f-ccd2-4527-df8e-72f9c4b5bd97"
      },
      "execution_count": null,
      "outputs": [
        {
          "output_type": "stream",
          "name": "stdout",
          "text": [
            "Junho\n"
          ]
        }
      ]
    },
    {
      "cell_type": "code",
      "source": [
        "# Iterar com while\n",
        "\n",
        "i = 0\n",
        "\n",
        "while i < len(meses):\n",
        "  print(meses[i])\n",
        "  i = i + 1"
      ],
      "metadata": {
        "colab": {
          "base_uri": "https://localhost:8080/"
        },
        "id": "lJMVD_Okm5b4",
        "outputId": "dff34372-8b08-46c4-f62f-13bcfc513bb0"
      },
      "execution_count": null,
      "outputs": [
        {
          "output_type": "stream",
          "name": "stdout",
          "text": [
            "Janeiro\n",
            "Fevereiro\n",
            "Março\n",
            "Abril\n",
            "Maio\n",
            "Junho\n",
            "Julho\n",
            "Agosto\n",
            "Setembro\n",
            "Outubro\n",
            "Novembro\n",
            "Dezembro\n"
          ]
        }
      ]
    },
    {
      "cell_type": "code",
      "source": [
        "# Verificando em qual índice um elemento está na tupla\n",
        "\n",
        "print(meses.index('Junho'))"
      ],
      "metadata": {
        "colab": {
          "base_uri": "https://localhost:8080/"
        },
        "id": "YwywcB_wnGDl",
        "outputId": "7a92e349-e4db-4f37-df0c-b86477e9988f"
      },
      "execution_count": null,
      "outputs": [
        {
          "output_type": "stream",
          "name": "stdout",
          "text": [
            "5\n"
          ]
        }
      ]
    },
    {
      "cell_type": "code",
      "source": [
        "# Slicing\n",
        "\n",
        "print(meses)\n",
        "print(meses[6:12])"
      ],
      "metadata": {
        "colab": {
          "base_uri": "https://localhost:8080/"
        },
        "id": "4CnWeAt5nb-1",
        "outputId": "cdb87f9b-c8f5-4c89-f8e7-6549d95a0c9e"
      },
      "execution_count": null,
      "outputs": [
        {
          "output_type": "stream",
          "name": "stdout",
          "text": [
            "('Janeiro', 'Fevereiro', 'Março', 'Abril', 'Maio', 'Junho', 'Julho', 'Agosto', 'Setembro', 'Outubro', 'Novembro', 'Dezembro')\n",
            "('Julho', 'Agosto', 'Setembro', 'Outubro', 'Novembro', 'Dezembro')\n"
          ]
        }
      ]
    },
    {
      "cell_type": "markdown",
      "source": [
        "**Por que utilizar tuplas?**\n",
        "\n",
        "- Tuplas são mais rápidas do que Listas;\n",
        "- Tuplas deixam seu código mais seguro (imutabilidade)."
      ],
      "metadata": {
        "id": "s0luPk-2n46X"
      }
    },
    {
      "cell_type": "code",
      "source": [
        "# Copiando uma tupla para outra\n",
        "\n",
        "tupla = (1, 2, 3)\n",
        "print(tupla)\n",
        "\n",
        "nova = tupla # Na tupla não temos o problema de Shallow Copy\n",
        "print(nova)\n",
        "print(tupla)\n",
        "\n",
        "outra = (4, 5, 6)\n",
        "nova = nova + outra\n",
        "\n",
        "print(nova)\n",
        "print(tupla)"
      ],
      "metadata": {
        "colab": {
          "base_uri": "https://localhost:8080/"
        },
        "id": "p-rwKdXqoSwN",
        "outputId": "d2dc66be-3cd2-4f37-83cb-268a8d6c482f"
      },
      "execution_count": null,
      "outputs": [
        {
          "output_type": "stream",
          "name": "stdout",
          "text": [
            "(1, 2, 3)\n",
            "(1, 2, 3)\n",
            "(1, 2, 3)\n",
            "(1, 2, 3, 4, 5, 6)\n",
            "(1, 2, 3)\n"
          ]
        }
      ]
    },
    {
      "cell_type": "markdown",
      "source": [
        "# 3.Dicionários\n",
        "\n",
        "Obs.: em algumas linguagens de programação, os dicionários Python são conhecidos por **mapas**.\n",
        "\n",
        "Dicionários são coleções do tipo chave/valor.\n",
        "\n",
        "Dicionários são representados por chaves {}"
      ],
      "metadata": {
        "id": "Khi9a63IEa35"
      }
    },
    {
      "cell_type": "code",
      "source": [
        "print(type({}))"
      ],
      "metadata": {
        "colab": {
          "base_uri": "https://localhost:8080/"
        },
        "id": "3cBI-uyJE6GD",
        "outputId": "673a3812-6578-4f90-92c8-742b59038d60"
      },
      "execution_count": null,
      "outputs": [
        {
          "output_type": "stream",
          "name": "stdout",
          "text": [
            "<class 'dict'>\n"
          ]
        }
      ]
    },
    {
      "cell_type": "code",
      "source": [
        "# Forma de criação de dicionários 1 (mais comum)\n",
        "\n",
        "paises = {'br': 'Brasil', 'eua': 'Estados Unidos', 'py': 'Paraguai'}\n",
        "print(paises)\n",
        "print(type(paises))"
      ],
      "metadata": {
        "colab": {
          "base_uri": "https://localhost:8080/"
        },
        "id": "mCIIqMAKFJD_",
        "outputId": "4a9d2782-4ca5-4b42-f712-380faa8f8512"
      },
      "execution_count": null,
      "outputs": [
        {
          "output_type": "stream",
          "name": "stdout",
          "text": [
            "{'br': 'Brasil', 'eua': 'Estados Unidos', 'py': 'Paraguai'}\n",
            "<class 'dict'>\n"
          ]
        }
      ]
    },
    {
      "cell_type": "code",
      "source": [
        "# Forma de criação de dicionários 2 (menos comum)\n",
        "\n",
        "paises = dict(br='Brasil', eua='Estados Unidos', py='Paraguai')\n",
        "print(paises)\n",
        "print(type(paises))"
      ],
      "metadata": {
        "colab": {
          "base_uri": "https://localhost:8080/"
        },
        "id": "GEAH9_rBGYY0",
        "outputId": "52ccfa89-c74b-487d-8280-0838b58bc714"
      },
      "execution_count": null,
      "outputs": [
        {
          "output_type": "stream",
          "name": "stdout",
          "text": [
            "{'br': 'Brasil', 'eua': 'Estados Unidos', 'py': 'Paraguai'}\n",
            "<class 'dict'>\n"
          ]
        }
      ]
    },
    {
      "cell_type": "markdown",
      "source": [
        "Obs.:\n",
        "- Tanto chave quanto valor podem ser qualquer tipo de dado.\n",
        "- Podemos misturar tipos de dados."
      ],
      "metadata": {
        "id": "6Pm9HufrGBrd"
      }
    },
    {
      "cell_type": "markdown",
      "source": [
        "**Acessando elementos**\n",
        "\n",
        "Forma 1 - Acessando via chave, da mesma forma que lista/tupla."
      ],
      "metadata": {
        "id": "OwRD0a4_G41m"
      }
    },
    {
      "cell_type": "code",
      "source": [
        "print(paises['br'])\n",
        "print(paises['py'])\n",
        "print(paises['ru']) # KeyErro"
      ],
      "metadata": {
        "colab": {
          "base_uri": "https://localhost:8080/",
          "height": 246
        },
        "id": "l2giSl9kGxak",
        "outputId": "1f0fc900-4276-4796-ace8-bf9dfc948e42"
      },
      "execution_count": null,
      "outputs": [
        {
          "output_type": "stream",
          "name": "stdout",
          "text": [
            "Brasil\n",
            "Paraguai\n"
          ]
        },
        {
          "output_type": "error",
          "ename": "KeyError",
          "evalue": "'ru'",
          "traceback": [
            "\u001b[0;31m---------------------------------------------------------------------------\u001b[0m",
            "\u001b[0;31mKeyError\u001b[0m                                  Traceback (most recent call last)",
            "\u001b[0;32m<ipython-input-6-afc351855b21>\u001b[0m in \u001b[0;36m<cell line: 3>\u001b[0;34m()\u001b[0m\n\u001b[1;32m      1\u001b[0m \u001b[0mprint\u001b[0m\u001b[0;34m(\u001b[0m\u001b[0mpaises\u001b[0m\u001b[0;34m[\u001b[0m\u001b[0;34m'br'\u001b[0m\u001b[0;34m]\u001b[0m\u001b[0;34m)\u001b[0m\u001b[0;34m\u001b[0m\u001b[0;34m\u001b[0m\u001b[0m\n\u001b[1;32m      2\u001b[0m \u001b[0mprint\u001b[0m\u001b[0;34m(\u001b[0m\u001b[0mpaises\u001b[0m\u001b[0;34m[\u001b[0m\u001b[0;34m'py'\u001b[0m\u001b[0;34m]\u001b[0m\u001b[0;34m)\u001b[0m\u001b[0;34m\u001b[0m\u001b[0;34m\u001b[0m\u001b[0m\n\u001b[0;32m----> 3\u001b[0;31m \u001b[0mprint\u001b[0m\u001b[0;34m(\u001b[0m\u001b[0mpaises\u001b[0m\u001b[0;34m[\u001b[0m\u001b[0;34m'ru'\u001b[0m\u001b[0;34m]\u001b[0m\u001b[0;34m)\u001b[0m\u001b[0;34m\u001b[0m\u001b[0;34m\u001b[0m\u001b[0m\n\u001b[0m",
            "\u001b[0;31mKeyError\u001b[0m: 'ru'"
          ]
        }
      ]
    },
    {
      "cell_type": "markdown",
      "source": [
        "Forma 2 - Acessando via get (+recomendada)."
      ],
      "metadata": {
        "id": "_rxWsH0VHOZZ"
      }
    },
    {
      "cell_type": "code",
      "source": [
        "print(paises.get('br'))\n",
        "print(paises.get('py'))\n",
        "print(paises.get('ru')) # Nao da KeyErro, se a chave nao existe, retorna \"None\""
      ],
      "metadata": {
        "colab": {
          "base_uri": "https://localhost:8080/"
        },
        "id": "Uegih1MYHS1u",
        "outputId": "a0051334-2b6d-4855-f747-71214e23bf3d"
      },
      "execution_count": null,
      "outputs": [
        {
          "output_type": "stream",
          "name": "stdout",
          "text": [
            "Brasil\n",
            "Paraguai\n",
            "None\n"
          ]
        }
      ]
    },
    {
      "cell_type": "markdown",
      "source": [
        "> **Tipo de dado None**: representa o tipo \"sem tipo\", vazio.\n",
        ">\n",
        "> O tipo `None` é SEMPRE especificado com a primeira letra maiúscula.\n",
        ">\n",
        "> Podemos utilizar None quando queremos criar uma variável e inicializá-la com um tipo sem tipo, antes de recebermos um valor final, o qual não sabemos seu datatype.\n",
        ">\n",
        "> O tipo None em Python é sempre considerado como false."
      ],
      "metadata": {
        "id": "6RfK3I1zHqpA"
      }
    },
    {
      "cell_type": "code",
      "source": [
        "if None:\n",
        "  print('True')\n",
        "else:\n",
        "  print('false')"
      ],
      "metadata": {
        "colab": {
          "base_uri": "https://localhost:8080/"
        },
        "id": "2XtQVpZ4IthJ",
        "outputId": "168018fe-a1ce-41c8-acb8-c5f849899d25"
      },
      "execution_count": null,
      "outputs": [
        {
          "output_type": "stream",
          "name": "stdout",
          "text": [
            "false\n"
          ]
        }
      ]
    },
    {
      "cell_type": "code",
      "source": [
        "# Definindo um valor padrao caso nao encontre a chave\n",
        "\n",
        "pais = paises.get('py', 'Não encontrado')\n",
        "print(pais)\n",
        "pais = paises.get('ru', 'Não encontrado')\n",
        "print(pais)"
      ],
      "metadata": {
        "colab": {
          "base_uri": "https://localhost:8080/"
        },
        "id": "UzOHd919JAp8",
        "outputId": "9fbe3eb0-f57f-49e3-c2bc-c387f5bdce6a"
      },
      "execution_count": null,
      "outputs": [
        {
          "output_type": "stream",
          "name": "stdout",
          "text": [
            "Paraguai\n",
            "Não encontrado\n"
          ]
        }
      ]
    },
    {
      "cell_type": "code",
      "source": [
        "# Verificando se o objeto esta no dicionario\n",
        "\n",
        "paises = {'br': 'Brasil', 'eua': 'Estados Unidos', 'py': 'Paraguai'}\n",
        "\n",
        "print('br' in paises)\n",
        "print('ru' in paises)\n",
        "print('Estados Unidos' in paises) # Não é chave, é valor"
      ],
      "metadata": {
        "colab": {
          "base_uri": "https://localhost:8080/"
        },
        "id": "zl5UgJ--JgiO",
        "outputId": "76ae67d3-7178-4254-9eb9-e480c21badc3"
      },
      "execution_count": null,
      "outputs": [
        {
          "output_type": "stream",
          "name": "stdout",
          "text": [
            "True\n",
            "False\n",
            "False\n"
          ]
        }
      ]
    },
    {
      "cell_type": "markdown",
      "source": [
        "Podemos usar qualquer tipo de dado em um dicionário (int, float, string, boolean, inclusive listas, tuplas, dicionários, como chaves de dicionários)."
      ],
      "metadata": {
        "id": "-xTyB7dUJ3LW"
      }
    },
    {
      "cell_type": "code",
      "source": [
        "localidades = {\n",
        "    (35.6895, 39.6917): 'Escritório em Tókio',\n",
        "    (40.7128, 74.0060): 'Escritório em Noa Iorque',\n",
        "    (37.7749, 122.4194): 'Escritório em São Paulo',\n",
        "}\n",
        "\n",
        "print(localidades)\n",
        "print(type(localidades))"
      ],
      "metadata": {
        "colab": {
          "base_uri": "https://localhost:8080/"
        },
        "id": "cetTdVYYKBnz",
        "outputId": "2b752c4c-b209-4551-9b22-60542702f142"
      },
      "execution_count": null,
      "outputs": [
        {
          "output_type": "stream",
          "name": "stdout",
          "text": [
            "{(35.6895, 39.6917): 'Escritório em Tókio', (40.7128, 74.006): 'Escritório em Noa Iorque', (37.7749, 122.4194): 'Escritório em São Paulo'}\n",
            "<class 'dict'>\n"
          ]
        }
      ]
    },
    {
      "cell_type": "markdown",
      "source": [
        "Obs.: é interessante usar tuplas como chaves do dicionário por serem imutáveis.\n",
        "\n",
        "**Adicionando elementos em um dicionário**"
      ],
      "metadata": {
        "id": "A0jCCn91KxDz"
      }
    },
    {
      "cell_type": "code",
      "source": [
        "receita = {'jan': 100, 'fev': 120, 'mar': 300}\n",
        "\n",
        "print(receita)\n",
        "print(type(receita))\n",
        "\n",
        "# Forma 1 - mais comum\n",
        "\n",
        "receita['abr'] = 350\n",
        "\n",
        "print(receita)\n",
        "print(type(receita))\n",
        "\n",
        "# Forma 2\n",
        "\n",
        "novo_dado = {'mai': 500}\n",
        "receita.update(novo_dado) # receita.update({'mai': 500})\n",
        "\n",
        "print(receita)\n",
        "print(type(receita))"
      ],
      "metadata": {
        "colab": {
          "base_uri": "https://localhost:8080/"
        },
        "id": "v0Ts0rVTK6dv",
        "outputId": "6b1f433c-cbfe-4a2c-dead-e23183f552b8"
      },
      "execution_count": null,
      "outputs": [
        {
          "output_type": "stream",
          "name": "stdout",
          "text": [
            "{'jan': 100, 'fev': 120, 'mar': 300}\n",
            "<class 'dict'>\n",
            "{'jan': 100, 'fev': 120, 'mar': 300, 'abr': 350}\n",
            "<class 'dict'>\n",
            "{'jan': 100, 'fev': 120, 'mar': 300, 'abr': 350, 'mai': 500}\n",
            "<class 'dict'>\n"
          ]
        }
      ]
    },
    {
      "cell_type": "code",
      "source": [
        "# Atualizando dados em um dicionario\n",
        "\n",
        "# Forma 1\n",
        "receita['mai'] = 550\n",
        "\n",
        "print(receita)\n",
        "\n",
        "# Forma 2\n",
        "receita.update({'mai': 600})\n",
        "\n",
        "print(receita)\n"
      ],
      "metadata": {
        "colab": {
          "base_uri": "https://localhost:8080/"
        },
        "id": "p1ycdlJaLkrf",
        "outputId": "8d55e3c8-5761-4ace-f065-642d26e0ad84"
      },
      "execution_count": null,
      "outputs": [
        {
          "output_type": "stream",
          "name": "stdout",
          "text": [
            "{'jan': 100, 'fev': 120, 'mar': 300, 'abr': 350, 'mai': 550}\n",
            "{'jan': 100, 'fev': 120, 'mar': 300, 'abr': 350, 'mai': 600}\n"
          ]
        }
      ]
    },
    {
      "cell_type": "markdown",
      "source": [
        "**Obs.:** Em dicionários não podemos ter chaves repetidas.\n",
        "\n",
        "**Remover dados de um dicionário**"
      ],
      "metadata": {
        "id": "A_xWkRgkMj_n"
      }
    },
    {
      "cell_type": "code",
      "source": [
        "receita = {'jan': 100, 'fev': 120, 'mar': 300}\n",
        "print(receita)\n",
        "\n",
        "# Forma 1 - mais comum\n",
        "retorno = receita.pop('mar')\n",
        "\n",
        "print(retorno) # o pop retorna o valor do item excluido do dicionario\n",
        "print(receita)\n",
        "\n",
        "# Forma 2\n",
        "del receita['fev'] # nesse caso o valor excluído não é retornado\n",
        "\n",
        "print(receita)"
      ],
      "metadata": {
        "colab": {
          "base_uri": "https://localhost:8080/"
        },
        "id": "WxHPYNlHM_Mn",
        "outputId": "15d0ccd5-21fd-46b0-cc76-568426e0edc1"
      },
      "execution_count": 1,
      "outputs": [
        {
          "output_type": "stream",
          "name": "stdout",
          "text": [
            "{'jan': 100, 'fev': 120, 'mar': 300}\n",
            "300\n",
            "{'jan': 100, 'fev': 120}\n",
            "{'jan': 100}\n"
          ]
        }
      ]
    },
    {
      "cell_type": "markdown",
      "source": [
        "**Métodos de Dicionários**"
      ],
      "metadata": {
        "id": "2KkOhXVTN0DE"
      }
    },
    {
      "cell_type": "code",
      "source": [
        "d = {\"a\": 1, \"b\": 2, \"c\": 3}\n",
        "print(d)\n",
        "\n",
        "# limpar o dicionario\n",
        "d.clear()\n",
        "print(d)"
      ],
      "metadata": {
        "colab": {
          "base_uri": "https://localhost:8080/"
        },
        "id": "_a7u71dfim3M",
        "outputId": "26eae7f6-485a-4d1d-b9fc-a546fe6ad192"
      },
      "execution_count": 4,
      "outputs": [
        {
          "output_type": "stream",
          "name": "stdout",
          "text": [
            "{'a': 1, 'b': 2, 'c': 3}\n",
            "{}\n"
          ]
        }
      ]
    },
    {
      "cell_type": "code",
      "source": [
        "# copiando um dicionario para outro (deep copy)\n",
        "d = {\"a\": 1, \"b\": 2, \"c\": 3}\n",
        "print(d)\n",
        "\n",
        "novo = d.copy() # deep copy\n",
        "print(novo)\n",
        "\n",
        "novo['d'] = 4\n",
        "print(d)\n",
        "print(novo)"
      ],
      "metadata": {
        "colab": {
          "base_uri": "https://localhost:8080/"
        },
        "id": "NnHLt3iDmEZl",
        "outputId": "e3a59ab5-c74c-4a1e-9b5d-79df566cd978"
      },
      "execution_count": 5,
      "outputs": [
        {
          "output_type": "stream",
          "name": "stdout",
          "text": [
            "{'a': 1, 'b': 2, 'c': 3}\n",
            "{'a': 1, 'b': 2, 'c': 3}\n",
            "{'a': 1, 'b': 2, 'c': 3}\n",
            "{'a': 1, 'b': 2, 'c': 3, 'd': 4}\n"
          ]
        }
      ]
    },
    {
      "cell_type": "code",
      "source": [
        "# copiando um dicionario para outro (shallow copy)\n",
        "d = {\"a\": 1, \"b\": 2, \"c\": 3}\n",
        "print(d)\n",
        "\n",
        "novo = d # shallow copy\n",
        "print(novo)\n",
        "\n",
        "novo['d'] = 4\n",
        "print(d)\n",
        "print(novo)"
      ],
      "metadata": {
        "colab": {
          "base_uri": "https://localhost:8080/"
        },
        "id": "z2aq69lwmHKv",
        "outputId": "69a9730d-46a0-416c-a998-d27f5dc638bc"
      },
      "execution_count": 6,
      "outputs": [
        {
          "output_type": "stream",
          "name": "stdout",
          "text": [
            "{'a': 1, 'b': 2, 'c': 3}\n",
            "{'a': 1, 'b': 2, 'c': 3}\n",
            "{'a': 1, 'b': 2, 'c': 3, 'd': 4}\n",
            "{'a': 1, 'b': 2, 'c': 3, 'd': 4}\n"
          ]
        }
      ]
    },
    {
      "cell_type": "code",
      "source": [
        "# criando dicionario a partir de lista\n",
        "\n",
        "usuario = {}.fromkeys(['nome', 'pontos', 'email', 'profile'], 'desconhecido')\n",
        "print(usuario)"
      ],
      "metadata": {
        "colab": {
          "base_uri": "https://localhost:8080/"
        },
        "id": "Dk7tbDB1nvr1",
        "outputId": "77166f62-1e02-459a-ba48-0006c3fbf95e"
      },
      "execution_count": 8,
      "outputs": [
        {
          "output_type": "stream",
          "name": "stdout",
          "text": [
            "{'nome': 'desconhecido', 'pontos': 'desconhecido', 'email': 'desconhecido', 'profile': 'desconhecido'}\n"
          ]
        }
      ]
    },
    {
      "cell_type": "markdown",
      "source": [
        "O método `fromkeys` recebe dois parâmetros: um iteravel e um valor.\n",
        "Ele gera para cada valor do iterável, uma chave e irá atribuir a esta chave o valor informado."
      ],
      "metadata": {
        "id": "2xCMTfRloR_c"
      }
    },
    {
      "cell_type": "code",
      "source": [
        "veja = {}.fromkeys('teste', 'valor')\n",
        "print(veja)"
      ],
      "metadata": {
        "colab": {
          "base_uri": "https://localhost:8080/"
        },
        "id": "7YJC6Jmjoluo",
        "outputId": "25ebc65f-7505-4eb2-bb3c-de73c3d5c7ea"
      },
      "execution_count": 9,
      "outputs": [
        {
          "output_type": "stream",
          "name": "stdout",
          "text": [
            "{'t': 'valor', 'e': 'valor', 's': 'valor'}\n"
          ]
        }
      ]
    },
    {
      "cell_type": "markdown",
      "source": [
        "Observe acima que o iterável é uma string, e foi criado um dicionário onde cada letra é uma chave (lembre-se, não há repetição de chaves em um dicionário, por isso só aparecem 3 itens)."
      ],
      "metadata": {
        "id": "t2hYUEkZoqmN"
      }
    },
    {
      "cell_type": "markdown",
      "source": [
        "**Iterando sobre um dicionário**"
      ],
      "metadata": {
        "id": "2AYJCzeApEyv"
      }
    },
    {
      "cell_type": "code",
      "source": [
        "receita = {'jan': 100, 'fev': 250, 'mar': 400}\n",
        "print(receita)\n",
        "\n",
        "# imprimindo chaves\n",
        "for chave in receita:\n",
        "  print(chave)\n",
        "\n",
        "# imprimindo valores\n",
        "for chave in receita:\n",
        "  print(receita[chave])\n",
        "\n",
        "for chave in receita:\n",
        "  print(f'Em {chave} recebi R$ {receita[chave]}')"
      ],
      "metadata": {
        "colab": {
          "base_uri": "https://localhost:8080/"
        },
        "id": "y-8g4oQcppFD",
        "outputId": "66d26db7-2b2e-4063-8783-5b59ad4d805e"
      },
      "execution_count": 10,
      "outputs": [
        {
          "output_type": "stream",
          "name": "stdout",
          "text": [
            "{'jan': 100, 'fev': 250, 'mar': 400}\n",
            "jan\n",
            "fev\n",
            "mar\n",
            "100\n",
            "250\n",
            "400\n",
            "Em jan recebi R$ 100\n",
            "Em fev recebi R$ 250\n",
            "Em mar recebi R$ 400\n"
          ]
        }
      ]
    },
    {
      "cell_type": "code",
      "source": [
        "# Dicionario de chaves\n",
        "\n",
        "receita = {'jan': 100, 'fev': 250, 'mar': 400}\n",
        "print(receita.keys())\n",
        "\n",
        "# Modo Pythonico de iterar sobre chaves\n",
        "for chave in receita.keys():\n",
        "  print(receita[chave])"
      ],
      "metadata": {
        "colab": {
          "base_uri": "https://localhost:8080/"
        },
        "id": "48WZhWoYqBVV",
        "outputId": "3c1a524c-caff-4783-a8a9-f89080cdd953"
      },
      "execution_count": 12,
      "outputs": [
        {
          "output_type": "stream",
          "name": "stdout",
          "text": [
            "dict_keys(['jan', 'fev', 'mar'])\n",
            "100\n",
            "250\n",
            "400\n"
          ]
        }
      ]
    },
    {
      "cell_type": "code",
      "source": [
        "# Dicionario de valores\n",
        "\n",
        "receita = {'jan': 100, 'fev': 250, 'mar': 400}\n",
        "print(receita.values())\n",
        "\n",
        "# modo pythonico de acessar os valores\n",
        "for valor in receita.values():\n",
        "  print(valor)"
      ],
      "metadata": {
        "colab": {
          "base_uri": "https://localhost:8080/"
        },
        "id": "Hrmu3riAqaL0",
        "outputId": "32eb98a0-ed4d-43f3-9212-7e8c2c9cff1e"
      },
      "execution_count": 14,
      "outputs": [
        {
          "output_type": "stream",
          "name": "stdout",
          "text": [
            "dict_values([100, 250, 400])\n",
            "100\n",
            "250\n",
            "400\n"
          ]
        }
      ]
    },
    {
      "cell_type": "markdown",
      "source": [
        "**Desempacotamento de dicionários**"
      ],
      "metadata": {
        "id": "Fws10baJquUX"
      }
    },
    {
      "cell_type": "code",
      "source": [
        "receita = {'jan': 100, 'fev': 250, 'mar': 400}\n",
        "print(receita)\n",
        "\n",
        "print(receita.items()) # cria um dicionário de tuplas\n",
        "\n",
        "for chave, valor in receita.items():\n",
        "  print(f'chave={chave} e valor={valor}')"
      ],
      "metadata": {
        "colab": {
          "base_uri": "https://localhost:8080/"
        },
        "id": "R5c_s494qxXQ",
        "outputId": "9335400b-7409-43ff-e381-b9d34c0817b5"
      },
      "execution_count": 16,
      "outputs": [
        {
          "output_type": "stream",
          "name": "stdout",
          "text": [
            "{'jan': 100, 'fev': 250, 'mar': 400}\n",
            "dict_items([('jan', 100), ('fev', 250), ('mar', 400)])\n",
            "chave=jan e valor=100\n",
            "chave=fev e valor=250\n",
            "chave=mar e valor=400\n"
          ]
        }
      ]
    },
    {
      "cell_type": "markdown",
      "source": [
        "**Soma, Máximo, Mínimo, Tamanho**"
      ],
      "metadata": {
        "id": "HdLFNqBJrHiG"
      }
    },
    {
      "cell_type": "code",
      "source": [
        "receita = {'jan': 100, 'fev': 250, 'mar': 400}\n",
        "\n",
        "print(sum(receita.values()))\n",
        "print(max(receita.values()))\n",
        "print(min(receita.values()))\n",
        "print(len(receita))"
      ],
      "metadata": {
        "colab": {
          "base_uri": "https://localhost:8080/"
        },
        "id": "0-8UzPLXrKjA",
        "outputId": "23bde0d0-01b3-4cb1-de98-f6d0d80901b2"
      },
      "execution_count": 17,
      "outputs": [
        {
          "output_type": "stream",
          "name": "stdout",
          "text": [
            "750\n",
            "400\n",
            "100\n",
            "3\n"
          ]
        }
      ]
    },
    {
      "cell_type": "markdown",
      "source": [
        "# 4.Conjuntos\n",
        "\n",
        "Conjuntos em qualquer linguagem de programação, estamos fazendo referência à Teoria dos Conjuntos da matemática.\n",
        "\n",
        "No Python, os conjuntos são chamados de Sets.\n",
        "\n",
        "Dito isto, da mesma forma que na matemática:\n",
        "\n",
        "- Sets (conjuntos) não possuem valores duplicados;\n",
        "- Sets não possuem valores ordenados;\n",
        "- Elementos não são acessados via índice, ou seja, conjuntos não são indexados.\n",
        "\n",
        "Conjuntos são bons para se utilizar quando precisamos armazenar elementos mas não nos importamos com a ordenação deles. Quando não precisamos nos preocupar com chaves, valores e itens duplicados.\n",
        "\n",
        "Os conjuntos são referenciados em Python com chaves {}.\n",
        "\n",
        "> **Diferença entre sets e dicionários**\n",
        ">\n",
        "> - Um dicionário tem chave/valor;\n",
        "> - Um set tem apenas valor."
      ],
      "metadata": {
        "id": "kqBtVJ_LuuJc"
      }
    },
    {
      "cell_type": "code",
      "source": [
        "# Definindo um conjunto - forma 1\n",
        "s = set({1, 2, 3, 4, 5, 5, 6, 7, 2, 3}) # contendo valores repetidos\n",
        "print(s)\n",
        "print(type(s))\n",
        "\n",
        "# ao criar um conjunto, ao adicionar um valor já existente, ele será ignorado"
      ],
      "metadata": {
        "colab": {
          "base_uri": "https://localhost:8080/"
        },
        "id": "ck0NKPnEwB3N",
        "outputId": "a8ae3abb-4693-4311-8fae-1c2189b7bd35"
      },
      "execution_count": 19,
      "outputs": [
        {
          "output_type": "stream",
          "name": "stdout",
          "text": [
            "{1, 2, 3, 4, 5, 6, 7}\n",
            "<class 'set'>\n"
          ]
        }
      ]
    },
    {
      "cell_type": "code",
      "source": [
        "# Definindo um conjunto - forma 2 (mais comum)\n",
        "s = {1, 2, 3, 4, 5, 5}\n",
        "print(s)\n",
        "print(type(s))"
      ],
      "metadata": {
        "colab": {
          "base_uri": "https://localhost:8080/"
        },
        "id": "bdF9jvqCwg62",
        "outputId": "684d2d05-30b2-4623-e10e-39c13ea644ea"
      },
      "execution_count": 20,
      "outputs": [
        {
          "output_type": "stream",
          "name": "stdout",
          "text": [
            "{1, 2, 3, 4, 5}\n",
            "<class 'set'>\n"
          ]
        }
      ]
    },
    {
      "cell_type": "markdown",
      "source": [
        "**Usos interessantos com sets**\n",
        "\n",
        "Imagine que fizemos um formulário de cadastro de visitantes em uma feira ou museu e os visitantes informam manualmente a cidade de onde vieram.\n",
        "\n",
        "Nós adicionamos cada cidade em uma Lista Python, já que em uma lista podemos adicionar novos elementos e ter repetição."
      ],
      "metadata": {
        "id": "ut2O7Fzwx858"
      }
    },
    {
      "cell_type": "code",
      "source": [
        "cidades = ['Belo Horizonte', 'São Paulo', 'Campo Grande', 'Cuiaba', 'Campo Grande', 'São Paulo', 'Cuiaba']\n",
        "print(cidades)\n",
        "\n",
        "# qtde de pessoas que vieram\n",
        "print(len(cidades))"
      ],
      "metadata": {
        "colab": {
          "base_uri": "https://localhost:8080/"
        },
        "id": "fj30Uy6ayfq2",
        "outputId": "9813701b-d242-4973-a719-9d89b0d637f2"
      },
      "execution_count": 21,
      "outputs": [
        {
          "output_type": "stream",
          "name": "stdout",
          "text": [
            "['Belo Horizonte', 'São Paulo', 'Campo Grande', 'Cuiaba', 'Campo Grande', 'São Paulo', 'Cuiaba']\n",
            "7\n"
          ]
        }
      ]
    },
    {
      "cell_type": "markdown",
      "source": [
        "Agora precisamos saber quantas cidades distintas, ou seja, únicas, temos."
      ],
      "metadata": {
        "id": "1e_5h6eey19X"
      }
    },
    {
      "cell_type": "code",
      "source": [
        "distintas = set(cidades)\n",
        "print(distintas)\n",
        "print(len(distintas))"
      ],
      "metadata": {
        "colab": {
          "base_uri": "https://localhost:8080/"
        },
        "id": "dPLhxBDzy66Y",
        "outputId": "685f3736-4fd7-486a-8c8e-870da88a9cc7"
      },
      "execution_count": 23,
      "outputs": [
        {
          "output_type": "stream",
          "name": "stdout",
          "text": [
            "{'Campo Grande', 'Cuiaba', 'São Paulo', 'Belo Horizonte'}\n",
            "4\n"
          ]
        }
      ]
    },
    {
      "cell_type": "markdown",
      "source": [
        "**Adicionando elementos em um conjunto**"
      ],
      "metadata": {
        "id": "qmIPT98Azmsl"
      }
    },
    {
      "cell_type": "code",
      "source": [
        "s = {1, 2, 3}\n",
        "print(s)\n",
        "\n",
        "# Conjutnos sao mutaveis\n",
        "\n",
        "s.add(4)\n",
        "print(s)"
      ],
      "metadata": {
        "colab": {
          "base_uri": "https://localhost:8080/"
        },
        "id": "FkLgA8bszomu",
        "outputId": "7295b789-8eff-4fd0-84a4-4faee9743c73"
      },
      "execution_count": 24,
      "outputs": [
        {
          "output_type": "stream",
          "name": "stdout",
          "text": [
            "{1, 2, 3}\n",
            "{1, 2, 3, 4}\n"
          ]
        }
      ]
    },
    {
      "cell_type": "markdown",
      "source": [
        "**Remover elementos em um conjunto**"
      ],
      "metadata": {
        "id": "PFcDFs_az3bT"
      }
    },
    {
      "cell_type": "code",
      "source": [
        "s = {1, 2, 3, 4}\n",
        "print(s)\n",
        "\n",
        "# forma 1\n",
        "s.remove(3) # nao é indice, informamos o valor a ser removido\n",
        "print(s)\n",
        "\n",
        "# forma 2\n",
        "s.discard(2)\n",
        "print(s)\n",
        "\n",
        "# Observacao: a diferença entre remove() e discard() é que no remove() ocorre\n",
        "# KeyError se voce informar um valor que nao existe enquanto no discard() nao\n",
        "\n",
        "s.discard(55)\n",
        "s.remove(55)\n"
      ],
      "metadata": {
        "colab": {
          "base_uri": "https://localhost:8080/",
          "height": 263
        },
        "id": "kUvOQXGNz5Fc",
        "outputId": "ac332123-2ec7-4ddf-adf9-e0f9ba1a4233"
      },
      "execution_count": 27,
      "outputs": [
        {
          "output_type": "stream",
          "name": "stdout",
          "text": [
            "{1, 2, 3, 4}\n",
            "{1, 2, 4}\n",
            "{1, 4}\n"
          ]
        },
        {
          "output_type": "error",
          "ename": "KeyError",
          "evalue": "55",
          "traceback": [
            "\u001b[0;31m---------------------------------------------------------------------------\u001b[0m",
            "\u001b[0;31mKeyError\u001b[0m                                  Traceback (most recent call last)",
            "\u001b[0;32m<ipython-input-27-c7ae3dd8cd2f>\u001b[0m in \u001b[0;36m<cell line: 16>\u001b[0;34m()\u001b[0m\n\u001b[1;32m     14\u001b[0m \u001b[0;34m\u001b[0m\u001b[0m\n\u001b[1;32m     15\u001b[0m \u001b[0ms\u001b[0m\u001b[0;34m.\u001b[0m\u001b[0mdiscard\u001b[0m\u001b[0;34m(\u001b[0m\u001b[0;36m55\u001b[0m\u001b[0;34m)\u001b[0m\u001b[0;34m\u001b[0m\u001b[0;34m\u001b[0m\u001b[0m\n\u001b[0;32m---> 16\u001b[0;31m \u001b[0ms\u001b[0m\u001b[0;34m.\u001b[0m\u001b[0mremove\u001b[0m\u001b[0;34m(\u001b[0m\u001b[0;36m55\u001b[0m\u001b[0;34m)\u001b[0m\u001b[0;34m\u001b[0m\u001b[0;34m\u001b[0m\u001b[0m\n\u001b[0m",
            "\u001b[0;31mKeyError\u001b[0m: 55"
          ]
        }
      ]
    },
    {
      "cell_type": "markdown",
      "source": [
        "**Copiando um conjunto para outro**"
      ],
      "metadata": {
        "id": "RjOhyVO9PvUZ"
      }
    },
    {
      "cell_type": "code",
      "source": [
        "s = {1, 2, 3}\n",
        "print('original')\n",
        "print(s)\n",
        "\n",
        "# Forma 1 - Deep Copy\n",
        "\n",
        "print('deep copy')\n",
        "copia = s.copy()\n",
        "print(copia)\n",
        "\n",
        "copia.add(4)\n",
        "\n",
        "print(copia)\n",
        "print(s)\n",
        "\n",
        "# Forma 2 - Shallow Copy\n",
        "\n",
        "print('shallow copy')\n",
        "novo = s\n",
        "print(novo)\n",
        "\n",
        "novo.add(4)\n",
        "\n",
        "print(novo)\n",
        "print(s)"
      ],
      "metadata": {
        "colab": {
          "base_uri": "https://localhost:8080/"
        },
        "id": "TzEDUeXnPxsB",
        "outputId": "f5954b3a-74bc-4cca-9366-2d977c638582"
      },
      "execution_count": 2,
      "outputs": [
        {
          "output_type": "stream",
          "name": "stdout",
          "text": [
            "original\n",
            "{1, 2, 3}\n",
            "deep copy\n",
            "{1, 2, 3}\n",
            "{1, 2, 3, 4}\n",
            "{1, 2, 3}\n",
            "shallow copy\n",
            "{1, 2, 3}\n",
            "{1, 2, 3, 4}\n",
            "{1, 2, 3, 4}\n"
          ]
        }
      ]
    },
    {
      "cell_type": "markdown",
      "source": [
        "Podemos remover todos os itens de um conjunto."
      ],
      "metadata": {
        "id": "G5JVrXIXQm8y"
      }
    },
    {
      "cell_type": "code",
      "source": [
        "s.clear()\n",
        "print(s)"
      ],
      "metadata": {
        "colab": {
          "base_uri": "https://localhost:8080/"
        },
        "id": "AkGZOmlWQpZ0",
        "outputId": "9cb0a2f1-036d-4d3b-b33d-7bb13e14630d"
      },
      "execution_count": 4,
      "outputs": [
        {
          "output_type": "stream",
          "name": "stdout",
          "text": [
            "set()\n"
          ]
        }
      ]
    },
    {
      "cell_type": "markdown",
      "source": [
        "**Métodos Matemáticos de Conjuntos**\n",
        "\n",
        "Imagine que temos dois conjuntos: um contendo estudantes do curso dde Python e um contendo estudantes do curso de Java."
      ],
      "metadata": {
        "id": "TkeyK7vvQzc6"
      }
    },
    {
      "cell_type": "code",
      "source": [
        "estudantes_python = {'Marcos', 'Patricia', 'Ellen', 'Pedro', 'Julia', 'Guilherme'}\n",
        "estudantes_java = {'Fernando', 'Gustavo', 'Julia', 'Ana', 'Patricia'}\n",
        "\n",
        "print(f'estudantes python = {estudantes_python}')\n",
        "print(f'estudantes java = {estudantes_java}')\n",
        "\n",
        "# Uniao - forma 1, usando union()\n",
        "uniao = estudantes_python.union(estudantes_java)\n",
        "print(f'uniao = {uniao}')\n",
        "\n",
        "# Uniao - forma 2, usando pipe |\n",
        "uniao2 = estudantes_python | estudantes_java\n",
        "print(f'uniao2 = {uniao2}')"
      ],
      "metadata": {
        "colab": {
          "base_uri": "https://localhost:8080/"
        },
        "id": "W3Qt3qa1Q10f",
        "outputId": "de6b00d2-97dc-4745-d479-81ed97220f2f"
      },
      "execution_count": 8,
      "outputs": [
        {
          "output_type": "stream",
          "name": "stdout",
          "text": [
            "estudantes python = {'Marcos', 'Ellen', 'Patricia', 'Pedro', 'Julia', 'Guilherme'}\n",
            "estudantes java = {'Ana', 'Patricia', 'Julia', 'Gustavo', 'Fernando'}\n",
            "uniao = {'Marcos', 'Ellen', 'Patricia', 'Ana', 'Pedro', 'Julia', 'Gustavo', 'Fernando', 'Guilherme'}\n",
            "uniao2 = {'Marcos', 'Ellen', 'Patricia', 'Ana', 'Pedro', 'Julia', 'Gustavo', 'Fernando', 'Guilherme'}\n"
          ]
        }
      ]
    },
    {
      "cell_type": "code",
      "source": [
        "estudantes_python = {'Marcos', 'Patricia', 'Ellen', 'Pedro', 'Julia', 'Guilherme'}\n",
        "estudantes_java = {'Fernando', 'Gustavo', 'Julia', 'Ana', 'Patricia'}\n",
        "\n",
        "print(f'estudantes python = {estudantes_python}')\n",
        "print(f'estudantes java = {estudantes_java}')\n",
        "\n",
        "# Interseccao - forma 1, utilizando intersection()\n",
        "interseccao = estudantes_python.intersection(estudantes_java)\n",
        "print(f'intersecção = {interseccao}')\n",
        "\n",
        "# Interseccao - forma 2, utilizando &\n",
        "interseccao2 = estudantes_python & estudantes_java\n",
        "print(f'intersecção2 = {interseccao2}')"
      ],
      "metadata": {
        "colab": {
          "base_uri": "https://localhost:8080/"
        },
        "id": "Ka9P4EV5SnJL",
        "outputId": "681366f6-ab58-4e36-aeb7-589ca3cec8c8"
      },
      "execution_count": 10,
      "outputs": [
        {
          "output_type": "stream",
          "name": "stdout",
          "text": [
            "estudantes python = {'Marcos', 'Ellen', 'Patricia', 'Pedro', 'Julia', 'Guilherme'}\n",
            "estudantes java = {'Ana', 'Patricia', 'Julia', 'Gustavo', 'Fernando'}\n",
            "intersecção = {'Patricia', 'Julia'}\n",
            "intersecção2 = {'Patricia', 'Julia'}\n"
          ]
        }
      ]
    },
    {
      "cell_type": "code",
      "source": [
        "estudantes_python = {'Marcos', 'Patricia', 'Ellen', 'Pedro', 'Julia', 'Guilherme'}\n",
        "estudantes_java = {'Fernando', 'Gustavo', 'Julia', 'Ana', 'Patricia'}\n",
        "\n",
        "print(f'estudantes python = {estudantes_python}')\n",
        "print(f'estudantes java = {estudantes_java}')\n",
        "\n",
        "# Exclusao\n",
        "\n",
        "so_python = estudantes_python.difference(estudantes_java)\n",
        "print(f'só python = {so_python}')"
      ],
      "metadata": {
        "colab": {
          "base_uri": "https://localhost:8080/"
        },
        "id": "uPb2m6awTE8a",
        "outputId": "3b9b7f78-c2d4-428b-f80b-9c7793939649"
      },
      "execution_count": 11,
      "outputs": [
        {
          "output_type": "stream",
          "name": "stdout",
          "text": [
            "estudantes python = {'Marcos', 'Ellen', 'Patricia', 'Pedro', 'Julia', 'Guilherme'}\n",
            "estudantes java = {'Ana', 'Patricia', 'Julia', 'Gustavo', 'Fernando'}\n",
            "só python = {'Marcos', 'Ellen', 'Pedro', 'Guilherme'}\n"
          ]
        }
      ]
    },
    {
      "cell_type": "code",
      "source": [
        "# Soma, Máximo, Mínimo e Tamanho\n",
        "\n",
        "s = {1, 2, 3, 4, 5, 6}\n",
        "\n",
        "print(sum(s))\n",
        "print(max(s))\n",
        "print(min(s))\n",
        "print(len(s))"
      ],
      "metadata": {
        "colab": {
          "base_uri": "https://localhost:8080/"
        },
        "id": "O3ZVw3tbTemP",
        "outputId": "c0593437-f530-4de2-f526-d662acf96455"
      },
      "execution_count": 12,
      "outputs": [
        {
          "output_type": "stream",
          "name": "stdout",
          "text": [
            "21\n",
            "6\n",
            "1\n",
            "6\n"
          ]
        }
      ]
    }
  ]
}